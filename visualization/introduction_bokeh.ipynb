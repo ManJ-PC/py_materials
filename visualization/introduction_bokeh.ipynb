{
 "cells": [
  {
   "cell_type": "markdown",
   "metadata": {
    "colab_type": "text",
    "id": "P90R-v_Xr6Wd"
   },
   "source": [
    ". | .\n",
    "-- | --\n",
    "![NASA](http://www.nasa.gov/sites/all/themes/custom/nasatwo/images/nasa-logo.svg) | ![NASA](https://www.nccs.nasa.gov/sites/default/files/NCCS_Logo_0.png)\n",
    "\n",
    "\n",
    "<center><h1><font size=\"+3\">ASTG Python Courses</font></h1></center>\n",
    "\n",
    "---\n",
    "\n",
    "<center><h1><font color=\"red\" size=\"+3\">Introduction to Bokeh</font></h1></center>"
   ]
  },
  {
   "cell_type": "markdown",
   "metadata": {},
   "source": [
    "## <font color=\"red\">Reference Document</font>\n",
    "\n",
    "- <a href=\"https://docs.bokeh.org/en/latest/\">Documents on the laatest version of Bokeh</a>\n",
    "- <a href=\"https://www.analyticsvidhya.com/blog/2015/08/interactive-data-visualization-library-python-bokeh/\">Interactive Data Visualization using Bokeh</a>\n",
    "- <a href=\"https://realpython.com/python-data-visualization-bokeh/\">Interactive Data Visualization in Python With Bokeh</a>\n",
    "- <a href=\"https://www.tutorialspoint.com/bokeh/bokeh_tutorial.pdf\">Bokeh Tutorial</a>"
   ]
  },
  {
   "cell_type": "markdown",
   "metadata": {},
   "source": [
    "![fig_bokeh](https://www.fullstackpython.com/img/logos/bokeh.jpg)\n",
    "Image Source: fullstackpython\n",
    "\n",
    "### What is Bokeh?\n",
    "\n",
    "- An interactive visualization Python library for modern web browsers. \n",
    "- Provides elegant, concise construction of versatile graphics, and affords high-performance interactivity over large or streaming datasets. \n",
    "- Renders its plots using HTML and JavaScript: useful for developing web based dashboards.\n",
    "- Can help users to quickly and easily make interactive plots, dashboards, and data applications.\n",
    "\n",
    "\n",
    "### Structure of Bokeh\n",
    "\n",
    "- Bokeh consists of several sections, or modules, that range from plotting functionality to color palettes to environment settings and such. \n"
   ]
  },
  {
   "cell_type": "code",
   "execution_count": null,
   "metadata": {
    "colab": {},
    "colab_type": "code",
    "id": "RlWFzeaGvPmc"
   },
   "outputs": [],
   "source": [
    "import warnings\n",
    "warnings.filterwarnings('ignore')"
   ]
  },
  {
   "cell_type": "code",
   "execution_count": null,
   "metadata": {
    "colab": {},
    "colab_type": "code",
    "id": "uktcOPYqt8Cn"
   },
   "outputs": [],
   "source": [
    "%matplotlib inline\n",
    "import numpy as np\n",
    "import matplotlib.pyplot as plt\n",
    "import bokeh.plotting"
   ]
  },
  {
   "cell_type": "markdown",
   "metadata": {},
   "source": [
    "## <font color=\"red\">Matplotlib Reminders</font>\n",
    "\n",
    "Below is a figure anatomy of the Matplotlib object hierarchy:\n",
    "\n",
    "![Anatomy](https://files.realpython.com/media/anatomy.7d033ebbfbc8.png)\n",
    "Image Source: Brad Solomon (Real Python Tutorial)"
   ]
  },
  {
   "cell_type": "code",
   "execution_count": null,
   "metadata": {},
   "outputs": [],
   "source": [
    "X = np.linspace(-np.pi, np.pi, 50, endpoint=True)\n",
    "C = np.cos(X)\n",
    "S = np.sin(X)"
   ]
  },
  {
   "cell_type": "code",
   "execution_count": null,
   "metadata": {},
   "outputs": [],
   "source": [
    "plt.plot(X, C, color=\"blue\", linewidth=1.0, linestyle=\"-\", label='cosine');\n",
    "plt.plot(X, S, color=\"green\", linewidth=1.0, linestyle=\"-\", label='sine');\n",
    "\n",
    "plt.title('Sample Cosine and Sine Functions');\n",
    "plt.legend();"
   ]
  },
  {
   "cell_type": "markdown",
   "metadata": {},
   "source": [
    "## <font color=\"red\">Delving into Bokeh</font>\n",
    "\n",
    "Bokeh package offers two interfaces using which various plotting operations can be\n",
    "performed.\n",
    "\n",
    "**`bokeh.models`**\n",
    "\n",
    "- Low level interface that provides great deal of flexibility to the application developer in developing visualizations.\n",
    "\n",
    "**`bokeh.plotting`**\n",
    "\n",
    "- Higher level interface that has functionality for composing visual glyphs. \n",
    "- This module contains definition of `Figure` class. It actually is a subclass of plot class defined in `bokeh.models` module.\n",
    "- `Figure` class simplifies plot creation. It contains various methods to draw different vectorized graphical glyphs. `Glyphs` are the building blocks of Bokeh plot such as lines, circles, rectangles, and other shapes.\n",
    "\n",
    "**`bokeh.application`**\n",
    "\n",
    "- Lightweight factory for creating Bokeh Documents. \n",
    "- A Document is a container for Bokeh Models to be reflected to the client side BokehJS library.\n",
    "\n",
    "**`bokeh.server`**\n",
    "\n",
    "- Provides customizable Bokeh Server Tornadocore application.\n",
    "- Server is used to share and publish interactive plots and apps to an audience of your choice.\n",
    "\n",
    "### Types of Plots\n",
    "Bokeh provides different types of plots created using glyphs.\n",
    "\n",
    "- **Line plot**:  Useful for visualizing the movements of points along the x-and y-axes in the form of a line. It is used to perform time series analytics.\n",
    "- **Bar plot**: Useful for indicating the count of each category of a particular column or field in your dataset.\n",
    "- **Patch plot**: Indicates a region of points in a particular shade of color. This type of plot is used to distinguish different groups within the same dataset.\n",
    "- **Scatter plot**: Used to visualize relationship between two variables and to indicate the strength of correlation between them."
   ]
  },
  {
   "cell_type": "markdown",
   "metadata": {},
   "source": [
    "### My First Plot with Bokeh"
   ]
  },
  {
   "cell_type": "markdown",
   "metadata": {},
   "source": [
    "**Simple Plot**"
   ]
  },
  {
   "cell_type": "code",
   "execution_count": null,
   "metadata": {
    "colab": {},
    "colab_type": "code",
    "id": "uktcOPYqt8Cn"
   },
   "outputs": [],
   "source": [
    "f = bokeh.plotting.figure(title=\"Sample Cosine and Sine Functions\")\n",
    "f.line(X, C, legend=\"Cosine\", line_width=1, line_color=\"blue\")\n",
    "f.line(X, S, legend=\"Sine\", line_width=1, line_color=\"green\")\n",
    "\n",
    "bokeh.plotting.show(f)"
   ]
  },
  {
   "cell_type": "markdown",
   "metadata": {},
   "source": [
    "The above includes:\n",
    "\n",
    "* __figure__: Handles the styling of plots, including title, labels, axes, and grids, and it exposes methods for adding data to the plot.\n",
    "* __line__: This is what is known as a \"renderer\" (glyph) in Bokeh. These are instructions on specifying visual customizations of how the data is shown including colors, legends, and widths of lines.\n",
    "* __show__: Although this did display a Bokeh plot, remember, we turned off the output to display in a popup window.  \n",
    "  _Note:_ If you don't set the output to the notebook and ran this code from a command-line, it would show an interactive popup in a __browser__ window because you would have to specify either to save or show the results with a given HTML filename. \n",
    "\n",
    "There are sever [concepts](https://docs.bokeh.org/en/latest/docs/user_guide/quickstart.html#concepts) that we should get used to, but there are two primary ones:\n",
    "\n",
    "* Plot - these are containers that hold various objects (renderers, guides, data and tools) that comprise the final visualization that is present to the user - think a figure contains all elements of a plot\n",
    "* Glyphs - the basic visual markings that Bokeh can display - lines, circle, etc."
   ]
  },
  {
   "cell_type": "markdown",
   "metadata": {},
   "source": [
    "**Add Markers**"
   ]
  },
  {
   "cell_type": "code",
   "execution_count": null,
   "metadata": {
    "colab": {},
    "colab_type": "code",
    "id": "uktcOPYqt8Cn"
   },
   "outputs": [],
   "source": [
    "f = bokeh.plotting.figure(title=\"Sample Cosine and Sine Functions\",\n",
    "                          x_range=[-np.pi, np.pi], y_range=[-1, 1], \n",
    "                          x_axis_label='x', y_axis_label='y')\n",
    "\n",
    "# Line for the cosine function\n",
    "f.line(X, C, legend=\"Cosine\", line_width=1, line_color=\"blue\")\n",
    "# Add circle to points since it partially overlaps with the cosine function\n",
    "f.circle(X, C, legend=\"Cosine\", size=5) \n",
    "\n",
    "# Line for the sine function\n",
    "f.line(X, S, legend=\"Sine\", line_width=1, line_color=\"green\")\n",
    "# Add square to points since it partially overlaps with the sine function\n",
    "f.square(X, S, legend=\"Sine\", size=7)\n",
    "\n",
    "# Display the graph\n",
    "bokeh.plotting.show(f)"
   ]
  },
  {
   "cell_type": "markdown",
   "metadata": {},
   "source": [
    "**Sub-Plotting**"
   ]
  },
  {
   "cell_type": "code",
   "execution_count": null,
   "metadata": {
    "colab": {},
    "colab_type": "code",
    "id": "uktcOPYqt8Cn"
   },
   "outputs": [],
   "source": [
    "fc = bokeh.plotting.figure(title=\"Sample Cosine Function\",\n",
    "                          x_range=[-np.pi, np.pi], y_range=[-1, 1], \n",
    "                          x_axis_label='x', y_axis_label='y')\n",
    "\n",
    "# Line for the cosine function\n",
    "fc.line(X, C, legend=\"Cosine\", line_width=1, line_color=\"blue\")\n",
    "# Add circle to points since it partially overlaps with the cosine function\n",
    "fc.circle(X, C, legend=\"Cosine\", size=5) \n",
    "\n",
    "fs = bokeh.plotting.figure(title=\"Sample Sine Function\",\n",
    "                          x_range=[-np.pi, np.pi], y_range=[-1, 1], \n",
    "                          x_axis_label='x', y_axis_label='y')\n",
    "# Line for the sine function\n",
    "fs.line(X, S, legend=\"Sine\", line_width=1, line_color=\"green\")\n",
    "# Add square to points since it partially overlaps with the sine function\n",
    "fs.square(X, S, legend=\"Sine\", size=7)\n",
    "\n",
    "# put subplots into a griplot\n",
    "f = bokeh.layouts.gridplot([[fc, fs]], toolbar_location=None)\n",
    "\n",
    "# Display the graph\n",
    "bokeh.plotting.show(f)"
   ]
  },
  {
   "cell_type": "markdown",
   "metadata": {},
   "source": [
    "- Two subplots are linked interactively with just the panning feature. \n",
    "- This is called __linked panning__.\n",
    "- If we wanted to have the same, but with the \"selection\" of data, we would need to add in __linked brushing__.\n",
    "- __Note:__ It's much easier for the controls to be turned back on during this example to reset our views and such once we have performed a selection."
   ]
  },
  {
   "cell_type": "markdown",
   "metadata": {},
   "source": [
    "**Adding Toolbar Back**"
   ]
  },
  {
   "cell_type": "code",
   "execution_count": null,
   "metadata": {
    "colab": {},
    "colab_type": "code",
    "id": "uktcOPYqt8Cn"
   },
   "outputs": [],
   "source": [
    "fc = bokeh.plotting.figure(title=\"Sample Cosine Function\",\n",
    "                          x_range=[-np.pi, np.pi], y_range=[-1, 1], \n",
    "                          x_axis_label='x', y_axis_label='y')\n",
    "\n",
    "# Line for the cosine function\n",
    "fc.line(X, C, legend=\"Cosine\", line_width=1, line_color=\"blue\")\n",
    "# Add circles to points since it partially overlaps with the cosine function\n",
    "fc.circle(X, C, legend=\"Cosine\", size=5) \n",
    "\n",
    "fs = bokeh.plotting.figure(title=\"Sample Sine Function\",\n",
    "                          x_range=[-np.pi, np.pi], y_range=[-1, 1], \n",
    "                          x_axis_label='x', y_axis_label='y')\n",
    "# Line for the sine function\n",
    "fs.line(X, S, legend=\"Sine\", line_width=1, line_color=\"green\")\n",
    "# Add square to points since it partially overlaps with the sine function\n",
    "fs.square(X, S, legend=\"Sine\", size=7)\n",
    "\n",
    "# put subplots into a griplot\n",
    "f = bokeh.layouts.gridplot([[fc, fs]])\n",
    "\n",
    "# Display the graph\n",
    "bokeh.plotting.show(f)"
   ]
  },
  {
   "cell_type": "markdown",
   "metadata": {},
   "source": [
    "### Ouputting the Plot\n",
    "\n",
    "You can use the functions:\n",
    "\n",
    "- `output_notebook`: Used to show plots in-line in a Jupyter Notebook. \n",
    "- `output_file`: Defines how the visualization will be rendered (namely to an html file) and the `show` function will be invoked when the plot is ready for output. Bokeh recommends that `output_file`, to which we pass a file name, be called at the start of your script, immediately after imports."
   ]
  },
  {
   "cell_type": "markdown",
   "metadata": {},
   "source": [
    "**Using `output_file`**"
   ]
  },
  {
   "cell_type": "code",
   "execution_count": null,
   "metadata": {
    "colab": {},
    "colab_type": "code",
    "id": "uktcOPYqt8Cn"
   },
   "outputs": [],
   "source": [
    "bokeh.plotting.output_file('cosine_sine.html', title='Plot in Bokeh')\n",
    "\n",
    "fc = bokeh.plotting.figure(title=\"Sample Cosine Function\",\n",
    "                          x_range=[-np.pi, np.pi], y_range=[-1, 1], \n",
    "                          x_axis_label='x', y_axis_label='y')\n",
    "\n",
    "# Line for the cosine function\n",
    "fc.line(X, C, legend=\"Cosine\", line_width=1, line_color=\"blue\")\n",
    "# Add circles to points since it partially overlaps with the cosine function\n",
    "fc.circle(X, C, legend=\"Cosine\", size=5) \n",
    "\n",
    "fs = bokeh.plotting.figure(title=\"Sample Sine Function\",\n",
    "                          x_range=[-np.pi, np.pi], y_range=[-1, 1], \n",
    "                          x_axis_label='x', y_axis_label='y')\n",
    "# Line for the sine function\n",
    "fs.line(X, S, legend=\"Sine\", line_width=1, line_color=\"green\")\n",
    "# Add square to points since it partially overlaps with the sine function\n",
    "fs.square(X, S, legend=\"Sine\", size=7)\n",
    "\n",
    "# put subplots into a griplot\n",
    "f = bokeh.layouts.gridplot([[fc], [fs]])\n",
    "\n",
    "# Display the graph\n",
    "bokeh.plotting.show(f)"
   ]
  },
  {
   "cell_type": "markdown",
   "metadata": {},
   "source": [
    "**Using `output_notebook`**"
   ]
  },
  {
   "cell_type": "code",
   "execution_count": null,
   "metadata": {},
   "outputs": [],
   "source": [
    "bokeh.plotting.output_notebook()\n",
    "\n",
    "fc = bokeh.plotting.figure(title=\"Sample Cosine Function\",\n",
    "                          x_range=[-np.pi, np.pi], y_range=[-1, 1], \n",
    "                          x_axis_label='x', y_axis_label='y')\n",
    "\n",
    "# Line for the cosine function\n",
    "fc.line(X, C, legend=\"Cosine\", line_width=1, line_color=\"blue\")\n",
    "# Add circles to points since it partially overlaps with the cosine function\n",
    "fc.circle(X, C, legend=\"Cosine\", size=5) \n",
    "\n",
    "fs = bokeh.plotting.figure(title=\"Sample Sine Function\",\n",
    "                          x_range=[-np.pi, np.pi], y_range=[-1, 1], \n",
    "                          x_axis_label='x', y_axis_label='y')\n",
    "# Line for the sine function\n",
    "fs.line(X, S, legend=\"Sine\", line_width=1, line_color=\"green\")\n",
    "# Add square to points since it partially overlaps with the sine function\n",
    "fs.square(X, S, legend=\"Sine\", size=7)\n",
    "\n",
    "# put subplots into a griplot\n",
    "f = bokeh.layouts.gridplot([[fc], [fs]])\n",
    "\n",
    "# Display the graph\n",
    "bokeh.plotting.show(f)"
   ]
  },
  {
   "cell_type": "markdown",
   "metadata": {},
   "source": [
    "### Other Types of Plots"
   ]
  },
  {
   "cell_type": "markdown",
   "metadata": {},
   "source": [
    "**Scatter Plot**"
   ]
  },
  {
   "cell_type": "code",
   "execution_count": null,
   "metadata": {},
   "outputs": [],
   "source": [
    "f = bokeh.plotting.figure(title=\"Sample Scatter Plot\",\n",
    "                          x_range=[-1, 1], y_range=[-1, 1], \n",
    "                          x_axis_label='Cosine', y_axis_label='Sine')\n",
    "\n",
    "f.scatter(C, S, marker=\"circle\", fill_color=\"blue\")\n",
    "\n",
    "bokeh.plotting.show(f)"
   ]
  },
  {
   "cell_type": "markdown",
   "metadata": {},
   "source": [
    "**Bar Plot**\n",
    "\n",
    "- `hbar`: The bars are shown horizontally across plot width.\n",
    "- `vbar`: The bars are shown vertically across plot height. "
   ]
  },
  {
   "cell_type": "code",
   "execution_count": null,
   "metadata": {},
   "outputs": [],
   "source": [
    "f = bokeh.plotting.figure(plot_width=400, plot_height=200)\n",
    "f.hbar(y=[2,4,6, 3],  right=[1,2,3, 4], height=1, left=0, color=\"Cyan\")\n",
    "bokeh.plotting.output_file('hbar_plot.html')\n",
    "bokeh.plotting.show(f)"
   ]
  },
  {
   "cell_type": "code",
   "execution_count": null,
   "metadata": {},
   "outputs": [],
   "source": [
    "f = bokeh.plotting.figure(plot_width=200, plot_height=400)\n",
    "\n",
    "f.vbar(x=[1,2,3, 4], top=[2,4,6, 3], width=0.5, bottom=0, color=\"Cyan\")\n",
    "bokeh.plotting.output_file('vbar_plot.html')\n",
    "bokeh.plotting.show(f)"
   ]
  },
  {
   "cell_type": "markdown",
   "metadata": {},
   "source": [
    "**Patch Plot**\n",
    "\n",
    "- A plot which shades a region of space in a specific color to show a region or a group having similar properties is termed as a patch plot in Bokeh. "
   ]
  },
  {
   "cell_type": "code",
   "execution_count": null,
   "metadata": {},
   "outputs": [],
   "source": [
    "p = bokeh.plotting.figure(plot_width=300, plot_height=300)\n",
    "p.patch(x=[1, 3,2,4], y=[2,3,5,7], color=\"green\")\n",
    "bokeh.plotting.output_file('sample_patch.html')\n",
    "bokeh.plotting.show(p)"
   ]
  },
  {
   "cell_type": "markdown",
   "metadata": {
    "colab_type": "text",
    "id": "fr1aws-Gu9Ch"
   },
   "source": [
    "## <font color=\"red\">Bokeh and Pandas</font>\n"
   ]
  },
  {
   "cell_type": "code",
   "execution_count": null,
   "metadata": {},
   "outputs": [],
   "source": [
    "import pandas as pd"
   ]
  },
  {
   "cell_type": "markdown",
   "metadata": {},
   "source": [
    "**Consider the following Weather Dataset**"
   ]
  },
  {
   "cell_type": "code",
   "execution_count": null,
   "metadata": {},
   "outputs": [],
   "source": [
    "url = \"https://raw.githubusercontent.com/astg606/py_materials/master/pandas/data/weather/\"\n",
    "filename = \"hampton_10-10-15_10-10-16.csv\"\n",
    "weather_data = pd.read_csv(url+filename)"
   ]
  },
  {
   "cell_type": "code",
   "execution_count": null,
   "metadata": {},
   "outputs": [],
   "source": [
    "weather_data"
   ]
  },
  {
   "cell_type": "markdown",
   "metadata": {},
   "source": [
    "**List all the Columns**"
   ]
  },
  {
   "cell_type": "code",
   "execution_count": null,
   "metadata": {},
   "outputs": [],
   "source": [
    "weather_data.columns"
   ]
  },
  {
   "cell_type": "markdown",
   "metadata": {},
   "source": [
    "**Rename the Column**"
   ]
  },
  {
   "cell_type": "code",
   "execution_count": null,
   "metadata": {},
   "outputs": [],
   "source": [
    "weather_data.columns = [\"date\", \"max_temp\", \"mean_temp\", \"min_temp\", \"max_dew\",\n",
    "                \"mean_dew\", \"min_dew\", \"max_humidity\", \"mean_humidity\",\n",
    "                \"min_humidity\", \"max_pressure\", \"mean_pressure\",\n",
    "                \"min_pressure\", \"max_visibilty\", \"mean_visibility\",\n",
    "                \"min_visibility\", \"max_wind\", \"mean_wind\", \"min_wind\",\n",
    "                \"precipitation\", \"cloud_cover\", \"events\", \"wind_dir\"]"
   ]
  },
  {
   "cell_type": "code",
   "execution_count": null,
   "metadata": {},
   "outputs": [],
   "source": [
    "weather_data"
   ]
  },
  {
   "cell_type": "markdown",
   "metadata": {},
   "source": [
    "Convert the `date` column to `datetime` format:"
   ]
  },
  {
   "cell_type": "code",
   "execution_count": null,
   "metadata": {},
   "outputs": [],
   "source": [
    "weather_data['date'] = pd.to_datetime(weather_data.date)\n",
    "weather_data"
   ]
  },
  {
   "cell_type": "markdown",
   "metadata": {},
   "source": [
    "Rename the `date` column to `Date`: "
   ]
  },
  {
   "cell_type": "code",
   "execution_count": null,
   "metadata": {},
   "outputs": [],
   "source": [
    "weather_data.rename(columns={'date':'Date'}, inplace=True)\n",
    "weather_data"
   ]
  },
  {
   "cell_type": "markdown",
   "metadata": {},
   "source": [
    "**Print Statistical Information**"
   ]
  },
  {
   "cell_type": "code",
   "execution_count": null,
   "metadata": {},
   "outputs": [],
   "source": [
    "weather_data.describe().T"
   ]
  },
  {
   "cell_type": "markdown",
   "metadata": {},
   "source": [
    "**Simple Line Plot with Bokeh**"
   ]
  },
  {
   "cell_type": "code",
   "execution_count": null,
   "metadata": {},
   "outputs": [],
   "source": [
    "p = bokeh.plotting.figure()\n",
    "\n",
    "p.line(weather_data.Date, weather_data.mean_temp, line_color = \"red\")\n",
    "p.line(weather_data.Date, weather_data.max_temp, line_color = \"blue\")\n",
    "p.line(weather_data.Date, weather_data.min_temp, line_color = \"green\")\n",
    "\n",
    "bokeh.plotting.show(p)"
   ]
  },
  {
   "cell_type": "markdown",
   "metadata": {},
   "source": [
    "**ColumnDataSource**\n",
    "\n",
    "- A ColumnDatasource can be considered as a mapping between column name and list of data. \n",
    "-  A Python dict object with one or more string keys and lists or numpy arrays as values is passed to ColumnDataSource constructor."
   ]
  },
  {
   "cell_type": "code",
   "execution_count": null,
   "metadata": {},
   "outputs": [],
   "source": [
    "from bokeh.models import ColumnDataSource\n",
    "df = weather_data[['Date', 'mean_temp', 'max_temp', 'min_temp']]\n",
    "cds = ColumnDataSource(data=df)"
   ]
  },
  {
   "cell_type": "code",
   "execution_count": null,
   "metadata": {},
   "outputs": [],
   "source": [
    "cds1 = cds\n",
    "plot=bokeh.plotting.figure()\n",
    "plot.line(x='Date', y='mean_temp', line_color = \"red\", source=cds1)\n",
    "plot.line(x='Date', y='max_temp', line_color = \"blue\", source=cds1)\n",
    "plot.line(x='Date', y='min_temp', line_color = \"green\", source=cds1)\n",
    "bokeh.plotting.show(plot)"
   ]
  },
  {
   "cell_type": "code",
   "execution_count": null,
   "metadata": {},
   "outputs": [],
   "source": [
    "cds2 = cds\n",
    "ps=bokeh.plotting.figure(title='Temperature Scatter Plot',\n",
    "                           x_axis_label='Mean Temperature', \n",
    "                           y_axis_label='Max Temperature')\n",
    "#ps=bokeh.plotting.figure()\n",
    "ps.scatter(x='mean_temp', y='max_temp', source=cds2)\n",
    "bokeh.plotting.show(ps)"
   ]
  },
  {
   "cell_type": "markdown",
   "metadata": {},
   "source": [
    "**Create a \"melted\" version of your dataframe**\n",
    "\n",
    "- The `melt` function is useful to massage a DataFrame into a format where one or more columns are identifier variables (id_vars), while all other columns, considered measured variables (value_vars), are “unpivoted” to the row axis, leaving just two non-identifier columns, ‘variable’ and ‘value’."
   ]
  },
  {
   "cell_type": "code",
   "execution_count": null,
   "metadata": {},
   "outputs": [],
   "source": [
    "df = weather_data[(weather_data.Date > '2015-11-01') & \\\n",
    "                   (weather_data.Date <= '2015-11-15')]\n",
    "\n",
    "melted_df = pd.melt(df, id_vars=['Date'], \n",
    "                    value_vars=['mean_temp', 'max_temp', 'min_temp'])\n",
    "melted_df.head()"
   ]
  },
  {
   "cell_type": "code",
   "execution_count": null,
   "metadata": {},
   "outputs": [],
   "source": [
    "#plot=bokeh.plotting.figure()\n",
    "#plot.vbar(x='Date', top='variable', width=0.9, \n",
    "#          #color='color', \n",
    "#          legend_field=\"variable\", source=melted_df)\n",
    "#bokeh.plotting.show(plot)"
   ]
  },
  {
   "cell_type": "code",
   "execution_count": null,
   "metadata": {},
   "outputs": [],
   "source": [
    "#import bokeh.charts\n",
    "#\n",
    "#p = bokeh.charts.Bar(melted_df, \n",
    "#    label=\"Date\", values=\"value\", \n",
    "#    group=\"variable\", legend=\"top_left\", ylabel='Values')\n",
    "#bokeh.plotting.show(p)"
   ]
  },
  {
   "cell_type": "markdown",
   "metadata": {},
   "source": [
    "### <font color=\"blue\">Using `pandas_bokeh`</font>"
   ]
  },
  {
   "cell_type": "code",
   "execution_count": null,
   "metadata": {},
   "outputs": [],
   "source": [
    "import pandas_bokeh\n",
    "pandas_bokeh.output_notebook()"
   ]
  },
  {
   "cell_type": "markdown",
   "metadata": {},
   "source": [
    "**Do a Line Plot**"
   ]
  },
  {
   "cell_type": "code",
   "execution_count": null,
   "metadata": {},
   "outputs": [],
   "source": [
    "weather_data.plot_bokeh.line(\n",
    "    x='Date',\n",
    "    y=['max_temp', 'mean_temp', 'min_temp'],\n",
    "    xlabel='Date',\n",
    "    ylabel='Temperature',\n",
    "    title='Temperature data'\n",
    ")"
   ]
  },
  {
   "cell_type": "markdown",
   "metadata": {},
   "source": [
    "**Do Bar Plot**"
   ]
  },
  {
   "cell_type": "code",
   "execution_count": null,
   "metadata": {},
   "outputs": [],
   "source": [
    "df = weather_data[(weather_data.Date > '2015-11-01') & \\\n",
    "                   (weather_data.Date <= '2015-11-15')]\n",
    "df"
   ]
  },
  {
   "cell_type": "code",
   "execution_count": null,
   "metadata": {},
   "outputs": [],
   "source": [
    "df.plot_bokeh(\n",
    "    kind='bar',\n",
    "    x='Date',\n",
    "    y=['max_temp', 'mean_temp', 'min_temp'],\n",
    "    xlabel='Date',\n",
    "    ylabel='Temperature',\n",
    "    title='Temperature data'\n",
    ")"
   ]
  }
 ],
 "metadata": {
  "colab": {
   "collapsed_sections": [],
   "name": "adv_viz.ipynb",
   "provenance": [],
   "version": "0.3.2"
  },
  "kernelspec": {
   "display_name": "Python 3",
   "language": "python",
   "name": "python3"
  },
  "language_info": {
   "codemirror_mode": {
    "name": "ipython",
    "version": 3
   },
   "file_extension": ".py",
   "mimetype": "text/x-python",
   "name": "python",
   "nbconvert_exporter": "python",
   "pygments_lexer": "ipython3",
   "version": "3.7.3"
  }
 },
 "nbformat": 4,
 "nbformat_minor": 1
}
