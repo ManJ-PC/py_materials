{
 "cells": [
  {
   "cell_type": "markdown",
   "metadata": {},
   "source": [
    "<font color=\"white\">.</font> | <font color=\"white\">.</font> | <font color=\"white\">.</font>\n",
    "-- | -- | --\n",
    "![NASA](http://www.nasa.gov/sites/all/themes/custom/nasatwo/images/nasa-logo.svg) | <h1><font size=\"+3\">ASTG Python Courses</font></h1> | ![NASA](https://www.nccs.nasa.gov/sites/default/files/NCCS_Logo_0.png)\n",
    "\n",
    "---\n",
    "\n",
    "<CENTER>\n",
    "<H1 style=\"color:red\">\n",
    "Introduction to Seaborn\n",
    "</H1>\n",
    "</CENTER>"
   ]
  },
  {
   "cell_type": "markdown",
   "metadata": {},
   "source": [
    "# <font color=\"red\">Reference Documents</font>\n",
    "\n",
    "- <a href=\"seaborn.pydata.org\">seaborn: statistical data visualization</a>\n",
    "- <a href=\"https://www.datacamp.com/community/tutorials/seaborn-python-tutorial\">Python Seaborn Tutorial For Beginners</a>\n",
    "- <a href=\"https://www.c-sharpcorner.com/article/a-complete-python-seaborn-tutorial/\">A Complete Python Seaborn Tutorial</a>\n",
    "- <a href=\"https://www.journaldev.com/18583/python-seaborn-tutorial\">Python Seaborn Tutorial </a>"
   ]
  },
  {
   "cell_type": "markdown",
   "metadata": {},
   "source": [
    "# <font color=\"red\"> What is Seaborn?</font>\n",
    "- Python package for producing statistical graphics.\n",
    "- It comes equipped with preset styles and color palettes so you can create complex, aesthetically pleasing charts with a few lines of code.\n",
    "- It makes visualization a central part of exploring and understanding data.\n",
    "- Its dataset-oriented plotting functions operate on Pandas DataFrames and Numpy arrays containing whole datasets and internally perform the necessary semantic mapping and statistical aggregation to produce informative plots.\n",
    "- It is built on top of Matplotlib, but it's meant to serve as a complement, not a replacement.. Behind the scenes, Seaborn uses matplotlib to draw plots.\n",
    "- **Seaborn is an important tool used in Exploratory Data Analysis.**"
   ]
  },
  {
   "cell_type": "code",
   "execution_count": null,
   "metadata": {},
   "outputs": [],
   "source": [
    "%matplotlib inline\n",
    "\n",
    "import numpy as np\n",
    "import matplotlib.pyplot as plt\n",
    "import pandas as pd\n",
    "import seaborn as sns"
   ]
  },
  {
   "cell_type": "markdown",
   "metadata": {},
   "source": [
    "## Seaborn Settings\n",
    "\n",
    "- Matplotlib is highly customizable, but it can be complicated at the same time as it is hard to know what settings to tweak to achieve a good looking plot. \n",
    "- Seaborn comes with a number of themes and a high-level interface for controlling the look of matplotlib figures.\n",
    "\n",
    "The default default `seaborn` theme, scaling, and color palette is done through the setting:\n",
    "\n",
    "```python\n",
    "   sns.set()\n",
    "```\n",
    "\n",
    "It relies on the Matplotlib rcParams customization."
   ]
  },
  {
   "cell_type": "markdown",
   "metadata": {},
   "source": [
    "**Consider the following Matplotlib example**"
   ]
  },
  {
   "cell_type": "code",
   "execution_count": null,
   "metadata": {},
   "outputs": [],
   "source": [
    "def plot_cosine_sine():\n",
    "\n",
    "    X = np.linspace(-np.pi, np.pi, 256,endpoint=True)\n",
    "    C = np.cos(X)\n",
    "    S = np.sin(X)\n",
    "\n",
    "    # Plot cosine using blue color with a continuous line of width 1 (pixels)\n",
    "    plt.plot(X, C, color=\"blue\", linewidth=1.0, linestyle=\"-\", label=\"cos\");\n",
    "\n",
    "    # Plot sine using green color with a continuous line of width 1 (pixels)\n",
    "    plt.plot(X, S, color=\"green\", linewidth=1.0, linestyle=\"-\", label=\"sin\");\n",
    "\n",
    "    plt.legend(loc='best')\n",
    "\n",
    "    # Set x limits\n",
    "    plt.xlim(-4.0,4.0);\n",
    "\n",
    "    # Set x ticks\n",
    "    plt.xticks(np.linspace(-4,4,5,endpoint=True));\n",
    "\n",
    "    # Set y limits\n",
    "    plt.ylim(-1.05,1.05);\n",
    "\n",
    "    # Set y ticks\n",
    "    plt.yticks(np.linspace(-1,1,5,endpoint=True));"
   ]
  },
  {
   "cell_type": "code",
   "execution_count": null,
   "metadata": {},
   "outputs": [],
   "source": [
    "plot_cosine_sine()"
   ]
  },
  {
   "cell_type": "markdown",
   "metadata": {},
   "source": [
    "**Let us run the same example with Seaborn settings**"
   ]
  },
  {
   "cell_type": "code",
   "execution_count": null,
   "metadata": {},
   "outputs": [],
   "source": [
    "sns.set()\n",
    "plot_cosine_sine()"
   ]
  },
  {
   "cell_type": "markdown",
   "metadata": {},
   "source": [
    "We can also set the background through the function `set_style`. Some possible settings are:\n",
    "\n",
    "```python\n",
    "sns.set_style(\"dark\")\n",
    "sns.set_style(\"whitegrid\")\n",
    "sns.set_style(\"white\")\n",
    "```"
   ]
  },
  {
   "cell_type": "code",
   "execution_count": null,
   "metadata": {},
   "outputs": [],
   "source": [
    "sns.set_style(\"dark\")\n",
    "plot_cosine_sine()"
   ]
  },
  {
   "cell_type": "markdown",
   "metadata": {},
   "source": [
    "You can use the function `despine` to remove the spines."
   ]
  },
  {
   "cell_type": "code",
   "execution_count": null,
   "metadata": {},
   "outputs": [],
   "source": [
    "sns.set_style(\"white\")\n",
    "plot_cosine_sine()\n",
    "sns.despine()"
   ]
  },
  {
   "cell_type": "markdown",
   "metadata": {},
   "source": [
    "Using subplot and temporarily setting figure style:"
   ]
  },
  {
   "cell_type": "code",
   "execution_count": null,
   "metadata": {},
   "outputs": [],
   "source": [
    "with sns.axes_style(\"darkgrid\"):\n",
    "   plt.subplot(211)\n",
    "   plot_cosine_sine()\n",
    "plt.subplot(212)\n",
    "plot_cosine_sine()"
   ]
  },
  {
   "cell_type": "markdown",
   "metadata": {},
   "source": [
    "# <font color=\"red\">Identifying Statistical Relationships</font>\n",
    "\n",
    "- Statistical analysis is a process of understanding how variables in a dataset relate to each other and how those relationships depend on other variables. \n",
    "- When data are visualized properly, the human visual system can see trends and patterns that indicate a relationship."
   ]
  },
  {
   "cell_type": "code",
   "execution_count": null,
   "metadata": {},
   "outputs": [],
   "source": [
    "mpg = sns.load_dataset(\"mpg\")\n",
    "mpg"
   ]
  },
  {
   "cell_type": "markdown",
   "metadata": {},
   "source": [
    "## `scatterplot`\n",
    "\n",
    "- The relationship between `x` and `y` can be shown for different subsets of the data using the `hue`, `size`, and `style` parameters. \n",
    "- These parameters control what visual semantics are used to identify the different subsets. "
   ]
  },
  {
   "cell_type": "code",
   "execution_count": null,
   "metadata": {},
   "outputs": [],
   "source": [
    "sns.set()  \n",
    "\n",
    "sns.scatterplot(x=\"horsepower\", y=\"mpg\", \n",
    "                hue=\"origin\", size=\"weight\",  \n",
    "                sizes=(400, 40), palette=\"muted\",  \n",
    "                data=mpg);  "
   ]
  },
  {
   "cell_type": "markdown",
   "metadata": {},
   "source": [
    "## `lineplot`"
   ]
  },
  {
   "cell_type": "code",
   "execution_count": null,
   "metadata": {},
   "outputs": [],
   "source": [
    "sns.lineplot(x=\"horsepower\", y=\"mpg\", \n",
    "            hue=\"origin\", palette=\"muted\",  \n",
    "            data=mpg)  "
   ]
  },
  {
   "cell_type": "markdown",
   "metadata": {},
   "source": [
    "### `relplot`\n",
    "\n",
    "- Designed to visualize many different statistical relationships."
   ]
  },
  {
   "cell_type": "code",
   "execution_count": null,
   "metadata": {},
   "outputs": [],
   "source": [
    "sns.set(style=\"white\")  \n",
    "\n",
    "# Plot miles per gallon against horsepower with other semantics  \n",
    "sns.relplot(x=\"horsepower\", y=\"mpg\", \n",
    "            hue=\"origin\", size=\"weight\",  \n",
    "            sizes=(400, 40), alpha=.5, palette=\"muted\",  \n",
    "            height=6, data=mpg)  "
   ]
  },
  {
   "cell_type": "markdown",
   "metadata": {},
   "source": [
    "# <font color=\"red\">Manipulating Categorical Data</font>\n",
    "\n"
   ]
  },
  {
   "cell_type": "markdown",
   "metadata": {},
   "source": [
    "## Categorical scatterplots"
   ]
  },
  {
   "cell_type": "code",
   "execution_count": null,
   "metadata": {},
   "outputs": [],
   "source": [
    "iris = sns.load_dataset(\"iris\")\n",
    "iris"
   ]
  },
  {
   "cell_type": "markdown",
   "metadata": {},
   "source": [
    "### `stripplot`\n",
    "\n",
    "- Draw a scatterplot where one variable is categorical."
   ]
  },
  {
   "cell_type": "code",
   "execution_count": null,
   "metadata": {},
   "outputs": [],
   "source": [
    "# \"Melt\" the dataset to \"long-form\" or \"tidy\" representation  \n",
    "iris_m = pd.melt(iris, \"species\", var_name=\"measurement\")  \n",
    "  \n",
    "# Initialize the figure  \n",
    "f, ax = plt.subplots()  \n",
    "sns.despine(bottom=True, left=True)  \n",
    "  \n",
    "# Show each observation with a scatterplot  \n",
    "sns.stripplot(x=\"measurement\", y=\"value\", hue=\"species\",  \n",
    "              data=iris_m, dodge=True, jitter=True,  \n",
    "              alpha=.25, zorder=1)  \n",
    "  \n",
    "# Show the conditional means  \n",
    "sns.pointplot(x=\"measurement\", y=\"value\", hue=\"species\",  \n",
    "              data=iris_m, dodge=.532, join=False, palette=\"dark\",  \n",
    "              markers=\"d\", scale=.75, ci=None)  \n",
    "  \n",
    "# Improve the legend   \n",
    "handles, labels = ax.get_legend_handles_labels()  \n",
    "ax.legend(handles[3:], labels[3:], title=\"species\",  \n",
    "          handletextpad=0, columnspacing=1,  \n",
    "          loc=\"lower right\", ncol=3, frameon=True)"
   ]
  },
  {
   "cell_type": "markdown",
   "metadata": {},
   "source": [
    "### `swarmplot`\n",
    "\n",
    "- Draw a categorical scatterplot with non-overlapping points."
   ]
  },
  {
   "cell_type": "code",
   "execution_count": null,
   "metadata": {},
   "outputs": [],
   "source": [
    "sns.set(style=\"whitegrid\", palette=\"muted\") \n",
    "\n",
    "# \"Melt\" the dataset to \"long-form\" or \"tidy\" representation  \n",
    "iris_m = pd.melt(iris, \"species\", var_name=\"measurement\")  \n",
    "  \n",
    "# Draw a categorical scatterplot to show each observation  \n",
    "sns.swarmplot(x=\"value\", y=\"measurement\", hue=\"species\",  \n",
    "              palette=[\"r\", \"c\", \"y\"], data=iris_m);  "
   ]
  },
  {
   "cell_type": "markdown",
   "metadata": {},
   "source": [
    "## Categorical Distribution Plots"
   ]
  },
  {
   "cell_type": "code",
   "execution_count": null,
   "metadata": {},
   "outputs": [],
   "source": [
    "planets = sns.load_dataset(\"planets\")  \n",
    "planets"
   ]
  },
  {
   "cell_type": "markdown",
   "metadata": {},
   "source": [
    "### `boxplot`\n",
    "- Draw a box plot to show distributions with respect to categories.\n",
    "- A box plot shows the distribution of quantitative data in a way that facilitates comparisons between variables or across levels of a categorical variable. \n",
    "- The box shows the quartiles of the dataset."
   ]
  },
  {
   "cell_type": "code",
   "execution_count": null,
   "metadata": {},
   "outputs": [],
   "source": [
    "sns.set(style=\"ticks\")  \n",
    "  \n",
    "# Initialize the figure with a logarithmic x axis  \n",
    "f, ax = plt.subplots(figsize=(7, 6))  \n",
    "ax.set_xscale(\"log\")   \n",
    "  \n",
    "# Plot the orbital period with horizontal boxes  \n",
    "sns.boxplot(x=\"distance\", y=\"method\", data=planets,  \n",
    "            whis=\"range\", palette=\"vlag\")  \n",
    "  \n",
    "# Tweak the visual presentation  \n",
    "ax.xaxis.grid(True)  \n",
    "ax.set(ylabel=\"\")  \n",
    "sns.despine(trim=True, left=True)  "
   ]
  },
  {
   "cell_type": "markdown",
   "metadata": {},
   "source": [
    "### `violinplot`\n",
    "- Draw a combination of boxplot and kernel density estimate.\n",
    "- It shows the distribution of quantitative data across several levels of one (or more) categorical variables such that those distributions can be compared. \n",
    "- This can be an effective and attractive way to show multiple distributions of data at once."
   ]
  },
  {
   "cell_type": "code",
   "execution_count": null,
   "metadata": {},
   "outputs": [],
   "source": [
    "ax = sns.violinplot(x=planets[\"distance\"])"
   ]
  },
  {
   "cell_type": "code",
   "execution_count": null,
   "metadata": {},
   "outputs": [],
   "source": [
    "f, ax = plt.subplots(figsize=(13, 7))\n",
    "\n",
    "sns.violinplot(x=\"method\", y=\"distance\", data=planets) \n",
    "# Finalize the figure  \n",
    "ax.set(ylim=(-10, 9000))  \n",
    "sns.despine(left=True, bottom=True)  "
   ]
  },
  {
   "cell_type": "code",
   "execution_count": null,
   "metadata": {},
   "outputs": [],
   "source": [
    "df = sns.load_dataset(\"brain_networks\", header=[0, 1, 2], index_col=0)\n",
    "df"
   ]
  },
  {
   "cell_type": "code",
   "execution_count": null,
   "metadata": {},
   "outputs": [],
   "source": [
    "sns.set(style=\"whitegrid\")  \n",
    "  \n",
    "# Load the example dataset of brain network correlations  \n",
    "df = sns.load_dataset(\"brain_networks\", header=[0, 1, 2], index_col=0)  \n",
    "  \n",
    "# Pull out a specific subset of networks  \n",
    "used_networks = [1, 3, 4, 5, 6, 7, 8, 11, 12, 13, 16, 17]  \n",
    "used_columns = (df.columns.get_level_values(\"network\")  \n",
    "                          .astype(float)  \n",
    "                          .isin(used_networks))  \n",
    "df = df.loc[:, used_columns]  \n",
    "  \n",
    "# Compute the correlation matrix and average over networks  \n",
    "corr_df = df.corr().groupby(level=\"network\").mean()  \n",
    "corr_df.index = corr_df.index.astype(int)  \n",
    "corr_df = corr_df.sort_index().T  \n",
    "  \n",
    "# Set up the matplotlib figure  \n",
    "f, ax = plt.subplots(figsize=(11, 6))  \n",
    "  \n",
    "# Draw a violinplot with a narrower bandwidth than the default  \n",
    "sns.violinplot(data=corr_df, palette=\"Set3\", bw=1, cut=.2, linewidth=1)  \n",
    "  \n",
    "# Finalize the figure  \n",
    "ax.set(ylim=(-.7, 1.05))  \n",
    "sns.despine(left=True, bottom=True)  "
   ]
  },
  {
   "cell_type": "markdown",
   "metadata": {},
   "source": [
    "### `boxenplot`\n",
    "- Draw an enhanced box plot for larger datasets.\n",
    "- This style of plot was originally named a “letter value” plot because it shows a large number of quantiles that are defined as “letter values”.\n",
    "- It is similar to a box plot in plotting a nonparametric representation of a distribution in which all features correspond to actual observations. \n",
    "- By plotting more quantiles, it provides more information about the shape of the distribution, particularly in the tails. "
   ]
  },
  {
   "cell_type": "code",
   "execution_count": null,
   "metadata": {},
   "outputs": [],
   "source": [
    "ax = sns.boxenplot(x=planets[\"distance\"])"
   ]
  },
  {
   "cell_type": "code",
   "execution_count": null,
   "metadata": {},
   "outputs": [],
   "source": [
    "f, ax = plt.subplots(figsize=(13, 7))\n",
    "\n",
    "sns.boxenplot(x=\"method\", y=\"distance\", data=planets) \n",
    "# Finalize the figure  \n",
    "ax.set(ylim=(-10, 9000))  \n",
    "sns.despine(left=True, bottom=True)  "
   ]
  },
  {
   "cell_type": "markdown",
   "metadata": {},
   "source": [
    "## Categorical Estimate Plots"
   ]
  },
  {
   "cell_type": "code",
   "execution_count": null,
   "metadata": {},
   "outputs": [],
   "source": [
    "titanic = sns.load_dataset(\"titanic\")\n",
    "titanic"
   ]
  },
  {
   "cell_type": "markdown",
   "metadata": {},
   "source": [
    "### `pointplot`\n",
    "- Show point estimates and confidence intervals using scatter plot glyphs.\n",
    "- A point plot represents an estimate of central tendency for a numeric variable by the position of scatter plot points and provides some indication of the uncertainty around that estimate using error bars.\n",
    "- Point plots can be more useful than bar plots for focusing comparisons between different levels of one or more categorical variables."
   ]
  },
  {
   "cell_type": "code",
   "execution_count": null,
   "metadata": {},
   "outputs": [],
   "source": [
    "ax = sns.pointplot(x=\"class\", y=\"survived\", hue=\"who\", \n",
    "                   data=titanic)"
   ]
  },
  {
   "cell_type": "markdown",
   "metadata": {},
   "source": [
    "### `countplot`\n",
    "- Show the counts of observations in each categorical bin using bars.\n",
    "- A count plot can be thought of as a histogram across a categorical, instead of quantitative, variable."
   ]
  },
  {
   "cell_type": "code",
   "execution_count": null,
   "metadata": {},
   "outputs": [],
   "source": [
    "ax = sns.countplot(x=\"class\", hue=\"who\", data=titanic)"
   ]
  },
  {
   "cell_type": "code",
   "execution_count": null,
   "metadata": {},
   "outputs": [],
   "source": [
    "g = sns.catplot(x=\"class\", hue=\"who\", col=\"survived\",\n",
    "                data=titanic, kind=\"count\",\n",
    "                height=4, aspect=.7);"
   ]
  },
  {
   "cell_type": "markdown",
   "metadata": {},
   "source": [
    "### `barplot`\n",
    "- Show point estimates and confidence intervals as rectangular bars.\n",
    "- A bar plot represents an estimate of central tendency for a numeric variable with the height of each rectangle and provides some indication of the uncertainty around that estimate using error bars. "
   ]
  },
  {
   "cell_type": "code",
   "execution_count": null,
   "metadata": {},
   "outputs": [],
   "source": [
    "ax = sns.barplot(x=\"class\", y=\"survived\", data=titanic)"
   ]
  },
  {
   "cell_type": "code",
   "execution_count": null,
   "metadata": {},
   "outputs": [],
   "source": [
    "ax = sns.barplot(x=\"class\", y=\"survived\", hue=\"who\", data=titanic)"
   ]
  },
  {
   "cell_type": "markdown",
   "metadata": {},
   "source": [
    "# <font color=\"red\">Visualizing the Distribution of a Dataset</font>\n",
    "\n"
   ]
  },
  {
   "cell_type": "markdown",
   "metadata": {},
   "source": [
    "### `distplot`\n",
    "- Flexibly plot a univariate distribution of observations."
   ]
  },
  {
   "cell_type": "code",
   "execution_count": null,
   "metadata": {},
   "outputs": [],
   "source": [
    "sns.set(style=\"white\", palette=\"muted\", color_codes=True)  \n",
    "rs = np.random.RandomState(10)  \n",
    "  \n",
    "# Set up the matplotlib figure  \n",
    "f, axes = plt.subplots(2, 2, figsize=(7, 7), sharex=True)  \n",
    "sns.despine(left=True)  \n",
    "  \n",
    "# Generate a random univariate dataset  \n",
    "d = rs.normal(size=100)  \n",
    "  \n",
    "# Plot a simple histogram with binsize determined automatically  \n",
    "sns.distplot(d, kde=False, color=\"b\", ax=axes[0, 0])  \n",
    "  \n",
    "# Plot a kernel density estimate and rug plot  \n",
    "sns.distplot(d, hist=False, rug=True, color=\"r\", ax=axes[0, 1])  \n",
    "  \n",
    "# Plot a filled kernel density estimate  \n",
    "sns.distplot(d, hist=False, color=\"g\", kde_kws={\"shade\": True}, ax=axes[1, 0])  \n",
    "  \n",
    "# Plot a historgram and kernel density estimate  \n",
    "sns.distplot(d, color=\"m\", ax=axes[1, 1])  \n",
    "  \n",
    "plt.setp(axes, yticks=[])  \n",
    "plt.tight_layout() "
   ]
  },
  {
   "cell_type": "markdown",
   "metadata": {},
   "source": [
    "### `kdeplot`\n",
    "\n",
    "- Fit and plot a univariate or bivariate kernel density estimate."
   ]
  },
  {
   "cell_type": "code",
   "execution_count": null,
   "metadata": {},
   "outputs": [],
   "source": [
    "sns.set(style=\"dark\")  \n",
    "rs = np.random.RandomState(500)  \n",
    "  \n",
    "# Set up the matplotlib figure  \n",
    "f, axes = plt.subplots(3, 3, figsize=(9, 9), sharex=True, sharey=True)  \n",
    "  \n",
    "# Rotate the starting point around the cubehelix hue circle  \n",
    "for ax, s in zip(axes.flat, np.linspace(0, 3, 10)):  \n",
    "  \n",
    "    # Create a cubehelix colormap to use with kdeplot  \n",
    "    cmap = sns.cubehelix_palette(start=s, light=1, as_cmap=True)  \n",
    "  \n",
    "    # Generate and plot a random bivariate dataset  \n",
    "    x, y = rs.randn(2, 50)  \n",
    "    sns.kdeplot(x, y, cmap=cmap, shade=True, cut=5, ax=ax)  \n",
    "    ax.set(xlim=(-3, 3), ylim=(-3, 3))  \n",
    "  \n",
    "f.tight_layout()"
   ]
  },
  {
   "cell_type": "markdown",
   "metadata": {},
   "source": [
    "###  `pairplot`\n",
    "\n",
    "- Plot pairwise relationships in a dataset."
   ]
  },
  {
   "cell_type": "code",
   "execution_count": null,
   "metadata": {},
   "outputs": [],
   "source": [
    "sns.set(style=\"ticks\")  \n",
    "#iris = sns.load_dataset(\"iris\") \n",
    "sns.pairplot(iris, hue=\"species\");"
   ]
  },
  {
   "cell_type": "markdown",
   "metadata": {},
   "source": [
    "# <font color=\"red\">Visualizing Linear Relationships</font>\n"
   ]
  },
  {
   "cell_type": "markdown",
   "metadata": {},
   "source": [
    "### `regplot`\n",
    "\n",
    "- Plot data and a linear regression model fit."
   ]
  },
  {
   "cell_type": "code",
   "execution_count": null,
   "metadata": {},
   "outputs": [],
   "source": [
    "g = sns.regplot(x=\"sepal_length\", y=\"sepal_width\",  \n",
    "                 data=iris) "
   ]
  },
  {
   "cell_type": "markdown",
   "metadata": {},
   "source": [
    "### `lmplot`\n",
    "\n",
    "- Enhance a scatterplot to include a linear regression model (and its uncertainty). "
   ]
  },
  {
   "cell_type": "code",
   "execution_count": null,
   "metadata": {},
   "outputs": [],
   "source": [
    "iris = sns.load_dataset(\"iris\")\n",
    "\n",
    "# Plot sepal with as a function of sepal_length across days  \n",
    "g = sns.lmplot(x=\"sepal_length\", y=\"sepal_width\", hue=\"species\",  \n",
    "               truncate=True, height=5, data=iris)  \n",
    "  \n",
    "# Use more informative axis labels than are provided by default  \n",
    "g.set_axis_labels(\"Sepal length (mm)\", \"Sepal width (mm)\");"
   ]
  },
  {
   "cell_type": "markdown",
   "metadata": {},
   "source": [
    "###  `jointplot`\n",
    "- Draw a plot of two variables with bivariate and univariate graphs."
   ]
  },
  {
   "cell_type": "code",
   "execution_count": null,
   "metadata": {},
   "outputs": [],
   "source": [
    "g = sns.jointplot(x=\"sepal_length\", y=\"sepal_width\", data=iris)"
   ]
  },
  {
   "cell_type": "code",
   "execution_count": null,
   "metadata": {},
   "outputs": [],
   "source": [
    "g = sns.jointplot(x=\"sepal_length\", y=\"sepal_width\", data=iris, \n",
    "                  kind=\"reg\", space=0, color=\"g\")"
   ]
  },
  {
   "cell_type": "markdown",
   "metadata": {},
   "source": [
    "# Useful Functions"
   ]
  },
  {
   "cell_type": "markdown",
   "metadata": {},
   "source": [
    "### `heatmap`\n",
    "\n",
    "- Plot rectangular data as a color-encoded matrix."
   ]
  },
  {
   "cell_type": "code",
   "execution_count": null,
   "metadata": {},
   "outputs": [],
   "source": [
    "uniform_data = np.random.rand(10, 12)\n",
    "ax = sns.heatmap(uniform_data)"
   ]
  },
  {
   "cell_type": "code",
   "execution_count": null,
   "metadata": {},
   "outputs": [],
   "source": [
    "sns.set()  \n",
    "  \n",
    "# Load the example flights dataset and conver to long-form  \n",
    "flights_long = sns.load_dataset(\"flights\")  \n",
    "flights = flights_long.pivot(\"month\", \"year\", \"passengers\")  \n",
    "  \n",
    "# Draw a heatmap with the numeric values in each cell  \n",
    "f, ax = plt.subplots(figsize=(11, 8))  \n",
    "sns.heatmap(flights, annot=True, fmt=\"d\", linewidths=.5, ax=ax); "
   ]
  },
  {
   "cell_type": "markdown",
   "metadata": {},
   "source": [
    "### `clustermap`\n",
    "- Plot a matrix dataset as a hierarchically-clustered heatmap."
   ]
  },
  {
   "cell_type": "code",
   "execution_count": null,
   "metadata": {},
   "outputs": [],
   "source": [
    "species = iris.pop(\"species\")\n",
    "g = sns.clustermap(iris)"
   ]
  },
  {
   "cell_type": "code",
   "execution_count": null,
   "metadata": {},
   "outputs": [],
   "source": []
  }
 ],
 "metadata": {
  "anaconda-cloud": {},
  "kernelspec": {
   "display_name": "Python 3",
   "language": "python",
   "name": "python3"
  },
  "language_info": {
   "codemirror_mode": {
    "name": "ipython",
    "version": 3
   },
   "file_extension": ".py",
   "mimetype": "text/x-python",
   "name": "python",
   "nbconvert_exporter": "python",
   "pygments_lexer": "ipython3",
   "version": "3.7.3"
  }
 },
 "nbformat": 4,
 "nbformat_minor": 1
}
