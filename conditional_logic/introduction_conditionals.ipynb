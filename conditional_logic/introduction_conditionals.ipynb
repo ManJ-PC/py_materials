{
 "cells": [
  {
   "cell_type": "markdown",
   "metadata": {
    "slideshow": {
     "slide_type": "slide"
    }
   },
   "source": [
    "![NASA](http://www.nasa.gov/sites/all/themes/custom/nasatwo/images/nasa-logo.svg)\n",
    "\n",
    "<center><h1><font size=\"+3\">GSFC Introductory Python Training</font></h1></center>"
   ]
  },
  {
   "cell_type": "markdown",
   "metadata": {
    "slideshow": {
     "slide_type": "slide"
    }
   },
   "source": [
    "# Conditional Logic\n",
    "\n",
    "---\n",
    "\n",
    "Programs are interpreted in a top-down fashion line-by-line. For most basic programs, there is only one course of action."
   ]
  },
  {
   "cell_type": "markdown",
   "metadata": {
    "slideshow": {
     "slide_type": "fragment"
    }
   },
   "source": [
    "# Sample program progression\n",
    "\n",
    "Start.\n",
    "\n",
    "Step 1.  \n",
    "Step 2.  \n",
    "Step 3.  \n",
    "\n",
    "And so on."
   ]
  },
  {
   "cell_type": "markdown",
   "metadata": {
    "slideshow": {
     "slide_type": "subslide"
    }
   },
   "source": [
    "But we want more to write more complex programs.\n",
    "\n",
    "![traffic lights](http://imgs.xkcd.com/comics/traffic_lights.gif)\n",
    "Image Credit: [http://xkcd.com/1116](http://xkcd.com/1116)"
   ]
  },
  {
   "cell_type": "markdown",
   "metadata": {
    "slideshow": {
     "slide_type": "subslide"
    }
   },
   "source": [
    "# Booleans\n",
    "\n",
    "---\n",
    "\n",
    "Either `True` or `False` represent booleans. You can also use repsectively a 1 or 0 for binary booleans."
   ]
  },
  {
   "cell_type": "markdown",
   "metadata": {
    "slideshow": {
     "slide_type": "subslide"
    }
   },
   "source": [
    "# the `if` statement\n",
    "\n",
    "---\n",
    "\n",
    "```python\n",
    "if conditional:\n",
    "    # Python statements when condition evaluates to True\n",
    "    # Indented for context\n",
    "```"
   ]
  },
  {
   "cell_type": "code",
   "execution_count": null,
   "metadata": {
    "collapsed": true,
    "slideshow": {
     "slide_type": "fragment"
    }
   },
   "outputs": [],
   "source": [
    "if 5 > 2:\n",
    "    print('This if statement is True.')"
   ]
  },
  {
   "cell_type": "markdown",
   "metadata": {
    "slideshow": {
     "slide_type": "subslide"
    }
   },
   "source": [
    "# the `if`-`else` statement\n",
    "\n",
    "---\n",
    "\n",
    "```python\n",
    "if conditional:\n",
    "    # python code\n",
    "else:\n",
    "    # python code when conditional evaluates to False\n",
    "    # again, indented for context\n",
    "```"
   ]
  },
  {
   "cell_type": "markdown",
   "metadata": {
    "slideshow": {
     "slide_type": "fragment"
    }
   },
   "source": [
    "__Note:__ You cannot have an __`else`__ statement without an __`if`__ statement."
   ]
  },
  {
   "cell_type": "markdown",
   "metadata": {},
   "source": [
    "**Example: Checking the Password**"
   ]
  },
  {
   "cell_type": "code",
   "execution_count": null,
   "metadata": {},
   "outputs": [],
   "source": [
    "# Get a password from the user.\n",
    "password = input('Enter the password: ')\n",
    "\n",
    "# Determine whether the correct password was entered.\n",
    "\n",
    "if password == 'hello':\n",
    "    print('Great, you provided the right password!')\n",
    "else:\n",
    "    print('Sorry, that is the wrong password.')"
   ]
  },
  {
   "cell_type": "markdown",
   "metadata": {
    "slideshow": {
     "slide_type": "subslide"
    }
   },
   "source": [
    "# More Choices: the `elif` statement\n",
    "\n",
    "---\n",
    "\n",
    "```python\n",
    "if conditional:\n",
    "    # python code\n",
    "elif second:\n",
    "    # python code\n",
    "elif third:\n",
    "    # python code\n",
    "# and so on\n",
    "```"
   ]
  },
  {
   "cell_type": "markdown",
   "metadata": {
    "slideshow": {
     "slide_type": "fragment"
    }
   },
   "source": [
    "__Note:__ Notice that there is no __`else`__ statement above. It is not required, but the __`else`__ statement is availble to be used if all the above conditionasl evaluate to be False."
   ]
  },
  {
   "cell_type": "markdown",
   "metadata": {},
   "source": [
    "**Example: Body Temperature**"
   ]
  },
  {
   "cell_type": "code",
   "execution_count": null,
   "metadata": {},
   "outputs": [],
   "source": [
    "# provide the temperature of the patient.\n",
    "temp = float(input('Enter the temperature of the patient: '))\n",
    "\n",
    "if temp > 105.8:\n",
    "   print('The patient has a very high fever.')\n",
    "elif temp > 103.1:\n",
    "   print('The patient has a high fever.')\n",
    "elif temp > 100.4:\n",
    "   print('The patient has fever.')\n",
    "elif temp > 97.9:\n",
    "   print('The patient is fine.')\n",
    "else:\n",
    "    print('The temperature of the patient is low.')"
   ]
  },
  {
   "cell_type": "markdown",
   "metadata": {
    "slideshow": {
     "slide_type": "subslide"
    }
   },
   "source": [
    "# Question:\n",
    "\n",
    "What python code is run in the example below?"
   ]
  },
  {
   "cell_type": "code",
   "execution_count": null,
   "metadata": {
    "collapsed": true,
    "slideshow": {
     "slide_type": "fragment"
    }
   },
   "outputs": [],
   "source": [
    "a = 5\n",
    "if a > 10:\n",
    "    print('I am greater than 10.')\n",
    "elif a == 2:\n",
    "    print('My value is equal to 2.')\n",
    "elif not True:\n",
    "    print('I do not care about value, all I know is that I am not True.')"
   ]
  },
  {
   "cell_type": "markdown",
   "metadata": {
    "slideshow": {
     "slide_type": "subslide"
    }
   },
   "source": [
    "# Conditional Testing\n",
    "\n",
    "---"
   ]
  },
  {
   "cell_type": "markdown",
   "metadata": {
    "slideshow": {
     "slide_type": "fragment"
    }
   },
   "source": [
    "There are various ways to insert booleans:\n",
    "\n",
    "- True/False\n",
    "- Variables (i.e. the value of variable)\n",
    "- Numbers (1 and greater is True; 0 is False)\n",
    "- Empty objects (you will learn more about these later; [], {}, None, '')\n",
    "- Comparisons between things:\n",
    "    - a > b\n",
    "    - a == b\n",
    "    - a >= b\n",
    "    - a != b\n",
    "    - a is b (be careful! this looks at the memory id of the object)\n",
    "    - a is not b\n",
    "    - a in b (works only in lists, strings, and other iterable objects)\n",
    "- Evaluated values (a + b)"
   ]
  },
  {
   "cell_type": "markdown",
   "metadata": {
    "slideshow": {
     "slide_type": "fragment"
    }
   },
   "source": [
    "__Note:__ When all of the conditionals are evaluated as False and there is no __`else`__ statement, nothing happens.  \n",
    "__Note:__ [Operator Precedence](http://docs.python.org/2.7/reference/expressions.html#operator-precedence)"
   ]
  },
  {
   "cell_type": "markdown",
   "metadata": {
    "slideshow": {
     "slide_type": "subslide"
    }
   },
   "source": [
    "## Breakout\n",
    "\n",
    "---\n",
    "\n",
    "We're going to create a simple traffic light with three options: Red, Yellow, and Green. Create three variables to store which lights are on. These variables will hold only True/False values, or you can get creative with the conditions you put in them.\n",
    "\n",
    "After setting the three variables, write one conditional per light to test the values of these and print out the street light as such:\n",
    "\n",
    "__Red: Off  \n",
    "Yellow: Off  \n",
    "Green: On__\n",
    "\n",
    "Don't worry about formatting either. As long as you can tell which ones are off/on, that's sufficient.\n",
    "\n",
    "It's a simple interface, but you can easily get more creative with this application.\n",
    "\n",
    "For instance, what if you named the variables top, middle, and bottom and still want to print out the color names, as before?"
   ]
  },
  {
   "cell_type": "markdown",
   "metadata": {
    "slideshow": {
     "slide_type": "subslide"
    }
   },
   "source": [
    "# Combining Conditionals\n",
    "\n",
    "---\n",
    "\n",
    "Use boolean logic combinations: __`and`__, __`or`__, __`not`__"
   ]
  },
  {
   "cell_type": "code",
   "execution_count": null,
   "metadata": {
    "collapsed": true,
    "slideshow": {
     "slide_type": "fragment"
    }
   },
   "outputs": [],
   "source": [
    "if (1 != 2) or False:\n",
    "    print('Combined logic is fun!')"
   ]
  }
 ],
 "metadata": {
  "anaconda-cloud": {},
  "celltoolbar": "Slideshow",
  "kernelspec": {
   "display_name": "Python 3",
   "language": "python",
   "name": "python3"
  },
  "language_info": {
   "codemirror_mode": {
    "name": "ipython",
    "version": 3
   },
   "file_extension": ".py",
   "mimetype": "text/x-python",
   "name": "python",
   "nbconvert_exporter": "python",
   "pygments_lexer": "ipython3",
   "version": "3.7.3"
  }
 },
 "nbformat": 4,
 "nbformat_minor": 1
}
