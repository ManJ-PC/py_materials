{
 "cells": [
  {
   "cell_type": "markdown",
   "metadata": {
    "id": "_TBnF5Vu_BH1"
   },
   "source": [
    "<font color=\"white\">.</font> | <font color=\"white\">.</font> | <font color=\"white\">.</font>\n",
    "-- | -- | --\n",
    "![NASA](http://www.nasa.gov/sites/all/themes/custom/nasatwo/images/nasa-logo.svg) | <h1><font size=\"+3\">ASTG Python Courses</font></h1> | ![NASA](https://www.nccs.nasa.gov/sites/default/files/NCCS_Logo_0.png)\n",
    "\n",
    "---\n",
    "\n",
    "<CENTER>\n",
    "<H1 style=\"color:red\">\n",
    "Introduction to Object Oriented Programming (OOP)\n",
    "</H1>\n",
    "</CENTER>\n"
   ]
  },
  {
   "cell_type": "markdown",
   "metadata": {
    "id": "oBCr_Xgn_BH8"
   },
   "source": [
    "---"
   ]
  },
  {
   "cell_type": "markdown",
   "metadata": {
    "id": "XzeL36m7_BIO"
   },
   "source": [
    "# Breakout Problem 1\n",
    "\n",
    "<img src=http://www.analyzemath.com/Geometry_calculators/irregular_polygon_1.gif>\n",
    "\n",
    "Calculate the perimeter (and, if you are up for it, the area) of a polygon provided the vector coordinates (in order) of its N vertices. Hint: Sum over distance between adjacent points, where d =\n",
    "math.sqrt( $ \\delta x^2 + \\delta y^2 $) ."
   ]
  },
  {
   "cell_type": "markdown",
   "metadata": {
    "id": "ITyz1qSA_BIO"
   },
   "source": [
    "```python\n",
    "a = Polygon([[0,0], [0,1], [1,1], [1,0]])\n",
    "a.perimeter()\n",
    "  4.0\n",
    "a.area()\n",
    "  1.0\n",
    "b = Polygon([[0,-2],[1,1],[3,3],[5,1],[4,0],[4,-3]])\n",
    "b.perimeter()\n",
    "  17.356451097651515\n",
    "```"
   ]
  },
  {
   "cell_type": "code",
   "execution_count": null,
   "metadata": {
    "id": "9bDVXH6CN9r0"
   },
   "outputs": [],
   "source": [
    "import math\n",
    "\n",
    "class Polygon:\n",
    "    def __init__(self, list_points):\n",
    "        \"\"\"\n",
    "          list_points: list of lists where the innner lists are\n",
    "                    pairs of floating point numbers.\n",
    "        \"\"\"\n",
    "        self.points = list_points\n",
    "\n",
    "    def perimeter(self):\n",
    "        \"\"\"\n",
    "          Compute the perimeter of a polygon.\n",
    "        \"\"\"\n",
    "        p = 0.0\n",
    "        n = -4\n",
    "        for i in range(n, len(self.points)+n):\n",
    "            print(i, self.points[i], self.points[i+1])\n",
    "            p += math.sqrt((self.points[i][0]-self.points[i+1][0])**2 + \n",
    "                  (self.points[i][1]-self.points[i+1][1])**2)\n",
    "        return p"
   ]
  },
  {
   "cell_type": "code",
   "execution_count": null,
   "metadata": {
    "id": "oH1L5ZF1QlAB"
   },
   "outputs": [],
   "source": [
    "a = Polygon(((0,0), (0,1), (1,1), (1,0)))"
   ]
  },
  {
   "cell_type": "code",
   "execution_count": null,
   "metadata": {
    "colab": {
     "base_uri": "https://localhost:8080/"
    },
    "id": "ZhCxeycgN8pM",
    "outputId": "f3e93e68-cd36-4001-b892-ab7589250940"
   },
   "outputs": [],
   "source": [
    "a.perimeter()"
   ]
  },
  {
   "cell_type": "code",
   "execution_count": null,
   "metadata": {
    "colab": {
     "base_uri": "https://localhost:8080/"
    },
    "id": "ZQtougd9RL5J",
    "outputId": "9e3d9abf-af11-4e96-a8b8-6dc9e947d13a"
   },
   "outputs": [],
   "source": [
    "b = Polygon([[0,-2],[1,1],[3,3],[5,1],[4,0],[4,-3]])\n",
    "b.perimeter()"
   ]
  },
  {
   "cell_type": "markdown",
   "metadata": {
    "id": "yqNA3mJ8_BIV"
   },
   "source": [
    "# Breakout Problem 2\n",
    "\n",
    "- Create a class `Planet` which is initialized with `name` (public), `distance to the Sun` (private), \n",
    "- Add two private variables `number of moons` and `number of Earth years it orbits the Sun` that are set after initialization.\n",
    "- Have a method that prints all the characteristics of an instance of `Planet`.\n",
    "- Also write a program that inputs the user's Earth age and prints out their age on a planet using the formula:\n",
    "\n",
    "      age_planet = (age_earth * 365) / earth_days_planet_orbits_sun\n",
    "\n",
    "Sample planets:\n",
    "\n",
    "- `Saturn`\n",
    "    - Distance to the Sun: 886 million miles\n",
    "    - Number of moons: 53\n",
    "    - Number of Earth years to orbit the Sun: 29\n",
    "- `Jupiter`\n",
    "    - Distance to the Sun: 484 million miles\n",
    "    - Number of moons: 75\n",
    "    - Number of Earth years to orbit the Sun: 12"
   ]
  },
  {
   "cell_type": "code",
   "execution_count": null,
   "metadata": {
    "id": "4kA0y1rGboI0"
   },
   "outputs": [],
   "source": [
    "class Planet():\n",
    "     def __init__(self, name, dist_to_sun):\n",
    "         self.name = name\n",
    "         self.__distance_to_sun = dist_to_sun\n",
    "         self.__num_orbit_years = None\n",
    "         #self.__num_moons = None\n",
    "\n",
    "     def set_num_moons(self, new_num_moons):\n",
    "         self.__num_moons = new_num_moons \n",
    "\n",
    "     def set_num_orbit_years(self, num_orbit_years):\n",
    "         self.__num_orbit_years = num_orbit_years \n",
    "\n",
    "     def update_distance(self, dist_to_sun):\n",
    "         self.__distance_to_sun = dist_to_sun\n",
    "    \n",
    "     def print_info(self):\n",
    "         print(\"{}: {}\".format(\"Planet Name\", self.name))\n",
    "         print(\"\\t {}: {} million miles\".format(\"Distance to Sun\", self.__distance_to_sun))\n",
    "         if hasattr(self, \"_Planet__num_moons\"):\n",
    "            #if self.__num_moons:\n",
    "            print(\"\\t Number of moons: {}\".format(self.__num_moons))\n",
    "         if self.__num_orbit_years:\n",
    "            print(\"\\t Number of Earth years to orbit the Sun: {}\".format(self.__num_orbit_years))\n",
    "\n",
    "     def compute_age_planet(self, age_earth):\n",
    "         return (age_earth * 365.0) / self.__num_orbit_years     \n",
    "\n",
    "     def get_num_moons(self):\n",
    "         return self.__num_moons "
   ]
  },
  {
   "cell_type": "code",
   "execution_count": null,
   "metadata": {
    "colab": {
     "base_uri": "https://localhost:8080/"
    },
    "id": "iRKN28hzdel_",
    "outputId": "26a62a33-aa47-43fa-97dc-112da5834ae9"
   },
   "outputs": [],
   "source": [
    "a = Planet(\"Saturn\", 886)\n",
    "a.set_num_moons(53)\n",
    "a.set_num_orbit_years(29)\n",
    "a.print_info()"
   ]
  },
  {
   "cell_type": "code",
   "execution_count": null,
   "metadata": {
    "colab": {
     "base_uri": "https://localhost:8080/",
     "height": 164
    },
    "id": "e8pVb8vkm6L1",
    "outputId": "73367d1e-f332-436a-c3b8-813432b2bad9"
   },
   "outputs": [],
   "source": [
    "a.__distance_to_sun"
   ]
  },
  {
   "cell_type": "code",
   "execution_count": null,
   "metadata": {
    "id": "ZfSdN8HNm5oZ"
   },
   "outputs": [],
   "source": []
  },
  {
   "cell_type": "code",
   "execution_count": null,
   "metadata": {
    "colab": {
     "base_uri": "https://localhost:8080/"
    },
    "id": "cwfVJYJzjtvM",
    "outputId": "9c20904f-c676-4af2-8928-92508b7ec38f"
   },
   "outputs": [],
   "source": [
    "a.compute_age_planet(110)"
   ]
  },
  {
   "cell_type": "code",
   "execution_count": null,
   "metadata": {
    "colab": {
     "base_uri": "https://localhost:8080/"
    },
    "id": "42Oh41sQkR1Y",
    "outputId": "0255a2c8-b1c8-46b1-b510-1a41ee2cbd4a"
   },
   "outputs": [],
   "source": [
    "dir(a)"
   ]
  },
  {
   "cell_type": "code",
   "execution_count": null,
   "metadata": {
    "colab": {
     "base_uri": "https://localhost:8080/"
    },
    "id": "agUgZmxKfKs0",
    "outputId": "dfeefd06-25c8-4dd9-c7dd-f924acf56366"
   },
   "outputs": [],
   "source": [
    "b = Planet(\"Jupiter\", 484)\n",
    "b.print_info()"
   ]
  },
  {
   "cell_type": "code",
   "execution_count": null,
   "metadata": {
    "colab": {
     "base_uri": "https://localhost:8080/"
    },
    "id": "hs_jp_SkkrR3",
    "outputId": "2938063f-61cd-4c61-f81e-1c2e8002c20b"
   },
   "outputs": [],
   "source": [
    "hasattr(a, '__num_moons')"
   ]
  },
  {
   "cell_type": "code",
   "execution_count": null,
   "metadata": {
    "colab": {
     "base_uri": "https://localhost:8080/"
    },
    "id": "MdhpEMpwkcDe",
    "outputId": "f488273b-ac72-4a50-d36b-68ab82081bec"
   },
   "outputs": [],
   "source": [
    "dir(b)"
   ]
  }
 ],
 "metadata": {
  "colab": {
   "name": "introduction_oop.ipynb",
   "provenance": []
  },
  "kernelspec": {
   "display_name": "Python 3",
   "language": "python",
   "name": "python3"
  },
  "language_info": {
   "codemirror_mode": {
    "name": "ipython",
    "version": 3
   },
   "file_extension": ".py",
   "mimetype": "text/x-python",
   "name": "python",
   "nbconvert_exporter": "python",
   "pygments_lexer": "ipython3",
   "version": "3.7.3"
  }
 },
 "nbformat": 4,
 "nbformat_minor": 1
}
