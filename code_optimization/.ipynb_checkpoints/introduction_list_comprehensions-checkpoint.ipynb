{
 "cells": [
  {
   "cell_type": "markdown",
   "metadata": {},
   "source": [
    "![NASA](http://www.nasa.gov/sites/all/themes/custom/nasatwo/images/nasa-logo.svg)\n",
    "\n",
    "<center>\n",
    "<h1><font size=\"+3\">GSFC Python Bootcamp</font></h1>\n",
    "</center>\n",
    "\n",
    "---\n",
    "\n",
    "<CENTER>\n",
    "<H1 style=\"color:red\">\n",
    "List Comprehension and More\n",
    "</H1>\n",
    "</CENTER>"
   ]
  },
  {
   "cell_type": "code",
   "execution_count": null,
   "metadata": {},
   "outputs": [],
   "source": [
    "from __future__ import print_function"
   ]
  },
  {
   "cell_type": "markdown",
   "metadata": {},
   "source": [
    "## <font color='red'>What will be Covered?</font>"
   ]
  },
  {
   "cell_type": "markdown",
   "metadata": {},
   "source": [
    "<OL>\n",
    "<LI> List Comprehension\n",
    "<LI> Lambda Function\n",
    "<LI> Exception Handling\n",
    "</OL>"
   ]
  },
  {
   "cell_type": "markdown",
   "metadata": {},
   "source": [
    "## <font color='red'>Reference Documents</font>"
   ]
  },
  {
   "cell_type": "markdown",
   "metadata": {},
   "source": [
    "<OL>\n",
    "<LI> <A HREF=\"http://www.pythonforbeginners.com/basics/list-comprehensions-in-python\">List Comprehensions in Python</A>\n",
    "<LI> <A HREF=\"http://howchoo.com/g/ngi2zddjzdf/how-to-use-list-comprehension-in-python\">Learn Python List Comprehensions by Example</A>\n",
    "<LI> <A HREF=\"http://www.u.arizona.edu/~erdmann/mse350/topics/list_comprehensions.html\">Map, Filter, Lambda, and List Comprehensions in Python</A>\n",
    "</OL>"
   ]
  },
  {
   "cell_type": "markdown",
   "metadata": {},
   "source": [
    "## <font color='red'>List Comprehension</font>"
   ]
  },
  {
   "cell_type": "markdown",
   "metadata": {},
   "source": [
    "<UL>\n",
    "<LI> Provides a concise way to create lists.\n",
    "<LI> Consists of brackets containing an expression followed by a for clause, then\n",
    "zero or more for or if clauses. The expressions can be anything, meaning you can\n",
    "put in all kinds of objects in lists\n",
    "<LI> The result will be a new list resulting from evaluating the expression in the\n",
    "context of the for and if clauses which follow it. \n",
    "<LI> Aways returns a result list. \n",
    "</UL>"
   ]
  },
  {
   "cell_type": "markdown",
   "metadata": {},
   "source": [
    "#### If you used to do it like this:"
   ]
  },
  {
   "cell_type": "markdown",
   "metadata": {},
   "source": [
    "```python\n",
    "new_list = []\n",
    "for i in old_list:\n",
    "    if filter(i):\n",
    "       new_list.append(expressions(i))\n",
    "```\n",
    "\n",
    "You can obtain the same thing using list comprehension:\n",
    "\n",
    "```python\n",
    "new_list = [expression(i) for i in old_list if filter(i)]\n",
    "```"
   ]
  },
  {
   "cell_type": "markdown",
   "metadata": {},
   "source": [
    "#### Syntax\n",
    "\n",
    "The list comprehension starts with a `[` and `]`, to help you remember that the\n",
    "result is going to be a list.\n",
    "\n",
    "The basic syntax is:\n",
    "\n",
    "```python\n",
    "[ expression for item in list if conditional ]\n",
    "```\n",
    "\n",
    "This is equivalent to:\n",
    "\n",
    "```python\n",
    "for item in list:\n",
    "    if conditional:\n",
    "        expression\n",
    "```\n",
    "\n",
    "Here is what it does:\n",
    "\n",
    "```python\n",
    "new_list = [expression(i) for i in old_list if filter(i)]\n",
    "```\n"
   ]
  },
  {
   "cell_type": "markdown",
   "metadata": {},
   "source": [
    "### Examples"
   ]
  },
  {
   "cell_type": "code",
   "execution_count": null,
   "metadata": {},
   "outputs": [],
   "source": [
    "x = [i for i in range(10)]\n",
    "print(x)"
   ]
  },
  {
   "cell_type": "code",
   "execution_count": null,
   "metadata": {},
   "outputs": [],
   "source": [
    "# You can either use loops:\n",
    "squares = []\n",
    "\n",
    "for x in range(10):\n",
    "    squares.append(x**2)\n",
    " \n",
    "print (squares)\n",
    "\n",
    "# Or you can use list comprehensions to get the same result:\n",
    "squares = [x**2 for x in range(10)]\n",
    "\n",
    "print (squares)"
   ]
  },
  {
   "cell_type": "code",
   "execution_count": null,
   "metadata": {},
   "outputs": [],
   "source": [
    "string = \"Hello 12345 World\"\n",
    "numbers = [x for x in string if x.isdigit()]\n",
    "print (numbers)"
   ]
  },
  {
   "cell_type": "code",
   "execution_count": null,
   "metadata": {},
   "outputs": [],
   "source": [
    "# Create a function and name it double:\n",
    "def double(x):\n",
    "  return x*2\n",
    "\n",
    "# If you now just print that function with a value in it, it should look like this:\n",
    "print double(10)\n",
    "\n",
    "A = [double(x) for x in range(10)]\n",
    "print (A)\n",
    "\n",
    "# You can put in conditions:\n",
    "B = [double(x) for x in range(10) if x%2==0]\n",
    "print (B)\n",
    "\n",
    "# You can add more arguments:\n",
    "C = [x+y for x in [10,30,50] for y in [20,40,60]]\n",
    "print (C)"
   ]
  },
  {
   "cell_type": "code",
   "execution_count": null,
   "metadata": {},
   "outputs": [],
   "source": [
    "#List comprehensions can contain complex expressions and nested functions:\n",
    "from math import pi\n",
    "D = [str(round(pi, i)) for i in range(1, 6)]\n",
    "print (D)"
   ]
  },
  {
   "cell_type": "code",
   "execution_count": null,
   "metadata": {},
   "outputs": [],
   "source": [
    "# Calculation of the prime numbers between 1 and 100 using the sieve of Eratosthenes:\n",
    "n = 100\n",
    "\n",
    "# Without List Comprehension\n",
    "#---------------------------\n",
    "noprimes = [] \n",
    "for i in range(2, 8): \n",
    "    for j in range(i*2, n, i): \n",
    "        noprimes.append(j) \n",
    "primes = [] \n",
    "for x in range(2, n): \n",
    "    if x not in noprimes: \n",
    "        primes.append(x)\n",
    "\n",
    "# With List Comprehension\n",
    "#------------------------\n",
    "noprimes = [j for i in range(2, 8) for j in range(i*2, n, i)]\n",
    "primes = [x for x in range(2, n) if x not in noprimes]\n",
    "print (primes)"
   ]
  },
  {
   "cell_type": "markdown",
   "metadata": {},
   "source": [
    "### <u>Problem 1</u>"
   ]
  },
  {
   "cell_type": "code",
   "execution_count": null,
   "metadata": {},
   "outputs": [],
   "source": [
    "# We want to simulate a series of coin tosses where 0 is heads and 1 is tails.\n",
    "from random import random\n",
    "n = 10\n",
    "results = [] \n",
    "for x in range(n): \n",
    "    results.append(int(round(random())))"
   ]
  },
  {
   "cell_type": "markdown",
   "metadata": {},
   "source": [
    "Use a list comprehension to make it more concise."
   ]
  },
  {
   "cell_type": "markdown",
   "metadata": {},
   "source": [
    "### <u>Problem 2</u>"
   ]
  },
  {
   "cell_type": "markdown",
   "metadata": {},
   "source": [
    "Use list comprehension to remove all the vowels from the sentence"
   ]
  },
  {
   "cell_type": "code",
   "execution_count": null,
   "metadata": {},
   "outputs": [],
   "source": [
    "sentence = \"The GFSC Python Bootcamp is a great opportunity to learn Python programming.\"\n",
    "vowels = 'aeiou' "
   ]
  },
  {
   "cell_type": "markdown",
   "metadata": {},
   "source": [
    "## <font color='red'>Lambda, Filter, Reduce and Map</font>"
   ]
  },
  {
   "cell_type": "markdown",
   "metadata": {},
   "source": [
    "<UL>\n",
    "<LI> The lambda operator or lambda function is a way to create small anonymous functions.\n",
    "<LI> These functions are throw-away functions, i.e. they are just needed where they have been created.\n",
    "<LI> Lambda functions are mainly used in combination with the functions filter(), map() and reduce().\n",
    "</UL>"
   ]
  },
  {
   "cell_type": "markdown",
   "metadata": {},
   "source": [
    "### Basic Syntax of a Lambda Function"
   ]
  },
  {
   "cell_type": "code",
   "execution_count": null,
   "metadata": {},
   "outputs": [],
   "source": [
    "lambda argument_list: expression \n",
    "\n",
    "# The argument list consists of a comma separated list of arguments and \n",
    "# the expression is an arithmetic expression using these arguments."
   ]
  },
  {
   "cell_type": "code",
   "execution_count": null,
   "metadata": {},
   "outputs": [],
   "source": [
    "f = lambda x, y : x + y\n",
    "f(2,1)"
   ]
  },
  {
   "cell_type": "markdown",
   "metadata": {},
   "source": [
    "### Lambda as macro"
   ]
  },
  {
   "cell_type": "code",
   "execution_count": null,
   "metadata": {},
   "outputs": [],
   "source": [
    "line1 = \"A cat, a dog  \"\n",
    "line2 = \"  a bird, a mountain\"\n",
    "\n",
    "# Use X as an alias for two methods.\n",
    "x = lambda s: s.strip().upper()\n",
    "\n",
    "# Call the lambda to shorten the program's source.\n",
    "line1b = x(line1)\n",
    "line2b = x(line2)\n",
    "\n",
    "print(line1b)\n",
    "print(line2b)"
   ]
  },
  {
   "cell_type": "markdown",
   "metadata": {},
   "source": [
    "### Map Function"
   ]
  },
  {
   "cell_type": "markdown",
   "metadata": {},
   "source": [
    "`map()` is a function with two arguments: "
   ]
  },
  {
   "cell_type": "code",
   "execution_count": null,
   "metadata": {},
   "outputs": [],
   "source": [
    "r = map(func, seq)"
   ]
  },
  {
   "cell_type": "markdown",
   "metadata": {},
   "source": [
    "The first argument func is the name of a function and \n",
    "the second a sequence (e.g. a list) seq. map() applies \n",
    "the function func to all the elements of the sequence seq. \n",
    "It returns a new list with the elements changed by func"
   ]
  },
  {
   "cell_type": "code",
   "execution_count": null,
   "metadata": {},
   "outputs": [],
   "source": [
    "def fahrenheit(T):\n",
    "    return ((float(9)/5)*T + 32)\n",
    "def celsius(T):\n",
    "    return (float(5)/9)*(T-32)\n",
    "temp = (36.5, 37, 37.5,39)\n",
    "\n",
    "F = map(fahrenheit, temp)\n",
    "print (F)\n",
    "C = map(celsius, F)\n",
    "print (C)"
   ]
  },
  {
   "cell_type": "code",
   "execution_count": null,
   "metadata": {},
   "outputs": [],
   "source": [
    "# map() can be applied to more than one list. \n",
    "# The lists have to have the same length.\n",
    "a = [1,2,3,4]\n",
    "b = [17,12,11,10]\n",
    "c = [-1,-4,5,9]\n",
    "map(lambda x,y:x+y, a,b)\n",
    "\n",
    "map(lambda x,y,z:x+y+z, a,b,c)\n",
    "\n",
    "map(lambda x,y,z:x+y-z, a,b,c)"
   ]
  },
  {
   "cell_type": "markdown",
   "metadata": {},
   "source": [
    "### <u>Problem 3</u>"
   ]
  },
  {
   "cell_type": "code",
   "execution_count": null,
   "metadata": {},
   "outputs": [],
   "source": [
    "words = 'The quick brown fox jumps over the lazy dog'.split()\n",
    "print words\n",
    "stuff = []\n",
    "for w in words:\n",
    "    stuff.append([w.upper(), w.lower(), len(w)])\n",
    "\n",
    "for i in stuff:\n",
    "    print (i)"
   ]
  },
  {
   "cell_type": "markdown",
   "metadata": {},
   "source": [
    "Use list comprehension and lambda/map function to define stuff."
   ]
  },
  {
   "cell_type": "markdown",
   "metadata": {},
   "source": [
    "### Filter Function"
   ]
  },
  {
   "cell_type": "markdown",
   "metadata": {},
   "source": [
    "The function `filter(func, iterableType)` offers an elegant way to \n",
    "filter out all the elements of any iterable type (list, tuple, string, etc.), for which the function func returns True. "
   ]
  },
  {
   "cell_type": "code",
   "execution_count": null,
   "metadata": {},
   "outputs": [],
   "source": [
    "fib = [0,1,1,2,3,5,8,13,21,34,55]\n",
    "result = filter(lambda x: x % 2, fib)\n",
    "print (result)\n",
    "\n",
    "result = filter(lambda x: x % 2 == 0, fib)\n",
    "print (result)"
   ]
  },
  {
   "cell_type": "markdown",
   "metadata": {},
   "source": [
    "### <u>Problem 4</u>"
   ]
  },
  {
   "cell_type": "markdown",
   "metadata": {},
   "source": [
    "Use the filter function to remove all the vowels from the sentence"
   ]
  },
  {
   "cell_type": "code",
   "execution_count": null,
   "metadata": {},
   "outputs": [],
   "source": [
    "sentence = \"The LRC Python Training is a great opportunity to learn Python programming.\"\n",
    "vowels = 'aeiou' "
   ]
  },
  {
   "cell_type": "markdown",
   "metadata": {},
   "source": [
    "### Reduce Function"
   ]
  },
  {
   "cell_type": "markdown",
   "metadata": {},
   "source": [
    "The function <B>reduce(func, seq)</B> continually applies the function func() to the sequence seq. It returns a single value. "
   ]
  },
  {
   "cell_type": "markdown",
   "metadata": {},
   "source": [
    "#### Syntax"
   ]
  },
  {
   "cell_type": "code",
   "execution_count": null,
   "metadata": {},
   "outputs": [],
   "source": [
    "def reduce( aFunction, aSequence, init= 0 ):\n",
    "    r= init\n",
    "    for s in aSequence:\n",
    "        r= aFunction( r, s )\n",
    "    return r"
   ]
  },
  {
   "cell_type": "markdown",
   "metadata": {},
   "source": [
    "#### Examples"
   ]
  },
  {
   "cell_type": "code",
   "execution_count": null,
   "metadata": {},
   "outputs": [],
   "source": [
    "A = reduce(lambda x,y: x+y, [47,11,42,13])\n",
    "print (A)\n",
    "\n",
    "# Determining the maximum of a list of numerical values by using reduce\n",
    "f = lambda a,b: a if (a > b) else b\n",
    "B = reduce(f, [47,11,42,102,13])\n",
    "print (B)\n",
    "\n",
    "# Calculating the sum of the numbers from 1 to n: \n",
    "n = 300\n",
    "C = reduce(lambda x, y: x+y, range(1,n+1))\n",
    "print (C)"
   ]
  },
  {
   "cell_type": "code",
   "execution_count": null,
   "metadata": {},
   "outputs": [],
   "source": [
    "def x100y(x,y):\n",
    "    return 100*x+y\n",
    "\n",
    "reduce(x100y, [13])\n",
    "reduce(x100y, [2, 5, 9])\n",
    "reduce(x100y, [2, 5, 9], 7)"
   ]
  },
  {
   "cell_type": "markdown",
   "metadata": {},
   "source": [
    "### <u>Problem 5</u>"
   ]
  },
  {
   "cell_type": "markdown",
   "metadata": {},
   "source": [
    "Use the reduce function to find the produc of all the entries in the list\n",
    "[47,11,42,102,13]"
   ]
  }
 ],
 "metadata": {
  "kernelspec": {
   "display_name": "Python 3",
   "language": "python",
   "name": "python3"
  },
  "language_info": {
   "codemirror_mode": {
    "name": "ipython",
    "version": 3
   },
   "file_extension": ".py",
   "mimetype": "text/x-python",
   "name": "python",
   "nbconvert_exporter": "python",
   "pygments_lexer": "ipython3",
   "version": "3.7.3"
  }
 },
 "nbformat": 4,
 "nbformat_minor": 1
}
