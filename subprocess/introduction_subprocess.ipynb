{
 "cells": [
  {
   "cell_type": "markdown",
   "metadata": {},
   "source": [
    "# The subprocess Module"
   ]
  },
  {
   "cell_type": "markdown",
   "metadata": {},
   "source": [
    "## What Will be Covered?"
   ]
  },
  {
   "cell_type": "markdown",
   "metadata": {},
   "source": [
    "<OL>\n",
    "<LI> Introduction (http://sharats.me/the-ever-useful-and-neat-subprocess-module.html)\n",
    "<LI> Simple Usage\n",
    "<LI> Popen Class\n",
    "<LI> Running via Shell\n",
    "<LI> Getting the Return Code\n",
    "<LI> IO Streams\n",
    "<LI> Replacing the Shell Pipeline\n",
    "<LI> Passing Environment Variables\n",
    "<LI> Killing Processes\n",
    "<LI> Examples\n",
    "    <UL>\n",
    "    <LI> Interacting with another command\n",
    "    <LI> Ping command and display back its output\n",
    "    </UL>\n",
    "</OL>"
   ]
  },
  {
   "cell_type": "markdown",
   "metadata": {},
   "source": [
    "## Introduction"
   ]
  },
  {
   "cell_type": "markdown",
   "metadata": {},
   "source": [
    "<UL>\n",
    "<LI> Allow to spawn new processes\n",
    "<LI> Connect to the processes input/output/error pipes\n",
    "<LI> Obtain the processes return codes\n",
    "<LI> Good substitute for the modules <b>os</b> (system, popen, spawn), <b>popens</b>, and <b>commands</b>\n",
    "</UL>"
   ]
  },
  {
   "cell_type": "markdown",
   "metadata": {},
   "source": [
    "## Simple Usage"
   ]
  },
  {
   "cell_type": "code",
   "execution_count": null,
   "metadata": {},
   "outputs": [],
   "source": [
    "import subprocess"
   ]
  },
  {
   "cell_type": "code",
   "execution_count": null,
   "metadata": {},
   "outputs": [],
   "source": [
    "ls_output = subprocess.check_output(['ls'])"
   ]
  },
  {
   "cell_type": "code",
   "execution_count": null,
   "metadata": {},
   "outputs": [],
   "source": [
    "subprocess.check_output(['ls', '-l'])"
   ]
  },
  {
   "cell_type": "markdown",
   "metadata": {},
   "source": [
    "* The first item in the list is the executable and the rest are its command line arguments. \n",
    "* The following won't work because | (pipe) is not an argument of ls."
   ]
  },
  {
   "cell_type": "code",
   "execution_count": null,
   "metadata": {},
   "outputs": [],
   "source": [
    "subprocess.check_output(['ls', '|', 'wc', '-l'])"
   ]
  },
  {
   "cell_type": "markdown",
   "metadata": {},
   "source": [
    "## Popen Class"
   ]
  },
  {
   "cell_type": "markdown",
   "metadata": {},
   "source": [
    "<UL>\n",
    "<LI> Main subprocess class\n",
    "<LI> Internally used by the call, check_output and check_call classes.\n",
    "</UL>"
   ]
  },
  {
   "cell_type": "code",
   "execution_count": null,
   "metadata": {},
   "outputs": [],
   "source": [
    "# Syntax\n",
    "class subprocess.Popen(args, bufsize=0, executable=None, \n",
    "                       stdin=None, stdout=None, stderr=None, \n",
    "                       preexec_fn=None, close_fds=False, shell=False,\n",
    "                       cwd=None, env=None, universal_newlines=False, \n",
    "                       startupinfo=None, creationflags=0)"
   ]
  },
  {
   "cell_type": "markdown",
   "metadata": {},
   "source": [
    "## Running via the Shell"
   ]
  },
  {
   "cell_type": "code",
   "execution_count": null,
   "metadata": {},
   "outputs": [],
   "source": [
    "subprocess.call('echo $HOME', shell=True)"
   ]
  },
  {
   "cell_type": "code",
   "execution_count": null,
   "metadata": {},
   "outputs": [],
   "source": [
    "subprocess.call('ls | wc -l', shell=True)"
   ]
  },
  {
   "cell_type": "markdown",
   "metadata": {},
   "source": [
    "* If we do not set shell=True, it will be assumed that `ls` is an executable and it will not work."
   ]
  },
  {
   "cell_type": "code",
   "execution_count": null,
   "metadata": {},
   "outputs": [],
   "source": [
    "subprocess.call('ls -l')"
   ]
  },
  {
   "cell_type": "markdown",
   "metadata": {},
   "source": [
    "* However, if args is a list, then the first item in this list is considered as the executable and the rest of the items in the list are passed as command line arguments to the program."
   ]
  },
  {
   "cell_type": "code",
   "execution_count": null,
   "metadata": {},
   "outputs": [],
   "source": [
    "subprocess.call(['ls', '-l'])"
   ]
  },
  {
   "cell_type": "code",
   "execution_count": null,
   "metadata": {},
   "outputs": [],
   "source": [
    "subprocess.call('ls -l', shell=True)"
   ]
  },
  {
   "cell_type": "code",
   "execution_count": null,
   "metadata": {},
   "outputs": [],
   "source": [
    "subprocess.call(['ls', '-l'], shell=True)"
   ]
  },
  {
   "cell_type": "markdown",
   "metadata": {},
   "source": [
    "A more realistic example will look like:"
   ]
  },
  {
   "cell_type": "code",
   "execution_count": null,
   "metadata": {},
   "outputs": [],
   "source": [
    "import sys\n",
    "mycmd = 'ls'\n",
    "myarg = ' -lrt'\n",
    "try:\n",
    "    retcode = subprocess.call(mycmd + myarg, shell=True)\n",
    "    if retcode < 0:\n",
    "        print(sys.stderr, \"Child was terminated by signal\", -retcode)\n",
    "    else:\n",
    "        print(sys.stderr, \"Child returned\", retcode)\n",
    "except OSError as e:\n",
    "    print(sys.stderr, \"Execution failed:\", e)"
   ]
  },
  {
   "cell_type": "markdown",
   "metadata": {},
   "source": [
    "## Getting the Return Code"
   ]
  },
  {
   "cell_type": "markdown",
   "metadata": {},
   "source": [
    "* The moment the `Popen` class is instantiated, the command starts running. \n",
    "* You can wait for it and after its done, access the return code via the returncode attribute."
   ]
  },
  {
   "cell_type": "code",
   "execution_count": null,
   "metadata": {},
   "outputs": [],
   "source": [
    "proc = subprocess.Popen('ls')\n",
    "proc.wait()\n",
    "print(proc.returncode)"
   ]
  },
  {
   "cell_type": "markdown",
   "metadata": {},
   "source": [
    "## IO Streams"
   ]
  },
  {
   "cell_type": "markdown",
   "metadata": {},
   "source": [
    "The simplest way to get the output of a command is to use the `check_output` function:"
   ]
  },
  {
   "cell_type": "code",
   "execution_count": null,
   "metadata": {},
   "outputs": [],
   "source": [
    "output = subprocess.check_output('ls')\n",
    "print(output)"
   ]
  },
  {
   "cell_type": "markdown",
   "metadata": {},
   "source": [
    "To obtain the standard `error/output`, use:"
   ]
  },
  {
   "cell_type": "code",
   "execution_count": null,
   "metadata": {},
   "outputs": [],
   "source": [
    "p = subprocess.Popen('ls', shell=True,\n",
    "            stdout=subprocess.PIPE,\n",
    "            stderr=subprocess.STDOUT)\n",
    "(output, error) = p.communicate()\n",
    "print('\\nwrite:')\n",
    "print(\"\\toutput: \", output)\n",
    "print(\"\\terror:  \", error)"
   ]
  },
  {
   "cell_type": "markdown",
   "metadata": {},
   "source": [
    "## Replacing Shell Pipeline"
   ]
  },
  {
   "cell_type": "code",
   "execution_count": null,
   "metadata": {},
   "outputs": [],
   "source": [
    "output = \"ls | wc -l\""
   ]
  },
  {
   "cell_type": "code",
   "execution_count": null,
   "metadata": {},
   "outputs": [],
   "source": [
    "first_proc = subprocess.Popen(['ls'], stdout=subprocess.PIPE)\n",
    "sec_proc   = subprocess.Popen(['wc', '-l'], stdin=first_proc.stdout, \n",
    "                      stdout=subprocess.PIPE)\n",
    "# Allow first_proc to receive a SIGPIPE if sec_proc exits.\n",
    "first_proc.stdout.close()  \n",
    "output = sec_proc.communicate()[0]\n",
    "print(output)"
   ]
  },
  {
   "cell_type": "code",
   "execution_count": null,
   "metadata": {},
   "outputs": [],
   "source": [
    "output = subprocess.check_output(\"ls | wc -l\", shell=True)\n",
    "print(output)"
   ]
  },
  {
   "cell_type": "markdown",
   "metadata": {},
   "source": [
    "Show the names and login times of the currently logged in users"
   ]
  },
  {
   "cell_type": "code",
   "execution_count": null,
   "metadata": {},
   "outputs": [],
   "source": [
    "# who | cut -c 1-16,26-38 \n",
    "first_proc = subprocess.Popen(['who'], stdout=subprocess.PIPE)\n",
    "sec_proc = subprocess.Popen(['cut', '-c', '1-16,26-38'], \n",
    "                      stdin=first_proc.stdout, stdout=subprocess.PIPE)\n",
    "# Allow first_proc to receive a SIGPIPE if sec_proc exits.\n",
    "first_proc.stdout.close()  \n",
    "output = sec_proc.communicate()[0]\n",
    "print(output)"
   ]
  },
  {
   "cell_type": "markdown",
   "metadata": {},
   "source": [
    "## Passing Environment Variables"
   ]
  },
  {
   "cell_type": "markdown",
   "metadata": {},
   "source": [
    "* The env argument to Popen lets you customize the environment of the command being run. \n",
    "* You can add your own environment settings to existing ones:"
   ]
  },
  {
   "cell_type": "code",
   "execution_count": null,
   "metadata": {},
   "outputs": [],
   "source": [
    "new_env = os.environ.copy()\n",
    "new_env['MEGAVARIABLE'] = 'MEGAVALUE'\n",
    "p = Popen('command', env=new_env)"
   ]
  },
  {
   "cell_type": "markdown",
   "metadata": {},
   "source": [
    "## Killing Processes"
   ]
  },
  {
   "cell_type": "code",
   "execution_count": null,
   "metadata": {},
   "outputs": [],
   "source": [
    "proc.terminate()"
   ]
  },
  {
   "cell_type": "code",
   "execution_count": null,
   "metadata": {},
   "outputs": [],
   "source": [
    "proc.kill()"
   ]
  },
  {
   "cell_type": "markdown",
   "metadata": {},
   "source": [
    "## Examples"
   ]
  },
  {
   "cell_type": "markdown",
   "metadata": {},
   "source": [
    "### Interacting with Another Command"
   ]
  },
  {
   "cell_type": "code",
   "execution_count": null,
   "metadata": {},
   "outputs": [],
   "source": [
    "run interaction.py"
   ]
  },
  {
   "cell_type": "code",
   "execution_count": null,
   "metadata": {},
   "outputs": [],
   "source": [
    "load repeater.py"
   ]
  },
  {
   "cell_type": "code",
   "execution_count": null,
   "metadata": {},
   "outputs": [],
   "source": [
    "load interaction.py"
   ]
  },
  {
   "cell_type": "markdown",
   "metadata": {},
   "source": [
    "### Signaling Between Processes"
   ]
  },
  {
   "cell_type": "markdown",
   "metadata": {},
   "source": [
    "* The `os` examples include a demonstration of signaling between processes using `os.fork()` and `os.kill()`. \n",
    "* Since each `Popen` instance provides a pid attribute with the process id of the child process, it is possible to do something similar with subprocess. For example, using this script for the child process to be executed by the parent process."
   ]
  },
  {
   "cell_type": "code",
   "execution_count": null,
   "metadata": {},
   "outputs": [],
   "source": [
    "run signal_parent.py"
   ]
  },
  {
   "cell_type": "code",
   "execution_count": null,
   "metadata": {},
   "outputs": [],
   "source": [
    "# %load signal_child.py\n",
    "import os\n",
    "import signal\n",
    "import time\n",
    "import sys\n",
    "\n",
    "pid = os.getpid()\n",
    "received = False\n",
    "\n",
    "def signal_usr1(signum, frame):\n",
    "    \"Callback invoked when a signal is received\"\n",
    "    global received\n",
    "    received = True\n",
    "    print('CHILD %6s: Received USR1' % pid)\n",
    "    sys.stdout.flush()\n",
    "\n",
    "print('CHILD %6s: Setting up signal handler' % pid)\n",
    "sys.stdout.flush()\n",
    "signal.signal(signal.SIGUSR1, signal_usr1)\n",
    "print('CHILD %6s: Pausing to wait for signal' % pid)\n",
    "sys.stdout.flush()\n",
    "time.sleep(3)\n",
    "\n",
    "if not received:\n",
    "    print('CHILD %6s: Never received signal' % pid)\n"
   ]
  },
  {
   "cell_type": "code",
   "execution_count": null,
   "metadata": {},
   "outputs": [],
   "source": [
    "# %load signal_parent.py\n",
    "import os\n",
    "import signal\n",
    "import subprocess\n",
    "import time\n",
    "import sys\n",
    "\n",
    "proc = subprocess.Popen(['python', 'signal_child.py'])\n",
    "print('PARENT      : Pausing before sending signal...')\n",
    "sys.stdout.flush()\n",
    "time.sleep(1)\n",
    "print('PARENT      : Signaling child')\n",
    "sys.stdout.flush()\n",
    "os.kill(proc.pid, signal.SIGUSR1)\n"
   ]
  },
  {
   "cell_type": "markdown",
   "metadata": {},
   "source": [
    "### Ping Command and Display Back its Output"
   ]
  },
  {
   "cell_type": "code",
   "execution_count": null,
   "metadata": {},
   "outputs": [],
   "source": [
    "p = subprocess.Popen([\"ping\", \"-c\", \"10\", \"www.cyberciti.biz\"], stdout=subprocess.PIPE)\n",
    "output, err = p.communicate()\n",
    "print(output)"
   ]
  },
  {
   "cell_type": "markdown",
   "metadata": {},
   "source": [
    "* The only problem with above code is that output, `err = p.communicate()` will block next statement till ping is completed i.e. you will not get real time output from the ping command. So you can use the following code to get real time output:"
   ]
  },
  {
   "cell_type": "code",
   "execution_count": null,
   "metadata": {},
   "outputs": [],
   "source": [
    "cmdping = \"ping -c10 www.cyberciti.biz\"\n",
    "p = subprocess.Popen(cmdping, shell=True, stderr=subprocess.PIPE)\n",
    "while True:\n",
    "    out = p.stderr.read(1)\n",
    "    if out == '' and p.poll() != None:\n",
    "        break\n",
    "    if out != '':\n",
    "        sys.stdout.write(out)\n",
    "        sys.stdout.flush()"
   ]
  },
  {
   "cell_type": "code",
   "execution_count": null,
   "metadata": {},
   "outputs": [],
   "source": []
  }
 ],
 "metadata": {
  "kernelspec": {
   "display_name": "Python 3",
   "language": "python",
   "name": "python3"
  },
  "language_info": {
   "codemirror_mode": {
    "name": "ipython",
    "version": 3
   },
   "file_extension": ".py",
   "mimetype": "text/x-python",
   "name": "python",
   "nbconvert_exporter": "python",
   "pygments_lexer": "ipython3",
   "version": "3.7.3"
  }
 },
 "nbformat": 4,
 "nbformat_minor": 1
}
