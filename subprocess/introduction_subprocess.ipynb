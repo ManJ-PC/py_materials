{
 "metadata": {
  "name": ""
 },
 "nbformat": 3,
 "nbformat_minor": 0,
 "worksheets": [
  {
   "cells": [
    {
     "cell_type": "heading",
     "level": 1,
     "metadata": {},
     "source": [
      "The subprocess Module"
     ]
    },
    {
     "cell_type": "heading",
     "level": 2,
     "metadata": {},
     "source": [
      "What Will be Covered?"
     ]
    },
    {
     "cell_type": "markdown",
     "metadata": {},
     "source": [
      "<OL>\n",
      "<LI> Introduction (http://sharats.me/the-ever-useful-and-neat-subprocess-module.html)\n",
      "<LI> Simple Usage\n",
      "<LI> Popen Class\n",
      "<LI> Running via Shell\n",
      "<LI> Getting the Return Code\n",
      "<LI> IO Streams\n",
      "<LI> Replacing the Shell Pipeline\n",
      "<LI> Passing Environment Variables\n",
      "<LI> Killing Processes\n",
      "<LI> Examples\n",
      "    <UL>\n",
      "    <LI> Interacting with another command\n",
      "    <LI> Ping command and display back its output\n",
      "    </UL>\n",
      "</OL>"
     ]
    },
    {
     "cell_type": "heading",
     "level": 2,
     "metadata": {},
     "source": [
      "Introduction"
     ]
    },
    {
     "cell_type": "markdown",
     "metadata": {},
     "source": [
      "<UL>\n",
      "<LI> Allow to spawn new processes\n",
      "<LI> Connect to the processes input/output/error pipes\n",
      "<LI> Obtain the processes return codes\n",
      "<LI> Good substitute for the modules <b>os</b> (system, popen, spawn), <b>popens</b>, and <b>commands</b>\n",
      "</UL>"
     ]
    },
    {
     "cell_type": "heading",
     "level": 2,
     "metadata": {},
     "source": [
      "Simple Usage"
     ]
    },
    {
     "cell_type": "code",
     "collapsed": false,
     "input": [
      "import subprocess\n",
      "ls_output = subprocess.check_output(['ls'])"
     ],
     "language": "python",
     "metadata": {},
     "outputs": [],
     "prompt_number": 2
    },
    {
     "cell_type": "code",
     "collapsed": false,
     "input": [
      "subprocess.check_output(['ls', '-l'])"
     ],
     "language": "python",
     "metadata": {},
     "outputs": []
    },
    {
     "cell_type": "raw",
     "metadata": {},
     "source": [
      "The first item in the list is the executable and rest are its command line arguments. \n",
      "The following won't work because | (pipe) is not an argument of ls."
     ]
    },
    {
     "cell_type": "code",
     "collapsed": false,
     "input": [
      "subprocess.check_output(['ls', '|', 'wc', '-l'])\n"
     ],
     "language": "python",
     "metadata": {},
     "outputs": []
    },
    {
     "cell_type": "heading",
     "level": 2,
     "metadata": {},
     "source": [
      "Popen Class"
     ]
    },
    {
     "cell_type": "markdown",
     "metadata": {},
     "source": [
      "<UL>\n",
      "<LI> Main subprocess class\n",
      "<LI> Internally used by the call, check_output and check_call classes.\n",
      "</UL>"
     ]
    },
    {
     "cell_type": "raw",
     "metadata": {},
     "source": [
      "class subprocess.Popen(args, bufsize=0, executable=None, stdin=None,\n",
      "    stdout=None, stderr=None, preexec_fn=None, close_fds=False, shell=False,\n",
      "    cwd=None, env=None, universal_newlines=False, startupinfo=None,\n",
      "    creationflags=0)"
     ]
    },
    {
     "cell_type": "heading",
     "level": 2,
     "metadata": {},
     "source": [
      "Running via the Shell"
     ]
    },
    {
     "cell_type": "code",
     "collapsed": false,
     "input": [
      "subprocess.call('echo $HOME', shell=True)"
     ],
     "language": "python",
     "metadata": {},
     "outputs": []
    },
    {
     "cell_type": "code",
     "collapsed": false,
     "input": [
      "subprocess.call('ls | wc -l', shell=True)"
     ],
     "language": "python",
     "metadata": {},
     "outputs": []
    },
    {
     "cell_type": "raw",
     "metadata": {},
     "source": [
      "If we do not set shell=True, it will be assumed that 'ls' is an executable and it will not work."
     ]
    },
    {
     "cell_type": "code",
     "collapsed": false,
     "input": [
      "subprocess.call('ls -l')"
     ],
     "language": "python",
     "metadata": {},
     "outputs": []
    },
    {
     "cell_type": "raw",
     "metadata": {},
     "source": [
      "However, if args is a list, then the first item in this list is considered as the executable \n",
      "and the rest of the items in the list are passed as command line arguments to the program."
     ]
    },
    {
     "cell_type": "code",
     "collapsed": false,
     "input": [
      "subprocess.call(['ls', '-l'])"
     ],
     "language": "python",
     "metadata": {},
     "outputs": []
    },
    {
     "cell_type": "code",
     "collapsed": false,
     "input": [
      "subprocess.call('ls -l', shell=True)"
     ],
     "language": "python",
     "metadata": {},
     "outputs": []
    },
    {
     "cell_type": "code",
     "collapsed": false,
     "input": [
      "subprocess.call(['ls', '-l'], shell=True)"
     ],
     "language": "python",
     "metadata": {},
     "outputs": []
    },
    {
     "cell_type": "raw",
     "metadata": {},
     "source": [
      "A more realistic example will look like:"
     ]
    },
    {
     "cell_type": "code",
     "collapsed": false,
     "input": [
      "import sys\n",
      "mycmd = 'ls'\n",
      "myarg = ' -lrt'\n",
      "try:\n",
      "    retcode = subprocess.call(mycmd + myarg, shell=True)\n",
      "    if retcode < 0:\n",
      "        print >>sys.stderr, \"Child was terminated by signal\", -retcode\n",
      "    else:\n",
      "        print >>sys.stderr, \"Child returned\", retcode\n",
      "except OSError, e:\n",
      "    print >>sys.stderr, \"Execution failed:\", e"
     ],
     "language": "python",
     "metadata": {},
     "outputs": []
    },
    {
     "cell_type": "heading",
     "level": 2,
     "metadata": {},
     "source": [
      "Getting the Return Code"
     ]
    },
    {
     "cell_type": "code",
     "collapsed": false,
     "input": [
      "The moment the Popen class is instantiated, the command starts running. \n",
      "You can wait for it and after its done, access the return code via the returncode attribute."
     ],
     "language": "python",
     "metadata": {},
     "outputs": []
    },
    {
     "cell_type": "code",
     "collapsed": false,
     "input": [
      "proc = subprocess.Popen('ls')\n",
      "proc.wait()\n",
      "print proc.returncode"
     ],
     "language": "python",
     "metadata": {},
     "outputs": []
    },
    {
     "cell_type": "heading",
     "level": 2,
     "metadata": {},
     "source": [
      "IO Streams"
     ]
    },
    {
     "cell_type": "raw",
     "metadata": {},
     "source": [
      "The simplest way to get the output of a command is to use the check_output function:"
     ]
    },
    {
     "cell_type": "code",
     "collapsed": false,
     "input": [
      "output = subprocess.check_output('ls')\n",
      "print output"
     ],
     "language": "python",
     "metadata": {},
     "outputs": []
    },
    {
     "cell_type": "raw",
     "metadata": {},
     "source": [
      "To obtain the standard error/output, use:"
     ]
    },
    {
     "cell_type": "code",
     "collapsed": false,
     "input": [
      "p = subprocess.Popen('ls', shell=True,\n",
      "            stdout=subprocess.PIPE,\n",
      "            stderr=subprocess.STDOUT)\n",
      "(output, error) = p.communicate()\n",
      "print '\\nwrite:'\n",
      "print \"\\toutput: \", output\n",
      "print \"\\terror:  \", error"
     ],
     "language": "python",
     "metadata": {},
     "outputs": []
    },
    {
     "cell_type": "heading",
     "level": 2,
     "metadata": {},
     "source": [
      "Replacing Shell Pipeline"
     ]
    },
    {
     "cell_type": "code",
     "collapsed": false,
     "input": [
      "output = \"ls | wc -l\""
     ],
     "language": "python",
     "metadata": {},
     "outputs": []
    },
    {
     "cell_type": "code",
     "collapsed": false,
     "input": [
      "p1 = subprocess.Popen(['ls'], stdout=subprocess.PIPE)\n",
      "p2 = subprocess.Popen(['wc', '-l'], stdin=p1.stdout, stdout=subprocess.PIPE)\n",
      "p1.stdout.close()  # Allow p1 to receive a SIGPIPE if p2 exits.\n",
      "output = p2.communicate()[0]\n",
      "print output"
     ],
     "language": "python",
     "metadata": {},
     "outputs": []
    },
    {
     "cell_type": "code",
     "collapsed": false,
     "input": [
      "output = subprocess.check_output(\"ls | wc -l\", shell=True)\n",
      "print output"
     ],
     "language": "python",
     "metadata": {},
     "outputs": []
    },
    {
     "cell_type": "raw",
     "metadata": {},
     "source": [
      "Show the names and login times of the currently logged in users"
     ]
    },
    {
     "cell_type": "code",
     "collapsed": false,
     "input": [
      "# who | cut -c 1-16,26-38 \n",
      "p1 = subprocess.Popen(['who'], stdout=subprocess.PIPE)\n",
      "p2 = subprocess.Popen(['cut', '-c', '1-16,26-38'], stdin=p1.stdout, stdout=subprocess.PIPE)\n",
      "p1.stdout.close()  # Allow p1 to receive a SIGPIPE if p2 exits.\n",
      "output = p2.communicate()[0]\n",
      "print output"
     ],
     "language": "python",
     "metadata": {},
     "outputs": []
    },
    {
     "cell_type": "heading",
     "level": 2,
     "metadata": {},
     "source": [
      "Passing Environment Variables"
     ]
    },
    {
     "cell_type": "raw",
     "metadata": {},
     "source": [
      "The env argument to Popen lets you customize the environment of the command being run. \n",
      "You can add your own environment settings to existing ones:"
     ]
    },
    {
     "cell_type": "code",
     "collapsed": false,
     "input": [
      "new_env = os.environ.copy()\n",
      "new_env['MEGAVARIABLE'] = 'MEGAVALUE'\n",
      "p = Popen('command', env=new_env)"
     ],
     "language": "python",
     "metadata": {},
     "outputs": []
    },
    {
     "cell_type": "code",
     "collapsed": false,
     "input": [],
     "language": "python",
     "metadata": {},
     "outputs": []
    },
    {
     "cell_type": "code",
     "collapsed": false,
     "input": [],
     "language": "python",
     "metadata": {},
     "outputs": []
    },
    {
     "cell_type": "heading",
     "level": 2,
     "metadata": {},
     "source": [
      "Killing Processes"
     ]
    },
    {
     "cell_type": "code",
     "collapsed": false,
     "input": [
      "proc.terminate()"
     ],
     "language": "python",
     "metadata": {},
     "outputs": []
    },
    {
     "cell_type": "code",
     "collapsed": false,
     "input": [
      "proc.kill()"
     ],
     "language": "python",
     "metadata": {},
     "outputs": []
    },
    {
     "cell_type": "heading",
     "level": 2,
     "metadata": {},
     "source": [
      "Examples"
     ]
    },
    {
     "cell_type": "heading",
     "level": 3,
     "metadata": {},
     "source": [
      "Interacting with Another Command"
     ]
    },
    {
     "cell_type": "code",
     "collapsed": false,
     "input": [
      "run interaction.py"
     ],
     "language": "python",
     "metadata": {},
     "outputs": []
    },
    {
     "cell_type": "code",
     "collapsed": false,
     "input": [
      "load repeater.py"
     ],
     "language": "python",
     "metadata": {},
     "outputs": []
    },
    {
     "cell_type": "code",
     "collapsed": false,
     "input": [
      "load interaction.py"
     ],
     "language": "python",
     "metadata": {},
     "outputs": []
    },
    {
     "cell_type": "heading",
     "level": 3,
     "metadata": {},
     "source": [
      "Signaling Between Processes"
     ]
    },
    {
     "cell_type": "raw",
     "metadata": {},
     "source": [
      "The os examples include a demonstration of signaling between processes using os.fork() and os.kill(). \n",
      "Since each Popen instance provides a pid attribute with the process id of the child process, it is \n",
      "possible to do something similar with subprocess. For example, using this script for the child \n",
      "process to be executed by the parent process."
     ]
    },
    {
     "cell_type": "code",
     "collapsed": false,
     "input": [
      "run signal_parent.py"
     ],
     "language": "python",
     "metadata": {},
     "outputs": [
      {
       "output_type": "stream",
       "stream": "stdout",
       "text": [
        "PARENT      : Pausing before sending signal...\n"
       ]
      },
      {
       "output_type": "stream",
       "stream": "stdout",
       "text": [
        "PARENT      : Signaling child\n"
       ]
      }
     ],
     "prompt_number": 39
    },
    {
     "cell_type": "code",
     "collapsed": false,
     "input": [
      "load signal_child.py"
     ],
     "language": "python",
     "metadata": {},
     "outputs": []
    },
    {
     "cell_type": "code",
     "collapsed": false,
     "input": [
      "load signal_parent.py"
     ],
     "language": "python",
     "metadata": {},
     "outputs": []
    },
    {
     "cell_type": "heading",
     "level": 3,
     "metadata": {},
     "source": [
      "Ping Command and Display Back its Output"
     ]
    },
    {
     "cell_type": "code",
     "collapsed": false,
     "input": [
      "p = subprocess.Popen([\"ping\", \"-c\", \"10\", \"www.cyberciti.biz\"], stdout=subprocess.PIPE)\n",
      "output, err = p.communicate()\n",
      "print  output"
     ],
     "language": "python",
     "metadata": {},
     "outputs": []
    },
    {
     "cell_type": "raw",
     "metadata": {},
     "source": [
      "The only problem with above code is that output, err = p.communicate() will block next statement till ping is completed i.e. you will not get real time output from the ping command. So you can use the following code to get real time output:"
     ]
    },
    {
     "cell_type": "code",
     "collapsed": false,
     "input": [
      "cmdping = \"ping -c10 www.cyberciti.biz\"\n",
      "p = subprocess.Popen(cmdping, shell=True, stderr=subprocess.PIPE)\n",
      "while True:\n",
      "    out = p.stderr.read(1)\n",
      "    if out == '' and p.poll() != None:\n",
      "        break\n",
      "    if out != '':\n",
      "        sys.stdout.write(out)\n",
      "        sys.stdout.flush()"
     ],
     "language": "python",
     "metadata": {},
     "outputs": [],
     "prompt_number": 50
    },
    {
     "cell_type": "code",
     "collapsed": false,
     "input": [],
     "language": "python",
     "metadata": {},
     "outputs": []
    }
   ],
   "metadata": {}
  }
 ]
}