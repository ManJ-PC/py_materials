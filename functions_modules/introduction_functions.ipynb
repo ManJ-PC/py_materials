{
 "cells": [
  {
   "cell_type": "markdown",
   "metadata": {
    "slideshow": {
     "slide_type": "slide"
    }
   },
   "source": [
    "![NASA](http://www.nasa.gov/sites/all/themes/custom/nasatwo/images/nasa-logo.svg)\n",
    "\n",
    "<center>\n",
    "<h1><font size=\"+3\">GSFC Python Bootcamp</font></h1>\n",
    "</center>\n",
    "\n",
    "---\n",
    "\n",
    "<CENTER>\n",
    "<H1 style=\"color:red\">\n",
    "Functions\n",
    "</H1>\n",
    "</CENTER>"
   ]
  },
  {
   "cell_type": "markdown",
   "metadata": {
    "slideshow": {
     "slide_type": "subslide"
    }
   },
   "source": [
    "# Why have functions?\n",
    "\n",
    "---\n",
    "* Blocks of code which only runs when it is called.\n",
    "* Allow us to reuse code many times repeatedly, or, more importantly, across different situations.\n",
    "* Allow data (parameters) to be passed as arguments.\n"
   ]
  },
  {
   "cell_type": "markdown",
   "metadata": {
    "slideshow": {
     "slide_type": "slide"
    }
   },
   "source": [
    "### Syntax\n",
    "\n",
    "---\n",
    "\n",
    "```python\n",
    "def function_name(arguments):\n",
    "    # Python code\n",
    "\n",
    "    return object\n",
    "```"
   ]
  },
  {
   "cell_type": "markdown",
   "metadata": {},
   "source": [
    "+ Functions are not required to accept arguments or to return any data.\n",
    "+ By default, a function returns `None` (if there is no `return` statement in the function). "
   ]
  },
  {
   "cell_type": "markdown",
   "metadata": {},
   "source": [
    "**Example of Function**"
   ]
  },
  {
   "cell_type": "code",
   "execution_count": null,
   "metadata": {
    "slideshow": {
     "slide_type": "fragment"
    }
   },
   "outputs": [],
   "source": [
    "def my_function(x):\n",
    "    print(x**2)"
   ]
  },
  {
   "cell_type": "code",
   "execution_count": null,
   "metadata": {
    "slideshow": {
     "slide_type": "fragment"
    }
   },
   "outputs": [],
   "source": [
    "a = 5\n",
    "my_function(a)"
   ]
  },
  {
   "cell_type": "code",
   "execution_count": null,
   "metadata": {
    "slideshow": {
     "slide_type": "fragment"
    }
   },
   "outputs": [],
   "source": [
    "b = 'a string '\n",
    "my_function(b)"
   ]
  },
  {
   "cell_type": "markdown",
   "metadata": {
    "slideshow": {
     "slide_type": "subslide"
    }
   },
   "source": [
    "Functions allow us to reuse code:"
   ]
  },
  {
   "cell_type": "code",
   "execution_count": null,
   "metadata": {
    "slideshow": {
     "slide_type": "fragment"
    }
   },
   "outputs": [],
   "source": [
    "def f(x):\n",
    "    # note the use of a return statement\n",
    "    return x * x\n",
    "\n",
    "print(f(3))\n",
    "print(f(3) + f(4))\n",
    "print(f(f(f(f(f(2))))))"
   ]
  },
  {
   "cell_type": "markdown",
   "metadata": {
    "slideshow": {
     "slide_type": "slide"
    }
   },
   "source": [
    "# Arguments\n",
    "\n",
    "---\n",
    "\n",
    "Functions allow the following types of arguments between the `()`'s:\n",
    "\n",
    "* No arguments\n",
    "* Positional Arguments - order sensitive\n",
    "* Keyword Arguments - named variables (can have default values)\n",
    "* `*args` - a tuple of variable length\n",
    "* `**kwargs` - a dictionary of keyword arguments"
   ]
  },
  {
   "cell_type": "code",
   "execution_count": null,
   "metadata": {
    "slideshow": {
     "slide_type": "subslide"
    }
   },
   "outputs": [],
   "source": [
    "# No arguments (useful for grouping codes)\n",
    "#------------------------------------\n",
    "def driver():\n",
    "    x = int(input('Provide an integer: '))\n",
    "    if (x < 0):\n",
    "        print(\"The number {:} is negative!\".format(x))\n",
    "    elif(x < 100):\n",
    "        print(\"The number {:} is reasonable!\".format(x))\n",
    "    else:\n",
    "        print(\"The number {:} is too large!\".format(x))\n",
    "\n",
    "driver()"
   ]
  },
  {
   "cell_type": "code",
   "execution_count": null,
   "metadata": {
    "slideshow": {
     "slide_type": "subslide"
    }
   },
   "outputs": [],
   "source": [
    "# Positional arguments (expect specific variables)\n",
    "def sum(x, y):\n",
    "    return x + y\n",
    "\n",
    "print(sum(4, 248))"
   ]
  },
  {
   "cell_type": "code",
   "execution_count": null,
   "metadata": {
    "slideshow": {
     "slide_type": "subslide"
    }
   },
   "outputs": [],
   "source": [
    "# Keyword arguments (with defaults usually; variable length (like reading a file))\n",
    "def student_title(fname='Bob', lname='Brown'):\n",
    "    print('{:<10}, {:>20}'.format(fname.capitalize(), lname.capitalize()))\n",
    "\n",
    "student_title(lname='Smith')"
   ]
  },
  {
   "cell_type": "markdown",
   "metadata": {},
   "source": [
    "```python\n",
    "def f(y, x=1):\n",
    "    return x**2\n",
    "\n",
    "print(f())\n",
    "print(f(5))\n",
    "print(f(x=27))\n",
    "```\n",
    "\n",
    "There is an order to arguments in that positional arguments HAVE TO preceed keyword arguments."
   ]
  },
  {
   "cell_type": "code",
   "execution_count": null,
   "metadata": {},
   "outputs": [],
   "source": [
    "# Function that accepts any number of positional arguments as well as \n",
    "# some keyword-only arguments\n",
    "def add_numbers(*numbers, initial=1):\n",
    "    total = initial\n",
    "    for n in numbers:\n",
    "        total += n\n",
    "    return total\n",
    "\n",
    "print(add_numbers())\n",
    "print(add_numbers(8))\n",
    "print(add_numbers(2,8, initial=3))\n",
    "print(add_numbers(1, 2, 3, 4, 5, 6, 7, initial=8))"
   ]
  },
  {
   "cell_type": "markdown",
   "metadata": {},
   "source": [
    "The special syntax, `*args` and `**kwargs` in function definitions is used to pass a variable number of arguments to a function.\n",
    "* The single asterisk form (`*args`) is used to pass a non-keyworded, variable-length argument list.\n",
    "* The double asterisk form (`**kwargs`) is used to pass a keyworded, variable-length argument list."
   ]
  },
  {
   "cell_type": "code",
   "execution_count": null,
   "metadata": {},
   "outputs": [],
   "source": [
    "def pass_var_args(farg, *args):\n",
    "    print(\"Formal arg:\", farg)\n",
    "    for arg in args:\n",
    "        print(\"Another arg:\", arg)\n",
    "\n",
    "pass_var_args(1, \"two\", 3, 4)"
   ]
  },
  {
   "cell_type": "code",
   "execution_count": null,
   "metadata": {},
   "outputs": [],
   "source": [
    "def pass_var_kwargs(farg, **kwargs):\n",
    "    print(\"Formal arg:\", farg)\n",
    "    for key in kwargs:\n",
    "        print(\"Another keyword arg: %s --> %s\" % (key, kwargs[key]))\n",
    "\n",
    "pass_var_kwargs(farg=1, myarg2=\"two\", myarg3=3)\n",
    "print()\n",
    "pass_var_kwargs(farg=1, \\\n",
    "                **{\"myarg2\": \"two\", \"myarg3\":3, \"myarg4\":\"Python\"})"
   ]
  },
  {
   "cell_type": "markdown",
   "metadata": {},
   "source": [
    "## <font color=\"red\">`yield` Statement</font>\n",
    "+ Use yield to replace the `return` statement.\n",
    "+ Suspend function’s execution and sends a value back to caller, but retains enough state to enable function to resume where it is left off.\n",
    "+ When resumed, the function continues execution immediately after the last yield run. \n",
    "+ Process allows its code to produce a series of values over time, rather them computing them at once and sending them back like a list.\n",
    "\n",
    "`yield` is used in Python **generators**.\n",
    "+ A generator function is defined like a normal function, but whenever it needs to generate a value, it does so with the yield keyword rather than return. \n",
    "+ If the body of a `def` contains `yield`, the function automatically becomes a generator function."
   ]
  },
  {
   "cell_type": "code",
   "execution_count": null,
   "metadata": {},
   "outputs": [],
   "source": [
    "# A Python program to generate squares from 1 \n",
    "# to 100 using yield and therefore generator \n",
    "  \n",
    "\n",
    "def nextSquare(): \n",
    "    \"\"\"\n",
    "       An infinite generator function that prints \n",
    "       next square number. It starts with 1. \n",
    "    \"\"\"\n",
    "    i = 1 \n",
    "  \n",
    "    # An Infinite loop to generate squares  \n",
    "    while True: \n",
    "        yield i*i                 \n",
    "        i += 1  # Next execution resumes from this point   "
   ]
  },
  {
   "cell_type": "code",
   "execution_count": null,
   "metadata": {},
   "outputs": [],
   "source": [
    "# Driver code to test above generator function \n",
    "for num in nextSquare(): \n",
    "    if num > 100: \n",
    "       break    \n",
    "    print(num)"
   ]
  },
  {
   "cell_type": "markdown",
   "metadata": {},
   "source": [
    "# <font color='red'>How Arguments are Passed?</font>\n",
    "\n",
    "Two things to have in mind:\n",
    "* Variables\n",
    "* Objects"
   ]
  },
  {
   "cell_type": "markdown",
   "metadata": {},
   "source": [
    "**If you are passing a variable, then it is passed by value**, which means the changes made to the variable within the function are local to that function and hence won't be reflected globally. This is more of a 'C' like behavior."
   ]
  },
  {
   "cell_type": "code",
   "execution_count": null,
   "metadata": {},
   "outputs": [],
   "source": [
    "def passed_by_value( myvar ):\n",
    "   myvar = 20; \n",
    "   print(\"Values inside the function: \", myvar)\n",
    "   return\n",
    "\n",
    "myvar = 10\n",
    "passed_by_value( myvar )\n",
    "print(\"Values outside the function: \", myvar)"
   ]
  },
  {
   "cell_type": "markdown",
   "metadata": {},
   "source": [
    "**If you are passing the variables packed inside a mutable object** (like a list) **then the changes made to the object are reflected globally as long as the object is not re-assigned**."
   ]
  },
  {
   "cell_type": "code",
   "execution_count": null,
   "metadata": {},
   "outputs": [],
   "source": [
    "def passed_by_reference( mylist ):\n",
    "   mylist.append('a');\n",
    "   print(\"Values inside the function: \", mylist)\n",
    "   return\n",
    "\n",
    "mylist = [1,2,3];\n",
    "passed_by_reference( mylist );\n",
    "print(\"Values outside the function: \", mylist)"
   ]
  },
  {
   "cell_type": "markdown",
   "metadata": {},
   "source": [
    "**If the mutable object is re-assigned, the object refers to a new memory location which is local to the function in which this happens and hence not reflected globally**."
   ]
  },
  {
   "cell_type": "code",
   "execution_count": null,
   "metadata": {},
   "outputs": [],
   "source": [
    "def passed_unchanged_object( mylist ):\n",
    "   mylist=['a']\n",
    "   print(\"Values inside the function: \", mylist)\n",
    "   return\n",
    "\n",
    "mylist = [1,2,3];\n",
    "passed_unchanged_object( mylist );\n",
    "print(\"Values outside the function: \", mylist)"
   ]
  },
  {
   "cell_type": "markdown",
   "metadata": {},
   "source": [
    "# <font color='red'>lambda Functions</font>\n",
    "\n",
    "\n",
    "What is Lambda?\n",
    "+ Lambdas (anonymous functions), are small, restricted functions which do not need a name (i.e., an identifier).\n",
    "+ Every anonymous function you define in Python will have 3 essential parts:\n",
    "          o The lambda keyword.\n",
    "          o The parameters (or bound variables), and\n",
    "          o The function body.\n",
    "          \n",
    "+ A lambda function can have any number of parameters, but the function body can only contain one expression."
   ]
  },
  {
   "cell_type": "markdown",
   "metadata": {},
   "source": [
    "**Basic Syntax**\n",
    "```python\n",
    "lambda p1, p2: expression \n",
    "```"
   ]
  },
  {
   "cell_type": "markdown",
   "metadata": {},
   "source": [
    "**Examples**"
   ]
  },
  {
   "cell_type": "code",
   "execution_count": null,
   "metadata": {},
   "outputs": [],
   "source": [
    "adder = lambda x, y: x + y\n",
    "print (adder (1, 2))"
   ]
  },
  {
   "cell_type": "code",
   "execution_count": null,
   "metadata": {},
   "outputs": [],
   "source": [
    "#What a lambda returns\n",
    "x='some kind of a lambda function'\n",
    "(lambda x : print(x))(x)"
   ]
  },
  {
   "cell_type": "markdown",
   "metadata": {},
   "source": [
    "# In-Class Exercises\n",
    "\n",
    "---\n",
    "\n",
    "**Exercise 1:**\n",
    "Write a function that lists all files with a certain extension in the current directory. (__Hint:__ Use the `glob` package.)\n",
    "\n",
    "How might you extend this function to be useful to you and your projects?\n",
    "\n",
    "**Exercise 2:**\n",
    "Write a function that takes a list as an argument and prints for each entry of the list its value and type.\n"
   ]
  },
  {
   "cell_type": "code",
   "execution_count": null,
   "metadata": {},
   "outputs": [],
   "source": []
  }
 ],
 "metadata": {
  "anaconda-cloud": {},
  "celltoolbar": "Slideshow",
  "kernelspec": {
   "display_name": "Python 3",
   "language": "python",
   "name": "python3"
  },
  "language_info": {
   "codemirror_mode": {
    "name": "ipython",
    "version": 3
   },
   "file_extension": ".py",
   "mimetype": "text/x-python",
   "name": "python",
   "nbconvert_exporter": "python",
   "pygments_lexer": "ipython3",
   "version": "3.7.3"
  }
 },
 "nbformat": 4,
 "nbformat_minor": 1
}
