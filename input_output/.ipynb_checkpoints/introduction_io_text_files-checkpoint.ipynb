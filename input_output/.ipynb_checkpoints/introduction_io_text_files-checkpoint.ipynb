{
 "cells": [
  {
   "cell_type": "markdown",
   "metadata": {},
   "source": [
    "![NASA](http://www.nasa.gov/sites/all/themes/custom/nasatwo/images/nasa-logo.svg)\n",
    "\n",
    "<center>\n",
    "<h1><font size=\"+3\">GSFC Python Bootcamp</font></h1>\n",
    "</center>\n",
    "\n",
    "---\n",
    "<center>\n",
    "<H1 style=\"color:red\">\n",
    "File Input and Output (IO)\n",
    "</H1>\n",
    "</center>\n"
   ]
  },
  {
   "cell_type": "code",
   "execution_count": null,
   "metadata": {},
   "outputs": [],
   "source": [
    "from __future__ import print_function"
   ]
  },
  {
   "cell_type": "code",
   "execution_count": null,
   "metadata": {},
   "outputs": [],
   "source": [
    "# Get files needed for this presentation\n",
    "\n",
    "import urllib.request\n",
    "url = \"https://raw.githubusercontent.com/astg606/py_materials/master/input_output/\"\n",
    "list_files = [\"fileFormats.jpg\", \"demo.txt\", \"cat.jpg\", \"grades.csv\"]\n",
    "for file in list_files:\n",
    "    urllib.request.urlretrieve(url+file, file) "
   ]
  },
  {
   "cell_type": "markdown",
   "metadata": {},
   "source": [
    "## <font color='red'>Types of Files</font>"
   ]
  },
  {
   "cell_type": "code",
   "execution_count": null,
   "metadata": {
    "slideshow": {
     "slide_type": "-"
    }
   },
   "outputs": [],
   "source": [
    "from IPython.display import Image\n",
    "slide = Image(filename = 'fileFormats.jpg')\n",
    "slide"
   ]
  },
  {
   "cell_type": "markdown",
   "metadata": {},
   "source": [
    "## <font color=\"red\"> Text Files</font>\n",
    "\n",
    "A **text file** has no specific encoding and can be opened by a standard text editor without any special handling. Every text file must adhere to a set of rules:\n",
    "\n",
    "* Text files have to be readable as is.\n",
    "* Data in a text file is organized by lines. \n",
    "* Text files all have an unseen character at the end of each line which lets the text editor know that there should be a new line. When interacting with these files, you can take advantage of that character. In Python, it is denoted by the “\\n”."
   ]
  },
  {
   "cell_type": "markdown",
   "metadata": {
    "slideshow": {
     "slide_type": "-"
    }
   },
   "source": [
    "## <font color=\"red\">Reading Text Files</font>\n",
    "\n",
    "* Before you can read (or write) a file, you have to open it using Python's built-in `open()` function. \n",
    "* The `open()` function creates a file object, which would be utilized to call other support methods associated with it."
   ]
  },
  {
   "cell_type": "code",
   "execution_count": null,
   "metadata": {
    "slideshow": {
     "slide_type": "-"
    }
   },
   "outputs": [],
   "source": [
    "help(open)"
   ]
  },
  {
   "cell_type": "markdown",
   "metadata": {},
   "source": [
    "**The Basic Syntax**\n",
    "\n",
    "```python\n",
    "file object = open(file_name [, access_mode][, buffering])\n",
    "```\n",
    "\n",
    "* `file_name` − The file_name argument is a string value that contains the name of the file that you want to access.\n",
    "* `access_mode` − The access_mode determines the mode in which the file has to be opened, i.e., read, write, append, etc. This is optional parameter and the default file access mode is read (r).\n",
    "* `buffering` − If the buffering value is set to 0, no buffering takes place. If the buffering value is 1, line buffering is performed while accessing a file. If you specify the buffering value as an integer greater than 1, then buffering action is performed with the indicated buffer size. If negative, the buffer size is the system default (default behavior).\n"
   ]
  },
  {
   "cell_type": "markdown",
   "metadata": {},
   "source": [
    "**Summary of  `open()` file access modes**\n",
    "\n",
    "\n",
    "| Mode | Description |\n",
    "| --- | --- |\n",
    "| r | Opens a file for reading only. Default mode. | \n",
    "| rb | Opens a file for reading only in binary format. | \n",
    "| r+ | Opens a file for both reading and writing. |\n",
    "| rb+ | Opens a file for both reading and writing in binary format. |\n",
    "| w | Opens a file for writing only. Overwrites file if it exists. Creates a new file if it does not exist. | \n",
    "| wb | Opens a file for writing only in binary format. |\n",
    "| w+ | Opens a file for both writing and reading. |\n",
    "| wb+ | Opens a file for both writing and reading in binary format. |\n",
    "| a | Opens a file for appending. The file pointer is at the end of the file if it exists. |\n",
    "| ab | Opens a file for appending in binary format. | \n",
    "| a+ | Opens a file for both appending and reading. | \n",
    "| ab+| Opens a file for both appending and reading in binary format. |"
   ]
  },
  {
   "cell_type": "code",
   "execution_count": null,
   "metadata": {
    "slideshow": {
     "slide_type": "-"
    }
   },
   "outputs": [],
   "source": [
    "file_object = open('demo.txt', 'r') # 'r' is default"
   ]
  },
  {
   "cell_type": "markdown",
   "metadata": {
    "slideshow": {
     "slide_type": "-"
    }
   },
   "source": [
    "A file_object can be treated as a sequence of strings"
   ]
  },
  {
   "cell_type": "markdown",
   "metadata": {},
   "source": [
    "#### What type of object is file_object?"
   ]
  },
  {
   "cell_type": "code",
   "execution_count": null,
   "metadata": {},
   "outputs": [],
   "source": [
    "print(\"file_object is of type: \", type(file_object))"
   ]
  },
  {
   "cell_type": "code",
   "execution_count": null,
   "metadata": {
    "scrolled": true,
    "slideshow": {
     "slide_type": "-"
    }
   },
   "outputs": [],
   "source": [
    "# file_object.<TAB>\n",
    "dir(file_object) # attributes and methods of file objects"
   ]
  },
  {
   "cell_type": "code",
   "execution_count": null,
   "metadata": {
    "slideshow": {
     "slide_type": "-"
    }
   },
   "outputs": [],
   "source": [
    "# Examples\n",
    "print(file_object.name)\n",
    "print(file_object.mode)\n",
    "print(file_object.closed)"
   ]
  },
  {
   "cell_type": "markdown",
   "metadata": {},
   "source": [
    "### Print all the lines and count the number of lines"
   ]
  },
  {
   "cell_type": "code",
   "execution_count": null,
   "metadata": {
    "scrolled": true
   },
   "outputs": [],
   "source": [
    "my_file = open ('demo.txt','r')\n",
    "count = 0\n",
    "for line in my_file: # treating my_file as a sequence of strings\n",
    "    count = count + 1\n",
    "    print(line)\n",
    "print(\"My file has \"+str(count)+\" lines.\")    \n",
    "my_file.close()"
   ]
  },
  {
   "cell_type": "markdown",
   "metadata": {},
   "source": [
    "#### Note: Each line includes a non-printing character called the newline character \"\\n\""
   ]
  },
  {
   "cell_type": "markdown",
   "metadata": {},
   "source": [
    "### Exercise \n",
    "Read the text file demo.txt and count the number of lines excluding empty lines."
   ]
  },
  {
   "cell_type": "markdown",
   "metadata": {},
   "source": [
    "### Reading the entire file at once"
   ]
  },
  {
   "cell_type": "code",
   "execution_count": null,
   "metadata": {
    "slideshow": {
     "slide_type": "-"
    }
   },
   "outputs": [],
   "source": [
    "my_file = open ('demo.txt','r')\n",
    "\n",
    "# read() reads the _entire_ file, returns a string object\n",
    "data = my_file.read()           \n",
    "print(\"Contents of file are of type: \", type(data))\n",
    "\n",
    "# close file handle\n",
    "my_file.close()\n",
    "\n",
    "# Now data is in memory\n",
    "heading=\"Contents of file\"\n",
    "print(\"\\n\"+heading+\"\\n\"+\"-\"*len(heading))\n",
    "print(data)"
   ]
  },
  {
   "cell_type": "markdown",
   "metadata": {},
   "source": [
    "### Read file chunks"
   ]
  },
  {
   "cell_type": "code",
   "execution_count": null,
   "metadata": {
    "slideshow": {
     "slide_type": "-"
    }
   },
   "outputs": [],
   "source": [
    "my_file = open('demo.txt', 'r')\n",
    "data = \"Dummy string\"         \n",
    "while data:\n",
    "   data = my_file.read(64)   # read in 64-byte chunk sizes\n",
    "   print(data)\n",
    "my_file.close()"
   ]
  },
  {
   "cell_type": "markdown",
   "metadata": {},
   "source": [
    "### Read one line at a time"
   ]
  },
  {
   "cell_type": "code",
   "execution_count": null,
   "metadata": {
    "slideshow": {
     "slide_type": "-"
    }
   },
   "outputs": [],
   "source": [
    "my_file = open ('demo.txt')\n",
    "data = my_file.readline()\n",
    "print (data)\n",
    "my_file.close()"
   ]
  },
  {
   "cell_type": "markdown",
   "metadata": {},
   "source": [
    "### Read all the lines in the text file"
   ]
  },
  {
   "cell_type": "code",
   "execution_count": null,
   "metadata": {},
   "outputs": [],
   "source": [
    "my_file = open ('demo.txt')\n",
    "data = my_file.readlines()                        \n",
    "print(data)                # Note data is a list\n",
    "my_file.close()"
   ]
  },
  {
   "cell_type": "markdown",
   "metadata": {},
   "source": [
    "### Exercise \n",
    "Read the text file demo.txt and find all instances of the word \"Luke\""
   ]
  },
  {
   "cell_type": "markdown",
   "metadata": {},
   "source": [
    "### Automatically closing files"
   ]
  },
  {
   "cell_type": "code",
   "execution_count": null,
   "metadata": {},
   "outputs": [],
   "source": [
    "# to open a file, process its contents, and make sure to close it, you can simply do:\n",
    "\n",
    "with open ('demo.txt', 'r') as f:\n",
    "    data = f.read() \n",
    "    print('--> Is file closed? ', f.closed)\n",
    "    # file will be closed after exiting this block of code\n",
    "    \n",
    "print('<-- Is file closed? ', f.closed)\n",
    "print(f.mode)"
   ]
  },
  {
   "cell_type": "markdown",
   "metadata": {},
   "source": [
    "## <font color=\"red\">Writing Text Files</font>\n",
    "\n",
    "* The `write()` method writes any string to an open file.\n",
    "* The `write()` method does not add a newline character (`'\\n'`) to the end of the string. "
   ]
  },
  {
   "cell_type": "code",
   "execution_count": null,
   "metadata": {},
   "outputs": [],
   "source": [
    "# Example:\n",
    "with open('elements.txt', 'w') as f: # 'w' creates a new file\n",
    "    f.write('Noble gases:')              \n",
    "    f.writelines(['He', 'Ne', 'Ar'])  # writelines writes each element on its own"
   ]
  },
  {
   "cell_type": "code",
   "execution_count": null,
   "metadata": {
    "scrolled": false
   },
   "outputs": [],
   "source": [
    "try:\n",
    "    !cat elements.txt\n",
    "except:\n",
    "    with open('elements.txt', 'r') as f:\n",
    "        contents = f.read()\n",
    "        print(contents)"
   ]
  },
  {
   "cell_type": "markdown",
   "metadata": {},
   "source": [
    "Note: python will not write '\\n' for you"
   ]
  },
  {
   "cell_type": "markdown",
   "metadata": {},
   "source": [
    "#### 'a+' vs 'r+'"
   ]
  },
  {
   "cell_type": "code",
   "execution_count": null,
   "metadata": {},
   "outputs": [],
   "source": [
    "with open('elements.txt', 'a') as f:  # 'a' is 'append' mode, no reading\n",
    "    contents = f.read()"
   ]
  },
  {
   "cell_type": "code",
   "execution_count": null,
   "metadata": {
    "scrolled": true
   },
   "outputs": [],
   "source": [
    "with open('elements.txt', 'a+') as f:  # 'a++' appending and reading\n",
    "    contents = f.read()               \n",
    "    print (f.tell())                \n",
    "    f.write('Kr\\n')                    "
   ]
  },
  {
   "cell_type": "markdown",
   "metadata": {},
   "source": [
    "f.tell() tells me that file pointer is at EOF and I appended 'Kr\\n' at that position"
   ]
  },
  {
   "cell_type": "code",
   "execution_count": null,
   "metadata": {
    "scrolled": false
   },
   "outputs": [],
   "source": [
    "try:\n",
    "    !cat elements.txt\n",
    "except:\n",
    "    with open('elements.txt', 'r') as f:\n",
    "        contents = f.read()\n",
    "        print(contents)"
   ]
  },
  {
   "cell_type": "code",
   "execution_count": null,
   "metadata": {},
   "outputs": [],
   "source": [
    "with open('elements.txt', 'r+') as f: # 'r+' reading and writing\n",
    "    print (f.tell())                  # file pointer is at 'beginning of file'\n",
    "    f.write('Halogens:\\n')          \n",
    "    f.writelines(['F\\n', 'Cl\\n'])"
   ]
  },
  {
   "cell_type": "markdown",
   "metadata": {},
   "source": [
    "f.tell() tells me that file pointer is at BOF and I wrote text starting at that position"
   ]
  },
  {
   "cell_type": "code",
   "execution_count": null,
   "metadata": {},
   "outputs": [],
   "source": [
    "try:\n",
    "    !cat elements.txt\n",
    "except:\n",
    "    with open('elements.txt', 'r') as f:\n",
    "        contents = f.read()\n",
    "        print(contents)"
   ]
  },
  {
   "cell_type": "markdown",
   "metadata": {},
   "source": [
    "### Quiz\n",
    "Write a program that reads file 'demo.txt' and writes out a new file with the lines in reversed order (i.e. the first line in the old file becomes the last one in the new file.)"
   ]
  },
  {
   "cell_type": "markdown",
   "metadata": {},
   "source": [
    "## Summary of basic file IO functions and methods"
   ]
  },
  {
   "cell_type": "markdown",
   "metadata": {},
   "source": [
    "<table style=\"width:100%\">\n",
    "  <tr>\n",
    "    <th>Methods and functions</th>\n",
    "    <th>Description</th> \n",
    "  </tr>\n",
    "  <tr>\n",
    "    <td>open()</td>\n",
    "    <td>Returns a file object and is most commonly used with two arguments: open(filename, mode)</td> \n",
    "  </tr>\n",
    "  <tr>\n",
    "    <td>file.close()</td>\n",
    "    <td>Close the file.</td> \n",
    "  </tr>\n",
    "  <tr>\n",
    "    <td>file.read([size])</td>\n",
    "    <td>Read the entire file. If size is specified then read at most size bytes.</td> \n",
    "  </tr>\n",
    "  <tr>\n",
    "    <td>file.readline([size])</td>\n",
    "    <td>Read one line from the file. If size is specified then read at most size bytes.</td> \n",
    "  </tr>\n",
    "  <tr>\n",
    "    <td>file.readlines([size])</td>\n",
    "    <td>Read all the lines from the file. If size is specified then read at most size bytes.</td> \n",
    "  </tr>\n",
    "  <tr>\n",
    "    <td>file.tell()</td>\n",
    "    <td>Returns file object's current position in the file.</td> \n",
    "  </tr>\n",
    "  <tr>\n",
    "    <td>file.seek(int)</td>\n",
    "    <td>Changes the file object's current position to the given int.</td> \n",
    "  <tr>\n",
    "    <td>file.write(string)</td>\n",
    "    <td>Writes the contents of string to the file.</td> \n",
    "  </tr>\n",
    "</table>"
   ]
  },
  {
   "cell_type": "markdown",
   "metadata": {},
   "source": [
    "### Handling delimited files"
   ]
  },
  {
   "cell_type": "code",
   "execution_count": null,
   "metadata": {},
   "outputs": [],
   "source": [
    "try:\n",
    "    !cat grades.csv\n",
    "except:\n",
    "    with open('grades.csv', 'r') as f:\n",
    "        contents = f.read()\n",
    "        print(contents)"
   ]
  },
  {
   "cell_type": "markdown",
   "metadata": {},
   "source": [
    "One could use csv package: import csv"
   ]
  },
  {
   "cell_type": "code",
   "execution_count": null,
   "metadata": {},
   "outputs": [],
   "source": [
    "with open('grades.csv', 'r') as f:\n",
    "    for line in f:\n",
    "        print(line.strip().split(','))"
   ]
  },
  {
   "cell_type": "markdown",
   "metadata": {},
   "source": [
    "Each row of the input data is parsed and converted to a list of strings."
   ]
  },
  {
   "cell_type": "markdown",
   "metadata": {},
   "source": [
    "### Binary data IO"
   ]
  },
  {
   "cell_type": "code",
   "execution_count": null,
   "metadata": {},
   "outputs": [],
   "source": [
    "s = b\"Hello world!\"\n",
    "\n",
    "with open('hello.bin','wb') as f:\n",
    "    f.write(s)\n",
    "    \n",
    "with open('hello.bin','rb') as f:\n",
    "    data = f.read()\n",
    "print(data)\n",
    "\n",
    "with open('hello.bin','rb') as f:\n",
    "    byte = f.read(1)\n",
    "    print(byte,)\n",
    "    while byte != \"\":\n",
    "        byte = f.read(1)\n",
    "        print(byte,)"
   ]
  },
  {
   "cell_type": "markdown",
   "metadata": {},
   "source": [
    "The differences between binary and ascii encoding won't be obvious for simple alphanumeric strings, but will become important if you're processing text that includes characters not in the ascii character set."
   ]
  },
  {
   "cell_type": "code",
   "execution_count": null,
   "metadata": {
    "scrolled": true
   },
   "outputs": [],
   "source": [
    "with open('cat.jpg', 'rb') as f:\n",
    "    data = f.readline()\n",
    "print (data)"
   ]
  },
  {
   "cell_type": "code",
   "execution_count": null,
   "metadata": {},
   "outputs": [],
   "source": [
    "':'.join(x.encode('hex') for x in data)"
   ]
  },
  {
   "cell_type": "markdown",
   "metadata": {},
   "source": [
    "Hex dump is useful for debugging. In a hex dump, each byte (8-bits) is represented as a two-digit hexadecimal number."
   ]
  },
  {
   "cell_type": "code",
   "execution_count": null,
   "metadata": {},
   "outputs": [],
   "source": [
    "with open('cat.jpg', 'rb') as f:\n",
    "    data = f.read()\n",
    " \n",
    "    if data.startswith(b'\\xff\\xd8'):\n",
    "        info = 'This is a jpeg file (%d bytes long)'\n",
    "    else:\n",
    "        info = 'This is a random file (%d bytes long)'\n",
    "\n",
    "    print (info % len(data))"
   ]
  },
  {
   "cell_type": "code",
   "execution_count": null,
   "metadata": {},
   "outputs": [],
   "source": [
    "from IPython.display import Image\n",
    "kitty = Image(filename = 'cat.jpg')\n",
    "kitty"
   ]
  },
  {
   "cell_type": "markdown",
   "metadata": {},
   "source": [
    "### OS dependent functions"
   ]
  },
  {
   "cell_type": "code",
   "execution_count": null,
   "metadata": {},
   "outputs": [],
   "source": [
    "import os"
   ]
  },
  {
   "cell_type": "markdown",
   "metadata": {
    "collapsed": true
   },
   "source": [
    "Python os module provides methods that help you perform all kinds of file-processing operations, such as renaming and deleting files (as well as file IO)."
   ]
  },
  {
   "cell_type": "code",
   "execution_count": null,
   "metadata": {},
   "outputs": [],
   "source": [
    "help(os.read)\n",
    "fd = os.open('demo.txt', os.O_RDWR)\n",
    "ret = os.read(fd, 15)\n",
    "print('Result from os.read:'+'\\n'+20*'-'+'\\n'+ret)\n",
    "os.close(fd)"
   ]
  },
  {
   "cell_type": "markdown",
   "metadata": {},
   "source": [
    "#### You need to test whether or not a file or directory exists."
   ]
  },
  {
   "cell_type": "code",
   "execution_count": null,
   "metadata": {},
   "outputs": [],
   "source": [
    "print(os.path.exists('/etc/passwd'))\n",
    "print(os.path.exists('/etc/spam'))"
   ]
  },
  {
   "cell_type": "code",
   "execution_count": null,
   "metadata": {},
   "outputs": [],
   "source": [
    "filename = '/etc/spam'\n",
    "if os.path.exists(filename):\n",
    "    with open(filename) as f:\n",
    "        data = f.readline()\n",
    "    print(data)    \n",
    "else:\n",
    "    print (filename + ' does not exist')"
   ]
  },
  {
   "cell_type": "markdown",
   "metadata": {},
   "source": [
    "#### List files in current directory"
   ]
  },
  {
   "cell_type": "code",
   "execution_count": null,
   "metadata": {},
   "outputs": [],
   "source": [
    "listdir =  os.listdir(\".\")\n",
    "for file in listdir:\n",
    "   print file"
   ]
  },
  {
   "cell_type": "markdown",
   "metadata": {},
   "source": [
    "#### Dealing with directories"
   ]
  },
  {
   "cell_type": "code",
   "execution_count": null,
   "metadata": {},
   "outputs": [],
   "source": [
    "os.mkdir(\"newdir\")\n",
    "os.chdir(\"newdir\")\n",
    "print(os.getcwd())"
   ]
  },
  {
   "cell_type": "code",
   "execution_count": null,
   "metadata": {},
   "outputs": [],
   "source": [
    "os.chdir(\"..\")\n",
    "print(os.getcwd())"
   ]
  },
  {
   "cell_type": "code",
   "execution_count": null,
   "metadata": {},
   "outputs": [],
   "source": [
    "os.rmdir(\"newdir\")"
   ]
  },
  {
   "cell_type": "markdown",
   "metadata": {},
   "source": [
    "#### Accessing environment"
   ]
  },
  {
   "cell_type": "code",
   "execution_count": null,
   "metadata": {},
   "outputs": [],
   "source": [
    "print(os.environ['HOME'])\n",
    "print(os.environ.has_key(\"HOME\"))\n",
    "\n",
    "# using get will return `None` if a key is not present rather than raise a `KeyError`\n",
    "print(os.environ.get('KEY_THAT_MIGHT_EXIST'))\n",
    "\n",
    "# os.getenv is equivalent, and can also give a default value instead of `None`\n",
    "print(os.getenv('KEY_THAT_MIGHT_EXIST', 'SOME_KEY'))\n",
    "\n",
    "# Setting variable\n",
    "os.environ['PythonTraining'] = 'is fun'\n",
    "print(os.environ.get('PythonTraining'))"
   ]
  },
  {
   "cell_type": "markdown",
   "metadata": {},
   "source": [
    "#### Other utilities"
   ]
  },
  {
   "cell_type": "code",
   "execution_count": null,
   "metadata": {},
   "outputs": [],
   "source": [
    "print(os.path.isfile('/etc/passwd'))\n",
    "print(os.path.isdir('/etc/passwd'))\n",
    "print(os.path.islink('python'))\n",
    "print(os.path.realpath('python'))\n",
    "print(os.path.getsize('/etc/passwd'))"
   ]
  },
  {
   "cell_type": "code",
   "execution_count": null,
   "metadata": {},
   "outputs": [],
   "source": [
    "import shutil"
   ]
  },
  {
   "cell_type": "markdown",
   "metadata": {},
   "source": [
    "The shutil module offers a number of high-level operations on <b>files and collections of files</b>. In particular, functions are provided which support file copying and removal. \n",
    "For operations on individual files, see also the os module."
   ]
  },
  {
   "cell_type": "code",
   "execution_count": null,
   "metadata": {},
   "outputs": [],
   "source": [
    "help (shutil.copy)\n",
    "help (shutil.move)"
   ]
  },
  {
   "cell_type": "markdown",
   "metadata": {},
   "source": [
    "# Extra material"
   ]
  },
  {
   "cell_type": "markdown",
   "metadata": {},
   "source": [
    "### File position"
   ]
  },
  {
   "cell_type": "code",
   "execution_count": null,
   "metadata": {},
   "outputs": [],
   "source": [
    "with open ('demo.txt') as f:\n",
    "    f.seek(5)                   # seek(offset) Changes file object's position\n",
    "    data = f.readline() \n",
    "    print (data)"
   ]
  },
  {
   "cell_type": "code",
   "execution_count": null,
   "metadata": {},
   "outputs": [],
   "source": [
    "with open ('demo.txt') as f:\n",
    "    f.seek(5)\n",
    "    data = f.readline() \n",
    "    print (data)\n",
    "    k = f.tell()              # tell() returns current position in file\n",
    "    print (k)"
   ]
  },
  {
   "cell_type": "markdown",
   "metadata": {},
   "source": [
    "### Using print  to automatically add new lines"
   ]
  },
  {
   "cell_type": "code",
   "execution_count": null,
   "metadata": {},
   "outputs": [],
   "source": [
    "with open ('elementsWithNewLine.txt', 'w') as f:\n",
    "    print('Noble gases', file=f)       # print automatically adds newline\n",
    "    for gas in ['He', 'Ne', 'Ar', 'Kr']:\n",
    "        print(gas, file=f)"
   ]
  },
  {
   "cell_type": "code",
   "execution_count": null,
   "metadata": {},
   "outputs": [],
   "source": [
    "!cat elementsWithNewLine.txt"
   ]
  },
  {
   "cell_type": "code",
   "execution_count": null,
   "metadata": {},
   "outputs": [],
   "source": []
  }
 ],
 "metadata": {
  "anaconda-cloud": {},
  "celltoolbar": "Raw Cell Format",
  "kernelspec": {
   "display_name": "Python 3",
   "language": "python",
   "name": "python3"
  },
  "language_info": {
   "codemirror_mode": {
    "name": "ipython",
    "version": 3
   },
   "file_extension": ".py",
   "mimetype": "text/x-python",
   "name": "python",
   "nbconvert_exporter": "python",
   "pygments_lexer": "ipython3",
   "version": "3.7.3"
  }
 },
 "nbformat": 4,
 "nbformat_minor": 1
}
