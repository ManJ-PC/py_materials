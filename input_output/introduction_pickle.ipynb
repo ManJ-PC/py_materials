{
 "cells": [
  {
   "cell_type": "markdown",
   "metadata": {},
   "source": [
    "![NASA](http://www.nasa.gov/sites/all/themes/custom/nasatwo/images/nasa-logo.svg)\n",
    "\n",
    "<center>\n",
    "<h1><font size=\"+3\">GSFC Python Bootcamp</font></h1>\n",
    "</center>\n",
    "\n",
    "---\n",
    "<center>\n",
    "<H1 style=\"color:red\">\n",
    "Introduction to pickle\n",
    "</H1>\n",
    "</center>\n"
   ]
  },
  {
   "cell_type": "code",
   "execution_count": null,
   "metadata": {},
   "outputs": [],
   "source": [
    "from __future__ import print_function"
   ]
  },
  {
   "cell_type": "markdown",
   "metadata": {},
   "source": [
    "## <font color=\"red\"> Serialization and Deserialization</font>\n",
    "* **Serialization** is a process of transforming objects or data structures into byte streams or strings. \n",
    "* These byte streams can then be stored or transferred easily. \n",
    "* This allows the developers to save, for example, configuration data or user's progress, and then store it (on disk or in a database) or send it to another location.\n",
    "* The reverse process of serialization is known as **deserialization**."
   ]
  },
  {
   "cell_type": "markdown",
   "metadata": {},
   "source": [
    "## <font color=\"red\"> What is pickle?</font>\n",
    "\n",
    "* The module `pickle` is used for serializing and de-serializing a Python object structure. \n",
    "* Any object in python can be pickled so that it can be saved on disk. \n",
    "* `pickle` “serialises” the object first before writing it to file. \n",
    "* Pickling (serialization) is a way to convert a python object (list, dict, etc.) into a character stream which contains all the information necessary to reconstruct the object in another python script.\n",
    "\n",
    "The following types can be serialized and deserialized using the `pickle` module:\n",
    "* All native datatypes supported by Python (booleans, None, integers, floats, complex numbers, strings, bytes, byte arrays)\n",
    "* Dictionaries, sets, lists, and tuples - as long as they contain pickleable objects\n",
    "* Functions (pickled by their name references, and not by their value) and classes that are defined at the top level of a module\n"
   ]
  },
  {
   "cell_type": "markdown",
   "metadata": {
    "slideshow": {
     "slide_type": "-"
    }
   },
   "source": [
    "## <font color=\"red\">Application of Pickling</font>\n",
    "\n",
    "* Saving a program's state data to disk so that it can carry on where it left off when restarted (persistence)\n",
    "* Sending python data over a TCP connection in a multi-core or distributed system (marshalling)\n",
    "* Storing python objects in a database\n",
    "* Converting an arbitrary python object to a string so that it can be used as a dictionary key (e.g. for caching & memoization)\n",
    "* Machine Learning (saving <a href=\"https://pythonprogramming.net/pickle-classifier-save-nltk-tutorial/\">trained ML algorithm</a>)"
   ]
  },
  {
   "cell_type": "markdown",
   "metadata": {},
   "source": [
    "## <font color=\"red\">How to Use pickle</font>"
   ]
  },
  {
   "cell_type": "code",
   "execution_count": null,
   "metadata": {},
   "outputs": [],
   "source": [
    "import pickle"
   ]
  },
  {
   "cell_type": "markdown",
   "metadata": {
    "slideshow": {
     "slide_type": "fragment"
    }
   },
   "source": [
    "### Python Object Serialization\n",
    "\n",
    "The pickle module turns an arbitrary Python object into a series of bytes. This process is also called serialization. \n",
    "* Useful for storing data\n",
    "* Inter process communication"
   ]
  },
  {
   "cell_type": "code",
   "execution_count": null,
   "metadata": {},
   "outputs": [],
   "source": [
    "data_org = { 'a':'A', 'b':2, 'c':3.0 } \n",
    "print('DATA:', data_org)"
   ]
  },
  {
   "cell_type": "code",
   "execution_count": null,
   "metadata": {},
   "outputs": [],
   "source": [
    "# Use pickle.dumps() to create a string representation of the value of the object.\n",
    "data_string = pickle.dumps(data_org)\n",
    "print('PICKLE:', data_string )"
   ]
  },
  {
   "cell_type": "markdown",
   "metadata": {},
   "source": [
    "By default, the pickle will contain only ASCII characters. "
   ]
  },
  {
   "cell_type": "markdown",
   "metadata": {},
   "source": [
    "### Python Object De-Serialization\n",
    "\n",
    "* Once the data is serialized, you can write it to a file, socket, pipe, etc. \n",
    "* Then later you can read the file and unpickle the data to construct a new object with the same values."
   ]
  },
  {
   "cell_type": "markdown",
   "metadata": {},
   "source": [
    "**Get the data back from the serialized object**"
   ]
  },
  {
   "cell_type": "code",
   "execution_count": null,
   "metadata": {},
   "outputs": [],
   "source": [
    "print('BEFORE: ', data_org)"
   ]
  },
  {
   "cell_type": "code",
   "execution_count": null,
   "metadata": {},
   "outputs": [],
   "source": [
    "data2 = pickle.loads(data_string)\n",
    "print('AFTER:  ',data2)"
   ]
  },
  {
   "cell_type": "code",
   "execution_count": null,
   "metadata": {},
   "outputs": [],
   "source": [
    "print('EQUAL?:', (data_org == data2))\n",
    "print('SAME ?:', (data_org is data2))"
   ]
  },
  {
   "cell_type": "markdown",
   "metadata": {},
   "source": [
    "**Write pickled data to a file and Read the data back**"
   ]
  },
  {
   "cell_type": "code",
   "execution_count": null,
   "metadata": {},
   "outputs": [],
   "source": [
    "# Write data into a file\n",
    "with open('pickled_data_file.pkl', 'wb') as fid:\n",
    "     pickle.dump(data_org, fid)"
   ]
  },
  {
   "cell_type": "code",
   "execution_count": null,
   "metadata": {},
   "outputs": [],
   "source": [
    "# Read the data from the file\n",
    "with open('pickled_data_file.pkl', 'rb') as fid:\n",
    "     data3 = pickle.load(fid)"
   ]
  },
  {
   "cell_type": "code",
   "execution_count": null,
   "metadata": {},
   "outputs": [],
   "source": [
    "print('Data Before Write:', data_org)\n",
    "print('Data After  Read :', data3)\n",
    "print('EQUAL?:', (data_org == data3))"
   ]
  },
  {
   "cell_type": "markdown",
   "metadata": {},
   "source": [
    "### Pickling and Unpickling Custom Objects"
   ]
  },
  {
   "cell_type": "code",
   "execution_count": null,
   "metadata": {},
   "outputs": [],
   "source": [
    "class Planets():\n",
    "    def __init__(self):\n",
    "        self.size = 0.0\n",
    "        self.name = ''\n",
    "    def set_size(self, num):\n",
    "        self.size = num\n",
    "    def set_name(self, name):\n",
    "        self.name = name"
   ]
  },
  {
   "cell_type": "code",
   "execution_count": null,
   "metadata": {},
   "outputs": [],
   "source": [
    "mercury = Planets()\n",
    "mercury.set_name('Mercury')\n",
    "mercury.set_size(1516.0)"
   ]
  },
  {
   "cell_type": "code",
   "execution_count": null,
   "metadata": {},
   "outputs": [],
   "source": [
    "with open('test_pickle.pkl', 'wb') as pickle_out:\n",
    "     pickle.dump(mercury, pickle_out)"
   ]
  },
  {
   "cell_type": "code",
   "execution_count": null,
   "metadata": {},
   "outputs": [],
   "source": [
    "with open('test_pickle.pkl', 'rb') as pickle_in:\n",
    "     unpickled_mercury = pickle.load(pickle_in)"
   ]
  },
  {
   "cell_type": "code",
   "execution_count": null,
   "metadata": {},
   "outputs": [],
   "source": [
    "print(\"Name: \", unpickled_mercury.name)\n",
    "print(\"Size: \", unpickled_mercury.size)"
   ]
  },
  {
   "cell_type": "markdown",
   "metadata": {},
   "source": [
    "## <font color=\"red\">Conclusions</font>"
   ]
  },
  {
   "cell_type": "markdown",
   "metadata": {},
   "source": [
    "**Advantages**\n",
    "\n",
    "1. Helps in saving complicated data.\n",
    "2. Quite easy to use, doesn’t require several lines of code and hence not bulky.\n",
    "3. Saved data is not so readable hence provides some data security.\n",
    "\n",
    "**Disadvantages**\n",
    "\n",
    "1. Non-Python programs may not be able to reconstruct pickled Python objects.\n",
    "2. Security risks in unpickling data from malicious sources."
   ]
  }
 ],
 "metadata": {
  "anaconda-cloud": {},
  "celltoolbar": "Raw Cell Format",
  "kernelspec": {
   "display_name": "Python 3",
   "language": "python",
   "name": "python3"
  },
  "language_info": {
   "codemirror_mode": {
    "name": "ipython",
    "version": 3
   },
   "file_extension": ".py",
   "mimetype": "text/x-python",
   "name": "python",
   "nbconvert_exporter": "python",
   "pygments_lexer": "ipython3",
   "version": "3.7.3"
  }
 },
 "nbformat": 4,
 "nbformat_minor": 1
}
