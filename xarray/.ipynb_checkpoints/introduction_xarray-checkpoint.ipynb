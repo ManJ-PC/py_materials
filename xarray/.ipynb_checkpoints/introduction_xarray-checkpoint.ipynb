{
 "cells": [
  {
   "cell_type": "markdown",
   "metadata": {},
   "source": [
    "<font color=\"white\">.</font> | <font color=\"white\">.</font> | <font color=\"white\">.</font>\n",
    "-- | -- | --\n",
    "![NASA](http://www.nasa.gov/sites/all/themes/custom/nasatwo/images/nasa-logo.svg) | <h1><font size=\"+3\">ASTG Python Courses</font></h1> | ![NASA](https://www.nccs.nasa.gov/sites/default/files/NCCS_Logo_0.png)\n",
    "\n",
    "---\n",
    "\n",
    "<center><h1><font color=\"red\" size=\"+3\">Introduction to Xarray</font></h1></center>"
   ]
  },
  {
   "cell_type": "markdown",
   "metadata": {},
   "source": [
    "## <font color=\"red\">Useful References</font>\n",
    "- <a href=\"http://xarray.pydata.org/en/stable/\"> xarray: N-D labeled arrays and datasets in Python</a>\n",
    "- <a href=\"https://nbviewer.jupyter.org/github/mccrayc/tutorials/blob/master/2_reanalysis/CFSR_Data_Tutorial.ipynb\">Importing and mapping reanalysis data with xarray and cartopy</a>\n",
    "- <a href=\"https://openresearchsoftware.metajnl.com/articles/10.5334/jors.148/\">xarray: N-D labeled Arrays and Datasets in Python</a>\n",
    "- <a href=\"https://www.earthdatascience.org/courses/use-data-open-source-python/hierarchical-data-formats-hdf/use-netcdf-in-python-xarray/\">How to Open and Process NetCDF 4 Data Format in Open Source Python</a>"
   ]
  },
  {
   "cell_type": "markdown",
   "metadata": {},
   "source": [
    "![fig_logo](http://xarray.pydata.org/en/stable/_static/dataset-diagram-logo.png)\n",
    "Image Source: xarray.pydata.org\n",
    "\n",
    "## <font color=\"red\">What is Xarray?</font>\n",
    "+ `Xarray` is an open source project and Python package that makes working with labelled multi-dimensional arrays simple and efficient.\n",
    "+ Introduces labels in the form of dimensions, coordinates and attributes on top of raw `NumPy`-like arrays, which allows for a more intuitive, more concise, and less error-prone developer experience. \n",
    "+ Is inspired by and borrows heavily from `Pandas`.\n",
    "+ Is particularly tailored to working with `netCDF` files and integrates tightly with `Dask` for parallel computing.\n",
    "\n",
    "## <font color=\"red\">Implementation and architecture</font>\n",
    "- NetCDF forms the basis of the Xarray data model and provides a natural and portable serialization format. \n",
    "- Xarray features two main data structures: \n",
    "     - **DataArray** xarray’s implementation of a labeled, multi-dimensional array. It has several key properties:\n",
    "          - *data*: N-dimensional array (NumPy or dask) holding the array's values,\n",
    "          - *coords*: dict-like container of arrays (coordinates) that label each point (e.g., 1-dimensional arrays of numbers, datetime objects or strings),\n",
    "          - *dims*: dimension names for each axis [e.g., (‘time’, ‘latitude’, ‘longitude’)],\n",
    "          - *attrs*: OrderedDict holding arbitrary metadata (e.g. units or descriptions), and\n",
    "          - *name*: an arbitrary name for the array.\n",
    "     - **Dataset**: xarray’s multi-dimensional equivalent of a DataFrame. It is a dict-like container of labeled arrays (DataArrays) with aligned dimensions. It is designed as an in-memory representation of a netCDF dataset. In addition to the dict-like interface of the dataset itself, which can be used to access any DataArray in a Dataset, datasets have four key properties:\n",
    "          - *data_vars*: OrderedDict of DataArray objects corresponding to data variables,\n",
    "          - *coords*: OrderedDict of DataArray objects intended to label points used in data_vars (e.g., 1-dimensional arrays of numbers, datetime objects or strings),\n",
    "          - *dims*: dictionary mapping from dimension names to the fixed length of each dimension (e.g., {‘x’: 6, ‘y’: 6, ‘time’: 8}), and\n",
    "          - *attrs*: OrderedDict to hold arbitrary metadata pertaining to the dataset.\n",
    "\n",
    "![fig_structure](https://openresearchsoftware.metajnl.com/articles/10.5334/jors.148/jors-5-148-g2.png)\n",
    "Image Source: openresearchsoftware.metajnl.com\n",
    "\n",
    "\n",
    "## <font color=\"red\">Core xarray Features</font>\n",
    "\n",
    "- <u>*Serialization and I/O*</u>: xarray supports direct serialization and I/O to several file formats including pickle, netCDF, OPeNDAP (read-only), GRIB1/2 (read-only), and HDF by integrating with third-party libraries.\n",
    "- <u>*Metadata*</u>: Keep track of arbitrary metadata in the form of a Python dictionary. `x.attrs`.\n",
    "- <u>*Label-based indexing*</u>: Similarly to Pandas objects, xarray objects support both integer- and label-based lookups along each dimension. However, xarray objects also have named dimensions, so you can optionally use dimension names instead of relying on the positional ordering of dimensions. `x.loc['2014-01-01']` or `x.sel(time='2014-01-01')`\n",
    "- <u>*Arithmetic*</u>: arithmetic between xarray objects vectorizes based on dimension names, automatically looping (broadcasting) over each distinct dimension. This eliminates the need to insert dummy dimensions of size one to facilitate broadcasting, a common pattern with NumPy.\n",
    "- <u>*Aggregation*</u>: calculation of statistics (e.g. sum) along a dimension of an xarray object can be done by dimension name instead of an integer axis number. `x.sum('time')`\n",
    "- <u>*Plotting*</u>: Plotting functionality is a thin wrapper around Matplotlib. The syntax and function names from Matplotlib are used whenever possible, resulting in a seamless transition between the two.\n",
    "- <u>*Missing Data*</u>: Are smoothly handled in all operations, including arithmetic, alignment and aggregation.\n",
    "- <u>*Interactivity with Pandas*</u>: xarray objects seamlessly to convert to and from pandas objects to interact with the rest of the PyData ecosystem.\n",
    "- <u>*Out-of-core computation*</u>: xarray’s data structures can be backed by dask to support parallel and streaming computation on data that does not fit into memory, up to 100s of GB or TBs in size. \n",
    "- <u>*Alignment*</u>: Support of  database-like join operations for combining xarray objects along common coordinates.\n",
    "- <u>*Split-apply-combine*</u>: xarray includes N-dimensional grouped operations implementing the split-apply-combine strategy. `x.groupby('time.dayofyear').mean()`\n",
    "- <u>*Resampling and rolling window operations*</u>: Utilizing the efficient resampling methods from Pandas and rolling window operations from Bottleneck, xarray offers a robust set of resampling and rolling window operations along a single dimension."
   ]
  },
  {
   "cell_type": "code",
   "execution_count": null,
   "metadata": {},
   "outputs": [],
   "source": [
    "import warnings\n",
    "warnings.filterwarnings(\"ignore\") # Suppress warning messages"
   ]
  },
  {
   "cell_type": "code",
   "execution_count": null,
   "metadata": {},
   "outputs": [],
   "source": [
    "%matplotlib inline\n",
    "import matplotlib.pyplot as plt\n",
    "import cartopy\n",
    "from cartopy.mpl.ticker import LongitudeFormatter, LatitudeFormatter\n",
    "import cartopy.crs as ccrs\n",
    "import cartopy.feature as cfeature\n",
    "import cartopy.io.shapereader as shapereader"
   ]
  },
  {
   "cell_type": "code",
   "execution_count": null,
   "metadata": {},
   "outputs": [],
   "source": [
    "import numpy as np\n",
    "import pandas as pd\n",
    "import xarray as xr"
   ]
  },
  {
   "cell_type": "markdown",
   "metadata": {},
   "source": [
    "## <font color='red'>Basic Manipulations</font> "
   ]
  },
  {
   "cell_type": "markdown",
   "metadata": {},
   "source": [
    "### <font color='blue'>Xarray DataArray</font>\n",
    "\n",
    "- Xarray’s implementation of a labeled, multi-dimensional array.\n",
    "- Has several key properties:\n",
    "    - `values`: a numpy.ndarray holding the array’s values\n",
    "    - `dims`: dimension names for each axis (e.g., `('x', 'y', 'z')`)\n",
    "    - `coords`: a dict-like container of arrays (coordinates) that label each point (e.g., 1-dimensional arrays of numbers, datetime objects or strings)\n",
    "    - `attrs`: dict to hold arbitrary metadata (attributes)\n",
    "    \n",
    "- Xarray uses `dims` and `coords` to enable its core metadata aware operations. \n",
    "- Dimensions provide names that xarray uses instead of the `axis` argument found in many numpy functions. \n",
    "- Coordinates enable fast label based indexing and alignment, building on the functionality of the `index` found on a Pandas `DataFrame` or `Series`."
   ]
  },
  {
   "cell_type": "markdown",
   "metadata": {},
   "source": [
    "**Creating a DataArray**"
   ]
  },
  {
   "cell_type": "code",
   "execution_count": null,
   "metadata": {},
   "outputs": [],
   "source": [
    "list_data = [[11.0, 12.0, 13.0, 14.0, 15.0], \n",
    "             [21.0, 22.0, 23.0, 24.0, 25.0],\n",
    "             [31.0, 32.0, 33.0, 34.0, 35.0],\n",
    "             [41.0, 42.0, 43.0, 44.0, 45]]\n",
    "\n",
    "print(type(list_data))\n",
    "print(list_data)"
   ]
  },
  {
   "cell_type": "code",
   "execution_count": null,
   "metadata": {},
   "outputs": [],
   "source": [
    "np_data = np.array(list_data)\n",
    "print(type(np_data))\n",
    "print(np_data)"
   ]
  },
  {
   "cell_type": "code",
   "execution_count": null,
   "metadata": {},
   "outputs": [],
   "source": [
    "xr_data = xr.DataArray(np_data)\n",
    "print(type(xr_data))\n",
    "print(xr_data)"
   ]
  },
  {
   "cell_type": "markdown",
   "metadata": {},
   "source": [
    "We can create a 2D array, assigned the names `x` and `y` to the two dimensions respectively and associated two coordinate labels `10`, `20`, `30` and `40` with the two locations along the `x` dimension:"
   ]
  },
  {
   "cell_type": "code",
   "execution_count": null,
   "metadata": {},
   "outputs": [],
   "source": [
    "xr_data = xr.DataArray(np_data, \n",
    "                       dims=(\"x\", \"y\"), \n",
    "                       coords={\"x\": [10, 20, 30, 40]})\n",
    "print(xr_data)"
   ]
  },
  {
   "cell_type": "markdown",
   "metadata": {},
   "source": [
    "We can also extract the properties of the DataArray.\n",
    "\n",
    "Get the values:"
   ]
  },
  {
   "cell_type": "code",
   "execution_count": null,
   "metadata": {},
   "outputs": [],
   "source": [
    "xr_data.values"
   ]
  },
  {
   "cell_type": "markdown",
   "metadata": {},
   "source": [
    "Get the dimension labels:"
   ]
  },
  {
   "cell_type": "code",
   "execution_count": null,
   "metadata": {},
   "outputs": [],
   "source": [
    "xr_data.dims"
   ]
  },
  {
   "cell_type": "markdown",
   "metadata": {},
   "source": [
    "Get the coordinates:"
   ]
  },
  {
   "cell_type": "code",
   "execution_count": null,
   "metadata": {},
   "outputs": [],
   "source": [
    "xr_data.coords"
   ]
  },
  {
   "cell_type": "markdown",
   "metadata": {},
   "source": [
    "Get values of the dimension `x`:"
   ]
  },
  {
   "cell_type": "code",
   "execution_count": null,
   "metadata": {},
   "outputs": [],
   "source": [
    "xr_data['x'].values"
   ]
  },
  {
   "cell_type": "code",
   "execution_count": null,
   "metadata": {},
   "outputs": [],
   "source": [
    "xr_data.x.values"
   ]
  },
  {
   "cell_type": "markdown",
   "metadata": {},
   "source": [
    "**Indexing**\n",
    "\n",
    "- Xarray supports four kinds of indexing."
   ]
  },
  {
   "cell_type": "markdown",
   "metadata": {},
   "source": [
    "Positional and by integer label, like Numpy:"
   ]
  },
  {
   "cell_type": "code",
   "execution_count": null,
   "metadata": {
    "scrolled": true
   },
   "outputs": [],
   "source": [
    "xr_data[2,:]"
   ]
  },
  {
   "cell_type": "markdown",
   "metadata": {},
   "source": [
    "`loc` or \"location\": positional and coordinate label, like Pandas:"
   ]
  },
  {
   "cell_type": "code",
   "execution_count": null,
   "metadata": {},
   "outputs": [],
   "source": [
    "xr_data.loc[30]"
   ]
  },
  {
   "cell_type": "markdown",
   "metadata": {},
   "source": [
    "`isel` or \"integer select\":  by dimension name and integer label"
   ]
  },
  {
   "cell_type": "code",
   "execution_count": null,
   "metadata": {},
   "outputs": [],
   "source": [
    "xr_data.isel(x=2)"
   ]
  },
  {
   "cell_type": "markdown",
   "metadata": {},
   "source": [
    "`sel` or \"select\": by dimension name and coordinate label"
   ]
  },
  {
   "cell_type": "code",
   "execution_count": null,
   "metadata": {},
   "outputs": [],
   "source": [
    "xr_data.sel(x=30)"
   ]
  },
  {
   "cell_type": "markdown",
   "metadata": {},
   "source": [
    "- Unlike positional indexing, label-based indexing frees us from having to know how our array is organized. \n",
    "- All we need to know are the dimension name and the label we wish to index i.e. `data.sel(x=30)` works regardless of whether `x` is the first or second dimension of the array and regardless of whether `30` is the first or second element of `x`. \n",
    "- We have already told xarray that `x` is the first dimension when we created data: Xarray keeps track of this so we don’t have to."
   ]
  },
  {
   "cell_type": "markdown",
   "metadata": {},
   "source": [
    "#### Attributes\n",
    "\n",
    "- We can add metadata attributes that can be use later for data manipulation and visualization."
   ]
  },
  {
   "cell_type": "code",
   "execution_count": null,
   "metadata": {},
   "outputs": [],
   "source": [
    "xr_data.attrs[\"long_name\"] = \"random temperature\"\n",
    "xr_data.attrs[\"units\"] = \"C\""
   ]
  },
  {
   "cell_type": "code",
   "execution_count": null,
   "metadata": {},
   "outputs": [],
   "source": [
    "xr_data.attrs"
   ]
  },
  {
   "cell_type": "markdown",
   "metadata": {},
   "source": [
    "You can also add metadata to coordinate:"
   ]
  },
  {
   "cell_type": "code",
   "execution_count": null,
   "metadata": {},
   "outputs": [],
   "source": [
    "xr_data.x.attrs[\"units\"] = \"x units\""
   ]
  },
  {
   "cell_type": "markdown",
   "metadata": {},
   "source": [
    "#### Computations\n",
    "\n",
    "- DataArrays work similarly to Numpy arrays:"
   ]
  },
  {
   "cell_type": "markdown",
   "metadata": {},
   "source": [
    "We can scale and offset:"
   ]
  },
  {
   "cell_type": "code",
   "execution_count": null,
   "metadata": {},
   "outputs": [],
   "source": [
    "xr_data + 0.5"
   ]
  },
  {
   "cell_type": "markdown",
   "metadata": {},
   "source": [
    "We can use Numpy built-in functions:"
   ]
  },
  {
   "cell_type": "code",
   "execution_count": null,
   "metadata": {},
   "outputs": [],
   "source": [
    "np.exp(-0.25*xr_data)"
   ]
  },
  {
   "cell_type": "markdown",
   "metadata": {},
   "source": [
    "We can take the transpose:"
   ]
  },
  {
   "cell_type": "code",
   "execution_count": null,
   "metadata": {},
   "outputs": [],
   "source": [
    "xr_data.T"
   ]
  },
  {
   "cell_type": "markdown",
   "metadata": {},
   "source": [
    "We can sum all the entries:"
   ]
  },
  {
   "cell_type": "code",
   "execution_count": null,
   "metadata": {},
   "outputs": [],
   "source": [
    "xr_data.sum()"
   ]
  },
  {
   "cell_type": "markdown",
   "metadata": {},
   "source": [
    "Aggregation operations can use dimension names instead of axis numbers:"
   ]
  },
  {
   "cell_type": "code",
   "execution_count": null,
   "metadata": {},
   "outputs": [],
   "source": [
    "xr_data.mean(dim=\"x\")"
   ]
  },
  {
   "cell_type": "code",
   "execution_count": null,
   "metadata": {},
   "outputs": [],
   "source": [
    "xr_data.mean(dim=\"y\")"
   ]
  },
  {
   "cell_type": "markdown",
   "metadata": {},
   "source": [
    "- Arithmetic operations broadcast are based on dimension name. \n",
    "- You don not need to insert dummy dimensions for alignment."
   ]
  },
  {
   "cell_type": "code",
   "execution_count": null,
   "metadata": {},
   "outputs": [],
   "source": [
    "a = xr.DataArray(np.random.random(5), [xr_data.coords[\"y\"]])\n",
    "a"
   ]
  },
  {
   "cell_type": "code",
   "execution_count": null,
   "metadata": {},
   "outputs": [],
   "source": [
    "b = xr.DataArray(np.random.random(6), dims=\"z\")\n",
    "b"
   ]
  },
  {
   "cell_type": "code",
   "execution_count": null,
   "metadata": {},
   "outputs": [],
   "source": [
    "a+b"
   ]
  },
  {
   "cell_type": "code",
   "execution_count": null,
   "metadata": {},
   "outputs": [],
   "source": [
    "b+a"
   ]
  },
  {
   "cell_type": "markdown",
   "metadata": {},
   "source": [
    "You may not need to worry about the order of dimensions:"
   ]
  },
  {
   "cell_type": "code",
   "execution_count": null,
   "metadata": {},
   "outputs": [],
   "source": [
    "xr_data - xr_data.T"
   ]
  },
  {
   "cell_type": "markdown",
   "metadata": {},
   "source": [
    "Operations also align based on index labels:"
   ]
  },
  {
   "cell_type": "code",
   "execution_count": null,
   "metadata": {},
   "outputs": [],
   "source": [
    "xr_data[:-1] - xr_data[:1]"
   ]
  },
  {
   "cell_type": "markdown",
   "metadata": {},
   "source": [
    "**Interpolation**"
   ]
  },
  {
   "cell_type": "code",
   "execution_count": null,
   "metadata": {},
   "outputs": [],
   "source": [
    "xr_data.interp(x=25)"
   ]
  },
  {
   "cell_type": "markdown",
   "metadata": {},
   "source": [
    "**Plotting**"
   ]
  },
  {
   "cell_type": "markdown",
   "metadata": {},
   "source": [
    "- We can use a Pandas-like call to visualize the data.\n",
    "- The labeling is automatically done."
   ]
  },
  {
   "cell_type": "code",
   "execution_count": null,
   "metadata": {},
   "outputs": [],
   "source": [
    "xr_data.plot()"
   ]
  },
  {
   "cell_type": "markdown",
   "metadata": {},
   "source": [
    "**Going to Pandas**\n",
    "\n",
    "Xarray objects can be easily converted to and from Pandas objects using the `to_series()`, `to_dataframe()` and `to_xarray()` methods:"
   ]
  },
  {
   "cell_type": "code",
   "execution_count": null,
   "metadata": {},
   "outputs": [],
   "source": [
    "pd_series = xr_data.to_series()\n",
    "pd_series"
   ]
  },
  {
   "cell_type": "code",
   "execution_count": null,
   "metadata": {},
   "outputs": [],
   "source": [
    "pd_series.to_xarray()"
   ]
  },
  {
   "cell_type": "markdown",
   "metadata": {},
   "source": [
    "### <font color='blue'>Xarray Datasets</font>\n",
    "\n",
    "- `xarray.Dataset` is a dict-like container of aligned DataArray objects. \n",
    "- It can be seen as a multi-dimensional generalization of the `pandas.DataFrame`.\n",
    "- Variables in datasets can have different `dtype` and even different dimensions.\n",
    "- All dimensions are assumed to refer to points in the same shared coordinate system:\n",
    "     - If two variables have dimension `x`, that dimension must be identical in both variables."
   ]
  },
  {
   "cell_type": "markdown",
   "metadata": {},
   "source": [
    "We can create a dataset with three `DataArrays` named `da_1`, `da_2` and `da_3`."
   ]
  },
  {
   "cell_type": "code",
   "execution_count": null,
   "metadata": {},
   "outputs": [],
   "source": [
    "xr_dst = xr.Dataset({\"da_1\": xr_data, \n",
    "                     \"da_2\": (\"x\", [1, 2, 3, 4]), \n",
    "                     \"da_3\": np.pi})\n",
    "xr_dst"
   ]
  },
  {
   "cell_type": "markdown",
   "metadata": {},
   "source": [
    "We can use the dictionary or dot indexing to pull out `Dataset` variables as `DataArray` objects: "
   ]
  },
  {
   "cell_type": "code",
   "execution_count": null,
   "metadata": {},
   "outputs": [],
   "source": [
    "xr_dst[\"da_1\"]"
   ]
  },
  {
   "cell_type": "code",
   "execution_count": null,
   "metadata": {},
   "outputs": [],
   "source": [
    "xr_dst.da_2"
   ]
  },
  {
   "cell_type": "markdown",
   "metadata": {},
   "source": [
    "Xarray automatically aligns `da_2` with `DataArray` `da_1`: they share the same coordinate system so that `xr_dst.da_1['x'] == xr_dst.da_s['x'] == xr_dst['x']`."
   ]
  },
  {
   "cell_type": "code",
   "execution_count": null,
   "metadata": {},
   "outputs": [],
   "source": [
    "xr_dst.da_1.sel(x=10)"
   ]
  },
  {
   "cell_type": "code",
   "execution_count": null,
   "metadata": {},
   "outputs": [],
   "source": [
    "xr_dst.da_2.sel(x=10)"
   ]
  },
  {
   "cell_type": "markdown",
   "metadata": {},
   "source": [
    "We can save the dataset in a netCDF file:"
   ]
  },
  {
   "cell_type": "code",
   "execution_count": null,
   "metadata": {},
   "outputs": [],
   "source": [
    "xr_dst.to_netcdf(\"sample_netcdf.nc\")"
   ]
  },
  {
   "cell_type": "code",
   "execution_count": null,
   "metadata": {},
   "outputs": [],
   "source": [
    "with xr.open_dataset(\"sample_netcdf.nc\") as fid:\n",
    "     print(fid.keys())"
   ]
  },
  {
   "cell_type": "markdown",
   "metadata": {},
   "source": [
    "## <font color='red'>Manipulating a netCDF File</font> \n",
    "\n",
    "- We will manipulate NOAA NCEP Reanalysis data.\n",
    "- The reanalysis project uses an analysis/forecast system to perform data assimilation using past data from 1948 to the present.\n",
    "- Spatial coverage: 2.5 degree latitude x 2.5 degree longitude global grid (144x73).\n",
    "- It produces outputs 4 times per day.\n",
    "- Here, we will focus on surface air temperature for 2018: 4x365 = 1460 records."
   ]
  },
  {
   "cell_type": "code",
   "execution_count": null,
   "metadata": {},
   "outputs": [],
   "source": [
    "url = \"http://www.esrl.noaa.gov/psd/thredds/dodsC/Datasets/ncep.reanalysis/surface/air.sig995.2018.nc\"\n",
    "ds = xr.open_dataset(url)"
   ]
  },
  {
   "cell_type": "code",
   "execution_count": null,
   "metadata": {},
   "outputs": [],
   "source": [
    "ds.keys()"
   ]
  },
  {
   "cell_type": "markdown",
   "metadata": {},
   "source": [
    "### <font color='blue'>Work With the NetCDF Data Structure </font>\n",
    "\n",
    "- An Xarray contains metadata making it self-describing. \n",
    "- There are three dimensions to consider when working with this data which represent the x,y and z dimensions of the data: latitude/longitude/time.\n",
    "- This particular dataset contains global time series of surface air temperatures for 2018."
   ]
  },
  {
   "cell_type": "markdown",
   "metadata": {},
   "source": [
    "**Get the Air Temperature dataset**"
   ]
  },
  {
   "cell_type": "code",
   "execution_count": null,
   "metadata": {},
   "outputs": [],
   "source": [
    "air_temp = ds.air\n",
    "air_temp"
   ]
  },
  {
   "cell_type": "markdown",
   "metadata": {},
   "source": [
    "**Get latitude/longitude information**"
   ]
  },
  {
   "cell_type": "markdown",
   "metadata": {},
   "source": [
    "Latitude values:"
   ]
  },
  {
   "cell_type": "code",
   "execution_count": null,
   "metadata": {},
   "outputs": [],
   "source": [
    "air_temp['lat'].values"
   ]
  },
  {
   "cell_type": "code",
   "execution_count": null,
   "metadata": {},
   "outputs": [],
   "source": [
    "air_temp['lat'].attrs"
   ]
  },
  {
   "cell_type": "markdown",
   "metadata": {},
   "source": [
    "Minimum/Maximum latidtude and longitude:"
   ]
  },
  {
   "cell_type": "code",
   "execution_count": null,
   "metadata": {},
   "outputs": [],
   "source": [
    "print(\"The min and max latitude values in the data is:\", \n",
    "      air_temp['lat'].values.min(), air_temp['lat'].values.max())"
   ]
  },
  {
   "cell_type": "code",
   "execution_count": null,
   "metadata": {},
   "outputs": [],
   "source": [
    "print(\"The min and max longitude values in the data is:\", \n",
    "      air_temp['lon'].values.min(), air_temp['lon'].values.max())"
   ]
  },
  {
   "cell_type": "markdown",
   "metadata": {},
   "source": [
    "**Get the time information**"
   ]
  },
  {
   "cell_type": "code",
   "execution_count": null,
   "metadata": {},
   "outputs": [],
   "source": [
    "air_temp[\"time\"].values"
   ]
  },
  {
   "cell_type": "code",
   "execution_count": null,
   "metadata": {},
   "outputs": [],
   "source": [
    "print(\"The earliest date in the data is:\", air_temp[\"time\"].values.min())\n",
    "print(\"The latest   date in the data is:\", air_temp[\"time\"].values.max())  "
   ]
  },
  {
   "cell_type": "code",
   "execution_count": null,
   "metadata": {},
   "outputs": [],
   "source": [
    "print(type(air_temp[\"time\"].values))\n",
    "print(air_temp[\"time\"].values.shape)"
   ]
  },
  {
   "cell_type": "markdown",
   "metadata": {},
   "source": [
    "**Self describing dataset**"
   ]
  },
  {
   "cell_type": "code",
   "execution_count": null,
   "metadata": {},
   "outputs": [],
   "source": [
    "metadata = air_temp.attrs\n",
    "metadata"
   ]
  },
  {
   "cell_type": "code",
   "execution_count": null,
   "metadata": {},
   "outputs": [],
   "source": [
    "print(metadata['units'])"
   ]
  },
  {
   "cell_type": "markdown",
   "metadata": {},
   "source": [
    "**Slicing the data**"
   ]
  },
  {
   "cell_type": "markdown",
   "metadata": {},
   "source": [
    "Select a single x, y combination from the data:"
   ]
  },
  {
   "cell_type": "code",
   "execution_count": null,
   "metadata": {},
   "outputs": [],
   "source": [
    "key = 50\n",
    "longitude = air_temp[\"lon\"].values[key]\n",
    "latitude = air_temp[\"lat\"].values[key]\n",
    "\n",
    "print(\"Longitude = {} \\n Latitude = {}\".format(longitude, latitude))"
   ]
  },
  {
   "cell_type": "code",
   "execution_count": null,
   "metadata": {},
   "outputs": [],
   "source": [
    "fig = plt.figure(figsize=(12, 9))\n",
    "map_projection = ccrs.PlateCarree()\n",
    "data_transform = ccrs.PlateCarree()\n",
    "\n",
    "ax = plt.axes(projection=map_projection)\n",
    "ax.stock_img()\n",
    "\n",
    "# Plot the selected location \n",
    "plt.plot([longitude], [latitude], 'r*', \n",
    "        transform=data_transform,\n",
    "        color=\"purple\", \n",
    "         markersize=10)\n",
    "\n",
    "ax.set(title=\"Location of the Latitude/Longitude Being Used to Slice Your netcdf Climate Data File\")"
   ]
  },
  {
   "cell_type": "code",
   "execution_count": null,
   "metadata": {},
   "outputs": [],
   "source": [
    "one_point = air_temp.sel(lat=latitude, lon=longitude)\n",
    "one_point"
   ]
  },
  {
   "cell_type": "markdown",
   "metadata": {},
   "source": [
    "- When you slice the data by a single point, the output data only has a single array of values. \n",
    "- The values represent air temperature (in K) over time."
   ]
  },
  {
   "cell_type": "code",
   "execution_count": null,
   "metadata": {},
   "outputs": [],
   "source": [
    "one_point.shape"
   ]
  },
  {
   "cell_type": "markdown",
   "metadata": {},
   "source": [
    "We can get the first few values:"
   ]
  },
  {
   "cell_type": "code",
   "execution_count": null,
   "metadata": {},
   "outputs": [],
   "source": [
    "one_point.values[:5]"
   ]
  },
  {
   "cell_type": "markdown",
   "metadata": {},
   "source": [
    "**Time series plot at a single location**"
   ]
  },
  {
   "cell_type": "code",
   "execution_count": null,
   "metadata": {},
   "outputs": [],
   "source": [
    "one_point.plot.line()"
   ]
  },
  {
   "cell_type": "markdown",
   "metadata": {},
   "source": [
    "You can make the plot a bit prettier by using the Matplotlib plot parameters."
   ]
  },
  {
   "cell_type": "code",
   "execution_count": null,
   "metadata": {},
   "outputs": [],
   "source": [
    "f, ax = plt.subplots(figsize=(12, 6))\n",
    "one_point.plot.line(hue='lat',\n",
    "                    marker=\"o\",\n",
    "                    ax=ax,\n",
    "                    color=\"grey\",\n",
    "                    markerfacecolor=\"purple\",\n",
    "                    markeredgecolor=\"purple\")\n",
    "ax.set(title=\"Time Series For a Single Lat/Lon Location\")"
   ]
  },
  {
   "cell_type": "markdown",
   "metadata": {},
   "source": [
    "### <font color='blue'> Slice the Data By Time and Location</font>\n",
    "- We want to slice the data at a selected lat/lon location and for the months of April to June."
   ]
  },
  {
   "cell_type": "code",
   "execution_count": null,
   "metadata": {},
   "outputs": [],
   "source": [
    "start_date = \"2018-04-01\"\n",
    "end_date = \"2018-06-30\"\n",
    "temp_apr_jun = air_temp.sel(time=slice(start_date, end_date),\n",
    "                            lat=latitude, lon=longitude)\n",
    "temp_apr_jun"
   ]
  },
  {
   "cell_type": "code",
   "execution_count": null,
   "metadata": {},
   "outputs": [],
   "source": [
    "print(temp_apr_jun.shape)"
   ]
  },
  {
   "cell_type": "markdown",
   "metadata": {},
   "source": [
    "We can plot the data:"
   ]
  },
  {
   "cell_type": "code",
   "execution_count": null,
   "metadata": {},
   "outputs": [],
   "source": [
    "# Plot the data just like you did above\n",
    "f, ax = plt.subplots(figsize=(12, 6))\n",
    "temp_apr_jun.plot.line(hue='lat',\n",
    "                         marker=\"o\",\n",
    "                         ax=ax,\n",
    "                         color=\"grey\",\n",
    "                         markerfacecolor=\"purple\",\n",
    "                         markeredgecolor=\"purple\")\n",
    "ax.set(title=\"April-June Time Series of Temperature Data For A Single Location\")"
   ]
  },
  {
   "cell_type": "markdown",
   "metadata": {},
   "source": [
    "### <font color='blue'> Slice The Data Across a Spatial Extent For A Specific Time Period</font>\n",
    "\n",
    "- We use `.sel()` combined with `slice()` to subset the data."
   ]
  },
  {
   "cell_type": "code",
   "execution_count": null,
   "metadata": {},
   "outputs": [],
   "source": [
    "start_date = \"2018-04-01\"\n",
    "end_date = \"2018-04-01\"\n",
    "one_day_data = air_temp.sel(time=slice(start_date, end_date))\n",
    "one_day_data"
   ]
  },
  {
   "cell_type": "code",
   "execution_count": null,
   "metadata": {},
   "outputs": [],
   "source": [
    "one_day_data.shape"
   ]
  },
  {
   "cell_type": "markdown",
   "metadata": {},
   "source": [
    "When we call `.plot()` on the data, the default plot is a histogram representing the range of raster pixel values in your data for all time periods (3 months in this case)."
   ]
  },
  {
   "cell_type": "code",
   "execution_count": null,
   "metadata": {},
   "outputs": [],
   "source": [
    "one_day_data.plot()"
   ]
  },
  {
   "cell_type": "markdown",
   "metadata": {},
   "source": [
    "### <font color='blue'>Spatial Plots</font>\n",
    "- If you want to plot the data spatially as a raster, you can use `.plot()` but specify the lon and lat values as the x and y dimensions to plot. \n",
    "- You can add the following parameters to your .plot() call to make sure each time step in your data plots spatially:\n",
    "    - `col_wrap=`: adjust how how many columns the each subplot is spread across \n",
    "    - `col=`: what dimension is being plotted in each subplot.\n",
    "\n",
    "Here, we want a single raster for each time record in the data so you specify `col='time'`. `col_wrap=2` forces the plots to be on two columns."
   ]
  },
  {
   "cell_type": "code",
   "execution_count": null,
   "metadata": {},
   "outputs": [],
   "source": [
    "one_day_data.plot(x=\"lon\",\n",
    "                  y=\"lat\",\n",
    "                  col=\"time\",\n",
    "                  col_wrap=2)\n",
    "plt.suptitle(\"One day Air Temp\", y = 1.05)"
   ]
  },
  {
   "cell_type": "markdown",
   "metadata": {},
   "source": [
    "**We can plot with Cartopy map projection:**"
   ]
  },
  {
   "cell_type": "code",
   "execution_count": null,
   "metadata": {},
   "outputs": [],
   "source": [
    "map_projection = ccrs.PlateCarree()\n",
    "data_transform = ccrs.PlateCarree()\n",
    "\n",
    "aspect = one_day_data.shape[2] / one_day_data.shape[1]\n",
    "\n",
    "p = one_day_data.plot(transform=data_transform,  # the data's projection\n",
    "                      col='time', col_wrap=2,\n",
    "                      aspect=aspect,\n",
    "                      figsize=(10, 10),\n",
    "                      subplot_kws={'projection': map_projection})  # the plot's projection\n",
    "\n",
    "for ax in p.axes.flat:\n",
    "    ax.coastlines()\n",
    "    #ax.set_extent(extent)\n",
    "\n",
    "plt.suptitle(\"One day Air Temp\", y = 1.0)"
   ]
  },
  {
   "cell_type": "code",
   "execution_count": null,
   "metadata": {},
   "outputs": [],
   "source": []
  },
  {
   "cell_type": "markdown",
   "metadata": {},
   "source": [
    "We can use Cartopy only to do the countour plot:"
   ]
  },
  {
   "cell_type": "code",
   "execution_count": null,
   "metadata": {},
   "outputs": [],
   "source": [
    "data = one_day_data[0].values\n",
    "lats = one_day_data[0]['lat'].values\n",
    "lons = one_day_data[0]['lon'].values\n",
    "\n",
    "ax = plt.axes(projection=map_projection)\n",
    "\n",
    "cp = plt.contourf(lons, lats, data, 60,\n",
    "                  cmap='jet',\n",
    "                  transform=ccrs.PlateCarree())\n",
    "\n",
    "ax.coastlines()\n",
    "plt.colorbar(cp, ax=ax)"
   ]
  },
  {
   "cell_type": "code",
   "execution_count": null,
   "metadata": {},
   "outputs": [],
   "source": [
    "import geoviews as gv\n",
    "import holoviews as hv\n",
    "\n",
    "width = 600\n",
    "height = 540\n",
    "\n",
    "data = one_day_data[0]\n",
    "units = data.units\n",
    "long_name = data.long_name\n",
    "spacing = 80 * \" \"\n",
    "title = f'{long_name} {spacing} {units}'\n",
    "\n",
    "p = data.hvplot(x='lon', y='lat', projection=map_projection,\n",
    "                width=width, height=height, cmap='jet', dynamic=False, \n",
    "                kind='contourf', title=title, \n",
    "                legend='bottom', global_extent=True, \n",
    "                ylabel=f'{data.lat.long_name}[{data.lat.units}]', \n",
    "                xlabel=f'{data.lon.long_name}[{data.lon.units}]'\n",
    "                ) * gv.feature.coastline"
   ]
  },
  {
   "cell_type": "markdown",
   "metadata": {},
   "source": [
    "### <font color='blue'> Perform Correlation Analysis</font>"
   ]
  },
  {
   "cell_type": "markdown",
   "metadata": {},
   "source": [
    "Group the dataset by month:"
   ]
  },
  {
   "cell_type": "code",
   "execution_count": null,
   "metadata": {},
   "outputs": [],
   "source": [
    "grp_air_temp  = air_temp.groupby('time.month')"
   ]
  },
  {
   "cell_type": "code",
   "execution_count": null,
   "metadata": {},
   "outputs": [],
   "source": [
    "grp_air_temp"
   ]
  },
  {
   "cell_type": "markdown",
   "metadata": {},
   "source": [
    "Compute the monthly climatologies:"
   ]
  },
  {
   "cell_type": "code",
   "execution_count": null,
   "metadata": {},
   "outputs": [],
   "source": [
    "air_temp_clim = grp_air_temp.mean(dim='time')"
   ]
  },
  {
   "cell_type": "code",
   "execution_count": null,
   "metadata": {},
   "outputs": [],
   "source": [
    "air_temp_clim"
   ]
  },
  {
   "cell_type": "markdown",
   "metadata": {},
   "source": [
    "Compute the anomaly:"
   ]
  },
  {
   "cell_type": "code",
   "execution_count": null,
   "metadata": {},
   "outputs": [],
   "source": [
    "air_temp_anom = grp_air_temp - air_temp_clim"
   ]
  },
  {
   "cell_type": "code",
   "execution_count": null,
   "metadata": {},
   "outputs": [],
   "source": [
    "air_temp_anom"
   ]
  },
  {
   "cell_type": "markdown",
   "metadata": {},
   "source": [
    "Plot the anomaly for the first time record:"
   ]
  },
  {
   "cell_type": "code",
   "execution_count": null,
   "metadata": {},
   "outputs": [],
   "source": [
    "air_temp_anom[0].plot()"
   ]
  },
  {
   "cell_type": "markdown",
   "metadata": {},
   "source": [
    "Plot anomaly time series at a specific location:"
   ]
  },
  {
   "cell_type": "code",
   "execution_count": null,
   "metadata": {},
   "outputs": [],
   "source": [
    "air_temp_ref = air_temp_anom.sel(lon=200, lat=0, method='nearest')\n",
    "air_temp_ref.plot()"
   ]
  },
  {
   "cell_type": "code",
   "execution_count": null,
   "metadata": {},
   "outputs": [],
   "source": [
    "def covariance(x, y, dims=None):\n",
    "    return xr.dot(x - x.mean(dims), y - y.mean(dims), dims=dims) / x.count(dims)\n",
    "\n",
    "def corrrelation(x, y, dims=None):\n",
    "    return covariance(x, y, dims) / (x.std(dims) * y.std(dims))"
   ]
  },
  {
   "cell_type": "code",
   "execution_count": null,
   "metadata": {},
   "outputs": [],
   "source": [
    "air_temp_cor = corrrelation(air_temp_anom, air_temp_ref, dims='time')\n",
    "pc = air_temp_cor.plot()\n",
    "pc.axes.set_title('Correlation btw. global airTemp Anomaly and airTemp Anomaly at one point')"
   ]
  },
  {
   "cell_type": "markdown",
   "metadata": {},
   "source": [
    "Determine the the time series spatial means:"
   ]
  },
  {
   "cell_type": "code",
   "execution_count": null,
   "metadata": {},
   "outputs": [],
   "source": [
    "air_temp_anom_avg = air_temp_anom.mean(dim=['lat', 'lon'])\n",
    "air_temp_anom_avg"
   ]
  },
  {
   "cell_type": "code",
   "execution_count": null,
   "metadata": {},
   "outputs": [],
   "source": [
    "air_temp_anom_avg.plot()"
   ]
  },
  {
   "cell_type": "markdown",
   "metadata": {},
   "source": [
    "## <font color='red'> Exercise</font>\n",
    "\n",
    "Modify the code shown in:\n",
    "\n",
    "[https://www.nccs.nasa.gov/nccs-users/instructional/adapt-instructional/python/xarray-generating-climatology-dataset-using-CMIP6](https://www.nccs.nasa.gov/nccs-users/instructional/adapt-instructional/python/xarray-generating-climatology-dataset-using-CMIP6)\n",
    "\n",
    "to reproduce the plot.\n"
   ]
  },
  {
   "cell_type": "code",
   "execution_count": null,
   "metadata": {},
   "outputs": [],
   "source": []
  },
  {
   "cell_type": "code",
   "execution_count": null,
   "metadata": {},
   "outputs": [],
   "source": [
    "dap_url=\"https://podaac-opendap.jpl.nasa.gov/opendap/allData/ghrsst/data/GDS2/L4/GLOB/JPL/MUR/v4.1/2002/152/20020601090000-JPL-L4_GHRSST-SSTfnd-MUR-GLOB-v02.0-fv04.1.nc\"\n",
    "ds = xr.open_dataset(dap_url)"
   ]
  },
  {
   "cell_type": "code",
   "execution_count": null,
   "metadata": {},
   "outputs": [],
   "source": [
    "ds"
   ]
  },
  {
   "cell_type": "code",
   "execution_count": null,
   "metadata": {},
   "outputs": [],
   "source": [
    "ds = ds.isel(time=0)\n",
    "ds"
   ]
  },
  {
   "cell_type": "code",
   "execution_count": null,
   "metadata": {},
   "outputs": [],
   "source": []
  },
  {
   "cell_type": "code",
   "execution_count": null,
   "metadata": {},
   "outputs": [],
   "source": []
  },
  {
   "cell_type": "code",
   "execution_count": null,
   "metadata": {},
   "outputs": [],
   "source": []
  }
 ],
 "metadata": {
  "anaconda-cloud": {},
  "kernelspec": {
   "display_name": "Python 3",
   "language": "python",
   "name": "python3"
  },
  "language_info": {
   "codemirror_mode": {
    "name": "ipython",
    "version": 3
   },
   "file_extension": ".py",
   "mimetype": "text/x-python",
   "name": "python",
   "nbconvert_exporter": "python",
   "pygments_lexer": "ipython3",
   "version": "3.7.3"
  }
 },
 "nbformat": 4,
 "nbformat_minor": 1
}
