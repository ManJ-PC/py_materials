{
 "cells": [
  {
   "cell_type": "markdown",
   "metadata": {},
   "source": [
    "<font color=\"white\">.</font> | <font color=\"white\">.</font> | <font color=\"white\">.</font>\n",
    "-- | -- | --\n",
    "![NASA](http://www.nasa.gov/sites/all/themes/custom/nasatwo/images/nasa-logo.svg) | <h1><font size=\"+3\">ASTG Python Courses</font></h1> | ![NASA](https://www.nccs.nasa.gov/sites/default/files/NCCS_Logo_0.png)\n",
    "\n",
    "---\n",
    "\n",
    "<center><h1><font color=\"red\" size=\"+3\">Introduction to GeoViews</font></h1></center>"
   ]
  },
  {
   "cell_type": "markdown",
   "metadata": {},
   "source": [
    "## Reference Documents\n",
    "\n",
    "* [GeoViews](https://geoviews.org/)"
   ]
  },
  {
   "cell_type": "markdown",
   "metadata": {},
   "source": [
    "_______"
   ]
  },
  {
   "cell_type": "markdown",
   "metadata": {},
   "source": [
    "---"
   ]
  },
  {
   "cell_type": "markdown",
   "metadata": {},
   "source": [
    "## Required Packages\n",
    "\n",
    "```\n",
    "   Matplotlib\n",
    "   Numpy\n",
    "   netCDF4\n",
    "   Cartopy\n",
    "   holoviews\n",
    "   geoviews (conda install -c pyviz geoviews-core)\n",
    "   Xarray\n",
    "```"
   ]
  },
  {
   "cell_type": "markdown",
   "metadata": {},
   "source": [
    "### <font color=\"red\">Uncomment the line below if in Google Colab</font>"
   ]
  },
  {
   "cell_type": "code",
   "execution_count": null,
   "metadata": {},
   "outputs": [],
   "source": [
    "#!apt-get install libgeos++ libproj-dev proj-data proj-bin\n",
    "#!pip install cython\n",
    "#!pip install cartopy\n",
    "#!pip uninstall -y shapely    # cartopy and shapely aren't friends (early 2020)\n",
    "#!pip install shapely --no-binary shapely\n",
    "#!pip install geoviews\n",
    "#!pip install xarray"
   ]
  },
  {
   "cell_type": "code",
   "execution_count": null,
   "metadata": {},
   "outputs": [],
   "source": [
    "import warnings\n",
    "warnings.filterwarnings(\"ignore\")"
   ]
  },
  {
   "cell_type": "code",
   "execution_count": null,
   "metadata": {},
   "outputs": [],
   "source": [
    "%matplotlib inline\n",
    "import matplotlib.pyplot as plt\n",
    "from matplotlib import cm\n",
    "import matplotlib.ticker as mticker"
   ]
  },
  {
   "cell_type": "code",
   "execution_count": null,
   "metadata": {},
   "outputs": [],
   "source": [
    "import cartopy\n",
    "import cartopy.crs as crs\n",
    "import cartopy.feature as cf\n",
    "import cartopy.io.shapereader as shapereader\n",
    "from cartopy.mpl.ticker import LongitudeFormatter, LatitudeFormatter"
   ]
  },
  {
   "cell_type": "code",
   "execution_count": null,
   "metadata": {},
   "outputs": [],
   "source": [
    "import netCDF4 as nc4\n",
    "import numpy as np\n",
    "import pandas as pd\n",
    "import xarray as xr"
   ]
  },
  {
   "cell_type": "code",
   "execution_count": null,
   "metadata": {},
   "outputs": [],
   "source": [
    "import holoviews as hv\n",
    "import geoviews as gv\n",
    "import geoviews.feature as gf\n",
    "import geoviews.tile_sources as gts\n",
    "from geoviews import dim\n",
    "from geoviews import opts"
   ]
  },
  {
   "cell_type": "code",
   "execution_count": null,
   "metadata": {},
   "outputs": [],
   "source": [
    "print(f\"Version of Numpy:     {np.__version__}\")\n",
    "print(f\"Version of Pandas:    {pd.__version__}\")\n",
    "print(f\"Version of netCDF4:   {nc4.__version__}\")\n",
    "print(f\"Version of Xarray:    {xr.__version__}\")\n",
    "print(f\"Version of Cartopy:   {cartopy.__version__}\")\n",
    "print(f\"Version of HoloViews: {hv.__version__}\")\n",
    "print(f\"Version of GeoViews:  {gv.__version__}\")"
   ]
  },
  {
   "cell_type": "markdown",
   "metadata": {},
   "source": [
    "# <font color=\"red\">What is GeosViews? </font>\n",
    "\n",
    "- `GeoViews` (Geographic visualizations for HoloViews) is built on the HoloViews library for building flexible visualizations of multidimensional data.\n",
    "- Adds a family of geographic plot types based on `Cartopy`.\n",
    "- It does not create maps on its own, instead, it uses one of the `Bokeh` or `Matplotlib` as a backend to create maps. \n",
    "   - We can set whichever backend we want to use and then create maps using that backend. \n",
    "- What projections?\n",
    "   - GeoViews provides a library of HoloViews Element types which make it easy to plot data on various geographic projections and other utilities to plot in geographic coordinate systems.\n",
    "   - Elements are wrappers around the data along with some declaration about its dimensions.\n",
    "   - Compared to HoloViews, a GeoViews element includes a Cartopy coordinate reference system (`crs` parameter) declaring the coordinate system of the data that allows the data to be automatically projected to the desired projection.\n",
    "- What types of data are manipulated?\n",
    "   - GeoViews is designed to work well with the Iris and Xarray libraries for working with multidimensional arrays, such as those stored in netCDF files. \n",
    "   - GeoViews also accepts data as NumPy arrays and Pandas data frames. \n",
    "   - In each case, the data can be left stored in its original, native format, wrapped in a HoloViews or GeoViews object that provides instant interactive visualizations.\n",
    "\n",
    ">GeoViews is a Python library that makes it easy to explore and visualize geographical, meteorological, and oceanographic datasets, such as those used in weather, climate, and remote sensing research.\n"
   ]
  },
  {
   "cell_type": "markdown",
   "metadata": {},
   "source": [
    "### <font color=\"blue\">Setting the Backend</font>\n",
    "\n"
   ]
  },
  {
   "cell_type": "code",
   "execution_count": null,
   "metadata": {},
   "outputs": [],
   "source": [
    "gv.extension('bokeh', 'matplotlib')"
   ]
  },
  {
   "cell_type": "markdown",
   "metadata": {},
   "source": [
    "# <font color=\"red\">Recall from HoloViews</font>\n",
    "\n",
    "### <font color=\"blue\">Merging Graphs</font>\n",
    "You can merge graph objects using two operations:\n",
    "\n",
    "- `+`: Puts graphs next to each other.\n",
    "- `*`: Overlays graphs on one another to create one single graph combining all individuals.\n",
    "\n",
    "### <font color=\"blue\">Adding Style Options</font>\n",
    "\n",
    "We can specify:\n",
    "\n",
    "- **Style options**: Used by the renderer (Matplotlib, Bokeh). These are things like coloring, line thickness, etc..\n",
    "- **Plot options**: Control how the graphic is built. These are things like whether or not to display a title or show a grid.\n",
    "\n",
    "We can specify these options as a dictionary and then pass them as arguments to the `opts()` method. "
   ]
  },
  {
   "cell_type": "markdown",
   "metadata": {},
   "source": [
    "# <font color=\"red\"> Map Points</font>\n",
    "\n",
    "- In order to plot points on the map showing locations stores, we need to use `Points()` method.\n",
    "- A `Points()` object has parameters including:\n",
    "   - **data**: can be a Pandas DataFrame which has latitude and longitude columns.\n",
    "   - **kdims**: can be a list of two strings where the first string is column name from the DataFrame where `Longitude` information is present and the second string is where `Latitude` information is present. \n",
    "   - **vdims**: can be a list of strings as input which are column names in the DataFrame. \n",
    "\n",
    "\n",
    "\n",
    "Let us consider several cities around the world defined by their latitude/longitude coordinates."
   ]
  },
  {
   "cell_type": "code",
   "execution_count": null,
   "metadata": {},
   "outputs": [],
   "source": [
    "paris = (2.35, 48.85, \"Paris\")\n",
    "new_york = (-73.92, 40.69, \"New York\")\n",
    "mumbai = (72.83, 28.35, \"Mumbai\")\n",
    "tokyo = (139.69, 35.68, \"Tokyo\")\n",
    "moscow = (37.36, 55.45, \"Moscow\")\n",
    "mexico_city = (-99.13, 19.43, \"Mexico City\")\n",
    "sao_paulo = (-46.63, -23.55, \"Sao Paulo\")\n",
    "yaounde = (11.50, 3.84, \"Yaounde\")\n",
    "vancouver = (-123.08, 49.32, \"Vacouver\")\n",
    "sydney = (151.20, -33.87, \"Sydney\")\n",
    "harare = (31.0, -18.0, \"Harare\")"
   ]
  },
  {
   "cell_type": "markdown",
   "metadata": {},
   "source": [
    "We can create a GeosViews point object:"
   ]
  },
  {
   "cell_type": "code",
   "execution_count": null,
   "metadata": {},
   "outputs": [],
   "source": [
    "cities = gv.Points([paris, new_york, mumbai, tokyo, moscow, mexico_city,\n",
    "                   sao_paulo, yaounde, vancouver, sydney, harare], \n",
    "                   vdims=\"City\")"
   ]
  },
  {
   "cell_type": "code",
   "execution_count": null,
   "metadata": {},
   "outputs": [],
   "source": [
    "cities.data"
   ]
  },
  {
   "cell_type": "code",
   "execution_count": null,
   "metadata": {},
   "outputs": [],
   "source": [
    "cities.kdims"
   ]
  },
  {
   "cell_type": "code",
   "execution_count": null,
   "metadata": {},
   "outputs": [],
   "source": [
    "cities.vdims"
   ]
  },
  {
   "cell_type": "markdown",
   "metadata": {},
   "source": [
    "We can plot the coordinates:"
   ]
  },
  {
   "cell_type": "code",
   "execution_count": null,
   "metadata": {},
   "outputs": [],
   "source": [
    "cities"
   ]
  },
  {
   "cell_type": "markdown",
   "metadata": {},
   "source": [
    "The `opts()` method can be called on an instance of `Points` by giving a list of parameters and their values one after another."
   ]
  },
  {
   "cell_type": "code",
   "execution_count": null,
   "metadata": {},
   "outputs": [],
   "source": [
    "cities.opts(global_extent=True, \n",
    "                        width=500, \n",
    "                        height=475, \n",
    "                        size=2, color=\"red\")"
   ]
  },
  {
   "cell_type": "code",
   "execution_count": null,
   "metadata": {},
   "outputs": [],
   "source": [
    "cities.opts(opts.Points(global_extent=True, \n",
    "                        width=500, \n",
    "                        height=475, \n",
    "                        size=2, color=\"red\"))"
   ]
  },
  {
   "cell_type": "markdown",
   "metadata": {},
   "source": [
    "#### WMTS - Tile Sources\n",
    "\n",
    "- GeoViews provides a number of base maps by default, provided by CartoDB, Stamen, OpenStreetMap, Esri and Wikipedia.\n",
    "- They can be imported from the `geoviews.tile_sources` module."
   ]
  },
  {
   "cell_type": "code",
   "execution_count": null,
   "metadata": {},
   "outputs": [],
   "source": [
    "for name, ts in gts.tile_sources.items():\n",
    "    print(name)"
   ]
  },
  {
   "cell_type": "code",
   "execution_count": null,
   "metadata": {},
   "outputs": [],
   "source": [
    "gv.Layout([ts.relabel(name) for name, ts in gts.tile_sources.items()]).opts(\n",
    " \"WMTS\", xaxis=None, yaxis=None, width=225, height=225).cols(3)"
   ]
  },
  {
   "cell_type": "markdown",
   "metadata": {},
   "source": [
    "We can select one of the maps:"
   ]
  },
  {
   "cell_type": "code",
   "execution_count": null,
   "metadata": {},
   "outputs": [],
   "source": [
    "gv.tile_sources.OSM.opts( width=600, height=400)"
   ]
  },
  {
   "cell_type": "markdown",
   "metadata": {},
   "source": [
    "We can now plot the cities on the map:"
   ]
  },
  {
   "cell_type": "code",
   "execution_count": null,
   "metadata": {},
   "outputs": [],
   "source": [
    "(gv.tile_sources.OSM * cities).opts(\n",
    "    opts.Points(global_extent=True, \n",
    "    width=600, height=400, \n",
    "    size=3, color=\"red\")\n",
    ")"
   ]
  },
  {
   "cell_type": "markdown",
   "metadata": {},
   "source": [
    "#### Using Cartopy Map Projections\n",
    "\n",
    "- GeoViews supports all projections defined in Cartopy."
   ]
  },
  {
   "cell_type": "code",
   "execution_count": null,
   "metadata": {},
   "outputs": [],
   "source": [
    "projections = [crs.PlateCarree, crs.RotatedPole, crs.LambertCylindrical, \n",
    "               crs.Geostationary, crs.AzimuthalEquidistant, crs.OSGB, \n",
    "               crs.EuroPP, crs.Gnomonic, crs.Mollweide, crs.OSNI, \n",
    "               crs.Miller, crs.InterruptedGoodeHomolosine, \n",
    "               crs.SouthPolarStereo, crs.Orthographic, \n",
    "               crs.NorthPolarStereo, crs.Robinson,\n",
    "               crs.LambertConformal, crs.AlbersEqualArea]\n",
    "proj_layout = gv.Layout([gf.coastline.relabel(group=p.__name__).opts(projection=p(), backend=\"matplotlib\")\n",
    " for p in projections])\n",
    "gv.output(proj_layout, backend=\"matplotlib\")"
   ]
  },
  {
   "cell_type": "code",
   "execution_count": null,
   "metadata": {},
   "outputs": [],
   "source": [
    "(gf.coastline*cities).options(opts.Points(projection=crs.PlateCarree(), \n",
    "                                          width=800, height=400, \n",
    "                                          size=3, color='red'))"
   ]
  },
  {
   "cell_type": "markdown",
   "metadata": {},
   "source": [
    "#### Adding Features"
   ]
  },
  {
   "cell_type": "code",
   "execution_count": null,
   "metadata": {},
   "outputs": [],
   "source": [
    "(gf.ocean + gf.land + gf.ocean * gf.land * gf.coastline * gf.borders).cols(1)"
   ]
  },
  {
   "cell_type": "code",
   "execution_count": null,
   "metadata": {},
   "outputs": [],
   "source": [
    "features = gv.Overlay([gf.ocean, gf.land, gf.rivers, gf.lakes, gf.borders, gf.coastline])\n",
    "\n",
    "gv.output(features, backend='matplotlib', fig='svg', size=300)"
   ]
  },
  {
   "cell_type": "code",
   "execution_count": null,
   "metadata": {},
   "outputs": [],
   "source": [
    "(features * cities).options(\n",
    "    opts.Points(projection=crs.PlateCarree(), width=800, height=400, size=3, color='red'))"
   ]
  },
  {
   "cell_type": "code",
   "execution_count": null,
   "metadata": {},
   "outputs": [],
   "source": [
    "(features * cities).options(\n",
    "    opts.Points(projection=crs.Mollweide(), \n",
    "                width=800, height=400, size=3, color='red')\n",
    ")"
   ]
  },
  {
   "cell_type": "markdown",
   "metadata": {},
   "source": [
    "### <font color=\"blue\"> Populations of World Cities</font>\n",
    "\n",
    "- We want to map world cities where each dot on the map is proportional to the size of the population of that city."
   ]
  },
  {
   "cell_type": "code",
   "execution_count": null,
   "metadata": {},
   "outputs": [],
   "source": [
    "pop_url = \"https://gist.githubusercontent.com/curran/13d30e855d48cdd6f22acdf0afe27286/raw/0635f14817ec634833bb904a47594cc2f5f9dbf8/worldcities_clean.csv\"\n",
    "pop_cities = pd.read_csv(pop_url)\n",
    "pop_cities"
   ]
  },
  {
   "cell_type": "markdown",
   "metadata": {},
   "source": [
    "Create a GeoViews Dataset using a Pandas DataFrame:"
   ]
  },
  {
   "cell_type": "code",
   "execution_count": null,
   "metadata": {},
   "outputs": [],
   "source": [
    "population = gv.Dataset(pop_cities, kdims=['city', 'country'])"
   ]
  },
  {
   "cell_type": "code",
   "execution_count": null,
   "metadata": {},
   "outputs": [],
   "source": [
    "type(population)"
   ]
  },
  {
   "cell_type": "code",
   "execution_count": null,
   "metadata": {},
   "outputs": [],
   "source": [
    "population"
   ]
  },
  {
   "cell_type": "code",
   "execution_count": null,
   "metadata": {},
   "outputs": [],
   "source": [
    "population.data"
   ]
  },
  {
   "cell_type": "code",
   "execution_count": null,
   "metadata": {},
   "outputs": [],
   "source": [
    "population.kdims"
   ]
  },
  {
   "cell_type": "markdown",
   "metadata": {},
   "source": [
    "We can create a `Points` from a `Dataset`:"
   ]
  },
  {
   "cell_type": "code",
   "execution_count": null,
   "metadata": {},
   "outputs": [],
   "source": [
    "points = population.to(\n",
    "    gv.Points, \n",
    "    ['lng', 'lat'], \n",
    "    ['population', 'city', 'country']\n",
    ")"
   ]
  },
  {
   "cell_type": "code",
   "execution_count": null,
   "metadata": {},
   "outputs": [],
   "source": [
    "type(points)"
   ]
  },
  {
   "cell_type": "code",
   "execution_count": null,
   "metadata": {},
   "outputs": [],
   "source": [
    "points.data"
   ]
  },
  {
   "cell_type": "code",
   "execution_count": null,
   "metadata": {},
   "outputs": [],
   "source": [
    "points.kdims"
   ]
  },
  {
   "cell_type": "code",
   "execution_count": null,
   "metadata": {},
   "outputs": [],
   "source": [
    "points.vdims"
   ]
  },
  {
   "cell_type": "markdown",
   "metadata": {},
   "source": [
    "We select the base map we want to use:"
   ]
  },
  {
   "cell_type": "code",
   "execution_count": null,
   "metadata": {},
   "outputs": [],
   "source": [
    "tiles = gv.tile_sources.Wikipedia"
   ]
  },
  {
   "cell_type": "markdown",
   "metadata": {},
   "source": [
    "We can now overlay the map and the points:\n",
    "- Pay attention to the `hover` feature"
   ]
  },
  {
   "cell_type": "code",
   "execution_count": null,
   "metadata": {},
   "outputs": [],
   "source": [
    "tiles * points.opts(\n",
    "    color='population', \n",
    "    cmap='viridis', \n",
    "    size=dim('population')*0.000001,\n",
    "    tools=['hover'], \n",
    "    global_extent=True, \n",
    "    width=600, height=600\n",
    ")"
   ]
  },
  {
   "cell_type": "markdown",
   "metadata": {},
   "source": [
    "### <font color=\"blue\">Using Natural Earth Database</font>\n",
    "\n",
    "We can use the Natural Earth database and select the resolution of the features:"
   ]
  },
  {
   "cell_type": "code",
   "execution_count": null,
   "metadata": {},
   "outputs": [],
   "source": [
    "graticules = cf.NaturalEarthFeature(\n",
    "    category='physical',\n",
    "    name='graticules_30', # graticules at 30 degree intervals\n",
    "    scale='110m',\n",
    ")\n",
    "\n",
    "(gf.ocean() * gf.land() * gv.Feature(graticules, group='Lines') * gf.borders * gf.coastline).opts(\n",
    "    opts.Feature('Lines', projection=crs.Robinson(), facecolor='none', edgecolor='gray'), backend='matplotlib')"
   ]
  },
  {
   "cell_type": "markdown",
   "metadata": {},
   "source": [
    "We can control the scale of features by using the `scale` plot option (`10m`, `50m` and `110m`):"
   ]
  },
  {
   "cell_type": "code",
   "execution_count": null,
   "metadata": {},
   "outputs": [],
   "source": [
    "gv.output(backend='bokeh')\n",
    "\n",
    "(gf.ocean * gf.land.options(scale='110m', global_extent=True) * gv.Feature(graticules, group='Lines') + \n",
    " gf.ocean * gf.land.options(scale='50m', global_extent=True) * gv.Feature(graticules, group='Lines'))"
   ]
  },
  {
   "cell_type": "code",
   "execution_count": null,
   "metadata": {},
   "outputs": [],
   "source": [
    "(gf.ocean * gf.land.options(scale='110m', global_extent=True) * gv.Feature(graticules, group='Lines'))*cities"
   ]
  },
  {
   "cell_type": "markdown",
   "metadata": {},
   "source": [
    "We can use the `geoms` method to specify a `scale` and a `bounds` to select a specific region of the globe:"
   ]
  },
  {
   "cell_type": "code",
   "execution_count": null,
   "metadata": {},
   "outputs": [],
   "source": [
    "gf.land.geoms('50m', bounds=(-10, 40, 10, 60))"
   ]
  },
  {
   "cell_type": "markdown",
   "metadata": {},
   "source": [
    "## <font color='blue'>Overlaying Gridded Data</font>\n",
    "\n",
    "- GeoViews is designed to make full use of multidimensional gridded datasets stored in netCDF or other common formats, via the Xarray and `iris` interfaces in HoloViews."
   ]
  },
  {
   "cell_type": "markdown",
   "metadata": {},
   "source": [
    "### Basic Map\n",
    "\n",
    "- We create synthetic geo-located data and plot them using Cartopy."
   ]
  },
  {
   "cell_type": "code",
   "execution_count": null,
   "metadata": {},
   "outputs": [],
   "source": [
    "nlats, nlons = 73, 145\n",
    "lats = np.linspace(-np.pi / 2, np.pi / 2, nlats)\n",
    "lons = np.linspace(0, 2 * np.pi, nlons)\n",
    "\n",
    "# Create a mesh grid\n",
    "lons, lats = np.meshgrid(lons, lats)\n",
    "wave = 0.75 * (np.sin(2 * lats) ** 8) * np.cos(4 * lons)\n",
    "mean = 0.5 * np.cos(2 * lats) * ((np.sin(2 * lats)) ** 2 + 2)\n",
    "\n",
    "lats = np.rad2deg(lats)\n",
    "lons = np.rad2deg(lons)\n",
    "data = wave + mean"
   ]
  },
  {
   "cell_type": "markdown",
   "metadata": {},
   "source": [
    "Do a filled countour plot:"
   ]
  },
  {
   "cell_type": "code",
   "execution_count": null,
   "metadata": {},
   "outputs": [],
   "source": [
    "contours = gv.FilledContours((lons, lats, data), crs=crs.PlateCarree())"
   ]
  },
  {
   "cell_type": "code",
   "execution_count": null,
   "metadata": {},
   "outputs": [],
   "source": [
    "contours.data"
   ]
  },
  {
   "cell_type": "code",
   "execution_count": null,
   "metadata": {},
   "outputs": [],
   "source": [
    "contours"
   ]
  },
  {
   "cell_type": "markdown",
   "metadata": {},
   "source": [
    "We can now include coaslines:"
   ]
  },
  {
   "cell_type": "code",
   "execution_count": null,
   "metadata": {},
   "outputs": [],
   "source": [
    "(contours*gf.coastline).opts(opts.FilledContours(\n",
    "    levels=8, color_levels=10, \n",
    "    cmap='RdBu',\n",
    "    colorbar=True, \n",
    "    width=600, height=300, \n",
    "    projection=crs.PlateCarree())\n",
    "                            )"
   ]
  },
  {
   "cell_type": "markdown",
   "metadata": {},
   "source": [
    "### Manipulating Gridded Time Series Dataset\n",
    "\n",
    "We use here GEOS-5 MERRA2 datasets."
   ]
  },
  {
   "cell_type": "markdown",
   "metadata": {},
   "source": [
    "#### We first read the netCDF file using Xarray"
   ]
  },
  {
   "cell_type": "code",
   "execution_count": null,
   "metadata": {},
   "outputs": [],
   "source": [
    "import urllib\n",
    "url = \"https://git.mysmce.com/astg/training/py_materials/-/raw/master/geoviews/MEERA2_ps_monthly_2020.nc4\"\n",
    "loc_fname = \"MERRA2_ps_monthly_2020.nc4\"\n",
    "urllib.request.urlretrieve(url, loc_fname)"
   ]
  },
  {
   "cell_type": "code",
   "execution_count": null,
   "metadata": {},
   "outputs": [],
   "source": [
    "%env HDF5_USE_FILE_LOCKING=FALSE"
   ]
  },
  {
   "cell_type": "code",
   "execution_count": null,
   "metadata": {},
   "outputs": [],
   "source": [
    "xr.set_options(file_cache_maxsize=10)"
   ]
  },
  {
   "cell_type": "code",
   "execution_count": null,
   "metadata": {},
   "outputs": [],
   "source": [
    "ps_xr = xr.open_dataset(loc_fname)\n",
    "ps_xr"
   ]
  },
  {
   "cell_type": "markdown",
   "metadata": {},
   "source": [
    "#### We wrap the Xarray Dataset into a GeoViews Dataset Element\n",
    "\n",
    "We need to define the:\n",
    "- Key dimensions: `kdims`\n",
    "- Value dimensions: `vdims`"
   ]
  },
  {
   "cell_type": "code",
   "execution_count": null,
   "metadata": {},
   "outputs": [],
   "source": [
    "kdims = ['time', 'lon', 'lat']\n",
    "vdims = ['ps']\n",
    "\n",
    "gv_dataset = gv.Dataset(ps_xr, kdims=kdims, vdims=vdims)"
   ]
  },
  {
   "cell_type": "code",
   "execution_count": null,
   "metadata": {},
   "outputs": [],
   "source": [
    "print(repr(gv_dataset))"
   ]
  },
  {
   "cell_type": "markdown",
   "metadata": {},
   "source": [
    "Create a custom value formatter for the time dimension so that it is readable by humans:"
   ]
  },
  {
   "cell_type": "code",
   "execution_count": null,
   "metadata": {},
   "outputs": [],
   "source": [
    "gv_dataset.get_dimension_type('time')"
   ]
  },
  {
   "cell_type": "code",
   "execution_count": null,
   "metadata": {},
   "outputs": [],
   "source": [
    "hv.Dimension.type_formatters[np.datetime64] = '%Y-%m-%d'"
   ]
  },
  {
   "cell_type": "markdown",
   "metadata": {},
   "source": [
    "Plot the data as an image:"
   ]
  },
  {
   "cell_type": "code",
   "execution_count": null,
   "metadata": {},
   "outputs": [],
   "source": [
    "gv_dataset.to(gv.Image, ['lon', 'lat'])"
   ]
  },
  {
   "cell_type": "code",
   "execution_count": null,
   "metadata": {},
   "outputs": [],
   "source": [
    "(gv_dataset.to.image(['lon', 'lat']) * gf.coastline).opts(\n",
    "    opts.Image(cmap='jet', xaxis=None, yaxis=None))"
   ]
  },
  {
   "cell_type": "code",
   "execution_count": null,
   "metadata": {},
   "outputs": [],
   "source": [
    "ps_curve = hv.Curve(gv_dataset.select(lon=0, lat=10), kdims=['time'])\n",
    "\n",
    "ps_map = gv_dataset.to(gv.Image,['lon', 'lat']) * gv.Points([(0,10)])\n",
    "\n",
    "(ps_map + ps_curve).opts(\n",
    "    opts.Curve(aspect=2, xticks=4, xrotation=15),\n",
    "    opts.Points(color='k', global_extent=True)\n",
    ")"
   ]
  },
  {
   "cell_type": "markdown",
   "metadata": {},
   "source": [
    "Do contour plots:"
   ]
  },
  {
   "cell_type": "code",
   "execution_count": null,
   "metadata": {},
   "outputs": [],
   "source": [
    "ps_contour = gv_dataset.to(gv.FilledContours, ['lon', 'lat'])\n",
    "ps_contour"
   ]
  },
  {
   "cell_type": "code",
   "execution_count": null,
   "metadata": {},
   "outputs": [],
   "source": [
    "ps_contour.opts(width=600, height=300)"
   ]
  },
  {
   "cell_type": "code",
   "execution_count": null,
   "metadata": {},
   "outputs": [],
   "source": [
    "(ps_contour * gf.coastline).opts(width=600, height=300)"
   ]
  },
  {
   "cell_type": "code",
   "execution_count": null,
   "metadata": {},
   "outputs": [],
   "source": [
    "(ps_contour*gf.coastline).opts(\n",
    "    opts.FilledContours(levels=8, color_levels=10, \n",
    "                        cmap='jet', colorbar=True, \n",
    "                        width=600, height=300, \n",
    "                        projection=crs.PlateCarree())\n",
    ")"
   ]
  },
  {
   "cell_type": "code",
   "execution_count": null,
   "metadata": {},
   "outputs": [],
   "source": []
  }
 ],
 "metadata": {
  "anaconda-cloud": {},
  "kernelspec": {
   "display_name": "Python 3 (ipykernel)",
   "language": "python",
   "name": "python3"
  },
  "language_info": {
   "codemirror_mode": {
    "name": "ipython",
    "version": 3
   },
   "file_extension": ".py",
   "mimetype": "text/x-python",
   "name": "python",
   "nbconvert_exporter": "python",
   "pygments_lexer": "ipython3",
   "version": "3.8.2"
  }
 },
 "nbformat": 4,
 "nbformat_minor": 1
}
