{
 "cells": [
  {
   "cell_type": "code",
   "execution_count": 1,
   "metadata": {},
   "outputs": [],
   "source": [
    "from IPython.core.interactiveshell import InteractiveShell\n",
    "InteractiveShell.ast_node_interactivity = \"all\""
   ]
  },
  {
   "cell_type": "markdown",
   "metadata": {},
   "source": [
    "![NASA](http://www.nasa.gov/sites/all/themes/custom/nasatwo/images/nasa-logo.svg)\n",
    "\n",
    "<center>\n",
    "<h1><font size=\"+3\">NCCS Training Course Series</font></h1>\n",
    "</center>\n",
    "\n",
    "---\n",
    "\n",
    "<center>\n",
    "    <h1><font color=\"red\">Introduction to Machine Learning</font></h1>\n",
    "</center>"
   ]
  },
  {
   "cell_type": "markdown",
   "metadata": {},
   "source": [
    "## What We Will Cover\n",
    "\n",
    "- What is Machine Learning (ML)?\n",
    "- How Does ML Work?\n",
    "- ML Algorithms\n",
    "- Importance of ML\n",
    "- Some Real Life Applications"
   ]
  },
  {
   "cell_type": "markdown",
   "metadata": {},
   "source": [
    "## Useful Links\n",
    "\n",
    "<OL>\n",
    "    <LI> <A HREF=\"http://ciml.info/dl/v0_8/ciml-v0_8-all.pdf\"> A Course in Machine Learning </A>\n",
    "<LI> <A HREF=\"https://www.guru99.com/machine-learning-tutorial.html\"> What is Machine Learning? A Beginners Tutorial </A>\n",
    "<LI> <A HREF=\"https://galaxyproject.github.io/training-material/topics/statistics/tutorials/machinelearning/tutorial.html\"> Basic of Machine Learning </A>\n",
    "<LI> <A HREF=\"https://www.toptal.com/machine-learning/machine-learning-theory-an-introductory-primer\"> An Introduction to Machine Learning Theory and Its Applications: A Visual Tutorial with Examples</A>\n",
    "<LI> <A HREF=\"https://machinelearningmastery.com/start-here/\"> Need Help Getting Started with Applied Machine Learning?</A>\n",
    "    <LI> <A HREF=\"https://developers.google.com/machine-learning/glossary\"> Machine Learning Glossary</A>\n",
    "</OL>"
   ]
  },
  {
   "cell_type": "markdown",
   "metadata": {},
   "source": [
    "## <font color=\"red\">What is ML?</font>\n",
    "\n",
    "- A system that can learn from example through self-improvement and without being explicitly coded by programmer.\n",
    "- Uses techniques from statistics, mathematics and computer science to make computer programs learn from data to predict an output. \n",
    "- Learns how the input and output data are correlated and it writes a rule to derive outputs from new inputs.\n",
    "\n",
    "**\"Machine learning is the study of computer algorithms that allow computer programs to automatically improve through experience.\"** ( Tom M. Mitchell)"
   ]
  },
  {
   "cell_type": "markdown",
   "metadata": {},
   "source": [
    "## <font color=\"red\">How does ML Work?</font>\n",
    "\n",
    "<UL>\n",
    "    <LI> To make an accurate prediction, ML sees an example, and when give a similar example, it can figure out the outcome. \n",
    "<LI>The core objective of ML is the <b>learning</b> and <b>inference</b>.\n",
    "    <OL>\n",
    "        <LI> ML learns through the discovery of patterns that is made thanks to the <b>data</b>.\n",
    "            <LI> The list of attributes used to solve a problem is called a <b>feature vector</b>.\n",
    "    </OL>\n",
    "</UL>"
   ]
  },
  {
   "cell_type": "markdown",
   "metadata": {},
   "source": [
    "### Learning\n",
    "\n",
    "- ML uses algorithms to simplify the reality and transform this discovery into a <b>model</b>. \n",
    "- The learning stage is used to describe the data and summarize it into a model.\n",
    "\n",
    "![FIG_AXES](https://www.guru99.com/images/tensorflow/082918_1102_WhatisMachi3.png)\n",
    "Image Source: Guru 99"
   ]
  },
  {
   "cell_type": "markdown",
   "metadata": {},
   "source": [
    "### Inferring\n",
    "- When the model is built, we can test it with new data.\n",
    "- New data are are transformed into a feature vector, go through the model and give a prediction.\n",
    "- The model previously trained (on old data) is used to make inference on new data.\n",
    "\n",
    "![FIG_AXES](https://www.guru99.com/images/tensorflow/082918_1102_WhatisMachi4.png)\n",
    "Image Source: Guru 99"
   ]
  },
  {
   "cell_type": "markdown",
   "metadata": {},
   "source": [
    "### Main Steps of a ML Program\n",
    "\n",
    "<OL>\n",
    "<LI> Define a question\n",
    "<LI> Collect data\n",
    "<LI> Visualize data (if possible)\n",
    "<LI> Train algorithm\n",
    "<LI> Test the Algorithm\n",
    "<LI> Collect feedback\n",
    "<LI> Refine the algorithm\n",
    "<LI> Loop 4-7 until the results are satisfying\n",
    "<LI> Use the model to make a prediction\n",
    "</OL>"
   ]
  },
  {
   "cell_type": "markdown",
   "metadata": {},
   "source": [
    "## <font color=\"red\">ML Algorithms</font>\n",
    "\n",
    "Machine learning can be grouped into two broad learning tasks: \n",
    "<OL>\n",
    "<LI> <b>Supervised Learning: </b> The program is “trained” on a pre-defined set of “training examples”, which then facilitate its ability to reach an accurate conclusion when given new data. \n",
    "<LI> <b>Unsupervised Learning: </b> The program is given a bunch of data and must find patterns and relationships therein. It is used to detect anomalies, outliers, such as fraud or defective equipment, or to group customers with similar behaviors for a sales campaign. There is no labeled data here.\n",
    "</OL>\n",
    "\n",
    "\n",
    "![FIG_AXES](https://www.guru99.com/images/tensorflow/082918_1102_WhatisMachi5.png)\n",
    "Image Source: Guru 99"
   ]
  },
  {
   "cell_type": "markdown",
   "metadata": {},
   "source": [
    "**Supervised Learning Methods**\n",
    "\n",
    "| Algorithm Name\t| Description |\tType |\n",
    "| --- | --- | --- |\n",
    "| Linear regression\t| Finds a way to correlate each feature to the output to help predict future values. |\tRegression |\n",
    "| Logistic regression\t| Extension of linear regression that's used for classification tasks. The output variable is binary (e.g., only black or white) | Classification | \n",
    "|  | rather than continuous (e.g., an infinite list of potential colors). |  |\n",
    "| Decision tree\t |\tHighly interpretable classification or regression model that splits data-feature values into branches at decision nodes | Regression Classification |\n",
    "| | (e.g., if a feature is a color, each possible color becomes a new branch) until a final decision output is made.\t|  |\n",
    "| Naive Bayes\t |\tThe Bayesian method is a classification method that makes use of the Bayesian theorem. The theorem updates the prior | Regression Classification |\n",
    "| | knowledge of an event with the independent probability of each feature that can affect the event. | |\t\n",
    "| Support Vector Machine | SVM, is typically used for the classification task. SVM algorithm finds a hyperplane that optimally divides the classes. | Regression (uncommon) Classification |\n",
    "| | It is best used with a non-linear solver. |  |\t\n",
    "| Random forest |\t\tThe algorithm is built upon a decision tree to improve the accuracy drastically. Random forest generates many simple decision |Regression Classification |\n",
    "| |  trees and uses the 'majority vote' method to decide on which label to return. For the classification task, the final prediction | |\n",
    "| |  will be the one with the most votes; while for the regression task, the average prediction of all the trees is the final prediction.  |\t  |\t\n",
    "| AdaBoost\t |\tClassification or regression technique that uses a multitude of models to come up with a decision but weighs them based on | Regression Classification |\n",
    "| | their accuracy in predicting the outcome.  |\t\t |\t\n",
    "| Gradient-boosting trees\t |\tGradient-boosting trees is a state-of-the-art classification/regression technique. It is focusing on the error committed by the | Regression Classification |\t\n",
    "| | previous trees and tries to correct it. | |\n",
    "\n",
    "\n",
    "**Unsupervised Learning Methods**\n",
    "\n",
    "| Algorithm |\t\tDescription |\t\tType |\t\n",
    "| --- | ---- | --- |\n",
    "| K-means clustering |\tPuts data into some groups (k) that each contains data with similar characteristics (as determined by the model) |\tClustering |\t\n",
    "| Gaussian mixture model |\tA generalization of k-means clustering that provides more flexibility in the size and shape of groups (clusters) |\tClustering |\t\n",
    "| Hierarchical clustering |\tSplits clusters along a hierarchical tree to form a classification system. |\tClustering |\t\n",
    "| Recommender system |\tHelp to define the relevant data for making a recommendation. |\tClustering |\t\n",
    "| PCA/T-SNE |\tMostly used to decrease the dimensionality of the data. The algorithms reduce the number of features to 3 or 4 vectors | Dimension Reduction |\n",
    "| | with the highest variances. | |\t\n",
    "\n",
    "![fig_ML01](https://cdn.educba.com/academy/wp-content/uploads/2018/04/Supervised-vs-Unsupervised-Learning.jpg)"
   ]
  },
  {
   "cell_type": "markdown",
   "metadata": {},
   "source": [
    "## <font color=\"red\">Importance of ML</font>\n",
    "\n",
    "- Great tool to analyze, understand and identify a pattern in the data. \n",
    "- Used to train computers to automate tasks that would be exhaustive or impossible for a human being. \n",
    "- Used to translate the knowledge of an expert into features. "
   ]
  },
  {
   "cell_type": "markdown",
   "metadata": {},
   "source": [
    "## <font color=\"red\">Some Real Applications</font>\n",
    "\n",
    "\n",
    "| Applications\t| Usage | \n",
    "| --- | --- | \n",
    "| Communications\t| Data mining techniques are used in communication sector to predict customer behavior to offer highly targetted and relevant campaigns. | \n",
    "| Insurance\t| Data mining helps insurance companies to price their products profitable and promote new offers to their new or existing customers. | \n",
    "| Education\t| Data mining benefits educators to access student data, predict achievement levels and find students or groups of students which need extra attention. |\n",
    "| | For example, students who are weak in maths subject. | \n",
    "| Manufacturing\t| With the help of Data Mining Manufacturers can predict wear and tear of production assets. They can anticipate maintenance which helps them reduce |\n",
    "| | them to minimize downtime. | \n",
    "| Banking\t| Data mining helps finance sector to get a view of market risks and manage regulatory compliance. It helps banks to identify probable defaulters to decide |\n",
    "| | whether to issue credit cards, loans, etc. | \n",
    "| Retail\t| Data Mining techniques help retail malls and grocery stores identify and arrange most sellable items in the most attentive positions. It helps store owners |\n",
    "| | to comes up with the offer which encourages customers to increase their spending. | \n",
    "| Service Providers\t| Service providers like mobile phone and utility industries use Data Mining to predict the reasons when a customer leaves their company. They analyze |\n",
    "| | billing details, customer service interactions, complaints made to the company to assign each customer a probability score and offers incentives. | \n",
    "| E-Commerce\t| E-commerce websites use Data Mining to offer cross-sells and up-sells through their websites. One of the most famous names is Amazon, who use |\n",
    "| | Data mining techniques to get more customers into their eCommerce store. | \n",
    "| Super Markets\t| Data Mining allows supermarket's develope rules to predict if their shoppers were likely to be expecting. By evaluating their buying pattern, they could |\n",
    "| | find woman customers who are most likely pregnant. They can start targeting products like baby powder, baby shop, diapers and so on. | \n",
    "| Crime Investigation\t| Data Mining helps crime investigation agencies to deploy police workforce (where is a crime most likely to happen and when?), who to search at a |\n",
    "| |  border crossing etc. | \n",
    "| Bioinformatics\t| Data Mining helps to mine biological data from massive datasets gathered in biology and medicine. | \n",
    "| Table Source: | https://www.guru99.com/data-mining-tutorial.html |\n",
    "\n",
    "\n",
    "![FIG_Appls](https://static.javatpoint.com/tutorial/data-mining/images/data-mining-applications.png)\n",
    "Image Source: https://www.javatpoint.com/data-mining"
   ]
  },
  {
   "cell_type": "markdown",
   "metadata": {},
   "source": [
    "## <font color=\"red\">Important Terms</font>\n",
    "\n",
    "**Machine Learning** (ML): Computer model that can learn from and make decisions and predictions based on data.\n",
    "\n",
    "**Training**: The process of determining the ideal parameters comprising a model.\n",
    "\n",
    "**Training Set**: The subset of the dataset used to train a model.\n",
    "\n",
    "**Validation Set**: A subset of the dataset—disjoint from the training set—used in validation.\n",
    "\n",
    "**Validation**: A process used, as part of training, to evaluate the quality of a machine learning model using the validation set. Because the validation set is disjoint from the training set, validation helps ensure that the model’s performance generalizes beyond the training set.\n",
    "\n",
    "**Prediction**: A model output when provided with an input (from feature space).\n",
    "\n",
    "**Feature Space** (input): Input space of the model, where the variables live.\n",
    "\n",
    "**Feature Vector**: Each entry in the feature space is referred to as an n-dimensional feature vector, where `n` is the number of features that define the particular data point.\n",
    "\n",
    "\n",
    "**Label Space** (output): The set of labels or target variables associated with each of the feature vectors make up the label space."
   ]
  },
  {
   "cell_type": "markdown",
   "metadata": {},
   "source": [
    "![FIG_AXES](https://d1m75rqqgidzqn.cloudfront.net/2019/10/what-is-machine-learning-why-python-in-Machine-Learning-553x1024.jpg)\n",
    "Image Source: Vaishali Advani"
   ]
  },
  {
   "cell_type": "code",
   "execution_count": null,
   "metadata": {},
   "outputs": [],
   "source": []
  }
 ],
 "metadata": {
  "anaconda-cloud": {},
  "kernelspec": {
   "display_name": "Python 3",
   "language": "python",
   "name": "python3"
  },
  "language_info": {
   "codemirror_mode": {
    "name": "ipython",
    "version": 3
   },
   "file_extension": ".py",
   "mimetype": "text/x-python",
   "name": "python",
   "nbconvert_exporter": "python",
   "pygments_lexer": "ipython3",
   "version": "3.7.3"
  }
 },
 "nbformat": 4,
 "nbformat_minor": 1
}
