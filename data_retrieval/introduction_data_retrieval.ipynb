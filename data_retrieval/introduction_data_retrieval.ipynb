{
 "cells": [
  {
   "cell_type": "markdown",
   "metadata": {},
   "source": [
    "![NASA](http://www.nasa.gov/sites/all/themes/custom/nasatwo/images/nasa-logo.svg)\n",
    "\n",
    "<center>\n",
    "<h1><font size=\"+3\">GSFC Python Bootcamp</font></h1>\n",
    "</center>\n",
    "\n",
    "---\n",
    "\n",
    "<CENTER>\n",
    "<H1 style=\"color:red\">\n",
    "Data Retrieval with Python\n",
    "</H1>\n",
    "</CENTER>"
   ]
  },
  {
   "cell_type": "code",
   "execution_count": null,
   "metadata": {},
   "outputs": [],
   "source": [
    "from __future__ import print_function"
   ]
  },
  {
   "cell_type": "markdown",
   "metadata": {},
   "source": [
    "## <font color='red'>What will be Covered?</font>"
   ]
  },
  {
   "cell_type": "markdown",
   "metadata": {},
   "source": [
    "+ FTP\n",
    "+ wget\n",
    "+ JSON\n",
    "+ Web Scrapping with JSON"
   ]
  },
  {
   "cell_type": "markdown",
   "metadata": {},
   "source": [
    "## <font color='red'>Reference Documents</font>"
   ]
  },
  {
   "cell_type": "code",
   "execution_count": null,
   "metadata": {},
   "outputs": [],
   "source": [
    "* <a href=\"http://www.blog.pythonlibrary.org/2016/06/23/python-101-an-intro-to-ftplib/\"> Python 101: An Intro to ftplib</a>\n",
    "* <a href=\"http://zetcode.com/python/ftp/\">Python FTP tutorial </a>\n",
    "* <a href=\"https://pythonprogramming.net/urllib-tutorial-python-3/\">Python urllib tutorial for Accessing the Internet </a>\n",
    "* <a href=\"https://realpython.com/python-json/\">Working With JSON Data in Python </a>\n",
    "* <a href=\"\"> </a>\n",
    "* <a href=\"\"> </a>"
   ]
  },
  {
   "cell_type": "markdown",
   "metadata": {},
   "source": [
    "## <font color='red'> FTP </font>"
   ]
  },
  {
   "cell_type": "markdown",
   "metadata": {},
   "source": [
    "<UL>\n",
    "<LI> FTP (File Transfer Protocol) is a fast and convenient way to transfer files over the Internet. \n",
    "<LI> To make FTP work, you need a client (your machine) and a server (the machine to/from which you are putting/getting files).\n",
    "</UL>"
   ]
  },
  {
   "cell_type": "markdown",
   "metadata": {},
   "source": [
    "#### Basic ftp Session"
   ]
  },
  {
   "cell_type": "markdown",
   "metadata": {},
   "source": [
    "- You first need to connect to a server."
   ]
  },
  {
   "cell_type": "code",
   "execution_count": null,
   "metadata": {},
   "outputs": [],
   "source": [
    "import ftplib"
   ]
  },
  {
   "cell_type": "code",
   "execution_count": null,
   "metadata": {},
   "outputs": [],
   "source": [
    "# Session without userid and password requirement\n",
    "\n",
    "ftp_server = 'ftp.cse.buffalo.edu'\n",
    "ftp_session= ftplib.FTP(ftp_server)\n",
    "ftp_session.login()\n",
    "ftp_session.quit()"
   ]
  },
  {
   "cell_type": "markdown",
   "metadata": {},
   "source": [
    "- Since we did not pass a username or password, Python assumes we want to login anonymously. \n",
    "- If you need to connect to the FTP server using a non-standard port, then you can do so using the connect method."
   ]
  },
  {
   "cell_type": "code",
   "execution_count": null,
   "metadata": {},
   "outputs": [],
   "source": [
    "ftp_session= ftplib.FTP()\n",
    "PORT = 12345\n",
    "ftp_session.connect(ftp_server, PORT)\n",
    "ftp_session.quit()"
   ]
  },
  {
   "cell_type": "code",
   "execution_count": null,
   "metadata": {},
   "outputs": [],
   "source": []
  },
  {
   "cell_type": "code",
   "execution_count": null,
   "metadata": {},
   "outputs": [],
   "source": [
    "# Session that needs a userid and a password\n",
    "\n",
    "ftp_server = \"ftp.nluug.nl\"\n",
    "my_userid  = \"anonymous\"\n",
    "my_passwd  = \"ftplib-example-1\"\n",
    "\n",
    "ftp_session = ftplib.FTP(ftp_server)\n",
    "ftp_session.login(my_userid, my_passwd)\n",
    " \n",
    "ftp_session.quit()"
   ]
  },
  {
   "cell_type": "code",
   "execution_count": null,
   "metadata": {},
   "outputs": [],
   "source": [
    "# Write a function that initiate a FTP session\n",
    "\n",
    "def open_ftp_session(ftp_server, my_userid, my_passwd):\n",
    "    \"\"\"\n",
    "       Open a ftp session given the server ftp address,\n",
    "       the user's ID and the user's password.\n",
    "       \n",
    "       @param ftp_server: name of the ftp server (string)\n",
    "       @param my_userid:  user ID on the ftp server (string)\n",
    "       @param my_passwd:  user password on the ftp server (string)\n",
    "    \"\"\"\n",
    "    \n",
    "    ftp_session = ftplib.FTP(ftp_server)\n",
    "    ftp_session.login(my_userid, my_passwd)\n",
    "    \n",
    "    return ftp_session\n",
    "\n",
    "ftp_session = open_ftp_session(ftp_server, my_userid, my_passwd)"
   ]
  },
  {
   "cell_type": "markdown",
   "metadata": {},
   "source": [
    "#### List Directories"
   ]
  },
  {
   "cell_type": "code",
   "execution_count": null,
   "metadata": {},
   "outputs": [],
   "source": [
    "# To list the top directories in the server\n",
    "\n",
    "ftp_session.retrlines('LIST')"
   ]
  },
  {
   "cell_type": "markdown",
   "metadata": {},
   "source": [
    "- The above retrieve the list of directories and print the information.\n",
    "- You may want to pass the information to a variable."
   ]
  },
  {
   "cell_type": "code",
   "execution_count": null,
   "metadata": {},
   "outputs": [],
   "source": [
    "def ftp_list_top_dirs(ftp_session):\n",
    "    \"\"\"\n",
    "       List the top directories on a ftp server\n",
    "       \n",
    "       @param ftp_session: ftp session object\n",
    "          \n",
    "       Returned Value:\n",
    "          - List of directories and files \n",
    "           (similar to the Unix command 'ls -l')\n",
    "    \"\"\"\n",
    " \n",
    "    data = []\n",
    "\n",
    "    # Get the list of files\n",
    "    ftp_session.dir(data.append)\n",
    "    \n",
    "    return data"
   ]
  },
  {
   "cell_type": "code",
   "execution_count": null,
   "metadata": {},
   "outputs": [],
   "source": [
    "data = ftp_list_top_dirs(ftp_session)\n",
    "for line in data:\n",
    "    print(\"-\", line)"
   ]
  },
  {
   "cell_type": "markdown",
   "metadata": {},
   "source": [
    "#### Go to a Specific Directory"
   ]
  },
  {
   "cell_type": "code",
   "execution_count": null,
   "metadata": {},
   "outputs": [],
   "source": [
    "def ftp_dir_content(ftp_session, dir_name=None):\n",
    "    \"\"\"\n",
    "       List the content of a diirectory in a ftp server.\n",
    "       If the directory is not provided, will list the content\n",
    "       of the top directory.\n",
    "       \n",
    "       @param ftp_session: ftp session object\n",
    "       @param dir_name:    name of the directory you want to access (string)\n",
    "        \n",
    "       Returned Value:\n",
    "          - List of directories and files \n",
    "           (similar to the Unix command 'ls -l')\n",
    "    \"\"\" \n",
    " \n",
    "    if dir_name != None:\n",
    "        # Change directory\n",
    "        ftp_session.cwd(dir_name)\n",
    "    \n",
    "    data = []\n",
    "\n",
    "    # Get the list of files\n",
    "    ftp_session.dir(data.append)\n",
    "\n",
    "    return data"
   ]
  },
  {
   "cell_type": "code",
   "execution_count": null,
   "metadata": {},
   "outputs": [],
   "source": [
    "data = ftp_dir_content(ftp_session)\n",
    "for line in data:\n",
    "    print(\"-\", line)"
   ]
  },
  {
   "cell_type": "code",
   "execution_count": null,
   "metadata": {},
   "outputs": [],
   "source": [
    "data = ftp_dir_content(ftp_session, dir_name='pub')\n",
    "for line in data:\n",
    "    print(\"-\", line)"
   ]
  },
  {
   "cell_type": "markdown",
   "metadata": {},
   "source": [
    "#### Download a File"
   ]
  },
  {
   "cell_type": "code",
   "execution_count": null,
   "metadata": {},
   "outputs": [],
   "source": [
    "import sys\n",
    " \n",
    "def ftp_get_file(ftp_session, file_name):\n",
    "    \"\"\"\n",
    "         Get a file from a ftp server\n",
    "\n",
    "         @param ftp_session: ftp session object\n",
    "         @param file_name: name of the file you want to download  \n",
    "    \"\"\"\n",
    "    try:\n",
    "        ftp_session.retrbinary(\"RETR \" + file_name ,open(file_name, 'wb').write)\n",
    "    except:\n",
    "        print(\"Error - Cannot obtain file: \"+ file_name)"
   ]
  },
  {
   "cell_type": "code",
   "execution_count": null,
   "metadata": {},
   "outputs": [],
   "source": [
    "dir_name  = '/pub/'\n",
    "file_name = 'README.nluug'\n",
    "\n",
    "ftp_session.cwd(dir_name)   \n",
    "ftp_get_file(ftp_session, file_name)"
   ]
  },
  {
   "cell_type": "markdown",
   "metadata": {},
   "source": [
    "#### Uploading a File"
   ]
  },
  {
   "cell_type": "code",
   "execution_count": null,
   "metadata": {},
   "outputs": [],
   "source": [
    "import os\n",
    " \n",
    "def ftp_put_file(ftp_session, file_name):\n",
    "    \"\"\"\n",
    "         Put a file to a ftp server.\n",
    "\n",
    "         @param ftp_session: ftp session object\n",
    "         @param file_name: name of the file you want to upload  \n",
    "    \"\"\"\n",
    "    file_ext = os.path.splitext(file_name)[1]\n",
    "    if file_ext in (\".txt\", \".htm\", \".html\"):\n",
    "        ftp_session.storlines(\"STOR \" + file_name, open(file_name))\n",
    "    else:\n",
    "        ftp_session.storbinary(\"STOR \" + file, open(file_mane, \"rb\"), 1024)"
   ]
  },
  {
   "cell_type": "code",
   "execution_count": null,
   "metadata": {},
   "outputs": [],
   "source": [
    "ftp_put_file(ftp_session, \"README.nluug\")"
   ]
  },
  {
   "cell_type": "code",
   "execution_count": null,
   "metadata": {},
   "outputs": [],
   "source": [
    "ftp_session.quit()"
   ]
  },
  {
   "cell_type": "markdown",
   "metadata": {},
   "source": [
    "## <font color='red'>wget</font>"
   ]
  },
  {
   "cell_type": "markdown",
   "metadata": {},
   "source": [
    "<UL>\n",
    "<LI> Command line utility for downloading files from internet.\n",
    "<LI> It supports:\n",
    "    <OL> \n",
    "    <LI> Downloading multiple files\n",
    "    <LI> Downloading in the background \n",
    "    <LI> Resuming downloads\n",
    "    <LI> Limiting the bandwidth used for downloads and viewing headers.\n",
    "    </OL>\n",
    "</UL>"
   ]
  },
  {
   "cell_type": "code",
   "execution_count": null,
   "metadata": {},
   "outputs": [],
   "source": [
    "import urllib"
   ]
  },
  {
   "cell_type": "code",
   "execution_count": null,
   "metadata": {},
   "outputs": [],
   "source": [
    "mylink = 'ftp://ftp.unidata.ucar.edu/pub/netcdf/netcdf-4.4.1.1.tar.gz'\n",
    "urllib.request.urlretrieve(mylink, 'netcdf-4.4.1.1.tar.gz')"
   ]
  },
  {
   "cell_type": "raw",
   "metadata": {},
   "source": [
    "# Python 2 formulation\n",
    "\n",
    "import urllib2\n",
    "\n",
    "mylink = 'ftp://ftp.unidata.ucar.edu/pub/netcdf/netcdf-4.4.1.1.tar.gz'\n",
    "filedata = urllib2.urlopen(mylink)\n",
    "datatowrite = filedata.read()\n",
    " \n",
    "with open('netcdf-4.4.1.1.tar.gz', 'wb') as f:\n",
    "    f.write(datatowrite)"
   ]
  },
  {
   "cell_type": "code",
   "execution_count": null,
   "metadata": {},
   "outputs": [],
   "source": [
    "def wget_python(url_name, loc_file_name):\n",
    "    \"\"\"\n",
    "       Implementation of wget.\n",
    "       \n",
    "       @param url_name: url pointing to the remote file name\n",
    "       @param loc_file_name: local file name\n",
    "    \"\"\"\n",
    "    urllib.request.urlretrieve(url_name, loc_file_name)"
   ]
  },
  {
   "cell_type": "code",
   "execution_count": null,
   "metadata": {},
   "outputs": [],
   "source": [
    "import os\n",
    "\n",
    "list_urls = [\"ftp://ftp.unidata.ucar.edu/pub/netcdf/netcdf-4.4.1.1.tar.gz\",\n",
    "            \"ftp://ftp.unidata.ucar.edu/pub/netcdf/netcdf-4.4.0.tar.gz\",\n",
    "            \"ftp://ftp.unidata.ucar.edu/pub/netcdf/netcdf-4.5.0.tar.gz\"]\n",
    "for url_name in list_urls:\n",
    "    loc_file_name = os.path.basename(url_name)\n",
    "    print(\"Retrieving: \", loc_file_name)\n",
    "    wget_python(url_name, loc_file_name)"
   ]
  },
  {
   "cell_type": "markdown",
   "metadata": {},
   "source": [
    "## <font color='red'>JSON</font>"
   ]
  },
  {
   "cell_type": "markdown",
   "metadata": {},
   "source": [
    "<UL>\n",
    "<LI> The json module provides an API for converting in-memory Python objects \n",
    "to a serialized representation known as JavaScript Object Notation (JSON). \n",
    "<LI> JSON is frequently used for communication between a server and a web application.\n",
    "</UL>\n",
    "<P>\n",
    "<P>\n",
    "An example of JSON data:"
   ]
  },
  {
   "cell_type": "raw",
   "metadata": {},
   "source": [
    "{\n",
    "    \"stations\": [\n",
    "        {\n",
    "            \"acronym\": “BLD”, \n",
    "            \"name\": \"Boulder Colorado\",\n",
    "            \"latitude”: 40.00,\n",
    "            \"longitude”: -105.25\n",
    "        }, \n",
    "        {\n",
    "            \"acronym”: “BHD”, \n",
    "            \"name\": \"Baring Head Wellington New Zealand\",\n",
    "            \"latitude\": -41.28,\n",
    "            \"longitude\": 174.87\n",
    "        }\n",
    "    ]\n",
    "}\n"
   ]
  },
  {
   "cell_type": "markdown",
   "metadata": {},
   "source": [
    "The json module enables you to convert between JSON and Python Objects. "
   ]
  },
  {
   "cell_type": "markdown",
   "metadata": {},
   "source": [
    "#### Convert JSON to Python Object (Dict)"
   ]
  },
  {
   "cell_type": "code",
   "execution_count": null,
   "metadata": {},
   "outputs": [],
   "source": [
    "import json\n",
    "json_data = '{\"acronym\": \"BLD\", \"name\": \"Boulder Colorado\", \\\n",
    "              \"latitude\": 40.00, \"longitude\": -105.25}'\n",
    "python_obj = json.loads(json_data)\n",
    "print(\"Name:     \", python_obj[\"name\"])\n",
    "print(\"Acronym:  \", python_obj[\"acronym\"])\n",
    "print(\"Latitude: \", python_obj[\"latitude\"])\n",
    "print(\"Latitude: \", python_obj[\"longitude\"])\n",
    "\n",
    "print()\n",
    "print(json.dumps(python_obj, sort_keys=True, indent=4))"
   ]
  },
  {
   "cell_type": "markdown",
   "metadata": {},
   "source": [
    "#### Convert JSON to Python Object (List)"
   ]
  },
  {
   "cell_type": "code",
   "execution_count": null,
   "metadata": {},
   "outputs": [],
   "source": [
    "import json\n",
    "\n",
    "array = '{\"drinks\": [\"coffee\", \"tea\", \"water\"]}'\n",
    "data = json.loads(array)\n",
    "\n",
    "print(json.dumps(data, sort_keys=True, indent=4))\n",
    "print()\n",
    "for element in data[\"drinks\"]:\n",
    "    print(element)"
   ]
  },
  {
   "cell_type": "markdown",
   "metadata": {},
   "source": [
    "#### Convert JSON to Python Object "
   ]
  },
  {
   "cell_type": "code",
   "execution_count": null,
   "metadata": {},
   "outputs": [],
   "source": [
    "json_input = '{\"stations\": [{\"acronym\": \"BLD\", \\\n",
    "                                \"name\": \"Boulder Colorado\", \\\n",
    "                            \"latitude\": 40.00, \\\n",
    "                            \"longitude\": -105.25}, \\\n",
    "                            {\"acronym\": \"BHD\", \\\n",
    "                             \"name\": \"Baring Head Wellington New Zealand\",\\\n",
    "                             \"latitude\": -41.28, \\\n",
    "                             \"longitude\": 174.87}]}'"
   ]
  },
  {
   "cell_type": "code",
   "execution_count": null,
   "metadata": {},
   "outputs": [],
   "source": [
    "decoded = json.loads(json_input)\n",
    "for x in decoded['stations']:\n",
    "    print(x[\"name\"])\n",
    "\n",
    "print(json.dumps(decoded, sort_keys=True, indent=4))"
   ]
  },
  {
   "cell_type": "markdown",
   "metadata": {},
   "source": [
    "#### Convert Python Object (Dict) to JSON"
   ]
  },
  {
   "cell_type": "code",
   "execution_count": null,
   "metadata": {},
   "outputs": [],
   "source": [
    "d = {}\n",
    "d[\"name\"] = \"Boulder Colorado\"\n",
    "d[\"acronym\"] = \"BLD\"\n",
    "d[\"latitude\"] = 40.00\n",
    "d[\"longitude\"] = -105.25\n",
    "print(json.dumps(d, ensure_ascii=False))"
   ]
  },
  {
   "cell_type": "markdown",
   "metadata": {},
   "source": [
    "#### Convert Python String to JSON"
   ]
  },
  {
   "cell_type": "code",
   "execution_count": null,
   "metadata": {},
   "outputs": [],
   "source": [
    "json_string = \"\"\"\n",
    "{\n",
    "    \"researcher\": {\n",
    "        \"name\": \"Ford Prefect\",\n",
    "        \"species\": \"Betelgeusian\",\n",
    "        \"relatives\": [\n",
    "            {\n",
    "                \"name\": \"Zaphod Beeblebrox\",\n",
    "                \"species\": \"Betelgeusian\"\n",
    "            }\n",
    "        ]\n",
    "    }\n",
    "}\n",
    "\"\"\"\n",
    "data = json.loads(json_string)\n",
    "print(json.dumps(data, sort_keys=True, indent=4))"
   ]
  },
  {
   "cell_type": "markdown",
   "metadata": {},
   "source": [
    "#### Writing JSON to a File"
   ]
  },
  {
   "cell_type": "code",
   "execution_count": null,
   "metadata": {},
   "outputs": [],
   "source": [
    "person_dict = {\"name\": \"Bob\",\n",
    "\"languages\": [\"English\", \"Fench\"],\n",
    "\"married\": True,\n",
    "\"age\": 32\n",
    "}\n",
    "with open('person.txt', 'w') as json_file:\n",
    "     json.dump(person_dict, json_file)"
   ]
  },
  {
   "cell_type": "markdown",
   "metadata": {},
   "source": [
    "#### Reading JSON File"
   ]
  },
  {
   "cell_type": "code",
   "execution_count": null,
   "metadata": {},
   "outputs": [],
   "source": [
    "with open('person.txt', 'r') as json_file:\n",
    "     data = json.load(json_file)\n",
    "\n",
    "print(json.dumps(data, sort_keys=True, indent=4))        "
   ]
  },
  {
   "cell_type": "markdown",
   "metadata": {},
   "source": [
    "## <font color='red'>Web Scraping with JSON</font>"
   ]
  },
  {
   "cell_type": "code",
   "execution_count": null,
   "metadata": {},
   "outputs": [],
   "source": [
    "import json\n",
    "import urllib"
   ]
  },
  {
   "cell_type": "code",
   "execution_count": null,
   "metadata": {},
   "outputs": [],
   "source": [
    "url = \"https://api.nasa.gov/planetary/apod?api_key=DEMO_KEY\"\n",
    "with urllib.request.urlopen(url) as page:\n",
    "     page_content = page.read()"
   ]
  },
  {
   "cell_type": "code",
   "execution_count": null,
   "metadata": {},
   "outputs": [],
   "source": [
    "# To turn it into a string, for example, we use the decode method:\n",
    "page_content.decode('utf-8')"
   ]
  },
  {
   "cell_type": "code",
   "execution_count": null,
   "metadata": {},
   "outputs": [],
   "source": [
    "# Process the data with JSON\n",
    "json_page = json.loads(page_content)"
   ]
  },
  {
   "cell_type": "code",
   "execution_count": null,
   "metadata": {},
   "outputs": [],
   "source": [
    "# print the keys\n",
    "for x in json_page:\n",
    "    print(x)"
   ]
  },
  {
   "cell_type": "code",
   "execution_count": null,
   "metadata": {},
   "outputs": [],
   "source": [
    "# print the keys\n",
    "for x in json_page:\n",
    "    print(x+\" -->\", json_page[x])\n",
    "    print()"
   ]
  },
  {
   "cell_type": "code",
   "execution_count": null,
   "metadata": {},
   "outputs": [],
   "source": [
    "from pprint import pprint\n",
    "pprint(json_page)"
   ]
  },
  {
   "cell_type": "code",
   "execution_count": null,
   "metadata": {},
   "outputs": [],
   "source": [
    "import StringIO\n",
    "from PIL import Image\n",
    "img = urllib.request.urlopen(json_page[\"url\"]).read()\n",
    "im = Image.open(StringIO.StringIO(img))\n",
    "im.show()"
   ]
  },
  {
   "cell_type": "code",
   "execution_count": null,
   "metadata": {},
   "outputs": [],
   "source": [
    "%matplotlib inline\n",
    "from skimage import io\n",
    "\n",
    "io.imshow(io.imread(json_page[\"url\"]))\n",
    "io.show()"
   ]
  },
  {
   "cell_type": "code",
   "execution_count": null,
   "metadata": {},
   "outputs": [],
   "source": [
    "io.imshow(io.imread(json_page[\"hdurl\"]))\n",
    "io.show()"
   ]
  },
  {
   "cell_type": "code",
   "execution_count": null,
   "metadata": {},
   "outputs": [],
   "source": []
  },
  {
   "cell_type": "code",
   "execution_count": null,
   "metadata": {},
   "outputs": [],
   "source": [
    "#import urllib\n",
    "#import json\n",
    "\n",
    "#url = \"https://www.govtrack.us/data/congress/113/votes/2013/s11/data.json\"\n",
    "#page = urllib.request.urlopen(url)\n",
    "#data = json.load(page) "
   ]
  },
  {
   "cell_type": "code",
   "execution_count": null,
   "metadata": {},
   "outputs": [],
   "source": [
    "# print the keys\n",
    "#for x in data:\n",
    "#      print(x)"
   ]
  },
  {
   "cell_type": "code",
   "execution_count": null,
   "metadata": {},
   "outputs": [],
   "source": [
    "## print the entire content\n",
    "#print(json.dumps(data, sort_keys=True, indent=4))"
   ]
  },
  {
   "cell_type": "code",
   "execution_count": null,
   "metadata": {},
   "outputs": [],
   "source": [
    "## List the Yea votes\n",
    "##-------------------\n",
    "#y_dem = 0\n",
    "#y_rep = 0\n",
    "#for x in data[\"votes\"][\"Yea\"]:\n",
    "#      print(x[\"first_name\"], x[\"last_name\"], '(',x[\"party\"].strip(),')')\n",
    "#      if (x[\"party\"] == \"D\"): y_dem += 1\n",
    "#      if (x[\"party\"] == \"R\"): y_rep += 1\n",
    "#print()\n",
    "#print(44*'-')\n",
    "#print('The number of Democrats   who votes Yea: ', y_dem)\n",
    "#print('The number of Republicans who votes Yea: ', y_rep)\n",
    "#print(44*'-')"
   ]
  }
 ],
 "metadata": {
  "anaconda-cloud": {},
  "kernelspec": {
   "display_name": "Python 3",
   "language": "python",
   "name": "python3"
  },
  "language_info": {
   "codemirror_mode": {
    "name": "ipython",
    "version": 3
   },
   "file_extension": ".py",
   "mimetype": "text/x-python",
   "name": "python",
   "nbconvert_exporter": "python",
   "pygments_lexer": "ipython3",
   "version": "3.7.3"
  }
 },
 "nbformat": 4,
 "nbformat_minor": 1
}
