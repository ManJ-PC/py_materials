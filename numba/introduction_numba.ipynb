{
 "cells": [
  {
   "cell_type": "markdown",
   "metadata": {},
   "source": [
    "<font color=\"white\">.</font> | <font color=\"white\">.</font> | <font color=\"white\">.</font>\n",
    "-- | -- | --\n",
    "![NASA](http://www.nasa.gov/sites/all/themes/custom/nasatwo/images/nasa-logo.svg) | <h1><font size=\"+3\">ASTG Python Courses</font></h1> | ![NASA](https://www.nccs.nasa.gov/sites/default/files/NCCS_Logo_0.png)\n",
    "\n",
    "---\n",
    "\n",
    "<CENTER>\n",
    "<H1 style=\"color:red\">\n",
    "Introduction to Numba\n",
    "</H1>\n",
    "</CENTER>"
   ]
  },
  {
   "cell_type": "code",
   "execution_count": null,
   "metadata": {},
   "outputs": [],
   "source": [
    "from __future__ import print_function"
   ]
  },
  {
   "cell_type": "markdown",
   "metadata": {},
   "source": [
    "> I’m becoming more and more convinced that Numba is the future of fast scientific computing in Python. \n",
    ">\n",
    "> – Jake Vanderplas, 2013-06-15\n",
    ">\n",
    "> http://jakevdp.github.io/blog/2013/06/15/numba-vs-cython-take-2/\n",
    "\n",
    "\n",
    "![fig_numba](https://thedatafrog.com/static/blog/images/2019/07/python_fast.0d88afcb4f8a.png)\n",
    "Image Source: Lison Bernet 2019"
   ]
  },
  {
   "cell_type": "markdown",
   "metadata": {},
   "source": [
    "## <font color='red'>What will be Covered?</font>\n",
    "\n",
    "* What is Numba?\n",
    "* How Does Numba Work?\n",
    "* Numpy and Numba\n",
    "* How to Use Numba?\n",
    "* Parallelization with Numba\n",
    "* Numba and Pandas\n",
    "* Using Numba on GPUs"
   ]
  },
  {
   "cell_type": "markdown",
   "metadata": {},
   "source": [
    "## <font color='red'>Reference Documents</font>\n",
    "- <a href=\"http://numba.pydata.org/\">Numba: A High Performance Python Compiler</a>\n",
    "- <a href=\"https://www.youtube.com/watch?v=UaFSnaYh2b8\">Understanding Numba - the Python and Numpy Compiler</a> (video)\n",
    "- <a href=\"https://examples.dask.org/applications/stencils-with-numba.html\">Stencil Computations with Numba</a>\n",
    "- <a href=\"http://deepdata.com.pl/numba.html\">Python on steroids - speeding up calculations with numba</a>\n",
    "- <a href=\"https://colab.research.google.com/github/evaneschneider/parallel-programming/blob/master/COMPASS_gpu_intro.ipynb\">Introduction to GPU programming with Numba</a>\n",
    "- <a href=\"https://thedatafrog.com/en/articles/make-python-fast-numba/\">Make python fast with numba</a>\n",
    "- <a href=\"https://www.deeplearningwizard.com/deep_learning/production_pytorch/speed_optimization_basics_numba/\">Speed Optimization Basics: Numba</a>\n",
    "- <a href=\"https://murillogroupmsu.com/numba-versus-c/\">High-Performance Python: Why?</a>\n",
    "- <a href=\"https://flothesof.github.io/optimizing-python-code-numpy-cython-pythran-numba.html\">Optimizing your code with NumPy, Cython, pythran and numba </a>\n",
    "- <a href=\"https://www.polymorphe.org/index.php/looping-over-pandas-data-mkd\">Looping over Pandas data</a>"
   ]
  },
  {
   "cell_type": "markdown",
   "metadata": {},
   "source": [
    "## <font color='red'>What is Numba?</font>\n",
    "\n",
    "> Numba is an open-source JIT compiler that translates a subset of Python and NumPy into fast machine code using `LLVM` (low-level virtual machine), via the llvmlite Python package. It offers a range of options for parallelising Python code for CPUs and GPUs, often with only minor code changes. \n",
    ">\n",
    ">Wikipedia\n",
    "\n",
    "- Numba is a Python open source package that was originally developed by Continuum Analytics.\n",
    "- The core application area are math-heavy and array-oriented functions, which are in native Python pretty slow.\n",
    "- From a function, Numba can generate native code for that function as well as the wrapper code needed to call it directly from Python. This compilation is done on-the-fly and in-memory.\n",
    "- It accelerates Python code (numerical functions) for both CPU and GPU:\n",
    "   - **Function Compiler**: Numba compiles Python functions, not whole applications or parts of it. It is a Python module meant to improve the performance of functions with the goal of achieving a speed comparable to `C`.\n",
    "   - **Just-in-time**: (Dynamic translation) Numba translates the bytecode (intermediate code more abstract than the machine code) to machine code immediately before its execution to improve the execution speed.\n",
    "   - **Numerically-focused**: Numba is focused on numerical data, such as int, float, complex. \n",
    "   \n",
    "## <font color='red'>How Does Numba Work?</font>\n",
    "\n",
    "- Assume that you have a function `do_math` that is decorated with the Numba `@jit` decorator. \n",
    "- Compilation will be deferred until the first function execution. \n",
    "- Numba will infer the argument types at call time, and generate optimized code based on this information. \n",
    "- Numba will also be able to compile separate specializations depending on the input types. \n",
    "- The diagram below, shows all the steps carried out by Numba to execute `do_math`. \n",
    "\n",
    "![fig_numba](https://miro.medium.com/max/1400/1*S0S4QUjR-BsdTICtT9797Q.png)\n",
    "Image Source: Continuum Analytics\n",
    "\n",
    "- **IR**: Intermediate Representations\n",
    "- **Bytecode Analysis**: Intermediate code more abstract than machine code\n",
    "- **LLVM**: Low Level Virtual Machine, infrastructure to develop compilers\n",
    "- **NVVM**: It is an IR compiler based on LLVM, it is designed to represent GPU kernels\n",
    "\n",
    "## <font color='red'>Numpy and Numba</font>\n",
    "- One objective of Numba is having a seamless integration with NumPy. \n",
    "- Numba excels at generating code that executes on top of NumPy arrays.\n",
    "- NumPy support in Numba comes in many forms:\n",
    "    1. Numba understands calls to NumPy ufuncs (universal functions: there are over 60 of them) and is able to generate equivalent native code for many of them.\n",
    "    2. NumPy arrays are directly supported in Numba.\n",
    "    3. Numba is able to generate ufuncs and gufuncs (generalized universal functions). This means that it is possible to implement ufuncs and gufuncs within Python, getting speeds comparable to that of ufuncs/gufuncs implemented in C extension modules using the NumPy C API.\n",
    "    \n",
    "## <font color='red'>Usage</font>\n",
    "- Numba provides several utilities for code generation.\n",
    "- Its central feature is the `numba.jit()` decorator. \n",
    "- Using this decorator, you can mark a function for optimization by Numba’s JIT compiler. - - - Various invocation modes trigger differing compilation options and behaviours.\n",
    "\n",
    "\n",
    "Consider using Numba if:\n",
    "\n",
    "- Is numerically orientated.\n",
    "- Uses Numpy\n",
    "- Relies on loops"
   ]
  },
  {
   "cell_type": "code",
   "execution_count": 1,
   "metadata": {},
   "outputs": [],
   "source": [
    "import time\n",
    "import numpy as np\n",
    "import numba as nb\n",
    "from numba import jit\n",
    "from numba import njit\n",
    "from numba import prange"
   ]
  },
  {
   "cell_type": "markdown",
   "metadata": {},
   "source": [
    "**Checking your System**\n",
    "\n",
    "The `numba -s` or `numba --sysinfo` command prints a lot of information about your system and your Numba installation and relevant dependencies."
   ]
  },
  {
   "cell_type": "code",
   "execution_count": 2,
   "metadata": {},
   "outputs": [
    {
     "name": "stdout",
     "output_type": "stream",
     "text": [
      "System info:\n",
      "--------------------------------------------------------------------------------\n",
      "__Time Stamp__\n",
      "Report started (local time)                   : 2020-12-01 15:30:26.720236\n",
      "UTC start time                                : 2020-12-01 20:30:26.720245\n",
      "Running time (s)                              : 4.809524\n",
      "\n",
      "__Hardware Information__\n",
      "Machine                                       : x86_64\n",
      "CPU Name                                      : skylake\n",
      "CPU Count                                     : 8\n",
      "Number of accessible CPUs                     : ?\n",
      "List of accessible CPUs cores                 : ?\n",
      "CFS Restrictions (CPUs worth of runtime)      : None\n",
      "\n",
      "CPU Features                                  : 64bit adx aes avx avx2 bmi bmi2\n",
      "                                                clflushopt cmov cx16 cx8 f16c fma\n",
      "                                                fsgsbase fxsr invpcid lzcnt mmx\n",
      "                                                movbe pclmul popcnt prfchw rdrnd\n",
      "                                                rdseed sahf sgx sse sse2 sse3\n",
      "                                                sse4.1 sse4.2 ssse3 xsave xsavec\n",
      "                                                xsaveopt xsaves\n",
      "\n",
      "Memory Total (MB)                             : 16384\n",
      "Memory Available (MB)                         : 6243\n",
      "\n",
      "__OS Information__\n",
      "Platform Name                                 : Darwin-19.6.0-x86_64-i386-64bit\n",
      "Platform Release                              : 19.6.0\n",
      "OS Name                                       : Darwin\n",
      "OS Version                                    : Darwin Kernel Version 19.6.0: Thu Oct 29 22:56:45 PDT 2020; root:xnu-6153.141.2.2~1/RELEASE_X86_64\n",
      "OS Specific Version                           : 10.15.7   x86_64\n",
      "Libc Version                                  : ?\n",
      "\n",
      "__Python Information__\n",
      "Python Compiler                               : Clang 4.0.1 (tags/RELEASE_401/final)\n",
      "Python Implementation                         : CPython\n",
      "Python Version                                : 3.7.3\n",
      "Python Locale                                 : en_US.UTF-8\n",
      "\n",
      "__LLVM Information__\n",
      "LLVM Version                                  : 10.0.1\n",
      "\n",
      "__CUDA Information__\n",
      "CUDA Device Initialized                       : False\n",
      "CUDA Driver Version                           : ?\n",
      "CUDA Detect Output:\n",
      "None\n",
      "CUDA Librairies Test Output:\n",
      "None\n",
      "\n",
      "__ROC information__\n",
      "ROC Available                                 : False\n",
      "ROC Toolchains                                : None\n",
      "HSA Agents Count                              : 0\n",
      "HSA Agents:\n",
      "None\n",
      "HSA Discrete GPUs Count                       : 0\n",
      "HSA Discrete GPUs                             : None\n",
      "\n",
      "__SVML Information__\n",
      "SVML State, config.USING_SVML                 : False\n",
      "SVML Library Loaded                           : False\n",
      "llvmlite Using SVML Patched LLVM              : True\n",
      "SVML Operational                              : False\n",
      "\n",
      "__Threading Layer Information__\n",
      "TBB Threading Layer Available                 : False\n",
      "+--> Disabled due to Unknown import problem.\n",
      "OpenMP Threading Layer Available              : True\n",
      "+-->Vendor: Intel\n",
      "Workqueue Threading Layer Available           : True\n",
      "+-->Workqueue imported successfully.\n",
      "\n",
      "__Numba Environment Variable Information__\n",
      "None found.\n",
      "\n",
      "__Conda Information__\n",
      "Conda Build                                   : 3.17.8\n",
      "Conda Env                                     : 4.9.2\n",
      "Conda Platform                                : osx-64\n",
      "Conda Python Version                          : 3.7.3.final.0\n",
      "Conda Root Writable                           : True\n",
      "\n",
      "__Installed Packages__\n",
      "_anaconda_depends         2020.07                  py37_0  \n",
      "_ipyw_jlab_nb_ext_conf    0.1.0                    py37_0  \n",
      "_py-xgboost-mutex         2.0                       cpu_0  \n",
      "_tflow_select             2.3.0                       mkl  \n",
      "absl-py                   0.7.0                    pypi_0    pypi\n",
      "alabaster                 0.7.12                   py37_0  \n",
      "anaconda                  custom                   py37_1  \n",
      "anaconda-client           1.7.2                    py37_0  \n",
      "anaconda-navigator        1.9.6                    py37_0  \n",
      "anaconda-project          0.8.4                      py_0  \n",
      "applaunchservices         0.2.1                      py_0  \n",
      "appnope                   0.1.0                    py37_0  \n",
      "appscript                 1.1.1            py37haf1e3a3_0  \n",
      "argh                      0.26.2                   py37_0  \n",
      "argon2-cffi               20.1.0           py37haf1e3a3_1  \n",
      "asn1crypto                1.4.0                      py_0  \n",
      "astor                     0.7.1                    pypi_0    pypi\n",
      "astroid                   2.4.2                    py37_0  \n",
      "astropy                   4.0.2            py37haf1e3a3_0  \n",
      "async_generator           1.10             py37h28b3542_0  \n",
      "atomicwrites              1.4.0                      py_0  \n",
      "attrs                     20.2.0                     py_0  \n",
      "autopep8                  1.5.4                      py_0  \n",
      "babel                     2.8.0                      py_0  \n",
      "backcall                  0.2.0                      py_0  \n",
      "backports                 1.0                        py_2  \n",
      "backports.shutil_get_terminal_size 1.0.0                    py37_2  \n",
      "beautifulsoup4            4.9.3              pyhb0f4dca_0  \n",
      "bitarray                  1.6.0            py37haf1e3a3_0  \n",
      "bkcharts                  0.2                      py37_0  \n",
      "blas                      1.0                         mkl  \n",
      "bleach                    3.2.1                      py_0  \n",
      "blosc                     1.16.3               hd9629dc_0  \n",
      "bokeh                     1.4.0                    py37_0  \n",
      "boto                      2.49.0                   py37_0  \n",
      "bottleneck                1.3.2            py37hf1fa96c_1  \n",
      "brotlipy                  0.7.0           py37haf1e3a3_1000  \n",
      "bzip2                     1.0.8                h1de35cc_0  \n",
      "c-ares                    1.16.1               haf1e3a3_0  \n",
      "ca-certificates           2020.10.14                    0  \n",
      "cairo                     1.14.12              hc4e6be7_4  \n",
      "cartopy                   0.18.0           py37hc4b8d57_0  \n",
      "certifi                   2020.6.20          pyhd3eb1b0_3  \n",
      "cffi                      1.14.0           py37hb5b8e2f_0  \n",
      "cftime                    1.2.1            py37hf1fa96c_0  \n",
      "chardet                   3.0.4                 py37_1003  \n",
      "click                     7.1.2                      py_0  \n",
      "cloudpickle               1.6.0                      py_0  \n",
      "clyent                    1.2.2                    py37_1  \n",
      "colorama                  0.4.4                      py_0  \n",
      "conda                     4.9.2            py37hecd8cb5_0  \n",
      "conda-build               3.17.8                   py37_0  \n",
      "conda-package-handling    1.7.2            py37h22f3db7_0  \n",
      "confuse                   1.0.0                      py_0    conda-forge\n",
      "contextlib2               0.6.0.post1                py_0  \n",
      "conversiontemp            0.1                      pypi_0    pypi\n",
      "cryptography              3.1.1            py37hddc9c9b_0  \n",
      "curl                      7.71.1               hb0a8c7a_1  \n",
      "cycler                    0.10.0                   py37_0  \n",
      "cython                    0.29.21          py37hb1e8313_0  \n",
      "cytoolz                   0.11.0           py37haf1e3a3_0  \n",
      "dask                      1.1.4                    py37_1  \n",
      "dask-core                 1.1.4                    py37_1  \n",
      "dbus                      1.13.18              h18a8e69_0  \n",
      "decorator                 4.4.2                      py_0  \n",
      "defusedxml                0.6.0                      py_0  \n",
      "diff-match-patch          20200713                   py_0  \n",
      "dill                      0.3.2                      py_0  \n",
      "distributed               1.28.1                   py37_0  \n",
      "docutils                  0.16                     py37_1  \n",
      "entrypoints               0.3                      py37_0  \n",
      "et_xmlfile                1.0.1                   py_1001  \n",
      "expat                     2.2.10               hb1e8313_2  \n",
      "fastcache                 1.1.0            py37h1de35cc_0  \n",
      "filelock                  3.0.12                     py_0  \n",
      "flake8                    3.8.4                      py_0  \n",
      "flask                     1.1.2                      py_0  \n",
      "fontconfig                2.13.0               h5d5b041_1  \n",
      "freetype                  2.10.4               ha233b18_0  \n",
      "fribidi                   1.0.10               haf1e3a3_0  \n",
      "fsspec                    0.8.3                      py_0  \n",
      "future                    0.18.2                   py37_1  \n",
      "gast                      0.2.2                    pypi_0    pypi\n",
      "geos                      3.8.0                hb1e8313_0  \n",
      "get_terminal_size         1.0.0                h7520d66_0  \n",
      "gettext                   0.19.8.1             h15daf44_3  \n",
      "gevent                    20.9.0           py37haf1e3a3_0  \n",
      "glib                      2.63.1               hd977a24_0  \n",
      "glob2                     0.7                        py_0  \n",
      "gmp                       6.1.2                hb37e062_1  \n",
      "gmpy2                     2.0.8            py37h6ef4df4_2  \n",
      "google-pasta              0.2.0                      py_0  \n",
      "googleapis-common-protos  1.52.0                   py37_0  \n",
      "graphite2                 1.3.14               h38d11af_0  \n",
      "graphviz                  2.40.1               hefbbd9a_2  \n",
      "greenlet                  0.4.17           py37haf1e3a3_0  \n",
      "grpcio                    1.18.0                   pypi_0    pypi\n",
      "h5py                      2.10.0           py37h3134771_0  \n",
      "harfbuzz                  1.8.8                hb8d4a28_0  \n",
      "hdf4                      4.2.13               h39711bb_2  \n",
      "hdf5                      1.10.4               hfa1e0ec_0  \n",
      "heapdict                  1.0.1                      py_0  \n",
      "holoviews                 1.12.7                     py_0  \n",
      "html5lib                  1.1                        py_0  \n",
      "htmlmin                   0.1.12                     py_1    conda-forge\n",
      "icu                       58.2                 h0a44026_3  \n",
      "idna                      2.10                       py_0  \n",
      "iexfinance                0.4.3                    pypi_0    pypi\n",
      "imageio                   2.9.0                      py_0  \n",
      "imagesize                 1.2.0                      py_0  \n",
      "importlib-metadata        2.0.0                      py_1  \n",
      "importlib_metadata        2.0.0                         1  \n",
      "iniconfig                 1.1.1                      py_0  \n",
      "intel-openmp              2019.4                      233  \n",
      "intervaltree              3.1.0                      py_0  \n",
      "ipykernel                 5.3.4            py37h5ca1d4c_0  \n",
      "ipython                   7.18.1           py37h5ca1d4c_0  \n",
      "ipython_genutils          0.2.0                    py37_0  \n",
      "ipywidgets                7.5.1                      py_1  \n",
      "isort                     5.6.4                      py_0  \n",
      "itsdangerous              1.1.0                    py37_0  \n",
      "jbig                      2.1                  h4d881f8_0  \n",
      "jdcal                     1.4.1                      py_0  \n",
      "jedi                      0.17.1                   py37_0  \n",
      "jinja2                    2.11.2                     py_0  \n",
      "joblib                    0.17.0                     py_0  \n",
      "jpeg                      9b                   he5867d9_2  \n",
      "json5                     0.9.5                      py_0  \n",
      "jsonschema                3.2.0                      py_2  \n",
      "jupyter                   1.0.0                    py37_7  \n",
      "jupyter_client            6.1.7                      py_0  \n",
      "jupyter_console           6.2.0                      py_0  \n",
      "jupyter_core              4.6.3                    py37_0  \n",
      "jupyterlab                2.2.6                      py_0  \n",
      "jupyterlab_pygments       0.1.2                      py_0  \n",
      "jupyterlab_server         1.2.0                      py_0  \n",
      "keras-applications        1.0.7                    pypi_0    pypi\n",
      "keras-preprocessing       1.0.9                    pypi_0    pypi\n",
      "keyring                   21.4.0                   py37_1  \n",
      "kiwisolver                1.3.0            py37h23ab428_0  \n",
      "krb5                      1.18.2               h75d18d8_0  \n",
      "lazy-object-proxy         1.4.3            py37h1de35cc_0  \n",
      "lcms2                     2.11                 h92f6f08_0  \n",
      "libarchive                3.3.3                h786848e_5  \n",
      "libcurl                   7.71.1               h8a08a2b_1  \n",
      "libcxx                    10.0.0                        1  \n",
      "libedit                   3.1.20191231         h1de35cc_1  \n",
      "libffi                    3.2.1             h0a44026_1007  \n",
      "libgfortran               3.0.1                h93005f0_2  \n",
      "libiconv                  1.16                 h1de35cc_0  \n",
      "liblief                   0.10.1               h0a44026_0  \n",
      "libllvm10                 10.0.1               h76017ad_5  \n",
      "libllvm9                  9.0.1                h21ff451_1  \n",
      "libnetcdf                 4.6.1                hd5207e6_2  \n",
      "libpng                    1.6.37               ha441bb4_0  \n",
      "libprotobuf               3.13.0.1             hab81aa3_0  \n",
      "libsodium                 1.0.18               h1de35cc_0  \n",
      "libspatialindex           1.9.3                h0a44026_0  \n",
      "libssh2                   1.9.0                ha12b0ac_1  \n",
      "libtiff                   4.1.0                hcb84e12_0  \n",
      "libxgboost                0.90                 h6de7cb9_1    conda-forge\n",
      "libxml2                   2.9.10               h7cdb67c_3  \n",
      "libxslt                   1.1.34               h83b36ba_0  \n",
      "llvm-openmp               10.0.0               h28b9765_0  \n",
      "llvmlite                  0.34.0           py37h739e7dc_4  \n",
      "locket                    0.2.0                    py37_1  \n",
      "lxml                      4.6.1            py37h63b7cb6_0  \n",
      "lz4-c                     1.8.1.2              h1de35cc_0  \n",
      "lzo                       2.10                 haf1e3a3_2  \n",
      "markdown                  3.0.1                    pypi_0    pypi\n",
      "markupsafe                1.1.1            py37h1de35cc_0  \n",
      "matplotlib                3.3.2                         0  \n",
      "matplotlib-base           3.3.2            py37h181983e_0  \n",
      "mccabe                    0.6.1                    py37_1  \n",
      "memory_profiler           0.58.0                     py_0  \n",
      "missingno                 0.4.2                      py_1    conda-forge\n",
      "mistune                   0.8.4            py37h1de35cc_0  \n",
      "mkl                       2019.4                      233  \n",
      "mkl-service               2.3.0            py37hfbe908c_0  \n",
      "mkl_fft                   1.2.0            py37hc64f4ea_0  \n",
      "mkl_random                1.1.1            py37h959d312_0  \n",
      "mock                      2.0.0                    pypi_0    pypi\n",
      "more-itertools            8.5.0                      py_0  \n",
      "mpc                       1.1.0                h6ef4df4_1  \n",
      "mpfr                      4.0.2                h9066e36_1  \n",
      "mpmath                    1.1.0                    py37_0  \n",
      "msgpack-python            1.0.0            py37h04f5b5a_1  \n",
      "multipledispatch          0.6.0                    py37_0  \n",
      "navigator-updater         0.2.1                    py37_0  \n",
      "nbclient                  0.5.1                      py_0  \n",
      "nbconvert                 6.0.7                    py37_0  \n",
      "nbformat                  5.0.8                      py_0  \n",
      "ncurses                   6.2                  h0a44026_1  \n",
      "nest-asyncio              1.4.1                      py_0  \n",
      "netcdf4                   1.4.2            py37h13743db_0  \n",
      "networkx                  2.5                        py_0  \n",
      "nltk                      3.5                        py_0  \n",
      "nose                      1.3.7                    py37_2  \n",
      "notebook                  6.1.4                    py37_0  \n",
      "numba                     0.51.2           py37h959d312_1  \n",
      "numexpr                   2.7.1            py37hce01a72_0  \n",
      "numpy                     1.19.2           py37h456fd55_0  \n",
      "numpy-base                1.19.2           py37hcfb5961_0  \n",
      "numpydoc                  1.1.0                      py_0  \n",
      "olefile                   0.46                     py37_0  \n",
      "openpyxl                  3.0.5                      py_0  \n",
      "openssl                   1.1.1h               haf1e3a3_0  \n",
      "opt_einsum                3.1.0                      py_0  \n",
      "owslib                    0.18.0                     py_0  \n",
      "packaging                 20.4                       py_0  \n",
      "pandas                    1.1.3            py37hb1e8313_0  \n",
      "pandas-bokeh              0.4.3                    py37_0    patrikhlobil\n",
      "pandas-compat             0.1.1                    pypi_0    pypi\n",
      "pandas-profiling          2.4.0                      py_1    conda-forge\n",
      "pandoc                    2.11                 h0dc7051_0  \n",
      "pandocfilters             1.4.2                    py37_1  \n",
      "pango                     1.42.4               h7e27002_1  \n",
      "param                     1.9.3                      py_0  \n",
      "parso                     0.7.0                      py_0  \n",
      "partd                     1.1.0                      py_0  \n",
      "path                      15.0.0                   py37_0  \n",
      "path.py                   12.5.0                        0  \n",
      "pathlib2                  2.3.5                    py37_0  \n",
      "pathtools                 0.1.2                      py_1  \n",
      "patsy                     0.5.1                    py37_0  \n",
      "pbr                       5.1.2                    pypi_0    pypi\n",
      "pcre                      8.44                 hb1e8313_0  \n",
      "pep8                      1.7.1                    py37_0  \n",
      "pexpect                   4.8.0                    py37_0  \n",
      "phik                      0.9.10                     py_0    conda-forge\n",
      "pickleshare               0.7.5                    py37_0  \n",
      "pillow                    8.0.1            py37h5270095_0  \n",
      "pip                       20.2.4                   py37_0  \n",
      "pixman                    0.40.0               haf1e3a3_0  \n",
      "pkginfo                   1.6.0                    py37_0  \n",
      "playsound                 1.2.2                    pypi_0    pypi\n",
      "plotly                    4.4.1                      py_0  \n",
      "pluggy                    0.13.1                   py37_0  \n",
      "ply                       3.11                     py37_0  \n",
      "proj                      6.2.1                hfd5b9e3_0  \n",
      "prometheus_client         0.8.0                      py_0  \n",
      "promise                   2.3                      py37_0  \n",
      "prompt-toolkit            3.0.8                      py_0  \n",
      "prompt_toolkit            3.0.8                         0  \n",
      "protobuf                  3.6.1                    pypi_0    pypi\n",
      "psutil                    5.7.2            py37haf1e3a3_0  \n",
      "ptyprocess                0.6.0                    py37_0  \n",
      "py                        1.9.0                      py_0  \n",
      "py-lief                   0.10.1           py37haf313ee_0  \n",
      "py-xgboost                0.90             py37h6de7cb9_1    conda-forge\n",
      "pycodestyle               2.6.0                      py_0  \n",
      "pycosat                   0.6.3            py37h1de35cc_0  \n",
      "pycparser                 2.20                       py_2  \n",
      "pycrypto                  2.6.1           py37haf1e3a3_10  \n",
      "pycurl                    7.43.0.6         py37hddc9c9b_0  \n",
      "pydocstyle                5.1.1                      py_0  \n",
      "pyepsg                    0.4.0                    py37_0  \n",
      "pyflakes                  2.2.0                      py_0  \n",
      "pygments                  2.7.2              pyhd3eb1b0_0  \n",
      "pyhdf                     0.10.1           py37h896bc41_1    conda-forge\n",
      "pykdtree                  1.3.1            py37h1d22016_2  \n",
      "pylint                    2.6.0                    py37_0  \n",
      "pyodbc                    4.0.30           py37h0a44026_0  \n",
      "pyopenssl                 19.1.0                     py_1  \n",
      "pyparsing                 2.4.7                      py_0  \n",
      "pyproj                    2.6.1.post1      py37h6d9c95c_1  \n",
      "pyqt                      5.9.2            py37h655552a_2  \n",
      "pyrsistent                0.17.3           py37haf1e3a3_0  \n",
      "pyshp                     2.1.2                      py_0  \n",
      "pysocks                   1.7.1                    py37_0  \n",
      "pytables                  3.6.1            py37h5bccee9_0  \n",
      "pytest                    6.1.1                    py37_0  \n",
      "pytest-pylint             0.14.1                     py_0    conda-forge\n",
      "pytest-runner             5.2                        py_0  \n",
      "python                    3.7.3                h359304d_0  \n",
      "python-dateutil           2.8.1                      py_0  \n",
      "python-graphviz           0.13.2                     py_0  \n",
      "python-jsonrpc-server     0.4.0                      py_0  \n",
      "python-language-server    0.35.1                     py_0  \n",
      "python-libarchive-c       2.9                        py_0  \n",
      "python.app                2                        py37_9  \n",
      "pytz                      2020.1                     py_0  \n",
      "pyviz_comms               0.7.6                      py_0  \n",
      "pywavelets                1.1.1            py37haf1e3a3_2  \n",
      "pyyaml                    5.3.1            py37haf1e3a3_1  \n",
      "pyzmq                     19.0.2           py37hb1e8313_1  \n",
      "qdarkstyle                2.8.1                      py_0  \n",
      "qt                        5.9.7                h468cd18_1  \n",
      "qtawesome                 1.0.1                      py_0  \n",
      "qtconsole                 4.7.7                      py_0  \n",
      "qtpy                      1.9.0                      py_0  \n",
      "readline                  7.0                  h1de35cc_5  \n",
      "regex                     2020.10.15       py37haf1e3a3_0  \n",
      "requests                  2.24.0                     py_0  \n",
      "retrying                  1.3.3                    py37_2  \n",
      "ripgrep                   12.1.1                        0  \n",
      "rope                      0.18.0                     py_0  \n",
      "rtree                     0.9.4                    py37_1  \n",
      "ruamel_yaml               0.15.87          py37haf1e3a3_1  \n",
      "scikit-image              0.17.2           py37h81aa140_0  \n",
      "scikit-learn              0.23.2           py37h959d312_0  \n",
      "scipy                     1.3.1            py37h1410ff5_0  \n",
      "seaborn                   0.11.0                     py_0  \n",
      "send2trash                1.5.0                    py37_0  \n",
      "setuptools                50.3.0           py37h0dc7051_1  \n",
      "shapely                   1.7.1            py37hb435bde_0  \n",
      "simple-benchmark          0.1.0                    pypi_0    pypi\n",
      "simpleaudio               1.0.4                    pypi_0    pypi\n",
      "simplegeneric             0.8.1                    py37_2  \n",
      "singledispatch            3.4.0.3                 py_1001  \n",
      "sip                       4.19.8           py37h0a44026_0  \n",
      "six                       1.15.0                     py_0  \n",
      "snappy                    1.1.8                hb1e8313_0  \n",
      "snowballstemmer           2.0.0                      py_0  \n",
      "sortedcollections         1.2.1                      py_0  \n",
      "sortedcontainers          2.2.2                      py_0  \n",
      "soupsieve                 2.0.1                      py_0  \n",
      "sphinx                    3.2.1                      py_0  \n",
      "sphinxcontrib             1.0                      py37_1  \n",
      "sphinxcontrib-applehelp   1.0.2                      py_0  \n",
      "sphinxcontrib-devhelp     1.0.2                      py_0  \n",
      "sphinxcontrib-htmlhelp    1.0.3                      py_0  \n",
      "sphinxcontrib-jsmath      1.0.1                      py_0  \n",
      "sphinxcontrib-qthelp      1.0.3                      py_0  \n",
      "sphinxcontrib-serializinghtml 1.1.4                      py_0  \n",
      "sphinxcontrib-websupport  1.2.4                      py_0  \n",
      "spyder                    4.1.5                    py37_0  \n",
      "spyder-kernels            1.9.4                    py37_0  \n",
      "sqlalchemy                1.3.20           py37h9ed2024_0  \n",
      "sqlite                    3.33.0               hffcf06c_0  \n",
      "statsmodels               0.12.0           py37haf1e3a3_0  \n",
      "sympy                     1.6.2                    py37_0  \n",
      "tbb                       2020.3               h879752b_0  \n",
      "tblib                     1.7.0                      py_0  \n",
      "tensorboard               1.12.2                   pypi_0    pypi\n",
      "tensorflow                1.13.0rc1                pypi_0    pypi\n",
      "tensorflow-base           2.0.0           mkl_py37h66b1bf0_0  \n",
      "tensorflow-datasets       1.2.0                    py37_0    anaconda\n",
      "tensorflow-estimator      1.13.0rc0                pypi_0    pypi\n",
      "tensorflow-metadata       0.14.0             pyhe6710b0_1  \n",
      "termcolor                 1.1.0                    pypi_0    pypi\n",
      "terminado                 0.9.1                    py37_0  \n",
      "testpath                  0.4.4                      py_0  \n",
      "threadpoolctl             2.1.0              pyh5ca1d4c_0  \n",
      "tifffile                  2020.10.1        py37h0cf3a3e_2  \n",
      "timezonefinder            4.2.0                    pypi_0    pypi\n",
      "tk                        8.6.10               hb0a8c7a_0  \n",
      "toml                      0.10.1                     py_0  \n",
      "toolz                     0.11.1                     py_0  \n",
      "tornado                   6.0.4            py37h1de35cc_1  \n",
      "tqdm                      4.50.2                     py_0  \n",
      "traitlets                 5.0.5                      py_0  \n",
      "typed-ast                 1.4.1            py37h1de35cc_0  \n",
      "typing_extensions         3.7.4.3                    py_0  \n",
      "ujson                     4.0.1            py37hb1e8313_0  \n",
      "unicodecsv                0.14.1                   py37_0  \n",
      "unixodbc                  2.3.9                haf1e3a3_0  \n",
      "urllib3                   1.25.11                    py_0  \n",
      "watchdog                  0.10.3           py37haf1e3a3_0  \n",
      "wcwidth                   0.2.5                      py_0  \n",
      "webencodings              0.5.1                    py37_1  \n",
      "werkzeug                  1.0.1                      py_0  \n",
      "wheel                     0.35.1                     py_0  \n",
      "widgetsnbextension        3.5.1                    py37_0  \n",
      "wrapt                     1.11.2           py37h1de35cc_0  \n",
      "wurlitzer                 2.0.1                    py37_0  \n",
      "xgboost                   0.90             py37h6de7cb9_1    conda-forge\n",
      "xlrd                      1.2.0                    py37_0  \n",
      "xlsxwriter                1.3.7                      py_0  \n",
      "xlwings                   0.20.8                   py37_0  \n",
      "xlwt                      1.3.0                    py37_0  \n",
      "xz                        5.2.5                h1de35cc_0  \n",
      "yaml                      0.2.5                haf1e3a3_0  \n",
      "yapf                      0.30.0                     py_0  \n",
      "zeromq                    4.3.3                hb1e8313_3  \n",
      "zict                      2.0.0                      py_0  \n",
      "zipp                      3.4.0              pyhd3eb1b0_0  \n",
      "zlib                      1.2.11               h1de35cc_3  \n",
      "zope                      1.0                      py37_1  \n",
      "zope.event                4.5.0                    py37_0  \n",
      "zope.interface            5.1.2            py37haf1e3a3_0  \n",
      "zstd                      1.3.7                h5bba6e5_0  \n",
      "\n",
      "No errors reported.\n",
      "\n",
      "\n",
      "__Warning log__\n",
      "Warning (cuda): CUDA driver library cannot be found or no CUDA enabled devices are present.\n",
      "Exception class: <class 'numba.cuda.cudadrv.error.CudaSupportError'>\n",
      "Warning (roc): Error initialising ROC: No ROC toolchains found.\n",
      "Warning (roc): No HSA Agents found, encountered exception when searching: Error at driver init: \n",
      "\n",
      "HSA is not currently supported on this platform (darwin).\n",
      ":\n",
      "--------------------------------------------------------------------------------\n",
      "If requested, please copy and paste the information between\n",
      "the dashed (----) lines, or from a given specific section as\n",
      "appropriate.\n",
      "\n",
      "=============================================================\n",
      "IMPORTANT: Please ensure that you are happy with sharing the\n",
      "contents of the information present, any information that you\n",
      "wish to keep private you should remove before sharing.\n",
      "=============================================================\n",
      "\n",
      "\u001b[0m"
     ]
    }
   ],
   "source": [
    "!numba -s"
   ]
  },
  {
   "cell_type": "markdown",
   "metadata": {},
   "source": [
    "**Example**\n",
    "\n",
    "Consider the function that multiplies two `nxn` matrices."
   ]
  },
  {
   "cell_type": "code",
   "execution_count": null,
   "metadata": {},
   "outputs": [],
   "source": [
    "def matrix_multiplication(A, B, C):\n",
    "    \"\"\"\n",
    "        Perform square matrix multiplication of C = A * B using loops.\n",
    "    \"\"\"\n",
    "    n = len(A[0])\n",
    "    for i in range(n):\n",
    "        for j in range(n):\n",
    "            tmp = 0.\n",
    "            for k in range(n):\n",
    "                tmp  += A[i, k]*B[k, j]\n",
    "            C[i, j] = tmp"
   ]
  },
  {
   "cell_type": "code",
   "execution_count": null,
   "metadata": {},
   "outputs": [],
   "source": [
    "N = 200\n",
    "A = np.random.rand(N, N)\n",
    "B = np.random.rand(N, N)\n",
    "C = np.zeros_like(A)\n",
    "D = np.random.rand(N)"
   ]
  },
  {
   "cell_type": "code",
   "execution_count": null,
   "metadata": {},
   "outputs": [],
   "source": [
    "tRegMat = %timeit -o matrix_multiplication(A, B, C)"
   ]
  },
  {
   "cell_type": "markdown",
   "metadata": {},
   "source": [
    "There are two ways to use `Numba`:\n",
    "\n",
    "- Method 1: As a function calling the function we want to speed\n",
    "- Method 2: As a decorator of the function we want to speed"
   ]
  },
  {
   "cell_type": "markdown",
   "metadata": {},
   "source": [
    "Method 1: Function"
   ]
  },
  {
   "cell_type": "code",
   "execution_count": null,
   "metadata": {},
   "outputs": [],
   "source": [
    "numba_matrix_multiplication = jit(matrix_multiplication)"
   ]
  },
  {
   "cell_type": "code",
   "execution_count": null,
   "metadata": {},
   "outputs": [],
   "source": [
    "tNumMat0 = %timeit -o numba_matrix_multiplication(A, B, C)"
   ]
  },
  {
   "cell_type": "code",
   "execution_count": null,
   "metadata": {},
   "outputs": [],
   "source": [
    "print(\"Speedup Numba 0: {}\".format(tRegMat.best/tNumMat0.best))"
   ]
  },
  {
   "cell_type": "markdown",
   "metadata": {},
   "source": [
    "Method 2: Decorator"
   ]
  },
  {
   "cell_type": "code",
   "execution_count": null,
   "metadata": {},
   "outputs": [],
   "source": [
    "@jit\n",
    "def matrix_multiplication_numba(A, B, C):\n",
    "    \"\"\"\n",
    "        Perform square matrix multiplication of C = A * B using loops.\n",
    "    \"\"\"\n",
    "    n = len(A[0])\n",
    "    for i in range(n):\n",
    "        for j in range(n):\n",
    "            tmp = 0.\n",
    "            for k in range(n):\n",
    "                tmp  += A[i, k]*B[k, j]\n",
    "            C[i, j] = tmp"
   ]
  },
  {
   "cell_type": "code",
   "execution_count": null,
   "metadata": {},
   "outputs": [],
   "source": [
    "%timeit matrix_multiplication_numba(A, B, C)"
   ]
  },
  {
   "cell_type": "markdown",
   "metadata": {},
   "source": [
    "**Measuring the Performance of Numba**\n",
    "\n",
    "- Once the compilation has taken place, Numba runs the machine code version of your function. \n",
    "- If it is called again with same argument types, it can reuse the cached version instead of having to compile again.\n",
    "- A common mistake when measuring performance is not accounting for the above behaviour and to time code once with a simple timer that includes the time taken to compile your function in the execution time."
   ]
  },
  {
   "cell_type": "markdown",
   "metadata": {},
   "source": [
    "DO NOT REPORT THIS... COMPILATION TIME IS INCLUDED IN THE EXECUTION TIME!"
   ]
  },
  {
   "cell_type": "code",
   "execution_count": null,
   "metadata": {},
   "outputs": [],
   "source": [
    "@jit\n",
    "def matrix_multiplication_numba(A, B, C):\n",
    "    \"\"\"\n",
    "        Perform square matrix multiplication of C = A * B using loops.\n",
    "    \"\"\"\n",
    "    n = len(A[0])\n",
    "    for i in range(n):\n",
    "        for j in range(n):\n",
    "            tmp = 0.\n",
    "            for k in range(n):\n",
    "                tmp  += A[i, k]*B[k, j]\n",
    "            C[i, j] = tmp"
   ]
  },
  {
   "cell_type": "code",
   "execution_count": null,
   "metadata": {},
   "outputs": [],
   "source": [
    "start_1 = time.time()\n",
    "matrix_multiplication_numba(A, B, C)\n",
    "end_1 = time.time()\n",
    "print(\"Elapsed (with compilation) = {}\".format(end_1 - start_1))"
   ]
  },
  {
   "cell_type": "markdown",
   "metadata": {},
   "source": [
    "NOW THE FUNCTION IS COMPILED, RE-TIME IT EXECUTING FROM CACHE"
   ]
  },
  {
   "cell_type": "code",
   "execution_count": null,
   "metadata": {},
   "outputs": [],
   "source": [
    "start_2 = time.time()\n",
    "matrix_multiplication_numba(A, B, C)\n",
    "end_2 = time.time()\n",
    "print(\"Elapsed (after compilation) = {}\".format(end_2 - start_2))"
   ]
  },
  {
   "cell_type": "code",
   "execution_count": null,
   "metadata": {},
   "outputs": [],
   "source": [
    "print(\"Gain of time = {}\".format((end_1 - start_1)/(end_2 - start_2)))"
   ]
  },
  {
   "cell_type": "markdown",
   "metadata": {},
   "source": [
    "#### Function Signature\n",
    "\n",
    "- You can specify the signature of the Numba function by describing the types of the arguments and the return type of the function. \n",
    "- This can produce slightly faster code as the compiler does not need to infer the types. \n",
    "- The drawback is that the function can no longer accept other types."
   ]
  },
  {
   "cell_type": "code",
   "execution_count": null,
   "metadata": {},
   "outputs": [],
   "source": [
    "def average_numbers(x, y):\n",
    "    return (x + y)/2.0"
   ]
  },
  {
   "cell_type": "code",
   "execution_count": null,
   "metadata": {},
   "outputs": [],
   "source": [
    "numba_average_numbers = jit(nb.float64(nb.int32, nb.int32))(average_numbers)"
   ]
  },
  {
   "cell_type": "code",
   "execution_count": null,
   "metadata": {},
   "outputs": [],
   "source": [
    "@jit(nb.float64(nb.int32, nb.int32))\n",
    "def average_numbers_numba(x, y):\n",
    "    return (x + y)/2.0"
   ]
  },
  {
   "cell_type": "markdown",
   "metadata": {},
   "source": [
    "- `nb.float64(nb.int32, nb.int32)` is the function’s signature specifying a function that takes two 32-bit integer arguments and returns a double precision float.\n",
    "- You can also use the abbreviated notation: `nb.f8(nb.i4, nb.i4)`\n",
    "- If you only pass `(nb.i4, nb.i4)` instead of `nb.f8(nb.i4, nb.i4)`, Numba will try to infer the type of the return value.\n",
    "- Array signatures are specified by subscripting a base type according to the number of dimensions. \n",
    "     - A 1-dimension single-precision array would be written `nb.f4[:]`.\n",
    "     - A 3-dimension array of the same underlying type would be `nb.f4[:,:,:]`."
   ]
  },
  {
   "cell_type": "code",
   "execution_count": null,
   "metadata": {},
   "outputs": [],
   "source": [
    "numba_matrix_multiplication = jit((nb.f8[:,:], nb.f8[:,:], nb.f8[:,:]))(matrix_multiplication)"
   ]
  },
  {
   "cell_type": "code",
   "execution_count": null,
   "metadata": {},
   "outputs": [],
   "source": [
    "tNumMat1 = %timeit -o numba_matrix_multiplication(A, B, C)"
   ]
  },
  {
   "cell_type": "code",
   "execution_count": null,
   "metadata": {},
   "outputs": [],
   "source": [
    "print(\"Speedup Numba 1: {}\".format(tRegMat.best/tNumMat1.best))"
   ]
  },
  {
   "cell_type": "markdown",
   "metadata": {},
   "source": [
    "**Another Example: Finding the Closet Two Points**\n",
    "\n",
    "- Find the two closest points in an array of points in 2D. \n",
    "- Returns the two points, and the distance between them.\n",
    "- If we have N points, we would have to test NxN pairs of points. \n",
    "- This algorithm has a complexity of order NxN, denoted O(NxN)."
   ]
  },
  {
   "cell_type": "code",
   "execution_count": null,
   "metadata": {},
   "outputs": [],
   "source": [
    "import math\n",
    "def python_closest(points):\n",
    "    min_distance2 = 999999.\n",
    "    mdp1, mdp2 = None, None\n",
    "    for i in range(len(points)):\n",
    "        for j in range(i+1, len(points)):\n",
    "            distance2 = (points[i][0]-points[j][0])**2 + \\\n",
    "                        (points[i][1]-points[j][1])**2\n",
    "            if distance2 < min_distance2:\n",
    "               min_distance2 = distance2\n",
    "               mdp1, mdp2 = points[i], points[j]\n",
    "    return mdp1, mdp2, math.sqrt(min_distance2)"
   ]
  },
  {
   "cell_type": "code",
   "execution_count": null,
   "metadata": {},
   "outputs": [],
   "source": [
    "points = np.random.uniform((-1,-1), (1,1), (8100,2))"
   ]
  },
  {
   "cell_type": "code",
   "execution_count": null,
   "metadata": {},
   "outputs": [],
   "source": [
    "tcloset = %timeit -o python_closest(points)"
   ]
  },
  {
   "cell_type": "markdown",
   "metadata": {},
   "source": [
    "We can now use Numba to speedup the calculations. We can explicitly pass the types of the arguments to have a better performance."
   ]
  },
  {
   "cell_type": "code",
   "execution_count": null,
   "metadata": {},
   "outputs": [],
   "source": [
    "import math\n",
    "\n",
    "@jit('Tuple((float64[:], float64[:], float64))(float64[:,:])', nopython=True)\n",
    "def numba_closest(points):\n",
    "    min_distance2 = 999999.\n",
    "    mdp1, mdp2 = None, None\n",
    "    for i in prange(len(points)):\n",
    "        for j in prange(i+1, len(points)):\n",
    "            distance2 = (points[i][0]-points[j][0])**2 + \\\n",
    "                        (points[i][1]-points[j][1])**2\n",
    "            if distance2 < min_distance2:\n",
    "               min_distance2 = distance2\n",
    "               mdp1, mdp2 = points[i], points[j]\n",
    "    return mdp1, mdp2, math.sqrt(min_distance2)"
   ]
  },
  {
   "cell_type": "code",
   "execution_count": null,
   "metadata": {},
   "outputs": [],
   "source": [
    "tcloset_numba = %timeit -o numba_closest(points)"
   ]
  },
  {
   "cell_type": "code",
   "execution_count": null,
   "metadata": {},
   "outputs": [],
   "source": [
    "print(\"Speedup Closest Points: {}\".format(tcloset.best/tcloset_numba.best))"
   ]
  },
  {
   "cell_type": "markdown",
   "metadata": {},
   "source": [
    "### Compilation Options\n",
    "A number of keyword-only arguments can be passed to the `@jit` decorator:\n",
    "1. `nopython`: Numba has two compilation modes:\n",
    "     - **nopython mode** (`nopython=True`): Compile the decorated function so that it will run entirely without the involvement of the Python interpreter. This mode produces the highest performance code, but requires that the native types of all values in the function can be inferred. Note that <font color=\"red\">**`@njit`**</font> is an alias for <font color=\"red\">**`@jit(nopython=True)`**</font>.\n",
    "     - **object mode**: In this mode Numba will identify loops that it can compile and compile those into functions that run in machine code, and it will run the rest of the code in the interpreter. For best performance avoid using this mode!\n",
    "     - By default Numba will automatically use **object mode** if **nopython mode** cannot be used for some reason. \n",
    "     - When you are in **nopython mode**, types that cannot be inferred by the compiler will generate an error.\n",
    "2. `nogil`: \n",
    "     - Whenever Numba optimizes Python code to native code that only works on native types and variables (rather than Python objects), it is not necessary anymore to hold Python’s global interpreter lock (GIL). \n",
    "     - Numba will release the GIL when entering such a compiled function if you passed `nogil=True`.\n",
    "     - When using `nogil=True`, you need to be wary of the usual pitfalls of multi-threaded programming (consistency, synchronization, race conditions, etc.).\n",
    "3. `cache`:\n",
    "     - To avoid compilation times each time you invoke a Python program, you can instruct Numba to write the result of function compilation into a file-based cache. \n",
    "     - This is done by passing `cache=True`.\n",
    "4. `parallel`: \n",
    "     - Enables automatic parallelization (and related optimizations) for operations in the function known to have parallel semantics.\n",
    "     - This feature is enabled by passing `parallel=True` and must be used in conjunction with `nopython=True`."
   ]
  },
  {
   "cell_type": "markdown",
   "metadata": {},
   "source": [
    "### Exercise\n",
    "\n",
    "Use Numba (and Dask) to speed up the code below (calculations of `pi`):"
   ]
  },
  {
   "cell_type": "code",
   "execution_count": 3,
   "metadata": {},
   "outputs": [
    {
     "name": "stdout",
     "output_type": "stream",
     "text": [
      "Approximation of Pi: 3.1425823999999998\n",
      "CPU times: user 8.06 s, sys: 50 ms, total: 8.11 s\n",
      "Wall time: 8.17 s\n"
     ]
    }
   ],
   "source": [
    "%%time\n",
    "\n",
    "import random\n",
    "\n",
    "def approximate_pi(num_samples):\n",
    "    num_points_circ = 0\n",
    "\n",
    "    for i in range(num_samples):\n",
    "        # Select an arbitrary point in [-1,1]x[-1,1]\n",
    "        x = random.uniform(-1, 1)\n",
    "        y = random.uniform(-1, 1)\n",
    "\n",
    "        # Check if the point is inside the circle\n",
    "        if x**2 + y**2 < 1.0:\n",
    "            num_points_circ += 1\n",
    "\n",
    "    return 4 * num_points_circ / num_samples\n",
    "\n",
    "def mean(*args):\n",
    "    return sum(args) / len(args)\n",
    "\n",
    "num_samples = 10**6\n",
    "num_experiments = 10\n",
    "\n",
    "pi_approx = mean(*[approximate_pi(num_samples) for i in range(num_experiments)])\n",
    "\n",
    "print(\"Approximation of Pi: {}\".format(pi_approx))"
   ]
  },
  {
   "cell_type": "markdown",
   "metadata": {},
   "source": [
    "### Fastmath\n",
    "- In certain classes of applications strict IEEE 754 compliance is less important. \n",
    "- It is possible to relax some numerical rigour with view of gaining additional performance. \n",
    "- The way to achieve this behaviour in Numba is through the use of the `fastmath` keyword argument."
   ]
  },
  {
   "cell_type": "code",
   "execution_count": null,
   "metadata": {},
   "outputs": [],
   "source": [
    "@njit(fastmath=False)\n",
    "def do_sum(A):\n",
    "    acc = 0.\n",
    "    # without fastmath, this loop must accumulate in strict order\n",
    "    for x in A:\n",
    "        acc += np.sqrt(x)\n",
    "    return acc\n",
    "\n",
    "@njit(fastmath=True)\n",
    "def do_sum_fast(A):\n",
    "    acc = 0.\n",
    "    # with fastmath, the reduction can be vectorized as floating point\n",
    "    # reassociation is permitted.\n",
    "    for x in A:\n",
    "        acc += np.sqrt(x)\n",
    "    return acc"
   ]
  },
  {
   "cell_type": "code",
   "execution_count": null,
   "metadata": {},
   "outputs": [],
   "source": [
    "time_do_sum = %timeit -o acc1 = do_sum(D)"
   ]
  },
  {
   "cell_type": "code",
   "execution_count": null,
   "metadata": {},
   "outputs": [],
   "source": [
    "time_do_sum_fast = %timeit  -o acc2 = do_sum_fast(D)\n",
    "print(time_do_sum.best / time_do_sum_fast.best)"
   ]
  },
  {
   "cell_type": "markdown",
   "metadata": {},
   "source": [
    "## <font color=\"red\"> Parallelization </font>\n",
    "\n",
    "- The setting `parallel=True` in `jit()` enables a Numba transformation pass that attempts to automatically parallelize and perform other optimizations on (part of) a function.\n",
    "- A user program may contain operations (for instance adding a scalar value to an array) that are known to have parallel semantics.\n",
    "- Each operation could be parallelized individually but that might light to poor performance due to poor cache behavior.\n",
    "- Numba uses instead auto-parallelization where it identifies all operations with parallel semantics and fuses adjacent ones together, to form one or more kernels that are automatically run in parallel.\n",
    "- The process is fully automated without modifications to the user program."
   ]
  },
  {
   "cell_type": "markdown",
   "metadata": {},
   "source": [
    "### Explicit Parallel Loops\n",
    "\n",
    "- Numba parallel execution also has support for explicit parallel loop declaration similar to that in OpenMP. \n",
    "- To indicate that a loop should be executed in parallel the `numba.prange` function should be used.\n",
    "- This function behaves like Python `range` and if `parallel=True` is not set it acts simply as an alias of `range`. \n",
    "- Loops induced with `prange` can be used for embarrassingly parallel computation and also reductions."
   ]
  },
  {
   "cell_type": "markdown",
   "metadata": {},
   "source": [
    "**Example**"
   ]
  },
  {
   "cell_type": "code",
   "execution_count": null,
   "metadata": {},
   "outputs": [],
   "source": [
    "@njit(parallel=True)\n",
    "def matrix_multiplication_numba2(A, B, C):\n",
    "    \"\"\"\n",
    "        Perform square matrix multiplication of C = A * B using loops.\n",
    "    \"\"\"\n",
    "    n = len(A[0])\n",
    "    for i in prange(n):\n",
    "        for j in prange(n):\n",
    "            tmp = 0.\n",
    "            for k in prange(n):\n",
    "                tmp += A[i, k]*B[k, j]\n",
    "            C[i,j] = tmp"
   ]
  },
  {
   "cell_type": "code",
   "execution_count": null,
   "metadata": {},
   "outputs": [],
   "source": [
    "tNumMat2 = %timeit -o matrix_multiplication_numba2(A, B, C)"
   ]
  },
  {
   "cell_type": "code",
   "execution_count": null,
   "metadata": {},
   "outputs": [],
   "source": [
    "print(\"Speedup Numba 2: {}\".format(tRegMat.best/tNumMat2.best))"
   ]
  },
  {
   "cell_type": "markdown",
   "metadata": {},
   "source": [
    "**Another Example**"
   ]
  },
  {
   "cell_type": "code",
   "execution_count": null,
   "metadata": {},
   "outputs": [],
   "source": [
    "def evaluate_functions(n):\n",
    "    \"\"\"\n",
    "        Evaluate the trigononmetric functions for n values evenly\n",
    "        spaced over the interval [-1500.00, 1500.00]\n",
    "    \"\"\"\n",
    "    vector1 = np.linspace(-1500.00, 1500.0, n)\n",
    "    iterations = 10000\n",
    "    for i in range(iterations):\n",
    "        vector2 = np.sin(vector1)\n",
    "        vector1 = np.arcsin(vector2)\n",
    "        vector2 = np.cos(vector1)\n",
    "        vector1 = np.arccos(vector2)\n",
    "        vector2 = np.tan(vector1)\n",
    "        vector1 = np.arctan(vector2)"
   ]
  },
  {
   "cell_type": "code",
   "execution_count": null,
   "metadata": {},
   "outputs": [],
   "source": [
    "@njit(parallel=True)\n",
    "def evaluate_functions_numba(n):\n",
    "    \"\"\"\n",
    "        Evaluate the trigononmetric functions for n values evenly\n",
    "        spaced over the interval [-1500.00, 1500.00]\n",
    "    \"\"\"\n",
    "    vector1 = np.linspace(-1500.00, 1500.0, n)\n",
    "    iterations = 10000\n",
    "    for i in prange(iterations):\n",
    "        vector2 = np.sin(vector1)\n",
    "        vector1 = np.arcsin(vector2)\n",
    "        vector2 = np.cos(vector1)\n",
    "        vector1 = np.arccos(vector2)\n",
    "        vector2 = np.tan(vector1)\n",
    "        vector1 = np.arctan(vector2)"
   ]
  },
  {
   "cell_type": "code",
   "execution_count": null,
   "metadata": {},
   "outputs": [],
   "source": [
    "tRegFun = %timeit -o evaluate_functions(100)"
   ]
  },
  {
   "cell_type": "code",
   "execution_count": null,
   "metadata": {},
   "outputs": [],
   "source": [
    "tNumFun = %timeit -o evaluate_functions_numba(100)"
   ]
  },
  {
   "cell_type": "code",
   "execution_count": null,
   "metadata": {},
   "outputs": [],
   "source": [
    "print(\"Speedup: {}\".format(tRegFun.best/tNumFun.best))"
   ]
  },
  {
   "cell_type": "markdown",
   "metadata": {},
   "source": [
    "### Diagnostics\n",
    "- We can produce diagnostic information about the transforms undertaken in automatically parallelizing the decorated code. \n",
    "- This information can be accessed in two ways:\n",
    "     1. Setting the environment variable: `NUMBA_PARALLEL_DIAGNOSTICS`\n",
    "     2. Calling the function `parallel_diagnostics()`\n",
    "- The level of verbosity in the diagnostic information is controlled by an integer argument of value between 1 and 4 inclusive, 1 being the least verbose and 4 the most.\n",
    "\n",
    "For additional information, consult the webpage: <a href=\"http://numba.pydata.org/numba-doc/latest/user/parallel.html\"> http://numba.pydata.org/numba-doc/latest/user/parallel.html</a>."
   ]
  },
  {
   "cell_type": "code",
   "execution_count": null,
   "metadata": {},
   "outputs": [],
   "source": [
    "evaluate_functions_numba.parallel_diagnostics(level=4)"
   ]
  },
  {
   "cell_type": "markdown",
   "metadata": {},
   "source": [
    "## <font color=\"red\"> Calling Other Functions</font>\n",
    "\n",
    "- Numba functions can call other Numba functions. \n",
    "- Both functions must have the `@jit` decorator, otherwise the code will be much slower.\n",
    "\n",
    "```python\n",
    "@jit\n",
    "def square(x):\n",
    "    return x ** 2\n",
    "\n",
    "@jit\n",
    "def hypot(x, y):\n",
    "    return math.sqrt(square(x) + square(y))\n",
    "```"
   ]
  },
  {
   "cell_type": "markdown",
   "metadata": {},
   "source": [
    "## <font color=\"red\">Numba and Dask</font>\n",
    "\n",
    "- Numba allows for run-time compilations of functions to optimize single-machine code.\n",
    "    - If you intend to call a function multiple times, you can decrease your compute time significantly by compliling the function on the first call. \n",
    "    - Numba is useful for speeding up individual tasks.\n",
    "- Dask is a parallel computing library for out-of-memory and distributed computations. \n",
    "    - At the heart of dask are a series of task schedulers — algorithms for determining when and how to run various user-defined computational “tasks”; consequently, dask can automatically identify which tasks can be run in parallel, or not run at all. \n",
    "    - Employing dask’s schedulers allows us to scale out to a network of many interrelated tasks and efficiently compute only those outputs we need, even on a single machine.\n",
    "    \n",
    "**Example**\n",
    "\n",
    "Use Numba and Dask for the approximation of Pi."
   ]
  },
  {
   "cell_type": "code",
   "execution_count": null,
   "metadata": {},
   "outputs": [],
   "source": [
    "%%time\n",
    "\n",
    "import random\n",
    "import dask\n",
    "\n",
    "@dask.delayed\n",
    "@nb.jit(nopython=True, nogil=True)\n",
    "def approximate_pi(num_samples):\n",
    "    num_points_circ = 0\n",
    "\n",
    "    for i in range(num_samples):\n",
    "        # Select an arbitrary point in [-1,1]x[-1,1]\n",
    "        x = random.uniform(-1, 1)\n",
    "        y = random.uniform(-1, 1)\n",
    "\n",
    "        # Check if the point is inside the circle\n",
    "        if x**2 + y**2 < 1.0:\n",
    "            num_points_circ += 1\n",
    "\n",
    "    return 4 * num_points_circ / num_samples\n",
    "\n",
    "@dask.delayed\n",
    "def mean(*args):\n",
    "    return sum(args) / len(args)\n",
    "\n",
    "number_samples = 10**6\n",
    "number_experiments = 10\n",
    "\n",
    "pi_approx = mean(*[approximate_pi(number_samples) for i in range(number_experiments)])\n",
    "\n",
    "print(\"Approximation of Pi: {}\".format(pi_approx.compute()))"
   ]
  },
  {
   "cell_type": "markdown",
   "metadata": {},
   "source": [
    "## <font color=\"red\">Numba and Pandas</font>\n",
    "\n",
    "- Pandas is built on top of Numpy.\n",
    "- Pandas offers flexibility in manipulating data but not necessary speed.\n",
    "- This flexibility allows the creation of built-in function.\n",
    "- Crude looping (over DataFrame rows for instance) in Pandas does not take advantage of any built-in optimizations, making it extremely inefficient.\n",
    "- Using vectorized Pandas built-in functions (acting on Pandas Series) is almost always preferable to accomplishing similar ends with custom-written looping."
   ]
  },
  {
   "cell_type": "markdown",
   "metadata": {},
   "source": [
    "### Example\n",
    "\n",
    "- We have a Pandas DataFrame and we want to add a new column by multiplying an exiting column by a constant.\n",
    "- We use three methods methods for the multiplication operations: `apply` method, Pandas and vectorization with Numba."
   ]
  },
  {
   "cell_type": "code",
   "execution_count": null,
   "metadata": {},
   "outputs": [],
   "source": [
    "import pandas as pd\n",
    "\n",
    "def multiply(x):\n",
    "    return x * 5\n",
    "    \n",
    "@nb.vectorize\n",
    "def multiply_numba(x):\n",
    "    return x * 5"
   ]
  },
  {
   "cell_type": "markdown",
   "metadata": {},
   "source": [
    "Create a table of 100,000 rows and 4 columns filled with random numbers from 0 to 100:"
   ]
  },
  {
   "cell_type": "code",
   "execution_count": null,
   "metadata": {},
   "outputs": [],
   "source": [
    "df = pd.DataFrame(np.random.randint(0,100,size=(100000, 4)),columns=['a', 'b', 'c', 'd'])\n",
    "df"
   ]
  },
  {
   "cell_type": "code",
   "execution_count": null,
   "metadata": {},
   "outputs": [],
   "source": [
    "time_apply = %timeit -o df['new_col1'] = df['a'].apply(multiply)"
   ]
  },
  {
   "cell_type": "code",
   "execution_count": null,
   "metadata": {},
   "outputs": [],
   "source": [
    "time_pandas = %timeit -o df['new_col2'] = df['a'] * 5"
   ]
  },
  {
   "cell_type": "code",
   "execution_count": null,
   "metadata": {},
   "outputs": [],
   "source": [
    "time_numba1 = %timeit -o df['new_col3'] = multiply_numba(df['a'].to_numpy())"
   ]
  },
  {
   "cell_type": "code",
   "execution_count": null,
   "metadata": {},
   "outputs": [],
   "source": [
    "print(\"Multiply Apply:  {}\".format(time_apply.best/time_apply.best))\n",
    "print(\"Multiply Pandas: {}\".format(time_apply.best/time_pandas.best))\n",
    "print(\"Multiply Numba:  {}\".format(time_apply.best/time_numba1.best))"
   ]
  },
  {
   "cell_type": "markdown",
   "metadata": {},
   "source": [
    "#### Example\n",
    "\n",
    "- Square the values of each row and take their mean to create a new column"
   ]
  },
  {
   "cell_type": "code",
   "execution_count": null,
   "metadata": {},
   "outputs": [],
   "source": [
    "def square_mean(row):\n",
    "    row = np.power(row, 2)\n",
    "    return np.mean(row)\n",
    "\n",
    "@njit\n",
    "def square_mean_numba(arr):\n",
    "    res = np.empty(arr.shape[0])\n",
    "    arr = np.power(arr, 2)\n",
    "    for i in prange(arr.shape[0]):\n",
    "        res[i] = np.mean(arr[i])\n",
    "    return res"
   ]
  },
  {
   "cell_type": "code",
   "execution_count": null,
   "metadata": {},
   "outputs": [],
   "source": [
    "nrows_list = [10, 100, 1000, 10000, 100000]"
   ]
  },
  {
   "cell_type": "code",
   "execution_count": null,
   "metadata": {},
   "outputs": [],
   "source": [
    "pandas_times = list()\n",
    "for nrows in nrows_list:\n",
    "    df = pd.DataFrame(np.random.randint(0,100,size=(nrows, 2)),columns=['a', 'b'])\n",
    "    tp = %timeit -o df['new_col'] = df.apply(square_mean, axis=1)\n",
    "    pandas_times.append(tp.best)"
   ]
  },
  {
   "cell_type": "code",
   "execution_count": null,
   "metadata": {},
   "outputs": [],
   "source": [
    "numba_times = list()\n",
    "for nrows in nrows_list:\n",
    "    df = pd.DataFrame(np.random.randint(0,100,size=(nrows, 2)),columns=['a', 'b'])\n",
    "    tn = %timeit -o df['new_col'] = square_mean_numba(df.to_numpy())\n",
    "    numba_times.append(tn.best)"
   ]
  },
  {
   "cell_type": "code",
   "execution_count": null,
   "metadata": {},
   "outputs": [],
   "source": [
    "print(pandas_times)\n",
    "print(numba_times)"
   ]
  },
  {
   "cell_type": "code",
   "execution_count": null,
   "metadata": {},
   "outputs": [],
   "source": [
    "import matplotlib.pyplot as plt\n",
    "\n",
    "x = np.arange(len(nrows_list))\n",
    "\n",
    "fig, axes = plt.subplots(nrows=1, ncols=1)\n",
    "width = 0.25\n",
    "axes.bar(x, pandas_times, width, label='Pandas apply')\n",
    "axes.bar(x + width, numba_times, width, label='Numba function')\n",
    "axes.set_xticks(x)\n",
    "axes.set_xticklabels(nrows_list)\n",
    "axes.legend(prop={'size': 10})\n",
    "axes.set_yscale('log')\n",
    "axes.set_xlabel('Number of rows')\n",
    "axes.set_ylabel(\"Time (s)\")"
   ]
  },
  {
   "cell_type": "markdown",
   "metadata": {},
   "source": [
    "**Could we claim that Numpy/Numba is faster than Pandas?**\n",
    "\n",
    "- Not necessarily!\n",
    "- Over time, Pandas relies more on  Cython operations.\n",
    "- In Pandas 1.0 (and newer versions) Pandas’ `apply()` method (applies a function along a specific axis of a DataFrame) can make use of Numba (if installed) instead of cython and be faster. "
   ]
  },
  {
   "cell_type": "markdown",
   "metadata": {},
   "source": [
    "## <font color=\"red\"> Using GPUs</font>\n",
    "\n",
    "- Numba supports CUDA GPU programming by directly compiling a restricted subset of Python code into CUDA kernels and device functions following the CUDA execution model. \n",
    "- Kernels written in Numba appear to have direct access to NumPy arrays. \n",
    "- NumPy arrays are transferred between the CPU and the GPU automatically.\n",
    "\n",
    "![GPUs](http://www.nvidia.com/docs/IO/143716/how-gpu-acceleration-works.png)\n",
    "Image Source: NVIDIA\n",
    "\n",
    "**Useful Terminology**\n",
    "\n",
    "| Term | Meaning |\n",
    "| ---  | --- |\n",
    "| `host` | the CPU |\n",
    "| `device` | the GPU |\n",
    "| `host memory` | the system main memory |\n",
    "| `device memory` | onboard memory on a GPU card |\n",
    "| `kernels` | a GPU function launched by the host and executed on the device |\n",
    "| `device function` | a GPU function executed on the device which can only be called from the device  |"
   ]
  },
  {
   "cell_type": "markdown",
   "metadata": {},
   "source": [
    "#### Accessing the GPU on Google Colab\n",
    "\n",
    "In order to access GPUs for free:\n",
    "\n",
    "1. Go to the `Runtime` menu,\n",
    "2. Click on `Change runtime type`, and \n",
    "3. In the pop-up box, under `Hardware accelerator`, select `GPU` and click on `SAVE`."
   ]
  },
  {
   "cell_type": "code",
   "execution_count": null,
   "metadata": {},
   "outputs": [],
   "source": [
    "from numba import cuda\n",
    "print(cuda.gpus)"
   ]
  },
  {
   "cell_type": "code",
   "execution_count": null,
   "metadata": {},
   "outputs": [],
   "source": [
    "!nvidia-smi"
   ]
  },
  {
   "cell_type": "markdown",
   "metadata": {},
   "source": [
    "###  Average Calculations."
   ]
  },
  {
   "cell_type": "code",
   "execution_count": null,
   "metadata": {},
   "outputs": [],
   "source": [
    "import math\n",
    "\n",
    "def average_sqrt(Mat, avg):\n",
    "    \"\"\"\n",
    "        Average of the square root of all the entries of an array using loops.\n",
    "    \"\"\"\n",
    "    avg = 0.\n",
    "    for x in Mat:\n",
    "        avg += math.sqrt(x)\n",
    "    avg = avg/len(Mat)"
   ]
  },
  {
   "cell_type": "code",
   "execution_count": null,
   "metadata": {},
   "outputs": [],
   "source": [
    "@njit\n",
    "def average_sqrt_numba(Mat, avg):\n",
    "    \"\"\"\n",
    "        Average of the square root of all the entries of an array using loops.\n",
    "    \"\"\"\n",
    "    s = 0.\n",
    "    for x in Mat:\n",
    "        avg += math.sqrt(x)\n",
    "    avg = avg/len(Mat)"
   ]
  },
  {
   "cell_type": "markdown",
   "metadata": {},
   "source": [
    "We only need to specify the `cuda` target as argument of the decorator. \n",
    "Numba will automatically:\n",
    "\n",
    "- Compile a Cuda kernel to execute the operations.\n",
    "- Allocate GPU memory for the input.\n",
    "- Execute the CUDA kernel with the correct kernel dimensions given the input sizes.\n",
    "- Copy the result back from the GPU to the CPU.\n",
    "- Return the result on the host."
   ]
  },
  {
   "cell_type": "code",
   "execution_count": null,
   "metadata": {},
   "outputs": [],
   "source": [
    "@jit(target =\"cuda\")\n",
    "def average_sqrt_cuda(Mat, avg):\n",
    "    \"\"\"\n",
    "        Average of the square root of all the entries of an array using loops.\n",
    "    \"\"\"\n",
    "    avg = 0.\n",
    "    for x in Mat:\n",
    "        avg += math.sqrt(x)\n",
    "    avg = avg/len(Mat)"
   ]
  },
  {
   "cell_type": "code",
   "execution_count": null,
   "metadata": {},
   "outputs": [],
   "source": [
    "M = 1000000\n",
    "Mat = np.random.rand(M)\n",
    "avg = 0."
   ]
  },
  {
   "cell_type": "code",
   "execution_count": null,
   "metadata": {},
   "outputs": [],
   "source": [
    "time_reg = %timeit -o average_sqrt(Mat, avg)"
   ]
  },
  {
   "cell_type": "code",
   "execution_count": null,
   "metadata": {},
   "outputs": [],
   "source": [
    "time_numba = %timeit -o average_sqrt_numba(Mat, avg)"
   ]
  },
  {
   "cell_type": "code",
   "execution_count": null,
   "metadata": {},
   "outputs": [],
   "source": [
    "time_cuda1 = %timeit -o average_sqrt_cuda(Mat, avg)"
   ]
  },
  {
   "cell_type": "code",
   "execution_count": null,
   "metadata": {},
   "outputs": [],
   "source": [
    "print(\"Regular Speedup: {}\".format(time_reg.best/time_reg.best))\n",
    "print(\"Numba   Speedup: {}\".format(time_reg.best/time_numba.best))\n",
    "print(\"Cuda    Speedup: {}\".format(time_reg.best/time_cuda1.best))"
   ]
  },
  {
   "cell_type": "markdown",
   "metadata": {},
   "source": [
    "### Writing Cuda Kernels\n",
    "\n",
    "- The CUDA programming model allows you to abstract the GPU hardware into a software model composed of a **grid** containing **blocks** of **threads**. \n",
    "- These **threads** are the smallest individual unit in the programming model, and they execute together in groups (traditionally called **warps**, consisting of 32 threads each). \n",
    "- Determiming the best size for your grid of thread blocks is a complicated problem that often depends on the specific algorithm and hardware you're using, but here a few good rules of thumb:\n",
    "     - The size of a block should be a multiple of 32 threads, with typical block sizes between 128 and 512 threads per block.\n",
    "     - The size of the grid should ensure the full GPU is utilized where possible. Launching a grid where the number of blocks is 2x-4x the number of **streaming multiprocessors** on the GPU is a good starting place. (The Tesla K80 GPUs provided by Colaboratory have 15 SMs - more modern GPUs like the P100s on TigerGPU have 60+.)\n",
    "     - The CUDA kernel launch overhead does depend on the number of blocks, so it may not be best to launch a grid where the number of threads equals the number of input elements when the input size is very big. We'll show a pattern for dealing with large inputs below."
   ]
  },
  {
   "cell_type": "code",
   "execution_count": null,
   "metadata": {},
   "outputs": [],
   "source": [
    "@cuda.jit\n",
    "def average_sqrt_cuda_kernel(x, avg):\n",
    "    tidx = cuda.threadIdx.x # this is the unique thread ID within a 1D block\n",
    "    bidx = cuda.blockIdx.x  # Similarly, this is the unique block ID within the 1D grid\n",
    "\n",
    "    block_dimx = cuda.blockDim.x  # number of threads per block\n",
    "    grid_dimx = cuda.gridDim.x    # number of blocks in the grid\n",
    "    \n",
    "    start = tidx + bidx * block_dimx\n",
    "    stride = block_dimx * grid_dimx\n",
    "    \n",
    "    avg = 0.\n",
    "    for i in range(start, x.shape[0], stride):\n",
    "        avg += np.sqrt(x[i])\n",
    "    avg = avg/x.shape[0]"
   ]
  },
  {
   "cell_type": "code",
   "execution_count": null,
   "metadata": {},
   "outputs": [],
   "source": [
    "threads_per_block = 128\n",
    "blocks_per_grid = 30"
   ]
  },
  {
   "cell_type": "code",
   "execution_count": null,
   "metadata": {},
   "outputs": [],
   "source": [
    "time_cuda2 = %timeit -o average_sqrt_cuda_kernel([blocks_per_grid, threads_per_block](Mat, avg)"
   ]
  },
  {
   "cell_type": "code",
   "execution_count": null,
   "metadata": {},
   "outputs": [],
   "source": [
    "print(\"Cuda Kernel Speedup: {}\".format(time_reg.best/time_cuda2.best))"
   ]
  },
  {
   "cell_type": "markdown",
   "metadata": {},
   "source": [
    "### Matrix Multiplication"
   ]
  },
  {
   "cell_type": "code",
   "execution_count": null,
   "metadata": {},
   "outputs": [],
   "source": [
    "@cuda.jit\n",
    "def matrix_multiplication_cuda(A, B, C):\n",
    "    \"\"\"\n",
    "      Perform square matrix multiplication of C = A * B using loops.\n",
    "    \"\"\"\n",
    "    row, col = cuda.grid(2)\n",
    "    if row < C.shape[0] and col < C.shape[1]:\n",
    "        tmp = 0.\n",
    "        for k in range(A.shape[1]):\n",
    "            tmp += A[row, k] * B[k, col]\n",
    "        C[row, col] = tmp"
   ]
  },
  {
   "cell_type": "code",
   "execution_count": null,
   "metadata": {},
   "outputs": [],
   "source": [
    "tCudaMat1 = %timeit -o matrix_multiplication_cuda(A, B, C)"
   ]
  },
  {
   "cell_type": "code",
   "execution_count": null,
   "metadata": {},
   "outputs": [],
   "source": [
    "print(\"Speedup Numba 2: {}\".format(tRegMat.best/tNumMat2.best))\n",
    "print(\"Speedup CUDA 1:  {}\".format(tRegMat.best/tCudaMat1.best))"
   ]
  },
  {
   "cell_type": "markdown",
   "metadata": {},
   "source": [
    "There can be a faster way for the matrix multiplication with Cuda:\n",
    "\n",
    "- Each thread block is responsible for computing a square sub-matrix of C and each thread for computing an element of the sub-matrix. \n",
    "- The sub-matrix is equal to the product of a square sub-matrix of A (sA) and a square sub-matrix of B (sB). \n",
    "- In order to fit into the device resources, the two input matrices are divided into as many square sub-matrices of dimension TPB as necessary, and the result computed as the sum of the products of these square sub-matrices.\n",
    "- Each product is performed by first loading sA and sB from global memory to shared memory, with one thread loading each element of each sub-matrix. \n",
    "- Once sA and sB have been loaded, each thread accumulates the result into a register (tmp). Once all the products have been calculated, the results are written to the matrix C in global memory."
   ]
  },
  {
   "cell_type": "code",
   "execution_count": null,
   "metadata": {},
   "outputs": [],
   "source": [
    "from numba import cuda, float32\n",
    "\n",
    "# Controls threads per block and shared memory usage.\n",
    "# The computation will be done on blocks of TPBxTPB elements.\n",
    "TPB = 16\n",
    "\n",
    "@cuda.jit\n",
    "def matrix_multiplication_cuda_fast(A, B, C):\n",
    "    # Define an array in the shared memory\n",
    "    # The size and type of the arrays must be known at compile time\n",
    "    sA = cuda.shared.array(shape=(TPB, TPB), dtype=float32)\n",
    "    sB = cuda.shared.array(shape=(TPB, TPB), dtype=float32)\n",
    "\n",
    "    x, y = cuda.grid(2)\n",
    "\n",
    "    tx = cuda.threadIdx.x\n",
    "    ty = cuda.threadIdx.y\n",
    "    bpg = cuda.gridDim.x    # blocks per grid\n",
    "\n",
    "    if x >= C.shape[0] and y >= C.shape[1]:\n",
    "        # Quit if (x, y) is outside of valid C boundary\n",
    "        return\n",
    "\n",
    "    # Each thread computes one element in the result matrix.\n",
    "    # The dot product is chunked into dot products of TPB-long vectors.\n",
    "    tmp = 0.\n",
    "    for i in range(bpg):\n",
    "        # Preload data into shared memory\n",
    "        sA[tx, ty] = A[x, ty + i * TPB]\n",
    "        sB[tx, ty] = B[tx + i * TPB, y]\n",
    "\n",
    "        # Wait until all threads finish preloading\n",
    "        cuda.syncthreads()\n",
    "\n",
    "        # Computes partial product on the shared memory\n",
    "        for j in range(TPB):\n",
    "            tmp += sA[tx, j] * sB[j, ty]\n",
    "\n",
    "        # Wait until all threads finish computing\n",
    "        cuda.syncthreads()\n",
    "\n",
    "    C[x, y] = tmp"
   ]
  },
  {
   "cell_type": "code",
   "execution_count": null,
   "metadata": {},
   "outputs": [],
   "source": [
    "tCudaMat2 = %timeit -o matrix_multiplication_cuda_fast(A, B, C)"
   ]
  },
  {
   "cell_type": "code",
   "execution_count": null,
   "metadata": {},
   "outputs": [],
   "source": [
    "print(\"Speedup Numba 2: {}\".format(tRegMat.best/tNumMat2.best))\n",
    "print(\"Speedup CUDA 1:  {}\".format(tRegMat.best/tCudaMat1.best))\n",
    "print(\"Speedup CUDA 2:  {}\".format(tRegMat.best/tCudaMat2.best))"
   ]
  },
  {
   "cell_type": "markdown",
   "metadata": {},
   "source": [
    "### Mandelbrot Fractal "
   ]
  },
  {
   "cell_type": "code",
   "execution_count": null,
   "metadata": {},
   "outputs": [],
   "source": [
    "import matplotlib.pyplot as plt\n",
    "from timeit import default_timer as timer"
   ]
  },
  {
   "cell_type": "markdown",
   "metadata": {},
   "source": [
    "**Pure Python**"
   ]
  },
  {
   "cell_type": "code",
   "execution_count": null,
   "metadata": {},
   "outputs": [],
   "source": [
    "# color function for point at (x, y)\n",
    "def mandel(x, y, max_iters):\n",
    "    c = complex(x, y)\n",
    "    z = 0.0j\n",
    "    for i in range(max_iters):\n",
    "        z = z*z + c\n",
    "        if z.real*z.real + z.imag*z.imag >= 4:\n",
    "            return i\n",
    "    return max_iters"
   ]
  },
  {
   "cell_type": "code",
   "execution_count": null,
   "metadata": {},
   "outputs": [],
   "source": [
    "def create_fractal(xmin, xmax, ymin, ymax, image, iters):\n",
    "    height, width = image.shape\n",
    "\n",
    "    pixel_size_x = (xmax - xmin)/width\n",
    "    pixel_size_y = (ymax - ymin)/height\n",
    "\n",
    "    for x in range(width):\n",
    "        real = xmin + x*pixel_size_x\n",
    "        for y in range(height):\n",
    "            imag = ymin + y*pixel_size_y\n",
    "            color = mandel(real, imag, iters)\n",
    "            image[y, x]  = color"
   ]
  },
  {
   "cell_type": "code",
   "execution_count": null,
   "metadata": {},
   "outputs": [],
   "source": [
    "gimage = np.zeros((1024, 1536), dtype=np.uint8)\n",
    "xmin, xmax, ymin, ymax = np.array([-2.0, 1.0, -1.0, 1.0]).astype('float32')\n",
    "iters = 50\n",
    "\n",
    "start = timer()\n",
    "create_fractal(xmin, xmax, ymin, ymax, gimage, iters)\n",
    "dt_py = timer() - start\n",
    "\n",
    "print(\"Mandelbrot created on CPU in {} s\".format(dt_py))\n",
    "plt.imshow(gimage);"
   ]
  },
  {
   "cell_type": "markdown",
   "metadata": {},
   "source": [
    "**Numba Code**"
   ]
  },
  {
   "cell_type": "code",
   "execution_count": null,
   "metadata": {},
   "outputs": [],
   "source": [
    "mandel_numba = jit(nb.uint32(nb.float32, nb.float32, nb.uint32))(mandel)"
   ]
  },
  {
   "cell_type": "code",
   "execution_count": null,
   "metadata": {},
   "outputs": [],
   "source": [
    "@jit\n",
    "def create_fractal_numba(xmin, xmax, ymin, ymax, image, iters):\n",
    "    height, width = image.shape\n",
    "\n",
    "    pixel_size_x = (xmax - xmin)/width\n",
    "    pixel_size_y = (ymax - ymin)/height\n",
    "\n",
    "    for x in range(width):\n",
    "        real = xmin + x*pixel_size_x\n",
    "        for y in range(height):\n",
    "            imag = ymin + y*pixel_size_y\n",
    "            color = mandel_numba(real, imag, iters)\n",
    "            image[y, x]  = color"
   ]
  },
  {
   "cell_type": "code",
   "execution_count": null,
   "metadata": {},
   "outputs": [],
   "source": [
    "gimage = np.zeros((1024, 1536), dtype=np.uint8)\n",
    "xmin, xmax, ymin, ymax = np.array([-2.0, 1.0, -1.0, 1.0]).astype('float32')\n",
    "iters = 50\n",
    "\n",
    "start = timer()\n",
    "create_fractal_numba(xmin, xmax, ymin, ymax, gimage, iters)\n",
    "dt_numba = timer() - start\n",
    "\n",
    "print(\"Mandelbrot created on CPU in {} s\".format(dt_numba))\n",
    "plt.imshow(gimage);"
   ]
  },
  {
   "cell_type": "markdown",
   "metadata": {},
   "source": [
    "**CUDA Code**"
   ]
  },
  {
   "cell_type": "code",
   "execution_count": null,
   "metadata": {},
   "outputs": [],
   "source": [
    "mandel_gpu = cuda.jit(restype=nb.uint32, \n",
    "                      argtypes=[nb.float32, nb.float32, nb.uint32], \n",
    "                      device=True)(mandel)"
   ]
  },
  {
   "cell_type": "code",
   "execution_count": null,
   "metadata": {},
   "outputs": [],
   "source": [
    "@cuda.jit(argtypes=[nb.float32, nb.float32, nb.float32, nb.float32, nb.uint8[:,:], nb.uint32])\n",
    "def create_fractal_kernel(xmin, xmax, ymin, ymax, image, iters):\n",
    "    height, width = image.shape\n",
    "\n",
    "    pixel_size_x = (xmax - xmin)/width\n",
    "    pixel_size_y = (ymax - ymin)/height\n",
    "\n",
    "    startX, startY = cuda.grid(2)\n",
    "    gridX = cuda.gridDim.x * cuda.blockDim.x # stride in x\n",
    "    gridY = cuda.gridDim.y * cuda.blockDim.y # stride in y\n",
    "\n",
    "    for x in range(startX, width, gridX):\n",
    "        real = xmin + x*pixel_size_x\n",
    "        for y in range(startY, height, gridY):\n",
    "            imag = ymin + y*pixel_size_y\n",
    "            color = mandel_gpu(real, imag, iters)\n",
    "            image[y, x]  = color"
   ]
  },
  {
   "cell_type": "code",
   "execution_count": null,
   "metadata": {},
   "outputs": [],
   "source": [
    "gimage = np.zeros((1024, 1536), dtype=np.uint8)\n",
    "blockdim = (32, 8)\n",
    "griddim = (32, 16)\n",
    "xmin, xmax, ymin, ymax = np.array([-2.0, 1.0, -1.0, 1.0]).astype('float32')\n",
    "iters = 50\n",
    "\n",
    "start = timer()\n",
    "d_image = cuda.to_device(gimage)\n",
    "create_fractal_kernel[griddim, blockdim](xmin, xmax, ymin, ymax, d_image, iters)\n",
    "d_image.to_host()\n",
    "dt_cuda = timer() - start\n",
    "\n",
    "print(\"Mandelbrot created on GPU in {} s\".format(dt_cuda))\n",
    "plt.imshow(gimage);"
   ]
  },
  {
   "cell_type": "code",
   "execution_count": null,
   "metadata": {},
   "outputs": [],
   "source": [
    "print(\"Speedup CPU:    {}\".format(dt_py/dt_py))\n",
    "print(\"Speedup Numba:  {}\".format(dt_py/dt_numba))\n",
    "print(\"Speedup CUDA:   {}\".format(dt_py/dt_cuda))"
   ]
  },
  {
   "cell_type": "markdown",
   "metadata": {},
   "source": [
    "## <font color=\"red\">Things to Consider when Using Numba</font>\n",
    "\n",
    "- Numba allows its behaviour to be changed through the use of <a href=\"http://numba.pydata.org/numba-doc/latest/reference/envvars.html\">environment variables</a>. Unless otherwise mentioned, those variables have integer values and default to zero.\n",
    "- Not all the <a href=\"http://numba.pydata.org/numba-doc/latest/reference/pysupported.html\">Python features</a> are supported by Numba.\n",
    "- While Python has arbitrary-sized integers, integers in Numba-compiled functions get a fixed size through type inference (usually, the size of a machine integer). This means that arithmetic operations can wrapround or produce undefined results or overflow.\n",
    "- When Numba compiles machine code for functions, it treats global variables as constants to ensure type stability.\n",
    "- Numba may or may not copy global variables referenced inside a compiled function. Small global arrays are copied for potential compiler optimization with immutability assumption. However, large global arrays are not copied to conserve memory. The definition of “small” and “large” may change.\n",
    "- Numba does not work with recusive function.\n",
    "- For some operations, Numba may use a different algorithm than Python or Numpy. The results may not be bit-by-bit compatible. The difference should generally be small and within reasonable expectations. However, small accumulated differences might produce large differences at the end, especially if a divergent function is involved.\n",
    "\n",
    "\n",
    "## <font color=\"red\">[Steps for Getting the Best out of Numba](https://techdecoded.intel.io/resources/parallelism-in-python-using-numba/#gs.m9ly7s)</font>\n",
    "\n",
    "Achieving parallelism in Python with Numba is about knowing a few fundamentals and modifying your workflow to take these methods into account while you’re actively coding in Python. Here are the steps in the process:\n",
    "\n",
    "1. **Ensure the abstraction of your core kernels is appropriate**. Numba requires the optimization target to be in a function. Unnecessarily complex code can cause the Numba compilation to fall back to object code.\n",
    "2. **Look for places in your code where you see processing data in some form of a loop with a known datatype**. Examples would be a for-loop iterating over a list of integers, or an arithmetic computation that processes an array in pure Python.\n",
    "3. **If you’re using NumPy and SciPy, look at computations that can be stacked in a single statement and that are not BLAS or LAPACK functions**. These are prime candidates for using the ufunc optimization capabilities of Numba.\n",
    "4. **Experiment with Numba’s compilation options**.\n",
    "5. **Determine the intended datatype signature of the function and core code**. If it’s known (such as int8 or int32), then inform Numba about which input datatype parameters it should expect."
   ]
  },
  {
   "cell_type": "code",
   "execution_count": null,
   "metadata": {},
   "outputs": [],
   "source": []
  }
 ],
 "metadata": {
  "kernelspec": {
   "display_name": "Python 3",
   "language": "python",
   "name": "python3"
  },
  "language_info": {
   "codemirror_mode": {
    "name": "ipython",
    "version": 3
   },
   "file_extension": ".py",
   "mimetype": "text/x-python",
   "name": "python",
   "nbconvert_exporter": "python",
   "pygments_lexer": "ipython3",
   "version": "3.7.3"
  }
 },
 "nbformat": 4,
 "nbformat_minor": 1
}
