{
 "cells": [
  {
   "cell_type": "markdown",
   "metadata": {},
   "source": [
    "![NASA](http://www.nasa.gov/sites/all/themes/custom/nasatwo/images/nasa-logo.svg)\n",
    "\n",
    "<center>\n",
    "<h1><font size=\"+3\">GSFC Python Bootcamp</font></h1>\n",
    "</center>\n",
    "\n",
    "---\n",
    "\n",
    "<CENTER>\n",
    "<H1 style=\"color:red\">\n",
    "Introduction to Numba\n",
    "</H1>\n",
    "</CENTER>"
   ]
  },
  {
   "cell_type": "code",
   "execution_count": null,
   "metadata": {},
   "outputs": [],
   "source": [
    "from __future__ import print_function"
   ]
  },
  {
   "cell_type": "markdown",
   "metadata": {},
   "source": [
    "> I’m becoming more and more convinced that Numba is the future of fast scientific computing in Python. \n",
    ">\n",
    "> – Jake Vanderplas, 2013-06-15\n",
    ">\n",
    "> http://jakevdp.github.io/blog/2013/06/15/numba-vs-cython-take-2/\n",
    "\n",
    "\n",
    "![fig_numba](https://thedatafrog.com/static/blog/images/2019/07/python_fast.0d88afcb4f8a.png)\n",
    "Image Source: Lison Bernet 2019"
   ]
  },
  {
   "cell_type": "markdown",
   "metadata": {},
   "source": [
    "## <font color='red'>What will be Covered?</font>\n",
    "\n",
    "* What is Numba?\n",
    "* How Does Numba Work?\n",
    "* Numpy and Numba\n",
    "* How to Use Numba?\n",
    "* Parallelization with Numba\n",
    "* Numba and Pandas"
   ]
  },
  {
   "cell_type": "markdown",
   "metadata": {},
   "source": [
    "## <font color='red'>Reference Documents</font>\n",
    "- <a href=\"http://numba.pydata.org/\">Numba: A High Performance Python Compiler</a>\n",
    "- <a href=\"https://www.youtube.com/watch?v=UaFSnaYh2b8\">Understanding Numba - the Python and Numpy Compiler</a> (video)\n",
    "- <a href=\"https://examples.dask.org/applications/stencils-with-numba.html\">Stencil Computations with Numba</a>\n",
    "- <a href=\"http://deepdata.com.pl/numba.html\">Python on steroids - speeding up calculations with numba</a>\n",
    "- <a href=\"https://colab.research.google.com/github/evaneschneider/parallel-programming/blob/master/COMPASS_gpu_intro.ipynb\">Introduction to GPU programming with Numba</a>\n",
    "- <a href=\"https://www.deeplearningwizard.com/deep_learning/production_pytorch/speed_optimization_basics_numba/\">Speed Optimization Basics: Numba</a>\n",
    "- <a href=\"https://murillogroupmsu.com/numba-versus-c/\">High-Performance Python: Why?</a>\n",
    "- <a href=\"https://flothesof.github.io/optimizing-python-code-numpy-cython-pythran-numba.html\">Optimizing your code with NumPy, Cython, pythran and numba </a>\n",
    "- <a href=\"https://www.polymorphe.org/index.php/looping-over-pandas-data-mkd\">Looping over Pandas data</a>"
   ]
  },
  {
   "cell_type": "markdown",
   "metadata": {},
   "source": [
    "## <font color='red'>What is Numba?</font>\n",
    "\n",
    "> Numba is an open-source JIT compiler that translates a subset of Python and NumPy into fast machine code using `LLVM`, via the llvmlite Python package. It offers a range of options for parallelising Python code for CPUs and GPUs, often with only minor code changes. \n",
    ">\n",
    ">Wikipedia\n",
    "\n",
    "- Numba is a Python open source package that was originally developed by Continuum Analytics.\n",
    "- The core application area are math-heavy and array-oriented functions, which are in native Python pretty slow.\n",
    "- From a function, Numba can generate native code for that function as well as the wrapper code needed to call it directly from Python. This compilation is done on-the-fly and in-memory.\n",
    "- It accelerates Python code (numerical functions) for both CPU and GPU:\n",
    "   - **Function Compiler**: Numba compiles Python functions, not whole applications or parts of it. It is a Python module meant to improve the performance of functions with the goal of achieving a speed comparable to `C`.\n",
    "   - **Just-in-time**: (Dynamic translation) Numba translates the bytecode (intermediate code more abstract than the machine code) to machine code immediately before its execution to improve the execution speed.\n",
    "   - **Numerically-focused**: Numba is focused on numerical data, such as int, float, complex. "
   ]
  },
  {
   "cell_type": "markdown",
   "metadata": {},
   "source": [
    "## <font color='red'>How Does Numba Work?</font>\n",
    "\n",
    "- Assume that you have a function `do_math` that is decorated with the Numba `@jit` decorator. \n",
    "- Compilation will be deferred until the first function execution. \n",
    "- Numba will infer the argument types at call time, and generate optimized code based on this information. \n",
    "- Numba will also be able to compile separate specializations depending on the input types. \n",
    "- The diagram below, shows all the steps carried out by Numba to execute `do_math`. \n",
    "\n",
    "![fig_numba](https://miro.medium.com/max/1400/1*S0S4QUjR-BsdTICtT9797Q.png)\n",
    "Image Source: Continuum Analytics\n",
    "\n",
    "- **IR**: Intermediate Representations\n",
    "- **Bytecode Analysis**: Intermediate code more abstract than machine code\n",
    "- **LLVM**: Low Level Virtual Machine, infrastructure to develop compilers\n",
    "- **NVVM**: It is an IR compiler based on LLVM, it is designed to represent GPU kernels"
   ]
  },
  {
   "cell_type": "markdown",
   "metadata": {},
   "source": [
    "## <font color='red'>Numpy and Numba</font>\n",
    "- One objective of Numba is having a seamless integration with NumPy. \n",
    "- Numba excels at generating code that executes on top of NumPy arrays.\n",
    "- NumPy support in Numba comes in many forms:\n",
    "    1. Numba understands calls to NumPy ufuncs (universal functions: there are over 60 of them) and is able to generate equivalent native code for many of them.\n",
    "    2. NumPy arrays are directly supported in Numba.\n",
    "    3. Numba is able to generate ufuncs and gufuncs (generalized universal functions). This means that it is possible to implement ufuncs and gufuncs within Python, getting speeds comparable to that of ufuncs/gufuncs implemented in C extension modules using the NumPy C API."
   ]
  },
  {
   "cell_type": "markdown",
   "metadata": {},
   "source": [
    "## <font color='red'>Usage</font>\n",
    "- Numba provides several utilities for code generation.\n",
    "- Its central feature is the `numba.jit()` decorator. \n",
    "- Using this decorator, you can mark a function for optimization by Numba’s JIT compiler. - - - Various invocation modes trigger differing compilation options and behaviours.\n",
    "\n",
    "\n",
    "Consider using Numba if:\n",
    "\n",
    "- Is numerically orientated.\n",
    "- Uses Numpy\n",
    "- Relies on loops"
   ]
  },
  {
   "cell_type": "code",
   "execution_count": null,
   "metadata": {},
   "outputs": [],
   "source": [
    "import time\n",
    "import numpy as np\n",
    "import numba as nb\n",
    "from numba import jit\n",
    "from numba import njit\n",
    "from numba import prange"
   ]
  },
  {
   "cell_type": "markdown",
   "metadata": {},
   "source": [
    "**Checking your System**\n",
    "\n",
    "The `numba -s` or `numba --sysinfo` command prints a lot of information about your system and your Numba installation and relevant dependencies."
   ]
  },
  {
   "cell_type": "code",
   "execution_count": null,
   "metadata": {},
   "outputs": [],
   "source": [
    "!numba -s"
   ]
  },
  {
   "cell_type": "markdown",
   "metadata": {},
   "source": [
    "**Example**\n",
    "\n",
    "Consider the function that multiplies two `nxn` matrices."
   ]
  },
  {
   "cell_type": "code",
   "execution_count": null,
   "metadata": {},
   "outputs": [],
   "source": [
    "def matrix_multiplication(A, B, C):\n",
    "    \"\"\"\n",
    "        Perform square matrix multiplication of C = A * B using loops.\n",
    "    \"\"\"\n",
    "    n = len(A[0])\n",
    "    for i in range(n):\n",
    "        for j in range(n):\n",
    "            tmp = 0.\n",
    "            for k in range(n):\n",
    "                tmp  += A[i, k]*B[k, j]\n",
    "            C[i, j] = tmp"
   ]
  },
  {
   "cell_type": "code",
   "execution_count": null,
   "metadata": {},
   "outputs": [],
   "source": [
    "N = 200\n",
    "A = np.random.rand(N, N)\n",
    "B = np.random.rand(N, N)\n",
    "C = np.zeros((N, N))\n",
    "D = np.random.rand(N)"
   ]
  },
  {
   "cell_type": "code",
   "execution_count": null,
   "metadata": {},
   "outputs": [],
   "source": [
    "%timeit matrix_multiplication(A, B, C)"
   ]
  },
  {
   "cell_type": "markdown",
   "metadata": {},
   "source": [
    "There are two ways to use `Numba`:\n",
    "\n",
    "- Method 1: As a function calling the function we want to speed\n",
    "- Method 2: As a decorator of the function we want to speed"
   ]
  },
  {
   "cell_type": "markdown",
   "metadata": {},
   "source": [
    "Method 1: Function"
   ]
  },
  {
   "cell_type": "code",
   "execution_count": null,
   "metadata": {},
   "outputs": [],
   "source": [
    "numba_matrix_multiplication = jit(matrix_multiplication)"
   ]
  },
  {
   "cell_type": "code",
   "execution_count": null,
   "metadata": {},
   "outputs": [],
   "source": [
    "%timeit numba_matrix_multiplication(A, B, C)"
   ]
  },
  {
   "cell_type": "markdown",
   "metadata": {},
   "source": [
    "Method 2: Decorator"
   ]
  },
  {
   "cell_type": "code",
   "execution_count": null,
   "metadata": {},
   "outputs": [],
   "source": [
    "@jit\n",
    "def matrix_multiplication_numba(A, B, C):\n",
    "    \"\"\"\n",
    "        Perform square matrix multiplication of C = A * B using loops.\n",
    "    \"\"\"\n",
    "    n = len(A[0])\n",
    "    for i in range(n):\n",
    "        for j in range(n):\n",
    "            tmp = 0.\n",
    "            for k in range(n):\n",
    "                tmp  += A[i, k]*B[k, j]\n",
    "            C[i, j] = tmp"
   ]
  },
  {
   "cell_type": "code",
   "execution_count": null,
   "metadata": {},
   "outputs": [],
   "source": [
    "%timeit matrix_multiplication_numba(A, B, C)"
   ]
  },
  {
   "cell_type": "markdown",
   "metadata": {},
   "source": [
    "**Measuring the Performance of Numba**\n",
    "\n",
    "- Once the compilation has taken place, Numba runs the machine code version of your function. \n",
    "- If it is called again with same argument types, it can reuse the cached version instead of having to compile again.\n",
    "- A common mistake when measuring performance is not accounting for the above behaviour and to time code once with a simple timer that includes the time taken to compile your function in the execution time."
   ]
  },
  {
   "cell_type": "markdown",
   "metadata": {},
   "source": [
    "DO NOT REPORT THIS... COMPILATION TIME IS INCLUDED IN THE EXECUTION TIME!"
   ]
  },
  {
   "cell_type": "code",
   "execution_count": null,
   "metadata": {},
   "outputs": [],
   "source": [
    "start_1 = time.time()\n",
    "matrix_multiplication_numba(A, B, C)\n",
    "end_1 = time.time()\n",
    "print(\"Elapsed (with compilation) = %s\" % (end_1 - start_1))"
   ]
  },
  {
   "cell_type": "markdown",
   "metadata": {},
   "source": [
    "NOW THE FUNCTION IS COMPILED, RE-TIME IT EXECUTING FROM CACHE"
   ]
  },
  {
   "cell_type": "code",
   "execution_count": null,
   "metadata": {},
   "outputs": [],
   "source": [
    "start_2 = time.time()\n",
    "matrix_multiplication_numba(A, B, C)\n",
    "end_2 = time.time()\n",
    "print(\"Elapsed (after compilation) = %s\" % (end_2 - start_2))"
   ]
  },
  {
   "cell_type": "markdown",
   "metadata": {},
   "source": [
    "#### Function Signature\n",
    "\n",
    "- You can specify the signature of the Numba function by describing the types of the arguments and the return type of the function. \n",
    "- This can produce slightly faster code as the compiler does not need to infer the types. \n",
    "- The drawback is that the function can no longer accept other types."
   ]
  },
  {
   "cell_type": "code",
   "execution_count": null,
   "metadata": {},
   "outputs": [],
   "source": [
    "def average_numbers(x, y):\n",
    "    return (x + y)/2.0"
   ]
  },
  {
   "cell_type": "code",
   "execution_count": null,
   "metadata": {},
   "outputs": [],
   "source": [
    "numba_average_numbers = jit(nb.float64(nb.int32, nb.int32))(average_numbers)"
   ]
  },
  {
   "cell_type": "code",
   "execution_count": null,
   "metadata": {},
   "outputs": [],
   "source": [
    "@jit(nb.float64(nb.int32, nb.int32))\n",
    "def average_numbers_numba(x, y):\n",
    "    return (x + y)/2.0"
   ]
  },
  {
   "cell_type": "markdown",
   "metadata": {},
   "source": [
    "- `nb.float64(nb.int32, nb.int32)` is the function’s signature specifying a function that takes two 32-bit integer arguments and returns a double precision float.\n",
    "- You can also use the abbreviated notation: `nb.f8(nb.i4, nb.i4)`\n",
    "- If you only pass `(nb.i4, nb.i4)` instead of `nb.f8(nb.i4, nb.i4)`, Numba will try to infer the type of the return value.\n",
    "- Array signatures are specified by subscripting a base type according to the number of dimensions. \n",
    "     - A 1-dimension single-precision array would be written `nb.f4[:]`.\n",
    "     - A 3-dimension array of the same underlying type would be `nb.f4[:,:,:]`."
   ]
  },
  {
   "cell_type": "code",
   "execution_count": null,
   "metadata": {},
   "outputs": [],
   "source": [
    "numba_matrix_multiplication = jit((nb.f8[:,:], nb.f8[:,:], nb.f8[:,:]))(matrix_multiplication)"
   ]
  },
  {
   "cell_type": "code",
   "execution_count": null,
   "metadata": {},
   "outputs": [],
   "source": [
    "%timeit numba_matrix_multiplication(A, B, C)"
   ]
  },
  {
   "cell_type": "markdown",
   "metadata": {},
   "source": [
    "### Compilation Options\n",
    "A number of keyword-only arguments can be passed to the `@jit` decorator:\n",
    "1. `nopython`: Numba has two compilation modes:\n",
    "     - **nopython mode** (`nopython=True`): Compile the decorated function so that it will run entirely without the involvement of the Python interpreter. This mode produces the highest performance code, but requires that the native types of all values in the function can be inferred. Note that <font color=\"red\">**`@njit`**</font> is an alias for <font color=\"red\">**`@jit(nopython=True)`**</font>.\n",
    "     - **object mode**: In this mode Numba will identify loops that it can compile and compile those into functions that run in machine code, and it will run the rest of the code in the interpreter. For best performance avoid using this mode!\n",
    "     - By default Numba will automatically use **object mode** if **nopython mode** cannot be used for some reason. \n",
    "     - When you are in **nopython mode**, types that cannot be inferred by the compiler will generate an error.\n",
    "2. `nogil`: \n",
    "     - Whenever Numba optimizes Python code to native code that only works on native types and variables (rather than Python objects), it is not necessary anymore to hold Python’s global interpreter lock (GIL). \n",
    "     - Numba will release the GIL when entering such a compiled function if you passed `nogil=True`.\n",
    "     - When using `nogil=True`, you need to be wary of the usual pitfalls of multi-threaded programming (consistency, synchronization, race conditions, etc.).\n",
    "3. `cache`:\n",
    "     - To avoid compilation times each time you invoke a Python program, you can instruct Numba to write the result of function compilation into a file-based cache. \n",
    "     - This is done by passing `cache=True`.\n",
    "4. `parallel`: \n",
    "     - Enables automatic parallelization (and related optimizations) for operations in the function known to have parallel semantics.\n",
    "     - This feature is enabled by passing `parallel=True` and must be used in conjunction with `nopython=True`."
   ]
  },
  {
   "cell_type": "markdown",
   "metadata": {},
   "source": [
    "### Fastmath\n",
    "- In certain classes of applications strict IEEE 754 compliance is less important. \n",
    "- It is possible to relax some numerical rigour with view of gaining additional performance. \n",
    "- The way to achieve this behaviour in Numba is through the use of the `fastmath` keyword argument."
   ]
  },
  {
   "cell_type": "code",
   "execution_count": null,
   "metadata": {},
   "outputs": [],
   "source": [
    "@njit(fastmath=False)\n",
    "def do_sum(A):\n",
    "    acc = 0.\n",
    "    # without fastmath, this loop must accumulate in strict order\n",
    "    for x in A:\n",
    "        acc += np.sqrt(x)\n",
    "    return acc\n",
    "\n",
    "@njit(fastmath=True)\n",
    "def do_sum_fast(A):\n",
    "    acc = 0.\n",
    "    # with fastmath, the reduction can be vectorized as floating point\n",
    "    # reassociation is permitted.\n",
    "    for x in A:\n",
    "        acc += np.sqrt(x)\n",
    "    return acc"
   ]
  },
  {
   "cell_type": "code",
   "execution_count": null,
   "metadata": {},
   "outputs": [],
   "source": [
    "time_do_sum = %timeit -o acc1 = do_sum(D)"
   ]
  },
  {
   "cell_type": "code",
   "execution_count": null,
   "metadata": {},
   "outputs": [],
   "source": [
    "time_do_sum_fast = %timeit  -o acc2 = do_sum_fast(D)\n",
    "print(time_do_sum.best / time_do_sum_fast.best)"
   ]
  },
  {
   "cell_type": "markdown",
   "metadata": {},
   "source": [
    "## <font color=\"red\"> Parallelization </font>\n",
    "\n",
    "- The setting `parallel=True` in `jit()` enables a Numba transformation pass that attempts to automatically parallelize and perform other optimizations on (part of) a function.\n",
    "- A user program may contain operations (for instance adding a scalar value to an array) that are known to have parallel semantics.\n",
    "- Each operation could be parallelized individually but that might light to poor performance due to poor cache behavior.\n",
    "- Numba uses instead auto-parallelization where it identifies all operations with parallel sementics and fuses adjacent ones together, to form one or more kernels that are automatically run in parallel.\n",
    "- The process is fully automated without modifications to the user program."
   ]
  },
  {
   "cell_type": "markdown",
   "metadata": {},
   "source": [
    "### Explicit Parallel Loops\n",
    "\n",
    "- Numba parallel execution also has support for explicit parallel loop declaration similar to that in OpenMP. \n",
    "- To indicate that a loop should be executed in parallel the `numba.prange` function should be used.\n",
    "- This function behaves like Python `range` and if `parallel=True` is not set it acts simply as an alias of `range`. \n",
    "- Loops induced with `prange` can be used for embarrassingly parallel computation and also reductions."
   ]
  },
  {
   "cell_type": "markdown",
   "metadata": {},
   "source": [
    "**Example**"
   ]
  },
  {
   "cell_type": "code",
   "execution_count": null,
   "metadata": {},
   "outputs": [],
   "source": [
    "@njit(parallel=True)\n",
    "def matrix_multiplication_numba2(A, B, C):\n",
    "    \"\"\"\n",
    "        Perform square matrix multiplication of C = A * B using loops.\n",
    "    \"\"\"\n",
    "    n = len(A[0])\n",
    "    for i in prange(n):\n",
    "        for j in prange(n):\n",
    "            tmp = 0.\n",
    "            for k in prange(n):\n",
    "                tmp += A[i, k]*B[k, j]\n",
    "            C[i,j] = tmp"
   ]
  },
  {
   "cell_type": "code",
   "execution_count": null,
   "metadata": {},
   "outputs": [],
   "source": [
    "%timeit matrix_multiplication_numba2(A, B, C)"
   ]
  },
  {
   "cell_type": "markdown",
   "metadata": {},
   "source": [
    "**Another Example**"
   ]
  },
  {
   "cell_type": "code",
   "execution_count": null,
   "metadata": {},
   "outputs": [],
   "source": [
    "def evaluate_functions(n):\n",
    "    \"\"\"\n",
    "        Evaluate the trigononmetric functions for n values evenly\n",
    "        spaced over the interval [-1500.00, 1500.00]\n",
    "    \"\"\"\n",
    "    vector1 = np.linspace(-1500.00, 1500.0, n)\n",
    "    iterations = 10000\n",
    "    for i in range(iterations):\n",
    "        vector2 = np.sin(vector1)\n",
    "        vector1 = np.arcsin(vector2)\n",
    "        vector2 = np.cos(vector1)\n",
    "        vector1 = np.arccos(vector2)\n",
    "        vector2 = np.tan(vector1)\n",
    "        vector1 = np.arctan(vector2)"
   ]
  },
  {
   "cell_type": "code",
   "execution_count": null,
   "metadata": {},
   "outputs": [],
   "source": [
    "@njit(parallel=True)\n",
    "def evaluate_functions_numba(n):\n",
    "    \"\"\"\n",
    "        Evaluate the trigononmetric functions for n values evenly\n",
    "        spaced over the interval [-1500.00, 1500.00]\n",
    "    \"\"\"\n",
    "    vector1 = np.linspace(-1500.00, 1500.0, n)\n",
    "    iterations = 10000\n",
    "    for i in prange(iterations):\n",
    "        vector2 = np.sin(vector1)\n",
    "        vector1 = np.arcsin(vector2)\n",
    "        vector2 = np.cos(vector1)\n",
    "        vector1 = np.arccos(vector2)\n",
    "        vector2 = np.tan(vector1)\n",
    "        vector1 = np.arctan(vector2)"
   ]
  },
  {
   "cell_type": "code",
   "execution_count": null,
   "metadata": {},
   "outputs": [],
   "source": [
    "%timeit evaluate_functions(100)"
   ]
  },
  {
   "cell_type": "code",
   "execution_count": null,
   "metadata": {},
   "outputs": [],
   "source": [
    "%timeit evaluate_functions_numba(100)"
   ]
  },
  {
   "cell_type": "markdown",
   "metadata": {},
   "source": [
    "### Diagnostics\n",
    "- We can produce diagnostic information about the transforms undertaken in automatically parallelizing the decorated code. \n",
    "- This information can be accessed in two ways:\n",
    "     1. Setting the environment variable: `NUMBA_PARALLEL_DIAGNOSTICS`\n",
    "     2. Calling the function `parallel_diagnostics()`\n",
    "- The level of verbosity in the diagnostic information is controlled by an integer argument of value between 1 and 4 inclusive, 1 being the least verbose and 4 the most.\n",
    "\n",
    "For additional information, consult the webpage: <a href=\"http://numba.pydata.org/numba-doc/latest/user/parallel.html\"> http://numba.pydata.org/numba-doc/latest/user/parallel.html</a>."
   ]
  },
  {
   "cell_type": "code",
   "execution_count": null,
   "metadata": {},
   "outputs": [],
   "source": [
    "evaluate_functions_numba.parallel_diagnostics(level=4)"
   ]
  },
  {
   "cell_type": "markdown",
   "metadata": {},
   "source": [
    "## <font color=\"red\"> Calling Other Functions</font>\n",
    "\n",
    "- Numba functions can call other Numba functions. \n",
    "- Both functions must have the `@jit` decorator, otherwise the code will be much slower.\n",
    "\n",
    "```python\n",
    "@jit\n",
    "def square(x):\n",
    "    return x ** 2\n",
    "\n",
    "@jit\n",
    "def hypot(x, y):\n",
    "    return math.sqrt(square(x) + square(y))\n",
    "```"
   ]
  },
  {
   "cell_type": "markdown",
   "metadata": {},
   "source": [
    "## <font color=\"red\"> Using GPUs</font>\n",
    "\n",
    "- Numba supports CUDA GPU programming by directly compiling a restricted subset of Python code into CUDA kernels and device functions following the CUDA execution model. \n",
    "- Kernels written in Numba appear to have direct access to NumPy arrays. \n",
    "- NumPy arrays are transferred between the CPU and the GPU automatically.\n",
    "\n",
    "![GPUs](http://www.nvidia.com/docs/IO/143716/how-gpu-acceleration-works.png)\n",
    "Image Source: NVIDIA\n",
    "\n",
    "**Useful Terminology**\n",
    "\n",
    "| Term | Meaning |\n",
    "| ---  | --- |\n",
    "| `host` | the CPU |\n",
    "| `device` | the GPU |\n",
    "| `host memory` | the system main memory |\n",
    "| `device memory` | onboard memory on a GPU card |\n",
    "| `kernels` | a GPU function launched by the host and executed on the device |\n",
    "| `device function` | a GPU function executed on the device which can only be called from the device  |"
   ]
  },
  {
   "cell_type": "code",
   "execution_count": null,
   "metadata": {},
   "outputs": [],
   "source": [
    "from numba import cuda\n",
    "print(cuda.gpus)"
   ]
  },
  {
   "cell_type": "markdown",
   "metadata": {},
   "source": [
    "###  Average Calculations."
   ]
  },
  {
   "cell_type": "code",
   "execution_count": null,
   "metadata": {},
   "outputs": [],
   "source": [
    "def average_sqrt(Mat, avg):\n",
    "    \"\"\"\n",
    "        Average of the square root of all the entries of an array using loops.\n",
    "    \"\"\"\n",
    "    s = 0.\n",
    "    for x in Mat:\n",
    "        s += np.sqrt(x)\n",
    "    avg = s/len(Mat)"
   ]
  },
  {
   "cell_type": "code",
   "execution_count": null,
   "metadata": {},
   "outputs": [],
   "source": [
    "@njit\n",
    "def average_sqrt_numba(Mat, avg):\n",
    "    \"\"\"\n",
    "        Average of the square root of all the entries of an array using loops.\n",
    "    \"\"\"\n",
    "    s = 0.\n",
    "    for x in Mat:\n",
    "        s += np.sqrt(x)\n",
    "    avg = s/len(Mat)"
   ]
  },
  {
   "cell_type": "code",
   "execution_count": null,
   "metadata": {},
   "outputs": [],
   "source": [
    "@jit(target =\"cuda\")\n",
    "def average_sqrt_cuda(Mat, avg):\n",
    "    \"\"\"\n",
    "        Average of the square root of all the entries of an array using loops.\n",
    "    \"\"\"\n",
    "    s = 0.\n",
    "    for x in Mat:\n",
    "        s += np.sqrt(x)\n",
    "    avg = s/len(Mat)"
   ]
  },
  {
   "cell_type": "code",
   "execution_count": null,
   "metadata": {},
   "outputs": [],
   "source": [
    "M = 1000000\n",
    "Mat = np.random.rand(M)\n",
    "avg = 0."
   ]
  },
  {
   "cell_type": "code",
   "execution_count": null,
   "metadata": {},
   "outputs": [],
   "source": [
    "time_reg = %timeit -o average_sqrt(Mat, avg)"
   ]
  },
  {
   "cell_type": "code",
   "execution_count": null,
   "metadata": {},
   "outputs": [],
   "source": [
    "time_numba = %timeit -o average_sqrt_numba(Mat, avg)"
   ]
  },
  {
   "cell_type": "code",
   "execution_count": null,
   "metadata": {},
   "outputs": [],
   "source": [
    "time_cuda = %timeit -o average_sqrt_cuda(Mat, avg)"
   ]
  },
  {
   "cell_type": "code",
   "execution_count": null,
   "metadata": {},
   "outputs": [],
   "source": [
    "print(\"Regular Speedup: {}\".format(time_reg.best/time_reg.best))\n",
    "print(\"Numba   Speedup: {}\".format(time_reg.best/time_numba.best))\n",
    "print(\"Cuda    Speedup: {}\".format(time_reg/time_cuda))"
   ]
  },
  {
   "cell_type": "markdown",
   "metadata": {},
   "source": [
    "### Matrix Multiplication"
   ]
  },
  {
   "cell_type": "code",
   "execution_count": null,
   "metadata": {},
   "outputs": [],
   "source": [
    "@cuda.jit\n",
    "def matrix_multiplication_cuda(A, B, C):\n",
    "    \"\"\"\n",
    "      Perform square matrix multiplication of C = A * B using loops.\n",
    "    \"\"\"\n",
    "    i, j = cuda.grid(2)\n",
    "    if i < C.shape[0] and j < C.shape[1]:\n",
    "        tmp = 0.\n",
    "        for k in range(A.shape[1]):\n",
    "            tmp += A[i, k] * B[k, j]\n",
    "        C[i, j] = tmp"
   ]
  },
  {
   "cell_type": "code",
   "execution_count": null,
   "metadata": {},
   "outputs": [],
   "source": [
    "%timeit matrix_multiplication_cuda(A, B, C)"
   ]
  },
  {
   "cell_type": "code",
   "execution_count": null,
   "metadata": {},
   "outputs": [],
   "source": [
    "from numba import cuda, float32\n",
    "\n",
    "# Controls threads per block and shared memory usage.\n",
    "# The computation will be done on blocks of TPBxTPB elements.\n",
    "TPB = 16\n",
    "\n",
    "@cuda.jit\n",
    "def matrix_multiplication_cuda_fast(A, B, C):\n",
    "    # Define an array in the shared memory\n",
    "    # The size and type of the arrays must be known at compile time\n",
    "    sA = cuda.shared.array(shape=(TPB, TPB), dtype=float32)\n",
    "    sB = cuda.shared.array(shape=(TPB, TPB), dtype=float32)\n",
    "\n",
    "    x, y = cuda.grid(2)\n",
    "\n",
    "    tx = cuda.threadIdx.x\n",
    "    ty = cuda.threadIdx.y\n",
    "    bpg = cuda.gridDim.x    # blocks per grid\n",
    "\n",
    "    if x >= C.shape[0] and y >= C.shape[1]:\n",
    "        # Quit if (x, y) is outside of valid C boundary\n",
    "        return\n",
    "\n",
    "    # Each thread computes one element in the result matrix.\n",
    "    # The dot product is chunked into dot products of TPB-long vectors.\n",
    "    tmp = 0.\n",
    "    for i in range(bpg):\n",
    "        # Preload data into shared memory\n",
    "        sA[tx, ty] = A[x, ty + i * TPB]\n",
    "        sB[tx, ty] = B[tx + i * TPB, y]\n",
    "\n",
    "        # Wait until all threads finish preloading\n",
    "        cuda.syncthreads()\n",
    "\n",
    "        # Computes partial product on the shared memory\n",
    "        for j in range(TPB):\n",
    "            tmp += sA[tx, j] * sB[j, ty]\n",
    "\n",
    "        # Wait until all threads finish computing\n",
    "        cuda.syncthreads()\n",
    "\n",
    "    C[x, y] = tmp"
   ]
  },
  {
   "cell_type": "code",
   "execution_count": null,
   "metadata": {},
   "outputs": [],
   "source": [
    "%timeit matrix_multiplication_cuda_fast(A, B, C)"
   ]
  },
  {
   "cell_type": "markdown",
   "metadata": {},
   "source": [
    "### Madnelbrot Fractal "
   ]
  },
  {
   "cell_type": "code",
   "execution_count": null,
   "metadata": {},
   "outputs": [],
   "source": [
    "import matplotlib.pyplot as plt\n",
    "from timeit import default_timer as timer"
   ]
  },
  {
   "cell_type": "markdown",
   "metadata": {},
   "source": [
    "**Pure Python**"
   ]
  },
  {
   "cell_type": "code",
   "execution_count": null,
   "metadata": {},
   "outputs": [],
   "source": [
    "# color function for point at (x, y)\n",
    "def mandel(x, y, max_iters):\n",
    "    c = complex(x, y)\n",
    "    z = 0.0j\n",
    "    for i in range(max_iters):\n",
    "        z = z*z + c\n",
    "        if z.real*z.real + z.imag*z.imag >= 4:\n",
    "            return i\n",
    "    return max_iters"
   ]
  },
  {
   "cell_type": "code",
   "execution_count": null,
   "metadata": {},
   "outputs": [],
   "source": [
    "def create_fractal(xmin, xmax, ymin, ymax, image, iters):\n",
    "    height, width = image.shape\n",
    "\n",
    "    pixel_size_x = (xmax - xmin)/width\n",
    "    pixel_size_y = (ymax - ymin)/height\n",
    "\n",
    "    for x in range(width):\n",
    "        real = xmin + x*pixel_size_x\n",
    "        for y in range(height):\n",
    "            imag = ymin + y*pixel_size_y\n",
    "            color = mandel(real, imag, iters)\n",
    "            image[y, x]  = color"
   ]
  },
  {
   "cell_type": "code",
   "execution_count": null,
   "metadata": {},
   "outputs": [],
   "source": [
    "gimage = np.zeros((1024, 1536), dtype=np.uint8)\n",
    "xmin, xmax, ymin, ymax = np.array([-2.0, 1.0, -1.0, 1.0]).astype('float32')\n",
    "iters = 50\n",
    "\n",
    "start = timer()\n",
    "create_fractal(xmin, xmax, ymin, ymax, gimage, iters)\n",
    "dt_py = timer() - start\n",
    "\n",
    "print(\"Mandelbrot created on CPU in {} s\".format(dt_py))\n",
    "plt.imshow(gimage);"
   ]
  },
  {
   "cell_type": "markdown",
   "metadata": {},
   "source": [
    "**Numba Code**"
   ]
  },
  {
   "cell_type": "code",
   "execution_count": null,
   "metadata": {},
   "outputs": [],
   "source": [
    "#mandel_numba = jit(restype=np.uint32, \n",
    "#                  argtypes=[np.float32, np.float32, np.uint32])(mandel)\n",
    "\n",
    "#mandel_numba = jit(np.uint32(np.float32, np.float32, np.uint32))(mandel)\n",
    "mandel_numba = jit(mandel)"
   ]
  },
  {
   "cell_type": "code",
   "execution_count": null,
   "metadata": {},
   "outputs": [],
   "source": [
    "@jit\n",
    "def create_fractal_numba(xmin, xmax, ymin, ymax, image, iters):\n",
    "    height, width = image.shape\n",
    "\n",
    "    pixel_size_x = (xmax - xmin)/width\n",
    "    pixel_size_y = (ymax - ymin)/height\n",
    "\n",
    "    for x in range(width):\n",
    "        real = xmin + x*pixel_size_x\n",
    "        for y in range(height):\n",
    "            imag = ymin + y*pixel_size_y\n",
    "            color = mandel_numba(real, imag, iters)\n",
    "            image[y, x]  = color"
   ]
  },
  {
   "cell_type": "code",
   "execution_count": null,
   "metadata": {},
   "outputs": [],
   "source": [
    "gimage = np.zeros((1024, 1536), dtype=np.uint8)\n",
    "xmin, xmax, ymin, ymax = np.array([-2.0, 1.0, -1.0, 1.0]).astype('float32')\n",
    "iters = 50\n",
    "\n",
    "start = timer()\n",
    "create_fractal_numba(xmin, xmax, ymin, ymax, gimage, iters)\n",
    "dt_numba = timer() - start\n",
    "\n",
    "print(\"Mandelbrot created on CPU in {} s\".format(dt_numba))\n",
    "plt.imshow(gimage);"
   ]
  },
  {
   "cell_type": "markdown",
   "metadata": {},
   "source": [
    "**CUDA Code**"
   ]
  },
  {
   "cell_type": "code",
   "execution_count": null,
   "metadata": {},
   "outputs": [],
   "source": [
    "mandel_gpu = cuda.jit(restype=uint32, \n",
    "                      argtypes=[float32, float32, uint32], device=True)(mandel)\n"
   ]
  },
  {
   "cell_type": "code",
   "execution_count": null,
   "metadata": {},
   "outputs": [],
   "source": [
    "@cuda.jit(argtypes=[float32, float32, float32, float32, uint8[:,:], uint32])\n",
    "def create_fractal_kernel(xmin, xmax, ymin, ymax, image, iters):\n",
    "    height, width = image.shape\n",
    "\n",
    "    pixel_size_x = (xmax - xmin)/width\n",
    "    pixel_size_y = (ymax - ymin)/height\n",
    "\n",
    "    startX, startY = cuda.grid(2)\n",
    "    gridX = cuda.gridDim.x * cuda.blockDim.x # stride in x\n",
    "    gridY = cuda.gridDim.y * cuda.blockDim.y # stride in y\n",
    "\n",
    "    for x in range(startX, width, gridX):\n",
    "        real = xmin + x*pixel_size_x\n",
    "        for y in range(startY, height, gridY):\n",
    "            imag = ymin + y*pixel_size_y\n",
    "            color = mandel_gpu(real, imag, iters)\n",
    "            image[y, x]  = color"
   ]
  },
  {
   "cell_type": "code",
   "execution_count": null,
   "metadata": {},
   "outputs": [],
   "source": [
    "gimage = np.zeros((1024, 1536), dtype=np.uint8)\n",
    "blockdim = (32, 8)\n",
    "griddim = (32, 16)\n",
    "xmin, xmax, ymin, ymax = np.array([-2.0, 1.0, -1.0, 1.0]).astype('float32')\n",
    "iters = 50\n",
    "\n",
    "start = timer()\n",
    "d_image = cuda.to_device(gimage)\n",
    "create_fractal_kernel[griddim, blockdim](xmin, xmax, ymin, ymax, d_image, iters)\n",
    "d_image.to_host()\n",
    "dt = timer() - start\n",
    "\n",
    "print(\"Mandelbrot created on GPU in {} s\".format(dt))\n",
    "plt.imshow(gimage);"
   ]
  },
  {
   "cell_type": "code",
   "execution_count": null,
   "metadata": {},
   "outputs": [],
   "source": []
  },
  {
   "cell_type": "markdown",
   "metadata": {},
   "source": [
    "## <font color=\"red\">Things to Consider when Using Numba</font>\n",
    "\n",
    "- Numba allows its behaviour to be changed through the use of <a href=\"http://numba.pydata.org/numba-doc/latest/reference/envvars.html\">environment variables</a>. Unless otherwise mentioned, those variables have integer values and default to zero.\n",
    "- Not all the <a href=\"http://numba.pydata.org/numba-doc/latest/reference/pysupported.html\">Python features</a> are supported by Numba.\n",
    "- While Python has arbitrary-sized integers, integers in Numba-compiled functions get a fixed size through type inference (usually, the size of a machine integer). This means that arithmetic operations can wrapround or produce undefined results or overflow.\n",
    "- Numba may or may not copy global variables referenced inside a compiled function. Small global arrays are copied for potential compiler optimization with immutability assumption. However, large global arrays are not copied to conserve memory. The definition of “small” and “large” may change.\n",
    "- Numba does not work with recusive function.\n",
    "- For some operations, Numba may use a different algorithm than Python or Numpy. The results may not be bit-by-bit compatible. The difference should generally be small and within reasonable expectations. However, small accumulated differences might produce large differences at the end, especially if a divergent function is involved."
   ]
  },
  {
   "cell_type": "markdown",
   "metadata": {},
   "source": [
    "## <font color=\"red\">Numba and Pandas</font>\n",
    "\n",
    "- Pandas is built on top of Numpy.\n",
    "- Pandas offers flexibility in manipulating data but not necessary speed.\n",
    "- This flexibility allows the creation of built-in function.\n",
    "- Crude looping (over DataFrame rows for instance) in Pandas does not take advantage of any built-in optimizations, making it extremely inefficient.\n",
    "- Using vectorized Pandas built-in functions (acting on Pandas Series) is almost always preferable to accomplishing similar ends with custom-written looping."
   ]
  },
  {
   "cell_type": "markdown",
   "metadata": {},
   "source": [
    "**Example**\n",
    "\n",
    "An exponential moving average (EMA) is a first-order infinite impulse response filter that applies weighting factors which decrease exponentially. The EMA for a series Y may be calculated recursively:\n",
    "\n",
    "\n",
    "$$S_{t}=\\begin{cases}Y_{1},&t=1\\\\\\alpha \\cdot Y_{t}+(1-\\alpha )\\cdot S_{t-1},&t>1\\end{cases}$$"
   ]
  },
  {
   "cell_type": "code",
   "execution_count": null,
   "metadata": {},
   "outputs": [],
   "source": [
    "import pandas as pd\n",
    "\n",
    "@njit(fastmath=True)\n",
    "def ewm(arr, alpha):\n",
    "    \"\"\"\n",
    "    Calculate the EMA of an array arr\n",
    "    :param arr: numpy array of floats\n",
    "    :param alpha: float between 0 and 1\n",
    "    :return: numpy array of floats\n",
    "    \"\"\"\n",
    "    # initialise ewm_arr\n",
    "    ewm_arr = np.zeros_like(arr)\n",
    "    ewm_arr[0] = arr[0]\n",
    "    for t in prange(1,arr.shape[0]):\n",
    "        ewm_arr[t] = alpha*arr[t] + (1 - alpha)*ewm_arr[t-1]\n",
    "\n",
    "    return ewm_arr"
   ]
  },
  {
   "cell_type": "code",
   "execution_count": null,
   "metadata": {},
   "outputs": [],
   "source": [
    "N = 10000\n",
    "a = np.random.random(N)\n",
    "df = pd.DataFrame(a)"
   ]
  },
  {
   "cell_type": "code",
   "execution_count": null,
   "metadata": {},
   "outputs": [],
   "source": [
    "%timeit df.ewm(com=0.5, adjust=False).mean()"
   ]
  },
  {
   "cell_type": "code",
   "execution_count": null,
   "metadata": {},
   "outputs": [],
   "source": [
    "%timeit ewm(a, 0.5)"
   ]
  },
  {
   "cell_type": "markdown",
   "metadata": {},
   "source": [
    "**Could we claim that Numpy/Numba is faster than Pandas?**\n",
    "\n",
    "- Not necessarily!\n",
    "- Over time, Pandas relies more on  Cython operations.\n",
    "- In Pandas 1.0 (and newer versions) Pandas’ `apply()` method (applies a function along a specific axis of a DataFrame) can make use of Numba (if installed) instead of cython and be faster. "
   ]
  },
  {
   "cell_type": "code",
   "execution_count": null,
   "metadata": {},
   "outputs": [],
   "source": []
  }
 ],
 "metadata": {
  "kernelspec": {
   "display_name": "Python 3",
   "language": "python",
   "name": "python3"
  },
  "language_info": {
   "codemirror_mode": {
    "name": "ipython",
    "version": 3
   },
   "file_extension": ".py",
   "mimetype": "text/x-python",
   "name": "python",
   "nbconvert_exporter": "python",
   "pygments_lexer": "ipython3",
   "version": "3.7.3"
  }
 },
 "nbformat": 4,
 "nbformat_minor": 1
}
