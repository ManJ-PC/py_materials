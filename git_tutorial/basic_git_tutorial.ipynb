{
 "cells": [
  {
   "cell_type": "markdown",
   "metadata": {},
   "source": [
    "![NASA](http://www.nasa.gov/sites/all/themes/custom/nasatwo/images/nasa-logo.svg)\n",
    "\n",
    "<center>\n",
    "<h1><font size=\"+3\">NCCS Training Course Series</font></h1>\n",
    "</center>\n",
    "\n",
    "---\n",
    "\n",
    "<center>\n",
    "    <h1><font color=\"red\">Introduction to Version Control with Git</font></h1>\n",
    "</center>"
   ]
  },
  {
   "cell_type": "markdown",
   "metadata": {},
   "source": [
    "## Few Pointers\n",
    "- <a href=\"https://www.atlassian.com/git/tutorials\">Become a git guru</a>\n",
    "- <a href=\"https://github.github.com/training-kit/downloads/github-git-cheat-sheet/\">Git Cheat Sheet</a>"
   ]
  },
  {
   "cell_type": "markdown",
   "metadata": {},
   "source": [
    "## <font color=\"blue\">What is Version Control?</font>\n",
    "- Version control systems are a category of software tools that help a software team manage changes to source code over time. \n",
    "- Version control software keeps track of every modification to the code in a special kind of database. \n",
    "- If a mistake is made, developers can turn back the clock and compare earlier versions of the code to help fix the mistake while minimizing disruption to all team members.\n",
    "- Version control software is an essential part of the every-day of the modern software team's professional practices. \n",
    "\n",
    "**Benefits**\n",
    "- Developing software without using version control is risky, like not having backups. \n",
    "- Version control can also enable developers to move faster and it allows software teams to preserve efficiency and agility as the team scales to include more developers.\n",
    "- The primary benefits you should expect from version control are:\n",
    "     + A complete long-term change history of every file. \n",
    "     + Branching and merging. \n",
    "     + Traceability."
   ]
  },
  {
   "cell_type": "markdown",
   "metadata": {},
   "source": [
    "## <font color=\"blue\">What is Git?</font>\n",
    "- The most widely used modern version control system.\n",
    "- A mature, actively maintained open source project.\n",
    "- Git has been designed with the following features:\n",
    "    + **Performance**: Committing new changes, branching, merging and comparing past versions are all optimized for performance. \n",
    "    + **Security**: The content of the files as well as the true relationships between files and directories, versions, tags and commits, all of these objects in the Git repository are secured with a cryptographically secure --hashing-- algorithm called SHA1.\n",
    "    + **Flexibility**: Git is flexible (1) in support for various kinds of nonlinear development workflows, (3) in its efficiency in both small and large projects, and (3) in its compatibility with many existing systems and protocols.\n",
    "\n",
    "### What is a Git Repository?\n",
    "- A Git repository is a virtual storage of your project. \n",
    "- It allows you to save versions of your code, which you can access when needed.\n",
    "\n",
    "### Git Hashes\n",
    "\n",
    "- Hashes, file based key-value storage and tree data structure, are the key things behind git. \n",
    "- Each tree node, commit and files has own unique 40 character long SHA-1 representation.\n",
    "- Commits are a particular type of checkpoint called a **revision**. \n",
    "- The name will be a random-looking hash of numbers and letters such as `e093542`. \n",
    "- This hash can then be used in various other commands to extract a specific revision of the code.\n",
    "\n",
    "### Git Workflow\n",
    "\n",
    "The general workflow of a Git cycle is:\n",
    "- Clone a Git repository as a working copy.\n",
    "- Modify the working copy by adding/editing files.\n",
    "- If necessary, update the working copy by taking other developers' changes.\n",
    "- Review the changes before commit.\n",
    "- Commit changes in your local repository.\n",
    "- If everything is fine, push the changes to the remote respoitory.\n",
    "- If you realize that something is wrong, you can correct any of the previous commits and still push your changes to the remote repository.\n",
    "\n",
    "The image below shows the interaction between the remote repository, the local repository (in this case the Master) and the Working Directory.\n",
    "\n",
    "![fig_git](https://dev.vividbreeze.com/wp-content/uploads/2018/03/gitBasicsRemote.jpg)\n",
    "Image Source: https://dev.vividbreeze.com/git-tutorial-remote-repositories/"
   ]
  },
  {
   "cell_type": "markdown",
   "metadata": {},
   "source": [
    "The Python function below will allow us obtain the current hash from a git repository."
   ]
  },
  {
   "cell_type": "code",
   "execution_count": null,
   "metadata": {},
   "outputs": [],
   "source": [
    "import subprocess\n",
    "\n",
    "def get_git_revision_hash():\n",
    "    \"\"\"\n",
    "      Get the current git hash\n",
    "    \"\"\"\n",
    "    return subprocess.check_output(['git', 'rev-parse', 'HEAD']).strip().decode(\"utf-8\")"
   ]
  },
  {
   "cell_type": "markdown",
   "metadata": {},
   "source": [
    "## <font color=\"blue\">Step 1: Install and Setup Git</font>"
   ]
  },
  {
   "cell_type": "markdown",
   "metadata": {},
   "source": [
    "### Step 1a: Install git on your machine (if it is not there already)"
   ]
  },
  {
   "cell_type": "code",
   "execution_count": null,
   "metadata": {},
   "outputs": [],
   "source": [
    "!which git\n",
    "# If not installed:\n",
    "# $ conda install git"
   ]
  },
  {
   "cell_type": "code",
   "execution_count": null,
   "metadata": {},
   "outputs": [],
   "source": [
    "!git --version"
   ]
  },
  {
   "cell_type": "code",
   "execution_count": null,
   "metadata": {},
   "outputs": [],
   "source": [
    "!git"
   ]
  },
  {
   "cell_type": "markdown",
   "metadata": {},
   "source": [
    "### Step 1b: Create account on github.com"
   ]
  },
  {
   "cell_type": "markdown",
   "metadata": {},
   "source": [
    "<a href=http://www.github.com>github.com</a>"
   ]
  },
  {
   "cell_type": "markdown",
   "metadata": {},
   "source": [
    "### Step 1c: Configure git to use your account\n",
    "\n",
    "Uncomment the lines below and provide your information (username, email, editor of choice)"
   ]
  },
  {
   "cell_type": "code",
   "execution_count": null,
   "metadata": {},
   "outputs": [],
   "source": [
    "#!git config --global user.name \"<username>\"\n",
    "#!git config --global user.email \"<email address>\"\n",
    "#!git config --global core.editor \"vim\" # or emacs, nano, etc.\n",
    "#!git config --list"
   ]
  },
  {
   "cell_type": "markdown",
   "metadata": {},
   "source": [
    "## <font color=\"blue\">Step 2: Create a New Repository</font>"
   ]
  },
  {
   "cell_type": "markdown",
   "metadata": {},
   "source": [
    "You will first to create a local working directory."
   ]
  },
  {
   "cell_type": "code",
   "execution_count": null,
   "metadata": {},
   "outputs": [],
   "source": [
    "!mkdir src_code"
   ]
  },
  {
   "cell_type": "code",
   "execution_count": null,
   "metadata": {},
   "outputs": [],
   "source": [
    "%cd src_code"
   ]
  },
  {
   "cell_type": "code",
   "execution_count": null,
   "metadata": {},
   "outputs": [],
   "source": [
    "!pwd"
   ]
  },
  {
   "cell_type": "markdown",
   "metadata": {},
   "source": [
    "**Create an empty repository**\n",
    "- To create a new repo, you'll use the `git init` command. \n",
    "- `git init` is a one-time command you use during the initial setup of a new repo. \n",
    "- Executing this command will create a new **.git** subdirectory in your current working directory. \n",
    "- This will also create a new master branch. "
   ]
  },
  {
   "cell_type": "code",
   "execution_count": null,
   "metadata": {},
   "outputs": [],
   "source": [
    "!git init"
   ]
  },
  {
   "cell_type": "markdown",
   "metadata": {},
   "source": [
    "You have initialized the working directory and you created a new directory, named **.git**."
   ]
  },
  {
   "cell_type": "code",
   "execution_count": null,
   "metadata": {},
   "outputs": [],
   "source": [
    "!ls"
   ]
  },
  {
   "cell_type": "code",
   "execution_count": null,
   "metadata": {},
   "outputs": [],
   "source": [
    "!ls -a"
   ]
  },
  {
   "cell_type": "code",
   "execution_count": null,
   "metadata": {},
   "outputs": [],
   "source": [
    "!ls -l .git"
   ]
  },
  {
   "cell_type": "markdown",
   "metadata": {},
   "source": [
    "## <font color=\"blue\">Step 3: Create a File and Add it to the Repository</font>"
   ]
  },
  {
   "cell_type": "markdown",
   "metadata": {},
   "source": [
    "Create a simple Python file, named `hello_class.py`."
   ]
  },
  {
   "cell_type": "code",
   "execution_count": null,
   "metadata": {},
   "outputs": [],
   "source": [
    "!echo \"print('Hello Class!')\" >> hello_class.py"
   ]
  },
  {
   "cell_type": "code",
   "execution_count": null,
   "metadata": {},
   "outputs": [],
   "source": [
    "!cat hello_class.py"
   ]
  },
  {
   "cell_type": "code",
   "execution_count": null,
   "metadata": {},
   "outputs": [],
   "source": [
    "!ls"
   ]
  },
  {
   "cell_type": "code",
   "execution_count": null,
   "metadata": {},
   "outputs": [],
   "source": [
    "!python hello_class.py"
   ]
  },
  {
   "cell_type": "markdown",
   "metadata": {},
   "source": [
    "**Get a brief summary of the git repository**\n",
    "- To find out information regarding what files are modified and what files are there in the staging area."
   ]
  },
  {
   "cell_type": "code",
   "execution_count": null,
   "metadata": {},
   "outputs": [],
   "source": [
    "!git status"
   ]
  },
  {
   "cell_type": "markdown",
   "metadata": {},
   "source": [
    "**Add the new file to the repository staging area**\n",
    "- Before the file is added to the local repository, it has to be in the stagging area.\n",
    "- The staging area is there to keep track of all the files which are to be committed."
   ]
  },
  {
   "cell_type": "code",
   "execution_count": null,
   "metadata": {},
   "outputs": [],
   "source": [
    "!git add hello_class.py"
   ]
  },
  {
   "cell_type": "code",
   "execution_count": null,
   "metadata": {},
   "outputs": [],
   "source": [
    "!git status"
   ]
  },
  {
   "cell_type": "markdown",
   "metadata": {},
   "source": [
    "**Create a new commit with a message describing what work was done in the commit**"
   ]
  },
  {
   "cell_type": "code",
   "execution_count": null,
   "metadata": {},
   "outputs": [],
   "source": [
    "!git commit -m \"My first Python script\""
   ]
  },
  {
   "cell_type": "code",
   "execution_count": null,
   "metadata": {},
   "outputs": [],
   "source": [
    "!git status"
   ]
  },
  {
   "cell_type": "markdown",
   "metadata": {},
   "source": [
    "**View the history (print out of what has been committed so far) of your changes using**: `git log`"
   ]
  },
  {
   "cell_type": "code",
   "execution_count": null,
   "metadata": {},
   "outputs": [],
   "source": [
    "!git log"
   ]
  },
  {
   "cell_type": "markdown",
   "metadata": {},
   "source": [
    "**Get the current `hash`**"
   ]
  },
  {
   "cell_type": "code",
   "execution_count": null,
   "metadata": {},
   "outputs": [],
   "source": [
    "hash_00 = get_git_revision_hash()\n",
    "print(\"First hash: \", hash_00)"
   ]
  },
  {
   "cell_type": "markdown",
   "metadata": {},
   "source": [
    "## <font color=\"blue\">Step 4: Make Changes and Track Results</font>"
   ]
  },
  {
   "cell_type": "markdown",
   "metadata": {},
   "source": [
    "Edit the file."
   ]
  },
  {
   "cell_type": "code",
   "execution_count": null,
   "metadata": {},
   "outputs": [],
   "source": [
    "!echo \"print('\\t Welcome to the Git Tutorial.')\" >> hello_class.py"
   ]
  },
  {
   "cell_type": "code",
   "execution_count": null,
   "metadata": {},
   "outputs": [],
   "source": [
    "!cat hello_class.py"
   ]
  },
  {
   "cell_type": "code",
   "execution_count": null,
   "metadata": {},
   "outputs": [],
   "source": [
    "!python hello_class.py"
   ]
  },
  {
   "cell_type": "code",
   "execution_count": null,
   "metadata": {},
   "outputs": [],
   "source": [
    "!git status"
   ]
  },
  {
   "cell_type": "markdown",
   "metadata": {},
   "source": [
    "**What has changed so far**: `git diff`"
   ]
  },
  {
   "cell_type": "code",
   "execution_count": null,
   "metadata": {},
   "outputs": [],
   "source": [
    "!git diff"
   ]
  },
  {
   "cell_type": "code",
   "execution_count": null,
   "metadata": {},
   "outputs": [],
   "source": [
    "!git add hello_class.py"
   ]
  },
  {
   "cell_type": "code",
   "execution_count": null,
   "metadata": {},
   "outputs": [],
   "source": [
    "!git commit -m \"Added a welcome message\""
   ]
  },
  {
   "cell_type": "code",
   "execution_count": null,
   "metadata": {},
   "outputs": [],
   "source": [
    "!git status"
   ]
  },
  {
   "cell_type": "code",
   "execution_count": null,
   "metadata": {},
   "outputs": [],
   "source": [
    "!git log"
   ]
  },
  {
   "cell_type": "code",
   "execution_count": null,
   "metadata": {},
   "outputs": [],
   "source": [
    "hash_01 = get_git_revision_hash()\n",
    "print(\"Second hash: \", hash_01)\n",
    "print(\"First hash:  \", hash_00)"
   ]
  },
  {
   "cell_type": "markdown",
   "metadata": {},
   "source": [
    "If you also want to see complete diffs at each step, use: `git log -p`"
   ]
  },
  {
   "cell_type": "code",
   "execution_count": null,
   "metadata": {},
   "outputs": [],
   "source": [
    "!git log -p"
   ]
  },
  {
   "cell_type": "markdown",
   "metadata": {},
   "source": [
    "Often the overview of the change is useful to get a feel of each step: `git log --stat --summary`"
   ]
  },
  {
   "cell_type": "code",
   "execution_count": null,
   "metadata": {},
   "outputs": [],
   "source": [
    "!git log --stat --summary"
   ]
  },
  {
   "cell_type": "markdown",
   "metadata": {},
   "source": [
    "## <font color=\"blue\">Step 5: Recovering Old Versions of Files</font>"
   ]
  },
  {
   "cell_type": "code",
   "execution_count": null,
   "metadata": {},
   "outputs": [],
   "source": [
    "!echo \"n = 5\" >> hello_class.py"
   ]
  },
  {
   "cell_type": "code",
   "execution_count": null,
   "metadata": {},
   "outputs": [],
   "source": [
    "!echo \"for i in range(n)\" >> hello_class.py"
   ]
  },
  {
   "cell_type": "code",
   "execution_count": null,
   "metadata": {},
   "outputs": [],
   "source": [
    "!echo \"print('{} of {}'.format(i+1, n))\" >> hello_class.py\n",
    "# Note this will generate a syntax error due to lack of indentation"
   ]
  },
  {
   "cell_type": "code",
   "execution_count": null,
   "metadata": {},
   "outputs": [],
   "source": [
    "!cat hello_class.py"
   ]
  },
  {
   "cell_type": "code",
   "execution_count": null,
   "metadata": {},
   "outputs": [],
   "source": [
    "!git add hello_class.py"
   ]
  },
  {
   "cell_type": "code",
   "execution_count": null,
   "metadata": {},
   "outputs": [],
   "source": [
    "!git commit -m \"Added a loop\""
   ]
  },
  {
   "cell_type": "code",
   "execution_count": null,
   "metadata": {},
   "outputs": [],
   "source": [
    "!python hello_class.py"
   ]
  },
  {
   "cell_type": "markdown",
   "metadata": {},
   "source": [
    "Oops, made a mistake! Need to go back one commit."
   ]
  },
  {
   "cell_type": "code",
   "execution_count": null,
   "metadata": {},
   "outputs": [],
   "source": [
    "!git log"
   ]
  },
  {
   "cell_type": "code",
   "execution_count": null,
   "metadata": {},
   "outputs": [],
   "source": [
    "hash_02 = get_git_revision_hash()\n",
    "print(\"Third hash:  \", hash_02)\n",
    "print(\"Second hash: \", hash_01)\n",
    "print(\"First hash:  \", hash_00)"
   ]
  },
  {
   "cell_type": "markdown",
   "metadata": {},
   "source": []
  },
  {
   "cell_type": "code",
   "execution_count": null,
   "metadata": {},
   "outputs": [],
   "source": [
    "!git diff $hash_01"
   ]
  },
  {
   "cell_type": "code",
   "execution_count": null,
   "metadata": {},
   "outputs": [],
   "source": [
    "!git diff HEAD~1"
   ]
  },
  {
   "cell_type": "code",
   "execution_count": null,
   "metadata": {},
   "outputs": [],
   "source": [
    "!git checkout $hash_01 hello_class.py"
   ]
  },
  {
   "cell_type": "code",
   "execution_count": null,
   "metadata": {},
   "outputs": [],
   "source": [
    "!cat hello_class.py"
   ]
  },
  {
   "cell_type": "code",
   "execution_count": null,
   "metadata": {},
   "outputs": [],
   "source": [
    "!echo \"n = 5\" >> hello_class.py\n",
    "!echo \"for i in range(n):\" >> hello_class.py\n",
    "!echo \"    print('{} of {}'.format(i+1, n))\" >> hello_class.py"
   ]
  },
  {
   "cell_type": "code",
   "execution_count": null,
   "metadata": {},
   "outputs": [],
   "source": [
    "!cat hello_class.py"
   ]
  },
  {
   "cell_type": "code",
   "execution_count": null,
   "metadata": {},
   "outputs": [],
   "source": [
    "!python hello_class.py"
   ]
  },
  {
   "cell_type": "code",
   "execution_count": null,
   "metadata": {},
   "outputs": [],
   "source": [
    "!git add hello_class.py"
   ]
  },
  {
   "cell_type": "code",
   "execution_count": null,
   "metadata": {},
   "outputs": [],
   "source": [
    "!git commit -m \"Added loop (with proper indentation)\""
   ]
  },
  {
   "cell_type": "code",
   "execution_count": null,
   "metadata": {},
   "outputs": [],
   "source": [
    "!git log"
   ]
  },
  {
   "cell_type": "code",
   "execution_count": null,
   "metadata": {},
   "outputs": [],
   "source": [
    "# Get the current hash\n",
    "hash_03 = get_git_revision_hash()\n",
    "print(\"Fourth hash: \", hash_03)\n",
    "print(\"Third hash:  \", hash_02)\n",
    "print(\"Second hash: \", hash_01)\n",
    "print(\"First hash:  \", hash_00)"
   ]
  },
  {
   "cell_type": "markdown",
   "metadata": {},
   "source": [
    "## <font color=\"blue\">Exercise: Collaboration on github</font>"
   ]
  },
  {
   "cell_type": "markdown",
   "metadata": {},
   "source": [
    "Form teams of two (Coder \"A\" and Coder \"B\").  Here you will learn how to create a repository on github, \"clone\" it to your local machine, and share it with a collaborator."
   ]
  },
  {
   "cell_type": "markdown",
   "metadata": {},
   "source": [
    "### Part 1 (Coder A):\n",
    "- Create a new repository on github called \"my_git_repos\".  \n",
    "- Clone this to your laptop: `git clone <repository>`  "
   ]
  },
  {
   "cell_type": "markdown",
   "metadata": {},
   "source": [
    "### Part 2 (Coder A):\n",
    "- Add Coder B as a collaborator to the repository on github."
   ]
  },
  {
   "cell_type": "markdown",
   "metadata": {},
   "source": [
    "### Part 3 (Coder B):\n",
    "- Clone the repository to your local machine.  \n",
    "- Create a new file in your repository called \"hello.py\" (print(\"Hello, world!\")).  \n",
    "- Add the file to the repository, commit the change, and \"push\" (`git push`) the change back to github."
   ]
  },
  {
   "cell_type": "markdown",
   "metadata": {},
   "source": [
    "### Part 4 (Coder A):\n",
    "- `Pull` the (updated) repository and identify the new file present.  \n",
    "- Make a change to the file \"hello.py\".  Add, commit, and push to the server.  "
   ]
  },
  {
   "cell_type": "markdown",
   "metadata": {},
   "source": [
    "### Part 5 (Coder B):\n",
    "- (After Part 4 is completed) Make a change to the file \"hello.py\".  \n",
    "- Add, commit, and try to push to server.  What happened?"
   ]
  },
  {
   "cell_type": "code",
   "execution_count": null,
   "metadata": {},
   "outputs": [],
   "source": []
  }
 ],
 "metadata": {
  "kernelspec": {
   "display_name": "Python 3",
   "language": "python",
   "name": "python3"
  },
  "language_info": {
   "codemirror_mode": {
    "name": "ipython",
    "version": 3
   },
   "file_extension": ".py",
   "mimetype": "text/x-python",
   "name": "python",
   "nbconvert_exporter": "python",
   "pygments_lexer": "ipython3",
   "version": "3.7.3"
  }
 },
 "nbformat": 4,
 "nbformat_minor": 2
}
