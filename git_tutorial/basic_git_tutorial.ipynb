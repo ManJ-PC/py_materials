{
 "cells": [
  {
   "cell_type": "markdown",
   "metadata": {},
   "source": [
    ". | .\n",
    "-- | --\n",
    "![NASA](http://www.nasa.gov/sites/all/themes/custom/nasatwo/images/nasa-logo.svg) | ![NASA](https://www.nccs.nasa.gov/sites/default/files/NCCS_Logo_0.png)\n",
    "\n",
    "\n",
    "<center><h1><font size=\"+3\">ASTG Python Courses</font></h1></center>\n",
    "\n",
    "---\n",
    "\n",
    "<center>\n",
    "    <h1><font color=\"red\">Introduction to Version Control with Git</font></h1>\n",
    "</center>"
   ]
  },
  {
   "cell_type": "markdown",
   "metadata": {},
   "source": [
    "## Few Pointers\n",
    "- <a href=\"https://www.atlassian.com/git/tutorials\">Become a git guru</a>\n",
    "- <a href=\"https://github.github.com/training-kit/downloads/github-git-cheat-sheet/\">Git Cheat Sheet</a>\n",
    "- <a href=\"https://www.vogella.com/tutorials/Git/article.html\">Git - Tutorial</a> (by Lars Vogel)\n",
    "- <a href=\"https://berkeley-stat159-f17.github.io/stat159-f17/lectures/01-git/Git-Tutorial..html\">An interactive Git Tutorial: the tool you didn’t know you needed</a>\n",
    "- <a href=\"https://www.freecodecamp.org/news/learn-the-basics-of-git-in-under-10-minutes-da548267cc91/\">Learn the Basics of Git in Under 10 Minutes</a>"
   ]
  },
  {
   "cell_type": "markdown",
   "metadata": {},
   "source": [
    "# <font color=\"red\">What is Version Control?</font>\n",
    "- Version control systems are a category of software tools that help a software team manage changes to source code over time. \n",
    "- Version control software keeps track of every modification to the code in a special kind of database. \n",
    "- If a mistake is made, developers can turn back the clock and compare earlier versions of the code to help fix the mistake while minimizing disruption to all team members.\n",
    "- Version control software is an essential part of the every-day of the modern software team's professional practices. \n",
    "\n",
    "There are two types of version control system:\n",
    "- **Centralized** version control systems are based on the idea that there is a single “central” copy of your project somewhere (probably on a server), and programmers will “commit” their changes to this central copy. The best known examples of centralized systems are CVS and Subversion.\n",
    "- **Distributed** version systems do not necessarily rely on a central server to store all the versions of a project’s files. Instead, every developer “clones” a copy of a repository and has the full history of the project on their own hard drive. This copy (or “clone”) has all of the metadata of the original. Some distributed version control systems are Git and Mercurial.\n",
    "\n",
    "![fig_vcs](https://s26500.pcdn.co/wp-content/uploads/2019/09/VCS_Diff-768x314.png)\n",
    "Image Source: [datacore.com](https://www.datacore.com/blog/how-to-move-source-control-from-perforce-to-github/)\n",
    "\n",
    "\n",
    "**Benefits**\n",
    "- Developing software without using version control is risky, like not having backups. \n",
    "- Version control can also enable developers to move faster and it allows software teams to preserve efficiency and agility as the team scales to include more developers.\n",
    "- The primary benefits you should expect from version control are:\n",
    "     + A complete long-term change history of every file. \n",
    "     + Branching and merging. \n",
    "     + Traceability."
   ]
  },
  {
   "cell_type": "markdown",
   "metadata": {},
   "source": [
    "# <font color=\"red\">What is Git?</font>\n",
    "- The most widely used modern distributed version control system.\n",
    "- A mature, actively maintained open source project.\n",
    "- Git has been designed with the following features:\n",
    "    + **Performance**: Committing new changes, branching, merging and comparing past versions are all optimized for performance. \n",
    "    + **Security**: The content of the files as well as the true relationships between files and directories, versions, tags and commits, all of these objects in the Git repository are secured with a cryptographically secure --hashing-- algorithm called SHA1.\n",
    "    + **Flexibility**: Git is flexible (1) in support for various kinds of nonlinear development workflows, (3) in its efficiency in both small and large projects, and (3) in its compatibility with many existing systems and protocols.\n",
    "\n",
    "### What is a Git Repository?\n",
    "- A Git repository is a virtual storage of your project. \n",
    "- It allows you to save versions of your code, which you can access when needed.\n",
    "- A Git repository contains the history of a collection of files starting from a certain directory. \n",
    "- The process of copying an existing Git repository via the Git tooling is called **cloning**. \n",
    "- After cloning a repository the user has the complete repository with its history on his local machine.\n",
    "\n",
    "### Git Hashes\n",
    "\n",
    "- Hashes, file based key-value storage and tree data structure, are the key things behind git. \n",
    "- Each tree node, commit and files has own unique 40 character long SHA-1 representation.\n",
    "- Commits are a particular type of checkpoint called a **revision**. \n",
    "- The name will be a random-looking hash of numbers and letters such as `e093542`. \n",
    "- This hash can then be used in various other commands to extract a specific revision of the code.\n",
    "\n",
    "### Git Workflow\n",
    "\n",
    "The general workflow of a Git cycle is:\n",
    "- Clone a Git repository as a working copy.\n",
    "- Modify the working copy by adding/editing files.\n",
    "- If necessary, update the working copy by taking other developers' changes.\n",
    "- Review the changes before commit.\n",
    "- Commit changes in your local repository.\n",
    "- If everything is fine, push the changes to the remote respoitory.\n",
    "- If you realize that something is wrong, you can correct any of the previous commits and still push your changes to the remote repository.\n",
    "\n",
    "The image below shows the interaction between the remote repository, the local repository (in this case the Master) and the Working Directory.\n",
    "\n",
    "![fig_git](https://dev.vividbreeze.com/wp-content/uploads/2018/03/gitBasicsRemote.jpg)\n",
    "Image Source: https://dev.vividbreeze.com/git-tutorial-remote-repositories/\n",
    "\n",
    "A file in the working tree of a Git repository can have different states:\n",
    "\n",
    "- **untracked**: the file is not tracked by the Git repository. This means that the file is never staged nor committed.\n",
    "- **tracked**: committed and not staged.\n",
    "- **staged**: staged to be included in the next commit.\n",
    "- **dirty** / **modified**: the file has changed but the change is not staged.\n",
    "\n",
    "After doing changes in the working tree, the user can add these changes to the Git repository or revert these changes."
   ]
  },
  {
   "cell_type": "markdown",
   "metadata": {},
   "source": [
    "# <font color=\"red\">Using Git: My First Git Repository</font>"
   ]
  },
  {
   "cell_type": "markdown",
   "metadata": {},
   "source": [
    "## <font color=\"blue\">Step 1: Install and Setup Git</font>"
   ]
  },
  {
   "cell_type": "markdown",
   "metadata": {},
   "source": [
    "### Step 1-1: Install Git on your Machine (if it is not there already)\n",
    "\n",
    "- **For this course, you are not required to have `git` on your local machine.**\n",
    "- To install Git on your local machine by following the installation instructions: [Getting Started - Installing Git](https://git-scm.com/book/en/v2/Getting-Started-Installing-Git). \n"
   ]
  },
  {
   "cell_type": "markdown",
   "metadata": {},
   "source": [
    "Verify the installation:"
   ]
  },
  {
   "cell_type": "code",
   "execution_count": null,
   "metadata": {},
   "outputs": [],
   "source": [
    "%%bash\n",
    "\n",
    "which git"
   ]
  },
  {
   "cell_type": "code",
   "execution_count": null,
   "metadata": {},
   "outputs": [],
   "source": [
    "%%bash\n",
    "\n",
    "git --version"
   ]
  },
  {
   "cell_type": "code",
   "execution_count": null,
   "metadata": {},
   "outputs": [],
   "source": [
    "%%bash\n",
    "\n",
    "git"
   ]
  },
  {
   "cell_type": "markdown",
   "metadata": {},
   "source": [
    "### Step 1-2: Create Account on `github.com` \n",
    "\n",
    "- Go the the website [https://github.com/](https://github.com/) to create an account if you do not have any.\n",
    "- You might also need to [generate an SSH key and authenticate it](https://docs.github.com/en/github/authenticating-to-github/connecting-to-github-with-ssh) if you are working on your local machine."
   ]
  },
  {
   "cell_type": "markdown",
   "metadata": {},
   "source": [
    "### Step 1-3: Configure `git` to Use your Account\n",
    "\n",
    "- The `git config` is used to set Git configuration values on a global or local project level. \n",
    "- These configuration levels are included in the `.gitconfig` text file. Executing `git config` will modify a configuration text file. \n",
    "- A `git config --global` setting is only done once. Git will always use that information for anything you do on that system. If you want to override this with a different name or email address for specific projects, you can run the command without the `--global` option when you’re in that project.\n",
    "\n",
    "If you have never done it, you need to set your user name and email address. Uncomment the lines below and provide your information."
   ]
  },
  {
   "cell_type": "code",
   "execution_count": null,
   "metadata": {},
   "outputs": [],
   "source": [
    "%%bash\n",
    "\n",
    "#git config --global user.name \"<username>\"\n",
    "#git config --global user.email \"<email address>\"\n",
    "#git config --list"
   ]
  },
  {
   "cell_type": "markdown",
   "metadata": {},
   "source": [
    "Here is a sample `.gitconfig` file:\n",
    "\n",
    "    [user]\n",
    "            name = Jules Julian\n",
    "            email = Jules.Julian@mymail.com\n",
    "    [alias]\n",
    "            co = checkout\n",
    "            ci = commit\n",
    "            cm = commit -m\n",
    "            cam = commit -am\n",
    "            st = status\n",
    "            br = branch\n",
    "            cam = commit -am\n",
    "            slog = log --oneline --topo-order --graph\n",
    "            hist = log --pretty=format:\"%h %ad | %s%d [%an]\" --graph --date=short"
   ]
  },
  {
   "cell_type": "markdown",
   "metadata": {},
   "source": [
    "We also want to create few aliases from the command line:"
   ]
  },
  {
   "cell_type": "code",
   "execution_count": null,
   "metadata": {},
   "outputs": [],
   "source": [
    "%%bash\n",
    "\n",
    "git config --global alias.co \"checkout\"\n",
    "git config --global alias.ci \"commit\"\n",
    "git config --global alias.cm \"commit -m\"\n",
    "git config --global alias.cam \"commit -am\"\n",
    "git config --global alias.st \"status\"\n",
    "git config --global alias.slog \"log --oneline --topo-order --graph\"\n",
    "git config --global alias.hist 'log --pretty=format:\"%h %ad | %s%d [%an]\" --graph --date=short'"
   ]
  },
  {
   "cell_type": "markdown",
   "metadata": {},
   "source": [
    "## <font color=\"blue\">Step 2: Create a New Repository</font>\n",
    "\n",
    "![first](https://media.geeksforgeeks.org/wp-content/uploads/20191122182103/staging_process.jpg)\n",
    "Image Source: [https://www.geeksforgeeks.org/what-is-a-git-repository/](https://www.geeksforgeeks.org/what-is-a-git-repository/)"
   ]
  },
  {
   "cell_type": "markdown",
   "metadata": {},
   "source": [
    "- You will first to create a local working directory, named `src_code`.\n",
    "- All the cells below are meant to be run by you in a terminal where you change **once** to the `src_code` directory and continue working there.\n",
    "- For the purposes of the tutorial, the cells will all be prepended with the first two lines:\n",
    "\n",
    "```python\n",
    "   %%bash\n",
    "   cd src_code\n",
    "```"
   ]
  },
  {
   "cell_type": "code",
   "execution_count": null,
   "metadata": {},
   "outputs": [],
   "source": [
    "%%bash\n",
    "\n",
    "rm -fr src_code\n",
    "mkdir src_code"
   ]
  },
  {
   "cell_type": "code",
   "execution_count": null,
   "metadata": {},
   "outputs": [],
   "source": [
    "%%bash\n",
    "cd src_code\n",
    "\n",
    "pwd"
   ]
  },
  {
   "cell_type": "markdown",
   "metadata": {},
   "source": [
    "**Create an empty repository**\n",
    "- To create a new repo, you'll use the `git init` command. \n",
    "- `git init` is a one-time command you use during the initial setup of a new repo. \n",
    "- Executing this command will create a new **.git** subdirectory in your current working directory. \n",
    "- This will also create a new master branch. "
   ]
  },
  {
   "cell_type": "code",
   "execution_count": null,
   "metadata": {},
   "outputs": [],
   "source": [
    "%%bash\n",
    "cd src_code\n",
    "\n",
    "git init"
   ]
  },
  {
   "cell_type": "markdown",
   "metadata": {},
   "source": [
    "You have initialized the working directory and you created a new directory, named **.git**."
   ]
  },
  {
   "cell_type": "code",
   "execution_count": null,
   "metadata": {},
   "outputs": [],
   "source": [
    "%%bash\n",
    "cd src_code\n",
    "\n",
    "ls"
   ]
  },
  {
   "cell_type": "code",
   "execution_count": null,
   "metadata": {},
   "outputs": [],
   "source": [
    "%%bash\n",
    "cd src_code\n",
    "\n",
    "ls -a"
   ]
  },
  {
   "cell_type": "code",
   "execution_count": null,
   "metadata": {},
   "outputs": [],
   "source": [
    "%%bash\n",
    "cd src_code\n",
    "\n",
    "ls -l .git"
   ]
  },
  {
   "cell_type": "code",
   "execution_count": null,
   "metadata": {},
   "outputs": [],
   "source": [
    "%%bash\n",
    "cd src_code\n",
    "\n",
    "cat .git/config"
   ]
  },
  {
   "cell_type": "markdown",
   "metadata": {},
   "source": [
    "Verify the directory tree:"
   ]
  },
  {
   "cell_type": "code",
   "execution_count": null,
   "metadata": {},
   "outputs": [],
   "source": [
    "%%bash\n",
    "cd src_code\n",
    "\n",
    "find . -print | sed -e 's;[^/]*/;|____;g;s;____|; |;g'"
   ]
  },
  {
   "cell_type": "markdown",
   "metadata": {},
   "source": [
    "**Create a simple Python file** (`hello_class.py`)"
   ]
  },
  {
   "cell_type": "code",
   "execution_count": null,
   "metadata": {},
   "outputs": [],
   "source": [
    "%%bash\n",
    "cd src_code\n",
    "\n",
    "echo \"print('Hello Class!')\" >> hello_class.py"
   ]
  },
  {
   "cell_type": "code",
   "execution_count": null,
   "metadata": {},
   "outputs": [],
   "source": [
    "%%bash\n",
    "cd src_code\n",
    "\n",
    "ls"
   ]
  },
  {
   "cell_type": "code",
   "execution_count": null,
   "metadata": {},
   "outputs": [],
   "source": [
    "%%bash\n",
    "cd src_code\n",
    "\n",
    "cat hello_class.py"
   ]
  },
  {
   "cell_type": "code",
   "execution_count": null,
   "metadata": {},
   "outputs": [],
   "source": [
    "%%bash\n",
    "cd src_code\n",
    "\n",
    "python hello_class.py"
   ]
  },
  {
   "cell_type": "markdown",
   "metadata": {},
   "source": [
    "**Get a brief summary of the git repository**\n",
    "- To find out information regarding what files are modified and what files are there in the staging area."
   ]
  },
  {
   "cell_type": "code",
   "execution_count": null,
   "metadata": {},
   "outputs": [],
   "source": [
    "%%bash\n",
    "cd src_code\n",
    "\n",
    "git status"
   ]
  },
  {
   "cell_type": "markdown",
   "metadata": {},
   "source": [
    "**Add the new file to the repository staging area**\n",
    "- Before the file is added to the local repository, it has to be in the stagging area.\n",
    "- The staging area is there to keep track of all the files which are to be committed.\n",
    "- Here, you can incrementally modify files, stage them, modify and stage them again until you are satisfied with your changes."
   ]
  },
  {
   "cell_type": "code",
   "execution_count": null,
   "metadata": {},
   "outputs": [],
   "source": [
    "%%bash\n",
    "cd src_code\n",
    "\n",
    "git add hello_class.py"
   ]
  },
  {
   "cell_type": "code",
   "execution_count": null,
   "metadata": {},
   "outputs": [],
   "source": [
    "%%bash\n",
    "cd src_code\n",
    "\n",
    "git status"
   ]
  },
  {
   "cell_type": "markdown",
   "metadata": {},
   "source": [
    "**Create a new commit with a message describing what work was done in the commit**\n",
    "- After adding the selected files to the staging area, you can commit these files to add them permanently to the Git repository. \n",
    "- Committing creates a new persistent snapshot (called commit or commit object) of the staging area in the Git repository. "
   ]
  },
  {
   "cell_type": "code",
   "execution_count": null,
   "metadata": {},
   "outputs": [],
   "source": [
    "%%bash\n",
    "cd src_code\n",
    "\n",
    "git commit -m \"My first Python script\""
   ]
  },
  {
   "cell_type": "code",
   "execution_count": null,
   "metadata": {},
   "outputs": [],
   "source": [
    "%%bash\n",
    "cd src_code\n",
    "\n",
    "git status"
   ]
  },
  {
   "cell_type": "markdown",
   "metadata": {},
   "source": [
    "**View the history (print out of what has been committed so far) of your changes using**: `git log`\n",
    "\n",
    "Here you create a commit object that contains:\n",
    "- **Commit ID**: SHA-1 Hash\n",
    "- **Author**: Name of the user who committed files.\n",
    "- **Date**: Date and time the commit was done.\n",
    "- **Commit Message**: The message the user wrote while committing."
   ]
  },
  {
   "cell_type": "code",
   "execution_count": null,
   "metadata": {},
   "outputs": [],
   "source": [
    "%%bash\n",
    "cd src_code\n",
    "\n",
    "git log"
   ]
  },
  {
   "cell_type": "code",
   "execution_count": null,
   "metadata": {},
   "outputs": [],
   "source": [
    "%%bash\n",
    "cd src_code\n",
    "\n",
    "git slog"
   ]
  },
  {
   "cell_type": "code",
   "execution_count": null,
   "metadata": {},
   "outputs": [],
   "source": [
    "%%bash\n",
    "cd src_code\n",
    "\n",
    "git hist"
   ]
  },
  {
   "cell_type": "markdown",
   "metadata": {},
   "source": [
    "**Get the current `hash`**\n",
    "\n",
    "The Python function below will allow us obtain the current hash from a git repository."
   ]
  },
  {
   "cell_type": "code",
   "execution_count": null,
   "metadata": {},
   "outputs": [],
   "source": [
    "%%bash\n",
    "cd src_code\n",
    "\n",
    "hash_00=`git rev-parse HEAD`\n",
    "echo \"First hash:  ${hash_00}\""
   ]
  },
  {
   "cell_type": "markdown",
   "metadata": {},
   "source": [
    "## <font color=\"blue\">Step 4: Make Changes and Track Results</font>"
   ]
  },
  {
   "cell_type": "markdown",
   "metadata": {},
   "source": [
    "Edit the file."
   ]
  },
  {
   "cell_type": "code",
   "execution_count": null,
   "metadata": {},
   "outputs": [],
   "source": [
    "%%bash\n",
    "cd src_code\n",
    "\n",
    "echo \"print('\\t Welcome to the Git Tutorial.')\" >> hello_class.py"
   ]
  },
  {
   "cell_type": "code",
   "execution_count": null,
   "metadata": {},
   "outputs": [],
   "source": [
    "%%bash\n",
    "cd src_code\n",
    "\n",
    "cat hello_class.py"
   ]
  },
  {
   "cell_type": "code",
   "execution_count": null,
   "metadata": {},
   "outputs": [],
   "source": [
    "%%bash\n",
    "cd src_code\n",
    "\n",
    "python hello_class.py"
   ]
  },
  {
   "cell_type": "code",
   "execution_count": null,
   "metadata": {},
   "outputs": [],
   "source": [
    "%%bash\n",
    "cd src_code\n",
    "\n",
    "git st"
   ]
  },
  {
   "cell_type": "markdown",
   "metadata": {},
   "source": [
    "**What has changed so far**: `git diff`"
   ]
  },
  {
   "cell_type": "code",
   "execution_count": null,
   "metadata": {},
   "outputs": [],
   "source": [
    "%%bash\n",
    "cd src_code\n",
    "\n",
    "git diff"
   ]
  },
  {
   "cell_type": "code",
   "execution_count": null,
   "metadata": {},
   "outputs": [],
   "source": [
    "%%bash\n",
    "cd src_code\n",
    "\n",
    "git add hello_class.py"
   ]
  },
  {
   "cell_type": "code",
   "execution_count": null,
   "metadata": {},
   "outputs": [],
   "source": [
    "%%bash\n",
    "cd src_code\n",
    "\n",
    "git ci -m \"Added a welcome message\""
   ]
  },
  {
   "cell_type": "code",
   "execution_count": null,
   "metadata": {},
   "outputs": [],
   "source": [
    "%%bash\n",
    "cd src_code\n",
    "\n",
    "git st"
   ]
  },
  {
   "cell_type": "code",
   "execution_count": null,
   "metadata": {},
   "outputs": [],
   "source": [
    "%%bash\n",
    "cd src_code\n",
    "\n",
    "git log"
   ]
  },
  {
   "cell_type": "code",
   "execution_count": null,
   "metadata": {},
   "outputs": [],
   "source": [
    "%%bash\n",
    "cd src_code\n",
    "\n",
    "hash_01=`git rev-parse HEAD`\n",
    "echo \"Second hash: ${hash_01}\""
   ]
  },
  {
   "cell_type": "markdown",
   "metadata": {},
   "source": [
    "If you also want to see complete diffs at each step, use: `git log -p`"
   ]
  },
  {
   "cell_type": "code",
   "execution_count": null,
   "metadata": {},
   "outputs": [],
   "source": [
    "%%bash\n",
    "cd src_code\n",
    "\n",
    "git log -p"
   ]
  },
  {
   "cell_type": "markdown",
   "metadata": {},
   "source": [
    "Often the overview of the change is useful to get a feel of each step:\n",
    "\n",
    "`git log --stat --summary`"
   ]
  },
  {
   "cell_type": "code",
   "execution_count": null,
   "metadata": {},
   "outputs": [],
   "source": [
    "%%bash\n",
    "cd src_code\n",
    "\n",
    "git log --stat --summary"
   ]
  },
  {
   "cell_type": "markdown",
   "metadata": {},
   "source": [
    "# <font color=\"red\">Using Git: Recovering Old Versions of Files</font>\n",
    "\n",
    "![revert](https://www.satz24.com/post/temp_admin12345/02-reset-concept.png)\n",
    "Image Source: [satz24.com](https://www.satz24.com/post/temp_admin12345/02-reset-concept.png)"
   ]
  },
  {
   "cell_type": "code",
   "execution_count": null,
   "metadata": {},
   "outputs": [],
   "source": [
    "%%bash\n",
    "cd src_code\n",
    "\n",
    "echo \"n = 5\" >> hello_class.py"
   ]
  },
  {
   "cell_type": "code",
   "execution_count": null,
   "metadata": {},
   "outputs": [],
   "source": [
    "%%bash\n",
    "cd src_code\n",
    "\n",
    "echo \"for i in range(n)\" >> hello_class.py"
   ]
  },
  {
   "cell_type": "markdown",
   "metadata": {},
   "source": [
    "Note the code below will generate a syntax error due to lack of indentation."
   ]
  },
  {
   "cell_type": "code",
   "execution_count": null,
   "metadata": {},
   "outputs": [],
   "source": [
    "%%bash\n",
    "cd src_code\n",
    "\n",
    "echo \"print('{} of {}'.format(i+1, n))\" >> hello_class.py"
   ]
  },
  {
   "cell_type": "code",
   "execution_count": null,
   "metadata": {},
   "outputs": [],
   "source": [
    "%%bash\n",
    "cd src_code\n",
    "\n",
    "cat hello_class.py"
   ]
  },
  {
   "cell_type": "code",
   "execution_count": null,
   "metadata": {},
   "outputs": [],
   "source": [
    "%%bash\n",
    "cd src_code\n",
    "\n",
    "git add hello_class.py"
   ]
  },
  {
   "cell_type": "code",
   "execution_count": null,
   "metadata": {},
   "outputs": [],
   "source": [
    "%%bash\n",
    "cd src_code\n",
    "\n",
    "git cm \"Added a loop\""
   ]
  },
  {
   "cell_type": "code",
   "execution_count": null,
   "metadata": {},
   "outputs": [],
   "source": [
    "%%bash\n",
    "cd src_code\n",
    "\n",
    "python hello_class.py"
   ]
  },
  {
   "cell_type": "markdown",
   "metadata": {},
   "source": [
    "Oops, made a mistake! Need to go back one commit."
   ]
  },
  {
   "cell_type": "code",
   "execution_count": null,
   "metadata": {},
   "outputs": [],
   "source": [
    "%%bash\n",
    "cd src_code\n",
    "\n",
    "git log"
   ]
  },
  {
   "cell_type": "code",
   "execution_count": null,
   "metadata": {},
   "outputs": [],
   "source": [
    "%%bash\n",
    "cd src_code\n",
    "\n",
    "git hist"
   ]
  },
  {
   "cell_type": "code",
   "execution_count": null,
   "metadata": {},
   "outputs": [],
   "source": [
    "%%bash\n",
    "cd src_code\n",
    "\n",
    "hash_02=`git rev-parse HEAD`\n",
    "echo \"Third  hash: ${hash_02}\""
   ]
  },
  {
   "cell_type": "code",
   "execution_count": null,
   "metadata": {},
   "outputs": [],
   "source": [
    "%%bash\n",
    "cd src_code\n",
    "\n",
    "git diff $hash_01"
   ]
  },
  {
   "cell_type": "code",
   "execution_count": null,
   "metadata": {},
   "outputs": [],
   "source": [
    "%%bash\n",
    "cd src_code\n",
    "\n",
    "git diff HEAD~1"
   ]
  },
  {
   "cell_type": "code",
   "execution_count": null,
   "metadata": {},
   "outputs": [],
   "source": [
    "%%bash\n",
    "cd src_code\n",
    "\n",
    "git checkout $hash_01 hello_class.py"
   ]
  },
  {
   "cell_type": "code",
   "execution_count": null,
   "metadata": {},
   "outputs": [],
   "source": [
    "%%bash\n",
    "cd src_code\n",
    "\n",
    "cat hello_class.py"
   ]
  },
  {
   "cell_type": "code",
   "execution_count": null,
   "metadata": {},
   "outputs": [],
   "source": [
    "%%bash\n",
    "cd src_code\n",
    "\n",
    "echo \"n = 5\" >> hello_class.py\n",
    "echo \"for i in range(n):\" >> hello_class.py\n",
    "echo \"    print('{} of {}'.format(i+1, n))\" >> hello_class.py"
   ]
  },
  {
   "cell_type": "code",
   "execution_count": null,
   "metadata": {},
   "outputs": [],
   "source": [
    "%%bash\n",
    "cd src_code\n",
    "\n",
    "cat hello_class.py"
   ]
  },
  {
   "cell_type": "code",
   "execution_count": null,
   "metadata": {},
   "outputs": [],
   "source": [
    "%%bash\n",
    "cd src_code\n",
    "\n",
    "python hello_class.py"
   ]
  },
  {
   "cell_type": "code",
   "execution_count": null,
   "metadata": {},
   "outputs": [],
   "source": [
    "%%bash\n",
    "cd src_code\n",
    "\n",
    "git add hello_class.py"
   ]
  },
  {
   "cell_type": "code",
   "execution_count": null,
   "metadata": {},
   "outputs": [],
   "source": [
    "%%bash\n",
    "cd src_code\n",
    "\n",
    "git cm \"Added loop (with proper indentation)\""
   ]
  },
  {
   "cell_type": "code",
   "execution_count": null,
   "metadata": {},
   "outputs": [],
   "source": [
    "%%bash\n",
    "cd src_code\n",
    "\n",
    "git hist"
   ]
  },
  {
   "cell_type": "code",
   "execution_count": null,
   "metadata": {},
   "outputs": [],
   "source": [
    "%%bash\n",
    "cd src_code\n",
    "\n",
    "hash_03=`git rev-parse HEAD`\n",
    "echo \"Fourth hash: ${hash_03}\""
   ]
  },
  {
   "cell_type": "markdown",
   "metadata": {},
   "source": [
    "# <font color=\"red\">Using Git: Moving and Removing Files</font>\n",
    "\n",
    "- While `git add` is used to add files to the list git tracks, we can also use git if we want to change their names to change or to stop tracking them. \n",
    "- We can use the Unix `mv` and `rm` commands in git to accomplish it."
   ]
  },
  {
   "cell_type": "markdown",
   "metadata": {},
   "source": [
    "**Moving a file:**"
   ]
  },
  {
   "cell_type": "code",
   "execution_count": null,
   "metadata": {},
   "outputs": [],
   "source": [
    "%%bash\n",
    "cd src_code\n",
    "\n",
    "git mv hello_class.py hello_world.py\n",
    "git st"
   ]
  },
  {
   "cell_type": "markdown",
   "metadata": {},
   "source": [
    "These changes must be committed too, to become permanent."
   ]
  },
  {
   "cell_type": "code",
   "execution_count": null,
   "metadata": {},
   "outputs": [],
   "source": [
    "%%bash\n",
    "cd src_code\n",
    "\n",
    "git cam \"Rename the file hello_class.py as hello_world.py\"\n",
    "git log"
   ]
  },
  {
   "cell_type": "markdown",
   "metadata": {},
   "source": [
    "**Removing a file:**"
   ]
  },
  {
   "cell_type": "code",
   "execution_count": null,
   "metadata": {},
   "outputs": [],
   "source": [
    "%%bash\n",
    "cd src_code\n",
    "\n",
    "echo \"import math\" >> simple_sine.py\n",
    "echo \"x = math.pi / 4.0\" >> simple_sine.py\n",
    "echo \"print('Sine of {} is: {}'.format(x, math.sin(x)))\" >> simple_sine.py"
   ]
  },
  {
   "cell_type": "code",
   "execution_count": null,
   "metadata": {},
   "outputs": [],
   "source": [
    "%%bash\n",
    "cd src_code\n",
    "\n",
    "cat simple_sine.py\n",
    "echo \"\"\n",
    "python simple_sine.py"
   ]
  },
  {
   "cell_type": "code",
   "execution_count": null,
   "metadata": {},
   "outputs": [],
   "source": [
    "%%bash\n",
    "cd src_code\n",
    "\n",
    "git add simple_sine.py\n",
    "git cm \"Created the file simple_sine.py\"\n",
    "git log"
   ]
  },
  {
   "cell_type": "markdown",
   "metadata": {},
   "source": [
    "Remove the file that was just created:"
   ]
  },
  {
   "cell_type": "code",
   "execution_count": null,
   "metadata": {},
   "outputs": [],
   "source": [
    "%%bash\n",
    "cd src_code\n",
    "\n",
    "git rm simple_sine.py\n",
    "git status"
   ]
  },
  {
   "cell_type": "code",
   "execution_count": null,
   "metadata": {},
   "outputs": [],
   "source": [
    "%%bash\n",
    "cd src_code\n",
    "\n",
    "git cam \"Remove the file simple_sine.py\"\n",
    "git log --stat --summary"
   ]
  },
  {
   "cell_type": "markdown",
   "metadata": {},
   "source": [
    "Print the directory structure:"
   ]
  },
  {
   "cell_type": "code",
   "execution_count": null,
   "metadata": {},
   "outputs": [],
   "source": [
    "%%bash\n",
    "cd src_code\n",
    "\n",
    "find . -print | sed -e 's;[^/]*/;|____;g;s;____|; |;g'"
   ]
  },
  {
   "cell_type": "markdown",
   "metadata": {},
   "source": [
    "# <font color=\"red\">Using Git: Branching</font>\n",
    "\n",
    "- A branch represents an independent line of development. \n",
    "- Branches serve as an abstraction for the edit/stage/commit process. \n",
    "- Can be seen as a way to request a brand new working directory, staging area, and project history. \n",
    "- New commits are recorded in the history for the current branch, which results in a fork in the history of the project.\n",
    "\n",
    "\n",
    "![branch](https://www.nobledesktop.com/image/gitresources/git-branches-merge.png)\n",
    "Image Source: [nobledesktop](https://www.nobledesktop.com/learn/git/git-branches)"
   ]
  },
  {
   "cell_type": "code",
   "execution_count": null,
   "metadata": {},
   "outputs": [],
   "source": [
    "%%bash\n",
    "cd src_code\n",
    "\n",
    "git st\n",
    "ls"
   ]
  },
  {
   "cell_type": "code",
   "execution_count": null,
   "metadata": {},
   "outputs": [],
   "source": [
    "%%bash\n",
    "cd src_code\n",
    "\n",
    "git branch"
   ]
  },
  {
   "cell_type": "markdown",
   "metadata": {},
   "source": [
    "We now try two different routes of development: \n",
    "\n",
    "- On the `master` branch we add one file, and \n",
    "- On the `my_own_branch` branch, which we create and add a different file.\n",
    "\n",
    "We will then merge the `my_own_branch` branch into `master`."
   ]
  },
  {
   "cell_type": "code",
   "execution_count": null,
   "metadata": {},
   "outputs": [],
   "source": [
    "%%bash\n",
    "cd src_code\n",
    "\n",
    "git branch my_own_branch\n",
    "git co my_own_branch"
   ]
  },
  {
   "cell_type": "code",
   "execution_count": null,
   "metadata": {},
   "outputs": [],
   "source": [
    "%%bash\n",
    "cd src_code\n",
    "\n",
    "git branch"
   ]
  },
  {
   "cell_type": "code",
   "execution_count": null,
   "metadata": {},
   "outputs": [],
   "source": [
    "%%bash\n",
    "cd src_code\n",
    "\n",
    "echo \"import math\" >> simple_sine.py\n",
    "echo \"x = math.pi / 4.0\" >> simple_sine.py\n",
    "echo \"print('Sine of {} is: {}'.format(x, math.sin(x)))\" >> simple_sine.py\n",
    "\n",
    "git add simple_sine.py\n",
    "git cam \"Added the new file simple_sine.py\"\n",
    "git slog"
   ]
  },
  {
   "cell_type": "code",
   "execution_count": null,
   "metadata": {},
   "outputs": [],
   "source": [
    "%%bash\n",
    "cd src_code\n",
    "\n",
    "git co master\n",
    "git branch\n",
    "git slog"
   ]
  },
  {
   "cell_type": "code",
   "execution_count": null,
   "metadata": {},
   "outputs": [],
   "source": [
    "%%bash\n",
    "cd src_code\n",
    "\n",
    "echo \"import math\" >> simple_cosine.py\n",
    "echo \"x = math.pi / 4.0\" >> simple_cosine.py\n",
    "echo \"print('Cosine of {} is: {}'.format(-x, math.cos(-x)))\" >> simple_cosine.py\n",
    "\n",
    "git add simple_cosine.py\n",
    "git cam \"Added the new file simple_cosine.py\"\n",
    "git slog"
   ]
  },
  {
   "cell_type": "markdown",
   "metadata": {},
   "source": [
    "- By default, all variations of the `git log` commands only show the currently active branch. \n",
    "- If we want to see all branches, we can ask for them with the `--all` flag."
   ]
  },
  {
   "cell_type": "code",
   "execution_count": null,
   "metadata": {},
   "outputs": [],
   "source": [
    "%%bash\n",
    "cd src_code\n",
    "\n",
    "git log --all"
   ]
  },
  {
   "cell_type": "code",
   "execution_count": null,
   "metadata": {},
   "outputs": [],
   "source": [
    "%%bash\n",
    "cd src_code\n",
    "\n",
    "ls"
   ]
  },
  {
   "cell_type": "code",
   "execution_count": null,
   "metadata": {},
   "outputs": [],
   "source": [
    "%%bash\n",
    "cd src_code\n",
    "\n",
    "git merge my_own_branch\n",
    "git slog"
   ]
  },
  {
   "cell_type": "markdown",
   "metadata": {},
   "source": [
    "# <font color=\"red\">Using Git: Accessing Remote Repository</font>\n",
    "\n",
    "- We want to introduce the concept of remote repository: a pointer to another copy of the repository that lives on a different location. \n",
    "- A remote repository can be a different path on the filesystem or a server on the internet.\n",
    "- We will use a repository hosted on the [github.com](github.com) service.\n",
    "   - GitHub is a code hosting platform for version control and collaboration. \n",
    "   - It lets you and others work together on projects from anywhere.\n",
    "   - To use GitHub, you need to have knowledge on version control and Git.\n",
    "\n",
    "![fig_github](https://drstearns.github.io/tutorials/git/img/github.png)\n",
    "Image Source: Dave Stearns (drstearns.github.io)"
   ]
  },
  {
   "cell_type": "code",
   "execution_count": null,
   "metadata": {},
   "outputs": [],
   "source": [
    "%%bash\n",
    "cd src_code\n",
    "\n",
    "ls\n",
    "echo \"Check if the local repository is associated with any remote repositories.\"\n",
    "git remote -v"
   ]
  },
  {
   "cell_type": "markdown",
   "metadata": {},
   "source": [
    "- Since the `git remote -v` command did not produce any output then is no remote repository is configured.\n",
    "- We now need to go to GitHub and create a new repository called `src_code`.\n",
    "- **Do not check** the box that says _Initialize this repository with a README_, since we already have an existing repository here. That option is useful when you’re starting first at Github and don’t have a repo made already on a local computer."
   ]
  },
  {
   "cell_type": "code",
   "execution_count": null,
   "metadata": {},
   "outputs": [],
   "source": [
    "%%bash\n",
    "cd src_code\n",
    "\n",
    "git remote add origin https://github.com/your_USERID/src_code.git\n",
    "git branch -M master\n",
    "git push -u origin master"
   ]
  },
  {
   "cell_type": "code",
   "execution_count": null,
   "metadata": {},
   "outputs": [],
   "source": [
    "%%bash\n",
    "cd src_code\n",
    "\n",
    "git remote -v"
   ]
  },
  {
   "cell_type": "markdown",
   "metadata": {},
   "source": [
    "**Cloning the remote repository**"
   ]
  },
  {
   "cell_type": "code",
   "execution_count": null,
   "metadata": {},
   "outputs": [],
   "source": [
    "%%bash\n",
    "\n",
    "git clone https://github.com/your_USERID/src_code.git new_src_code"
   ]
  },
  {
   "cell_type": "code",
   "execution_count": null,
   "metadata": {},
   "outputs": [],
   "source": [
    "%%bash\n",
    "cd new_src_code\n",
    "\n",
    "pwd\n",
    "git remote -v"
   ]
  },
  {
   "cell_type": "markdown",
   "metadata": {},
   "source": [
    "Create a new file, add and commit it to the local repository."
   ]
  },
  {
   "cell_type": "code",
   "execution_count": null,
   "metadata": {},
   "outputs": [],
   "source": [
    "%%bash\n",
    "cd new_src_code\n",
    "\n",
    "echo \"# My first repository\" >> README.md\n",
    "git add README.md\n",
    "git commit -m \"Created a README.md file\""
   ]
  },
  {
   "cell_type": "markdown",
   "metadata": {},
   "source": [
    "Push the new file to the remote repository:"
   ]
  },
  {
   "cell_type": "code",
   "execution_count": null,
   "metadata": {},
   "outputs": [],
   "source": [
    "%%bash\n",
    "cd new_src_code\n",
    "\n",
    "git push"
   ]
  },
  {
   "cell_type": "markdown",
   "metadata": {},
   "source": [
    "Let us update the original local repository:"
   ]
  },
  {
   "cell_type": "code",
   "execution_count": null,
   "metadata": {},
   "outputs": [],
   "source": [
    "%%bash\n",
    "cd src_code\n",
    "\n",
    "git pull"
   ]
  },
  {
   "cell_type": "markdown",
   "metadata": {},
   "source": [
    "![stages](http://www.tsbakker.nl/images/gitstages.jpg)\n",
    "Image Source: [http://www.tsbakker.nl/git.html](http://www.tsbakker.nl/git.html)"
   ]
  },
  {
   "cell_type": "markdown",
   "metadata": {},
   "source": [
    "# <font color=\"red\">Using Git: Resolving Conflicts</font>\n",
    "\n",
    "- If two different branches modify the same file in the same location, git cannot decide which change should prevail. \n",
    "- Human intervention is needed to make the decision. \n",
    "- Git will help you by marking the location in the file that has a problem, but it’s up to you to resolve the conflict. "
   ]
  },
  {
   "cell_type": "code",
   "execution_count": null,
   "metadata": {},
   "outputs": [],
   "source": [
    "%%bash\n",
    "cd src_code\n",
    "\n",
    "git branch my_trouble_branch\n",
    "git checkout my_trouble_branch\n",
    "echo \"There will be a conflict here!\" >> README.md\n",
    "git commit -a -m \"Made changes on the my_trouble_branch branch\""
   ]
  },
  {
   "cell_type": "markdown",
   "metadata": {},
   "source": [
    "We now now go to the master brach and change the same file:"
   ]
  },
  {
   "cell_type": "code",
   "execution_count": null,
   "metadata": {},
   "outputs": [],
   "source": [
    "%%bash\n",
    "cd src_code\n",
    "\n",
    "git checkout master\n",
    "echo \"Changes on the master branch\" >> README.md\n",
    "git commit -a -m \"Modified the master branch\""
   ]
  },
  {
   "cell_type": "markdown",
   "metadata": {},
   "source": [
    "Let us try to merge the `my_trouble_branch` branch into the `master`:"
   ]
  },
  {
   "cell_type": "code",
   "execution_count": null,
   "metadata": {},
   "outputs": [],
   "source": [
    "%%bash\n",
    "cd src_code\n",
    "\n",
    "git merge my_trouble_branch"
   ]
  },
  {
   "cell_type": "markdown",
   "metadata": {},
   "source": [
    "We can see what git has included in the `README.md` file."
   ]
  },
  {
   "cell_type": "code",
   "execution_count": null,
   "metadata": {},
   "outputs": [],
   "source": [
    "%%bash\n",
    "cd src_code\n",
    "\n",
    "cat README.md"
   ]
  },
  {
   "cell_type": "markdown",
   "metadata": {},
   "source": [
    "We need to:\n",
    "- Use a text editor\n",
    "- Decide which changes to keep, and\n",
    "- Make a new commit that records our decision. "
   ]
  },
  {
   "cell_type": "code",
   "execution_count": null,
   "metadata": {},
   "outputs": [],
   "source": [
    "%%bash\n",
    "cd src_code\n",
    "\n",
    "rm -f README.md\n",
    "\n",
    "echo \"# My first repository\" >> README.md\n",
    "echo \"There will be a conflict here!\" >> README.md\n",
    "echo \"Changes on the master branch\" >> README.md\n",
    "\n",
    "git add README.md\n",
    "git commit -m \"Created a README.md file\"\n",
    "git slog"
   ]
  },
  {
   "cell_type": "markdown",
   "metadata": {},
   "source": [
    "# <font color=\"red\">Summary of Few Git Commands</font>\n",
    "\n",
    "| Command | Description |\n",
    "| --- | --- |\n",
    "| `git init` | Initialize a repository |\n",
    "| `git clone` | Clone a remote repository |\n",
    "| `git add` | Add a file that is in the working directory to the staging area. |\n",
    "| `git commit` | Add all files that are staged to the local repository. |\n",
    "| `git log` | Show the commit logs. |\n",
    "| `git push` | Add all committed files in the local repository to the remote repository. So in the remote repository, all files and changes will be visible to anyone with access to the remote repository. |\n",
    "| `git fetch` | Get files from the remote repository to the local repository but not into the working directory. |\n",
    "| `git merge` | Get the files from the local repository into the working directory. |\n",
    "| `git pull` | Get files from the remote repository directly into the working directory. It is equivalent to a `git fetch` and a `git merge`. |"
   ]
  },
  {
   "cell_type": "markdown",
   "metadata": {},
   "source": [
    "## <font color=\"blue\">First Activity: Simple Repository</font>\n",
    "\n",
    "Follow the steps described in <a href=\"https://guides.github.com/activities/hello-world/\">https://guides.github.com/activities/hello-world/</a> to create a **Hello World** project."
   ]
  },
  {
   "cell_type": "markdown",
   "metadata": {},
   "source": [
    "## <font color=\"blue\">Second Activity: Collaboration on github</font>"
   ]
  },
  {
   "cell_type": "markdown",
   "metadata": {},
   "source": [
    "Form teams of two (Coder \"A\" and Coder \"B\").  Here you will learn how to create a repository on github, \"clone\" it to your local machine, and share it with a collaborator."
   ]
  },
  {
   "cell_type": "markdown",
   "metadata": {},
   "source": [
    "### Part 1 (Coder A):\n",
    "- Create a new repository on github called \"my_git_repos\".  \n",
    "- Clone this to your laptop: `git clone <repository>`  "
   ]
  },
  {
   "cell_type": "markdown",
   "metadata": {},
   "source": [
    "### Part 2 (Coder A):\n",
    "- Add Coder B as a collaborator to the repository on github."
   ]
  },
  {
   "cell_type": "markdown",
   "metadata": {},
   "source": [
    "### Part 3 (Coder B):\n",
    "- Clone the repository to your local machine.  \n",
    "- Create a new file in your repository called \"hello.py\" (print(\"Hello, world!\")).  \n",
    "- Add the file to the repository, commit the change, and \"push\" (`git push`) the change back to github."
   ]
  },
  {
   "cell_type": "markdown",
   "metadata": {},
   "source": [
    "### Part 4 (Coder A):\n",
    "- `Pull` the (updated) repository and identify the new file present.  \n",
    "- Make a change to the file \"hello.py\".  Add, commit, and push to the server.  "
   ]
  },
  {
   "cell_type": "markdown",
   "metadata": {},
   "source": [
    "### Part 5 (Coder B):\n",
    "- (After Part 4 is completed) Make a change to the file \"hello.py\".  \n",
    "- Add, commit, and try to push to server.  What happened?"
   ]
  },
  {
   "cell_type": "code",
   "execution_count": null,
   "metadata": {},
   "outputs": [],
   "source": []
  }
 ],
 "metadata": {
  "kernelspec": {
   "display_name": "Python 3",
   "language": "python",
   "name": "python3"
  },
  "language_info": {
   "codemirror_mode": {
    "name": "ipython",
    "version": 3
   },
   "file_extension": ".py",
   "mimetype": "text/x-python",
   "name": "python",
   "nbconvert_exporter": "python",
   "pygments_lexer": "ipython3",
   "version": "3.7.3"
  }
 },
 "nbformat": 4,
 "nbformat_minor": 2
}
