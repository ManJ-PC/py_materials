{
 "cells": [
  {
   "cell_type": "markdown",
   "metadata": {},
   "source": [
    "![NASA](http://www.nasa.gov/sites/all/themes/custom/nasatwo/images/nasa-logo.svg)\n",
    "\n",
    "<center>\n",
    "<h1><font size=\"+3\">GSFC Python Bootcamp</font></h1>\n",
    "</center>\n",
    "\n",
    "---\n",
    "\n",
    "<CENTER>\n",
    "<H1 style=\"color:red\">\n",
    "Python Decorators\n",
    "</H1>    \n",
    "</CENTER>"
   ]
  },
  {
   "cell_type": "code",
   "execution_count": null,
   "metadata": {},
   "outputs": [],
   "source": [
    "from __future__ import print_function"
   ]
  },
  {
   "cell_type": "markdown",
   "metadata": {},
   "source": [
    "## Reference Documents"
   ]
  },
  {
   "cell_type": "markdown",
   "metadata": {},
   "source": [
    "+ <A HREF=\"https://dbader.org/blog/python-decorators\"> Python Decorators: A Step-By-Step Introduction</A>\n",
    "* <A HREF=\"https://www.programiz.com/python-programming/decorator\"> Python Decorators </A>\n"
   ]
  },
  {
   "cell_type": "markdown",
   "metadata": {},
   "source": [
    "## <font color=\"red\">What are Decorators?</font>\n",
    "\n",
    "+ Decorators are a way to extend the behavior of pieces of software without actually having to modify them.\n",
    "- In Python, they are functions that can change the behavior of other functions without changing their code. \n",
    "- They provide a transparent way of adding functionalities to already defined functions.\n",
    "\n",
    "For example, imagine we want to measure the time it takes to execute a couple functions in our program. We could code a timer around their behavior by modifying them all, or we can create a decorator, centralizing the logic of timing a function within one place and applying it to several functions."
   ]
  },
  {
   "cell_type": "markdown",
   "metadata": {},
   "source": [
    "## <font color=\"red\">Useful Background?</font>\n",
    "\n",
    "* Python is an object oriented language.\n",
    "* Typically, everything in Python is an `object`.\n",
    "* Names that we define are simply identifiers bound to these objects.\n",
    "* Functions are objects with attributes.\n",
    "* Various different names can be bound to the same function object."
   ]
  },
  {
   "cell_type": "markdown",
   "metadata": {},
   "source": [
    "**Example**"
   ]
  },
  {
   "cell_type": "code",
   "execution_count": null,
   "metadata": {},
   "outputs": [],
   "source": [
    "def add_objects(a,b):\n",
    "    \"\"\"\n",
    "       Add two objects as long as the operation is allowed.\n",
    "    \"\"\"\n",
    "    return a+b   "
   ]
  },
  {
   "cell_type": "code",
   "execution_count": null,
   "metadata": {},
   "outputs": [],
   "source": [
    "print(add_objects(1,3))\n",
    "print(add_objects(1.7,3.14))\n",
    "print(add_objects(\"Hello \",\"World!\"))"
   ]
  },
  {
   "cell_type": "markdown",
   "metadata": {},
   "source": [
    "+ **Functions are objects**:they can be assigned to variables and passed to and returned from other functions.\n",
    "+ We can assign `add_objects` to `addition` and still refer to the same function oobject."
   ]
  },
  {
   "cell_type": "code",
   "execution_count": null,
   "metadata": {},
   "outputs": [],
   "source": [
    "addition = add_objects\n",
    "\n",
    "print(addition(1,3))\n",
    "print(addition(1.7,3.14))\n",
    "print(addition(\"Hello \",\"World!\"))"
   ]
  },
  {
   "cell_type": "markdown",
   "metadata": {},
   "source": [
    "**It is also possible to pass functions as arguments to another functions.**"
   ]
  },
  {
   "cell_type": "code",
   "execution_count": null,
   "metadata": {},
   "outputs": [],
   "source": [
    "def add_one(x):\n",
    "    return x + 1\n",
    "\n",
    "def minus_one(x):\n",
    "    return x - 1\n",
    "\n",
    "def operate(func, x):\n",
    "    result = func(x)\n",
    "    return result"
   ]
  },
  {
   "cell_type": "code",
   "execution_count": null,
   "metadata": {},
   "outputs": [],
   "source": [
    "operate(add_one, -3.6)"
   ]
  },
  {
   "cell_type": "code",
   "execution_count": null,
   "metadata": {},
   "outputs": [],
   "source": [
    "operate(minus_one, 10.8)"
   ]
  },
  {
   "cell_type": "markdown",
   "metadata": {},
   "source": [
    "- We can **define functions inside other functions**.\n",
    "- **A function can return another function.**"
   ]
  },
  {
   "cell_type": "code",
   "execution_count": null,
   "metadata": {},
   "outputs": [],
   "source": [
    "def called_func(a, b):\n",
    "    def returned_func(a,b):\n",
    "        return a + b\n",
    "    return returned_func(a,b)\n",
    "\n",
    "new_func = called_func"
   ]
  },
  {
   "cell_type": "markdown",
   "metadata": {},
   "source": [
    "`returned_func` is a nested function which is defined and returned, each time we call `called_func`."
   ]
  },
  {
   "cell_type": "code",
   "execution_count": null,
   "metadata": {},
   "outputs": [],
   "source": [
    "new_func(1,2)"
   ]
  },
  {
   "cell_type": "code",
   "execution_count": null,
   "metadata": {},
   "outputs": [],
   "source": [
    "new_func(\"Hello\", \" World!\")"
   ]
  },
  {
   "cell_type": "markdown",
   "metadata": {},
   "source": [
    "## <font color=\"red\">Simple Decorators</font>\n",
    "\n",
    "+ A decorator takes in a function, adds some functionality and returns it."
   ]
  },
  {
   "cell_type": "code",
   "execution_count": null,
   "metadata": {},
   "outputs": [],
   "source": [
    "def simple_decorator(func):\n",
    "    def wrapper():\n",
    "        print(\"About to decorate\")\n",
    "        func()\n",
    "        print(\"Done decorating\")\n",
    "    return wrapper\n",
    "\n",
    "def simple_function():\n",
    "    print(\"\\t I am a simple function\")"
   ]
  },
  {
   "cell_type": "code",
   "execution_count": null,
   "metadata": {},
   "outputs": [],
   "source": [
    "simple_function()"
   ]
  },
  {
   "cell_type": "code",
   "execution_count": null,
   "metadata": {},
   "outputs": [],
   "source": [
    "decoration = simple_decorator(simple_function)\n",
    "\n",
    "decoration()"
   ]
  },
  {
   "cell_type": "markdown",
   "metadata": {},
   "source": [
    "* `simple_decorator` is a decorator.\n",
    "* The function `simple_function` got decorated and the returned function was given the name `decoration`.\n",
    "* The decorator acts as a wrapper and the nature of the object (`simple_function`) that got decorated is not altered.\n",
    "\n",
    "Generally, we decorate a function and reassign it as:\n",
    "\n",
    "```python\n",
    "simple_function = simple_decorator(simple_function)\n",
    "```\n",
    "\n",
    "We can use the `@` symbol along with the name of the decorator function and place it above the definition of the function to be decorated. "
   ]
  },
  {
   "cell_type": "code",
   "execution_count": null,
   "metadata": {},
   "outputs": [],
   "source": [
    "@simple_decorator\n",
    "def simple_function():\n",
    "    print(\"\\t I am a simple function\")"
   ]
  },
  {
   "cell_type": "markdown",
   "metadata": {},
   "source": [
    "The above is equivalent to:"
   ]
  },
  {
   "cell_type": "code",
   "execution_count": null,
   "metadata": {},
   "outputs": [],
   "source": [
    "def simple_function():\n",
    "    print(\"\\t I am a simple function\")\n",
    "    \n",
    "simple_function = simple_decorator(simple_function)"
   ]
  },
  {
   "cell_type": "markdown",
   "metadata": {},
   "source": [
    "## <font color=\"red\">Decorating Functions with Parameters</font>\n",
    "\n",
    "- The above decorator was simple and it only worked with functions that did not have any parameters. \n",
    "- What if we had functions that took in parameters?"
   ]
  },
  {
   "cell_type": "markdown",
   "metadata": {},
   "source": [
    "Consider the function:"
   ]
  },
  {
   "cell_type": "code",
   "execution_count": null,
   "metadata": {},
   "outputs": [],
   "source": [
    "def divide_numbers(a, b):\n",
    "    \"\"\"\n",
    "       Divide two numbers.\n",
    "    \"\"\"\n",
    "    return a/b"
   ]
  },
  {
   "cell_type": "markdown",
   "metadata": {},
   "source": [
    "The function will give error if `b` is equal to zero."
   ]
  },
  {
   "cell_type": "code",
   "execution_count": null,
   "metadata": {},
   "outputs": [],
   "source": [
    "divide_numbers(1.0, 5.0)"
   ]
  },
  {
   "cell_type": "code",
   "execution_count": null,
   "metadata": {},
   "outputs": [],
   "source": [
    "divide_numbers(1.0, 0.0)"
   ]
  },
  {
   "cell_type": "markdown",
   "metadata": {},
   "source": [
    "We want to write a decorator to check the value of `b` before performing the division."
   ]
  },
  {
   "cell_type": "code",
   "execution_count": null,
   "metadata": {},
   "outputs": [],
   "source": [
    "def divide_decorator(func):\n",
    "   def wrapper_func(a,b):\n",
    "      print(\"I am going to divide {} and {}\".format(a, b))\n",
    "      if b == 0:\n",
    "         print(\"\\t Whoops! Cannot perform the division because the second argument is 0.\")\n",
    "         return\n",
    "\n",
    "      return func(a,b)\n",
    "   return inner_func\n",
    "\n",
    "@divide_decorator\n",
    "def divide_numbers(a,b):\n",
    "    return a/b"
   ]
  },
  {
   "cell_type": "markdown",
   "metadata": {},
   "source": [
    "This new implementation will return `None` if the error condition arises."
   ]
  },
  {
   "cell_type": "code",
   "execution_count": null,
   "metadata": {},
   "outputs": [],
   "source": [
    "divide_numbers(1.0, 5.0)"
   ]
  },
  {
   "cell_type": "code",
   "execution_count": null,
   "metadata": {},
   "outputs": [],
   "source": [
    "divide_numbers(1.0, 0.0)"
   ]
  },
  {
   "cell_type": "markdown",
   "metadata": {},
   "source": [
    "- In the above example, the parmeters of the nested  `wrapper_func` function are the same as the arguments  function it decorates.\n",
    "- We can make general decorators that work with any number of arguments.\n",
    "\n",
    "```python\n",
    "def general_decorator(func):\n",
    "    def wrapper_func(*args, **kwargs):\n",
    "        print(\"I can decorate any function\")\n",
    "        return func(*args, **kwargs)\n",
    "    return wrapper_func\n",
    "```\n",
    "\n",
    "where `args` will be the tuple of positional arguments and `kwargs` will be the dictionary of keyword arguments."
   ]
  },
  {
   "cell_type": "code",
   "execution_count": null,
   "metadata": {},
   "outputs": [],
   "source": []
  },
  {
   "cell_type": "code",
   "execution_count": null,
   "metadata": {},
   "outputs": [],
   "source": []
  },
  {
   "cell_type": "code",
   "execution_count": null,
   "metadata": {},
   "outputs": [],
   "source": []
  },
  {
   "cell_type": "markdown",
   "metadata": {},
   "source": [
    "## <font color=\"red\">Chaining Decorators</font>\n",
    "* Multiple decorators can be chained.\n",
    "* A function can be decorated multiple times with different (or same) decorators. \n",
    "* We simply place the decorators above the desired function."
   ]
  },
  {
   "cell_type": "code",
   "execution_count": null,
   "metadata": {},
   "outputs": [],
   "source": [
    "def print_stars(func):\n",
    "    def wrapper(*args, **kwargs):\n",
    "        print(\"*\" * 30)\n",
    "        func(*args, **kwargs)\n",
    "        print(\"*\" * 30)\n",
    "    return inner\n",
    "\n",
    "def print_percents(func):\n",
    "    def wrapper(*args, **kwargs):\n",
    "        print(\"%\" * 30)\n",
    "        func(*args, **kwargs)\n",
    "        print(\"%\" * 30)\n",
    "    return inner"
   ]
  },
  {
   "cell_type": "code",
   "execution_count": null,
   "metadata": {},
   "outputs": [],
   "source": [
    "@print_stars\n",
    "@print_percents\n",
    "def add_objects(a,b):\n",
    "    \"\"\"\n",
    "       Add two objects as long as the operation is allowed.\n",
    "    \"\"\"\n",
    "    print(\"\\t Add {} and {}\".format(a,b))\n",
    "    return a+b  "
   ]
  },
  {
   "cell_type": "code",
   "execution_count": null,
   "metadata": {},
   "outputs": [],
   "source": [
    "add_objects(2.0, 6)"
   ]
  },
  {
   "cell_type": "code",
   "execution_count": null,
   "metadata": {},
   "outputs": [],
   "source": [
    "add_objects(\"Hello\", \" Class!\")"
   ]
  },
  {
   "cell_type": "markdown",
   "metadata": {},
   "source": [
    "## <font color=\"red\"> Breakout </font>\n",
    "\n",
    "Consider the function:"
   ]
  },
  {
   "cell_type": "code",
   "execution_count": null,
   "metadata": {},
   "outputs": [],
   "source": [
    "def sum_numbers(n):\n",
    "    \"\"\"\n",
    "       This function computes:\n",
    "           1 + 2 + 3 + ... + n\n",
    "    \"\"\"\n",
    "    sum = 0\n",
    "    for i in range(n):\n",
    "        sum += i + 1\n",
    "    return sum"
   ]
  },
  {
   "cell_type": "markdown",
   "metadata": {},
   "source": [
    "We can measure the time it takes to run the function using:"
   ]
  },
  {
   "cell_type": "code",
   "execution_count": null,
   "metadata": {},
   "outputs": [],
   "source": [
    "%timeit sum_numbers(10000)"
   ]
  },
  {
   "cell_type": "markdown",
   "metadata": {},
   "source": [
    "The code below attempts to mimic `timeit`."
   ]
  },
  {
   "cell_type": "code",
   "execution_count": null,
   "metadata": {},
   "outputs": [],
   "source": [
    "import datetime as dt\n",
    "\n",
    "\n",
    "def get_statistics(my_list):\n",
    "    \"\"\"\n",
    "      Function to determine the min, max, average and standard deviation.\n",
    "    \"\"\"\n",
    "    n = len(my_list)\n",
    "    av = sum(my_list)/n\n",
    "\n",
    "    ss = sum((x-av)**2 for x in my_list)\n",
    "\n",
    "    if n < 2:\n",
    "       return min(my_list), max(my_list), av\n",
    "    else:\n",
    "       return min(my_list), max(my_list), av, (ss/(n-1))**0.5\n",
    "\n",
    "number_repeats = 100\n",
    "\n",
    "recorded_times = []\n",
    "\n",
    "for i in range(number_repeats):\n",
    "    # Set the beginning time\n",
    "    beginning_time = dt.datetime.now()\n",
    "\n",
    "    result = sum_numbers(10000)\n",
    "\n",
    "    # Set the ending time\n",
    "    ending_time = dt.datetime.now()\n",
    "\n",
    "    # Determine the time difference in seconds\n",
    "    delta       = ending_time-beginning_time\n",
    "    elapsedTime = ((1000000 * delta.seconds + delta.microseconds) / 1000000.0)\n",
    "\n",
    "    recorded_times.append(elapsedTime)\n",
    "\n",
    "if number_repeats < 2:\n",
    "   min_time, max_time, avg_time = get_statistics(recorded_times)\n",
    "   print(\"{0:<}: \\n \\\n",
    "         --<>  Repeats: {1:11d} \\n \\\n",
    "         --<> Min Time: {2:11.4f}s \\n \\\n",
    "         --<> Max Time: {3:11.4f}s \\n \\\n",
    "         --<> Avg Time: {4:11.4f}s\".format(sum_numbers.__name__, number_repeats, \n",
    "                                           min_time, max_time, avg_time))\n",
    "else:\n",
    "   min_time, max_time, avg_time, std_time = get_statistics(recorded_times)\n",
    "   print(\"{0:<}: \\n \\\n",
    "         --<>  Repeats: {1:11d} \\n \\\n",
    "         --<> Min Time: {2:11.4f}s \\n \\\n",
    "         --<> Max Time: {3:11.4f}s \\n \\\n",
    "         --<> Avg Time: {4:11.4f}s  Standard Dev: {5:9.5f}\".format(sum_numbers.__name__, \n",
    "                                                                   number_repeats,  min_time, max_time, \n",
    "                                                                   avg_time, std_time))"
   ]
  },
  {
   "cell_type": "markdown",
   "metadata": {},
   "source": [
    "**Question:** How could we include the above code in a decorators function that has as argument `number_repeats`."
   ]
  },
  {
   "cell_type": "code",
   "execution_count": null,
   "metadata": {},
   "outputs": [],
   "source": []
  }
 ],
 "metadata": {
  "kernelspec": {
   "display_name": "Python 3",
   "language": "python",
   "name": "python3"
  },
  "language_info": {
   "codemirror_mode": {
    "name": "ipython",
    "version": 3
   },
   "file_extension": ".py",
   "mimetype": "text/x-python",
   "name": "python",
   "nbconvert_exporter": "python",
   "pygments_lexer": "ipython3",
   "version": "3.7.3"
  }
 },
 "nbformat": 4,
 "nbformat_minor": 1
}
