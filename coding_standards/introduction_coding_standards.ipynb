{
 "cells": [
  {
   "cell_type": "markdown",
   "metadata": {
    "colab_type": "text",
    "id": "NVB_E54xr2Xf"
   },
   "source": [
    "<font color=\"white\">.</font> | <font color=\"white\">.</font> | <font color=\"white\">.</font>\n",
    "-- | -- | --\n",
    "![NASA](http://www.nasa.gov/sites/all/themes/custom/nasatwo/images/nasa-logo.svg) | <h1><font size=\"+3\">ASTG Python Courses</font></h1> | ![NASA](https://www.nccs.nasa.gov/sites/default/files/NCCS_Logo_0.png)\n",
    " \n",
    "---\n",
    "\n",
    "<CENTER>\n",
    "<H1 style=\"color:red\">\n",
    "Python Coding Standards\n",
    "</H1>\n",
    "</CENTER>"
   ]
  },
  {
   "cell_type": "markdown",
   "metadata": {
    "colab_type": "text",
    "id": "IZDwBonLr2Xh"
   },
   "source": [
    "# <font color=\"red\"> References </font>\n",
    "\n",
    "- <a href=\"https://docs.python-guide.org/\">The Hitchhiker’s Guide to Python!</a>\n",
    "- <a href=\"https://www.python.org/dev/peps/pep-0008/\">PEP 8 -- Style Guide for Python Code</a>\n",
    "- <a href=\"https://www.memonic.com/user/pneff/folder/python/id/1bufp\">Python Idioms and Efficiency</a>\n",
    "- <a href=\"http://eikke.com/how-not-to-write-python-code/\">How not to write Python code</a>\n",
    "- <a href=\"https://github.com/trein/dev-best-practices/wiki/Python-Coding-Standards/\">Python Coding Standards</a>"
   ]
  },
  {
   "cell_type": "code",
   "execution_count": null,
   "metadata": {},
   "outputs": [],
   "source": [
    "import this"
   ]
  },
  {
   "cell_type": "markdown",
   "metadata": {},
   "source": [
    "# <font color=\"red\"> Why Follow Standards? </font>\n",
    "\n",
    "- Python as a scripting language is quite simple and compact.\n",
    "- We want to provide guidelines that could help define a consistent way to write simple and readable Python codes.\n",
    "\n",
    "\n",
    "\n",
    "**`Programs must be written for people to read, and only incidentally for machines to execute.`**\n",
    "—Abelson & Sussman, _Structure and Interpretation of Computer Programs_\n",
    "\n",
    "**`Code is read much more often than it is written.`**\n",
    "-Guido van Rossum\n",
    "\n",
    "\n",
    "We want here to provide pointers to:\n",
    "\n",
    "- Write valid code that represents a more Pythonic way of programming.\n",
    "- Make the code more readable, maintainable, reusable, extendable and sharable.\n",
    "\n",
    "\n",
    "**Our Plan:**\n",
    "\n",
    "- Follow the Python Enhancement Proposal 8 (<a href=\"https://www.python.org/dev/peps/pep-0008/\">PEP8</a>) document to provide guidelines and best practices on how to write Python code. \n",
    "- PEP8 addresses topics such as name conventions, code layout, indentation, comments, etc.."
   ]
  },
  {
   "cell_type": "markdown",
   "metadata": {},
   "source": [
    "# <font color=\"red\">General Principles</font>\n",
    "- Write a code that is easy to read.\n",
    "     - When reading through the code, it should be relatively easy for you to discern the role of specific functions, methods, or classes.\n",
    "     - Good, descriptive names make code easier to understand. \n",
    "- Avoid using magic numbers.\n",
    "- One of the most common reasons that code eventually becomes painful to work with is because it isn’t written to be easily extendable and changeable.\n",
    "- Write proper documentation. \n",
    "     - Make sure that you have a document that explains why the project exists and how to use it. \n",
    "- Make sure that the code uses all the appropriate language features. \n",
    "     - The code shouldn’t re-implement functions that already exist in the language or libraries that the project uses.\n",
    "- Write your code so that it can easily be reused or updated to support new software in the future.\n",
    "\n",
    "![FIG_AXES](https://www.codeproject.com/KB/cs/1156196/Basic-Code-Reviewer-Code-Review-Checklist.png)\n",
    "Image Source: Ebenezar John Paul"
   ]
  },
  {
   "cell_type": "markdown",
   "metadata": {},
   "source": [
    "# <font color=\"red\"> Things to Have in Mind</font>\n",
    "- Get familiar with Python existing <a href=\"https://docs.python.org/3/library/\">modules/packages</a>, do not reinvent the wheel, use Python basic built-in functions. \n",
    "- Do not try to emulate coding practices from other languages.\n",
    "    * Python is a mature programming language which provides great flexibility, but also has some pretty specific patterns which you might not know in other languages you used before.\n",
    "- Do not pollute the global namespace.\n",
    "    * Explicit imports make code much more readable, and make it much easier to figure out which tools you are using.\n",
    "- Use Pythonesque coding pattern.\n",
    "- Document your code.\n",
    "    * Include `docstrings` throughout your code rigorously. Do this while writing your functions/classes, not afterwards.\n",
    "- Write tests\n",
    "- Search the web!"
   ]
  },
  {
   "cell_type": "markdown",
   "metadata": {
    "colab_type": "text",
    "id": "5RRAeL5Pr2Xi"
   },
   "source": [
    "# <font color=\"red\">Code Lay-Out</font>"
   ]
  },
  {
   "cell_type": "markdown",
   "metadata": {
    "colab_type": "text",
    "id": "zWAamwkSr2Xl"
   },
   "source": [
    "## Indentation\n",
    "\n",
    "- Indentation is required for classes, functions (or methods), loops, conditions, and lists. \n",
    "- Use **4 spaces** per indentation level.\n",
    "\n",
    "![FIG_IDENT](https://image.slidesharecdn.com/pairanti-patterns-160819013934/95/pair-programming-anti-patterns-1-638.jpg?cb=1471570895)\n",
    "\n",
    "\n",
    "**YES**\n",
    "```python\n",
    "def long_function_name(\n",
    "        var_one, var_two, var_three,\n",
    "        var_four):\n",
    "    print(var_one)\n",
    "```\n",
    "\n",
    "**NO**\n",
    "```python\n",
    "def long_function_name(\n",
    "    var_one, var_two, var_three,\n",
    "    var_four):\n",
    "    print(var_one)\n",
    "    \n",
    "```\n",
    "\n",
    "The closing brace/bracket/parenthesis on multiline constructs may either line up under the first non-whitespace character of the previous line, or under the first character of the construct.\n",
    "\n",
    "```python\n",
    "my_list = [\n",
    "    1, 2, 3,\n",
    "    4, 5, 6\n",
    "    ]\n",
    "\n",
    "result = call_some_function_that_takes_arguments(\n",
    "    'a', 'b', 'c',\n",
    "    'd', 'e', 'f'\n",
    ")\n",
    "```"
   ]
  },
  {
   "cell_type": "markdown",
   "metadata": {
    "colab_type": "text",
    "id": "CLNZphoBr2X1"
   },
   "source": [
    "## Tabs or Spaces\n",
    "- Spaces are the preferred indentation method.\n",
    "- Tabs should be used solely to remain consistent with code that is already indented with tabs.\n",
    "- Do not combine both spaces and tabs for indentation."
   ]
  },
  {
   "cell_type": "markdown",
   "metadata": {},
   "source": [
    "## Whitespace in Expressions and Statements\n",
    "\n",
    "Do not use spaces to vertically align tokens on consecutive lines, since it becomes a maintenance burden (applies to `:`, `#`, `=`, etc.)\n",
    "\n",
    "**YES**\n",
    "```python\n",
    "  foo = 1000  # comment\n",
    "  long_name = 2  # comment that should not be aligned\n",
    "\n",
    "  dictionary = {\n",
    "      'foo': 1,\n",
    "      'long_name': 2,\n",
    "  }\n",
    "```\n",
    "\n",
    "**NO**\n",
    "```python\n",
    "  foo       = 1000  # comment\n",
    "  long_name = 2     # comment that should not be aligned\n",
    "\n",
    "  dictionary = {\n",
    "      'foo'      : 1,\n",
    "      'long_name': 2,\n",
    "  }\n",
    "```\n",
    "\n",
    "Surround binary operators with a single space on either side for assignment (`=`), comparisons (`==`, `<`, `>`, `!=`, `<>`, `<=`, `>=`, `in`, `not in`, `is`, `is not`), and Booleans (`and`, `or`, `not`).\n",
    "\n",
    "**YES**\n",
    "```python\n",
    "i = i + 1\n",
    "submitted += 1\n",
    "x = x * 2 - 1\n",
    "hypot2 = x * x + y * y\n",
    "c = (a + b) * (a - b)\n",
    "```\n",
    "\n",
    "**NO**\n",
    "```python\n",
    "i=i+1\n",
    "submitted +=1\n",
    "x = x*2 - 1\n",
    "hypot2 = x*x + y*y\n",
    "c = (a+b) * (a-b)\n",
    "```\n",
    "\n",
    "Don't use spaces around the `=` sign when used to indicate a keyword argument or a default parameter value.\n",
    "\n",
    "**YES**\n",
    "```python\n",
    "def complex(real, imag=0.0):\n",
    "    return magic(r=real, i=imag)\n",
    "```\n",
    "\n",
    "**NO**\n",
    "```python\n",
    "def complex(real, imag = 0.0):\n",
    "    return magic(r = real, i = imag)\n",
    "```\n",
    "\n",
    "No whitespace inside parentheses, brackets or braces.\n",
    "\n",
    "**YES**\n",
    "```python\n",
    "spam(ham[1], {eggs: 2}, [])\n",
    "```\n",
    "\n",
    "**NO**\n",
    "```python\n",
    "spam( ham[ 1 ], { eggs: 2 }, [ ] )\n",
    "```\n",
    "\n",
    "No whitespace before a comma, semicolon, or colon. Do use whitespace after a comma, semicolon, or colon except at the end of the line.\n",
    "\n",
    "**YES**\n",
    "```python\n",
    "if x == 4:\n",
    "    print x, y\n",
    "    x, y = y, x\n",
    "```\n",
    "\n",
    "**NO**\n",
    "```python\n",
    "if x == 4 :\n",
    "    print x , y\n",
    "    x , y = y , x\n",
    "```\n"
   ]
  },
  {
   "cell_type": "markdown",
   "metadata": {
    "colab_type": "text",
    "id": "c7iGrWU7r2X7"
   },
   "source": [
    "## Maximum Line Length\n",
    "\n",
    "- Do not use backslash line continuation.\n",
    "- Limit all lines to a maximum of 79 characters.\n",
    "    - Exceptions:\n",
    "         - Long import statements.\n",
    "         - URLs in comments.\n",
    "- For docstrings or comments, the line length should be limited to 72 characters.\n",
    "- To split up a line, continuation characters (`\\`) may be used, though implied continuation inside parentheses or brackets is preferred.\n",
    "\n",
    "```python\n",
    "with open('/path/to/some/file/you/want/to/read') as file_1, \\\n",
    "     open('/path/to/some/file/being/written', 'w') as file_2:\n",
    "   file_2.write(file_1.read())\n",
    "    \n",
    "print ('This long statement is over 79 columns, so should be continued on the '\n",
    "       'following line ')\n",
    "\n",
    "# Yes:\n",
    "    # See details at\n",
    "    # http://www.example.com/us/developer/documentation/api/content/v2.0/csv_file_name_extension_full_specification.html\n",
    "\n",
    "# No:\n",
    "    # See details at\n",
    "    # http://www.example.com/us/developer/documentation/api/content/\\\n",
    "    # v2.0/csv_file_name_extension_full_specification.html\n",
    "```\n",
    "\n"
   ]
  },
  {
   "cell_type": "markdown",
   "metadata": {
    "colab_type": "text",
    "id": "c7iGrWU7r2X7"
   },
   "source": [
    "## Parentheses\n",
    "\n",
    "- Use parentheses sparingly. \n",
    "- Do not use them in return statements or conditional statements unless using parentheses for implied line continuation. \n",
    "\n",
    "**YES**\n",
    "```python\n",
    "if foo:\n",
    "    bar()\n",
    "while x:\n",
    "    x = bar()\n",
    "if x and y:\n",
    "    bar()\n",
    "if not x:\n",
    "    bar()\n",
    "return foo\n",
    "for (x, y) in dict.items(): \n",
    "    ...\n",
    "```\n",
    "\n",
    "**NO**\n",
    "```python\n",
    "if (x):\n",
    "    bar()\n",
    "if not(x):\n",
    "    bar()\n",
    "return (foo)\n",
    "```"
   ]
  },
  {
   "cell_type": "markdown",
   "metadata": {
    "colab_type": "text",
    "id": "RrCiIc27r2X-"
   },
   "source": [
    "## Blank Lines\n",
    "\n",
    "- Surround top-level function and class definitions with two blank lines.\n",
    "- Method definitions inside a class are surrounded by a single blank line.\n",
    "- Use blank lines in functions, sparingly, to indicate logical sections.\n",
    "\n",
    "```python\n",
    "class Rocket():\n",
    "        \n",
    "    def __init__(self):\n",
    "        self.x = 0\n",
    "        self.y = 0\n",
    "```"
   ]
  },
  {
   "cell_type": "markdown",
   "metadata": {},
   "source": [
    "## One Statement per Line\n",
    "\n",
    "**YES**\n",
    "```python\n",
    "print('one')\n",
    "print('two')\n",
    "\n",
    "if x == 1:\n",
    "   print('one')\n",
    "\n",
    "cond1 = <complex comparison>\n",
    "cond2 = <other complex comparison>\n",
    "if cond1 and cond2:\n",
    "   # do something\n",
    "```\n",
    "\n",
    "**NO**\n",
    "```python\n",
    "print('one'); print('two')\n",
    "\n",
    "if x == 1: print('one')\n",
    "\n",
    "if <complex comparison> and <other complex comparison>:\n",
    "   # do something\n",
    "```"
   ]
  },
  {
   "cell_type": "markdown",
   "metadata": {
    "colab_type": "text",
    "id": "E_fIkZ1Ar2YA"
   },
   "source": [
    "## Imports\n",
    "\n",
    "- One import statement per line\n",
    "- Imports are always put at the top of the file, just after any module comments and docstrings, and before module globals and constants\n",
    "- Imports should be grouped in the following order:\n",
    "     1. Standard library imports.\n",
    "     2. Related third party imports.\n",
    "     3. Local application/library specific imports.\n",
    "\n",
    "```python\n",
    "\"\"\"\n",
    "This module will simulate the motion of a rocket.\n",
    "\"\"\"\n",
    "\n",
    "# --> Standard library imports\n",
    "import os\n",
    "import sys\n",
    "\n",
    "# --> Related third party imports\n",
    "import numpy as np\n",
    "\n",
    "# --> Local application/library specific imports\n",
    "import rocket_thrust as rt\n",
    "\n",
    "class Rocket():\n",
    "        \n",
    "    def __init__(self):\n",
    "        self.x = 0\n",
    "        self.y = 0\n",
    "```\n",
    "\n",
    "**NO**\n",
    "```python\n",
    "import os, sys\n",
    "```"
   ]
  },
  {
   "cell_type": "markdown",
   "metadata": {
    "colab_type": "text",
    "id": "DXZBKNHpr2YC"
   },
   "source": [
    "## Module Level Dunder Names\n",
    "\n",
    "Module level \"dunders\" (i.e. names with two leading and two trailing underscores) should be placed after the module docstring but before any import statements except `from __future__ imports`. \n",
    "\n",
    "```python\n",
    "\"\"\"\n",
    "This module will simulate the motion of a rocket.\n",
    "\"\"\"\n",
    "\n",
    "from __future__ import print_function\n",
    "\n",
    "__all__ = ['a', 'b', 'c']\n",
    "__version__ = '0.1'\n",
    "__author__ = 'Cardinal Biggles'\n",
    "\n",
    "import os\n",
    "import sys\n",
    "```"
   ]
  },
  {
   "cell_type": "markdown",
   "metadata": {
    "colab_type": "text",
    "id": "mq9cj8l_r2YM"
   },
   "source": [
    "# <font color=\"red\"> Comments </font>"
   ]
  },
  {
   "cell_type": "markdown",
   "metadata": {
    "colab_type": "text",
    "id": "lw6Bgk3Gr2YQ"
   },
   "source": [
    "## Comments\n",
    "\n",
    "- Comments that contradict the code are worse than no comments.\n",
    "- Use complete sentences.\n",
    "- Use two spaces after a sentence-ending period in multi- sentence comments, except after the final sentence.\n",
    "- Each line of a block comment starts with a # and a single space\n",
    "\n",
    "```python\n",
    "class Rocket():\n",
    "        \n",
    "    def __init__(self):\n",
    "        # Each rocket has an (x,y) position.  Initialze these values to 0.\n",
    "        self.x = 0.\n",
    "        self.y = 0.\n",
    "```"
   ]
  },
  {
   "cell_type": "markdown",
   "metadata": {
    "colab_type": "text",
    "id": "1RrEFSR6r2YT"
   },
   "source": [
    "## Inline Comments\n",
    "\n",
    "- An inline comment is a comment on the same line as a statement.\n",
    "- Inline comments should be separated by at least two spaces from the statement.\n",
    "- They should start with a `#` and a single space\n",
    "\n",
    "```python \n",
    "class Rocket():\n",
    "        \n",
    "    def __init__(self):\n",
    "        # Each rocket has an (x,y) position.  Initialze these values to 0.\n",
    "        self.x = 0.  # km east of launchpoint\n",
    "        self.y = 0.  # km north of launchpoint\n",
    "        self.z = 0.  # km above the surface\n",
    "```"
   ]
  },
  {
   "cell_type": "markdown",
   "metadata": {
    "colab_type": "text",
    "id": "-Lq-AOuWr2YU"
   },
   "source": [
    "## Documentation String\n",
    "\n",
    "- Write docstrings for all public modules, functions, classes, and methods.\n",
    "- Docstrings should have  comments that describe what the method does.\n",
    "- The triple quote that ends a multiline docstring should be on a line by itself.\n",
    "\n",
    "```python\n",
    "\"\"\"\n",
    "   This module will simulate the motion of a rocket. It will calculate the current \n",
    "   position based on realistic physics and adjusted for input u & v windspeeds.\n",
    "\n",
    "   The ending triple quote should be on a line by itself.\n",
    "\"\"\"\n",
    "```"
   ]
  },
  {
   "cell_type": "markdown",
   "metadata": {
    "colab_type": "text",
    "id": "K70dIaDWr2Ya"
   },
   "source": [
    "# <font color=\"red\">Naming Conventions </font>"
   ]
  },
  {
   "cell_type": "markdown",
   "metadata": {
    "colab_type": "text",
    "id": "W9CYsbiFr2Yc"
   },
   "source": [
    "## Descriptive: Naming Styles"
   ]
  },
  {
   "cell_type": "markdown",
   "metadata": {
    "colab_type": "text",
    "id": "KqNUPIlqr2Yd"
   },
   "source": [
    "- lowercase\n",
    "- lower\\_case\\_with\\_underscores (aka. snake\\_case)\n",
    "- UPPERCASE\n",
    "- UPPER\\_CASE\\_WITH\\_UNDERSCORES\n",
    "- CapitalizedWords (aka. CamelCase)\n",
    "- mixedCase \n",
    "- Capitalized\\_Words\\_With\\_Underscores"
   ]
  },
  {
   "cell_type": "markdown",
   "metadata": {
    "colab_type": "text",
    "id": "JvHhOVvXr2Ye"
   },
   "source": [
    "## Packages and Modules Names"
   ]
  },
  {
   "cell_type": "markdown",
   "metadata": {
    "colab_type": "text",
    "id": "z6s8Y6krr2Yf"
   },
   "source": [
    "- Modules should have short, all-lowercase names.\n",
    "- Underscores can be used in the module name if it improves readability. \n",
    "- Python packages should also have short, all-lowercase names."
   ]
  },
  {
   "cell_type": "markdown",
   "metadata": {
    "colab_type": "text",
    "id": "41tj2_qZr2Yh"
   },
   "source": [
    "## Class Names"
   ]
  },
  {
   "cell_type": "markdown",
   "metadata": {
    "colab_type": "text",
    "id": "Ak-FXHG7r2Yh"
   },
   "source": [
    "- Class names should normally use the CapWords convention."
   ]
  },
  {
   "cell_type": "markdown",
   "metadata": {
    "colab_type": "text",
    "id": "UmMVvO5gr2Yj"
   },
   "source": [
    "## Function and Variable Names"
   ]
  },
  {
   "cell_type": "markdown",
   "metadata": {
    "colab_type": "text",
    "id": "pxNQx6gfr2Yk"
   },
   "source": [
    "- Always use  **self** for the first argument to instance methods.\n",
    "- Always use **cls** for the first argument to class methods.\n",
    "- If a function argument's name clashes with a reserved keyword, it is generally better to append a single trailing underscore rather than use an abbreviation or spelling corruption.\n",
    "\n",
    "<B>class_</B> is better than **cls**. "
   ]
  },
  {
   "cell_type": "markdown",
   "metadata": {},
   "source": [
    "```python\n",
    "class MyClass():\n",
    "     class_attribute = \"String attribute for class\"\n",
    "     def __init__(self):\n",
    "         self.instance_attribute = \"String attribute for instance\"\n",
    "     @classmethod\n",
    "     def get_class_attribute(cls):\n",
    "         return cls.class_attribute\n",
    "```"
   ]
  },
  {
   "cell_type": "markdown",
   "metadata": {
    "colab_type": "text",
    "id": "8fNqKAJZr2Yl"
   },
   "source": [
    "## Constants\n",
    "\n",
    "- Constants are usually defined on a module level and written in all capital letters with underscores separating words.\n",
    "- Constants are highly recommended to avoid \"magic numbers\" in your code\n",
    "\n",
    "```python\n",
    "MINUTES_PER_HOUR = 60\n",
    "HOURS_PER_DAY = 24\n",
    "DAYS_PER_WEEK = 7\n",
    "MONTH_PER_YEAR = 12\n",
    "```"
   ]
  },
  {
   "cell_type": "markdown",
   "metadata": {
    "colab_type": "text",
    "id": "v14vU3xsr2Ym"
   },
   "source": [
    "## General Naming Conventions\n",
    "The following table shows you some general guidelines on how to name your identifiers:\n",
    "\n",
    "| Identifier | Convention |\n",
    "| --- | --- |\n",
    "| Module\t        | lower_with_under | \n",
    "| Class\t            | CapWords | \n",
    "| Functions\t        | lower_with_under | \n",
    "| Method names\t    | lower_with_under | \n",
    "| Constants\t        | CAPS_WITH_UNDER | \n",
    "| Package\t        | lower_with_under |\n",
    "| Type variables\t| CapWords | \n",
    "| Instance variable | lower_with_under |\n",
    "| Local variable    | lower_with_under |"
   ]
  },
  {
   "cell_type": "markdown",
   "metadata": {
    "colab": {},
    "colab_type": "code",
    "id": "hOse8OqMr2Yn"
   },
   "source": []
  },
  {
   "cell_type": "markdown",
   "metadata": {
    "colab_type": "text",
    "id": "-yOVM70Vr2Yr"
   },
   "source": [
    "# <font color=\"red\">Programming Recommendations </font>"
   ]
  },
  {
   "cell_type": "markdown",
   "metadata": {
    "colab_type": "text",
    "id": "sUh6-gBGr2Ys"
   },
   "source": [
    "## Return Statements\n",
    "\n",
    "- Either all return statements in a function should return an expression, or none of them should.\n",
    "- If any return statement returns an expression, any return statements where no value is returned \n",
    "  should explicitly state this as **return None**, and an explicit return statement should be present at the end of the function.\n",
    "  \n",
    "\n",
    "**YES**\n",
    "```python\n",
    "def bar(x):\n",
    "    if x < 0:\n",
    "        return None\n",
    "    return math.sqrt(x)\n",
    "```\n",
    "\n",
    "**NO**\n",
    "```python\n",
    "def bar(x):\n",
    "    if x < 0:\n",
    "        return\n",
    "    return math.sqrt(x)\n",
    "```"
   ]
  },
  {
   "cell_type": "markdown",
   "metadata": {
    "colab_type": "text",
    "id": "Dtup0UR0r2Yy"
   },
   "source": [
    "## Sequences\n",
    "\n",
    "For strings, lists, tuples, use the fact that empty sequences are false.\n",
    "\n",
    "**YES**\n",
    "```python\n",
    "if not seq:\n",
    "if seq:\n",
    "```\n",
    "\n",
    "**NO**\n",
    "```python\n",
    "if len(seq):\n",
    "if not len(seq):\n",
    "```\n"
   ]
  },
  {
   "cell_type": "markdown",
   "metadata": {
    "colab_type": "text",
    "id": "Zbfj3clxr2Y3"
   },
   "source": [
    "## Boolean Comparison\n",
    "\n",
    "Don't compare boolean values to `True` or `False` using `==`.\n",
    "\n",
    "**YES**  \n",
    "```python\n",
    "if greeting:\n",
    "\n",
    "if not attr:\n",
    "```\n",
    "    \n",
    "**NO**\n",
    "```python\n",
    "if greeting == True:\n",
    "\n",
    "if attr == None:\n",
    "```\n",
    "\n",
    "**WORSE**\n",
    "```python\n",
    "if greeting is True:\n",
    "```"
   ]
  },
  {
   "cell_type": "markdown",
   "metadata": {
    "colab": {},
    "colab_type": "code",
    "id": "maenlgt4r2Y5"
   },
   "source": [
    "## String Manipulations\n",
    "\n",
    "Build strings as a list and use `''.join` at the end.\n",
    "\n",
    "**YES**  \n",
    "```python\n",
    "result = ''.join(strings)\n",
    "```\n",
    "    \n",
    "**NO**\n",
    "```python\n",
    "for s in strings: \n",
    "    result += s\n",
    "```\n",
    "\n",
    "Use the format method or the `%` operator for formatting strings, even when the parameters are all strings.\n",
    "\n",
    "**YES**  \n",
    "```python\n",
    "x = a + b\n",
    "x = '%s, %s!' % (imperative, expletive)\n",
    "x = '{}, {}!'.format(imperative, expletive)\n",
    "x = 'name: %s; score: %d' % (name, n)\n",
    "x = 'name: {}; score: {}'.format(name, n)\n",
    "```\n",
    "    \n",
    "**NO**\n",
    "```python\n",
    "x = '%s%s' % (a, b)  # use + in this case\n",
    "x = '{}{}'.format(a, b)  # use + in this case\n",
    "x = imperative + ', ' + expletive + '!'\n",
    "x = 'name: ' + name + '; score: ' + str(n)\n",
    "```\n"
   ]
  },
  {
   "cell_type": "markdown",
   "metadata": {
    "colab": {},
    "colab_type": "code",
    "id": "maenlgt4r2Y5"
   },
   "source": [
    "## Explicit vs Implicit Code\n",
    "\n",
    "To improve the readability, it is better to write explicit code instead of making implicit assumptions, like using one-liners or \"tricks\".\n",
    "\n",
    "**YES**  \n",
    "```python\n",
    "def calculation(x,y):\n",
    "    \"\"\"calculation of the total\"\"\"\n",
    "\n",
    "    total = x + y\n",
    "    return total\n",
    "\n",
    "print(calculation(3, 4))\n",
    "```\n",
    "    \n",
    "**NO**\n",
    "```python\n",
    "def calculation(*args):\n",
    "    \"\"\"calculation of the total\"\"\"\n",
    "\n",
    "    x, y = args\n",
    "    return (x+y)\n",
    "\n",
    "print(calculation(3, 4))\n",
    "```"
   ]
  },
  {
   "cell_type": "markdown",
   "metadata": {},
   "source": [
    "# <font color=\"red\">Code Style Validation</font>\n",
    "\n",
    "- Guidelines are great to achieve code that follows certain conditions. \n",
    "- As a programmer you want to make sure that you follow them as much as possible. \n",
    "- Automated tools are great to help you to validate your code.\n",
    "\n",
    "     + <a href=\"https://pycodestyle.pycqa.org/en/latest/\">pycodestyle</a>: Check your Python code against some of the style conventions in PEP 8.\n",
    "     + <a href=\"https://www.pylint.org/\">Pylint</a>: source code analyzer\n",
    "     + <a href=\"https://pypi.org/project/pyflakes/\">pyflakes</a>: Check Python source files for errors.\n",
    "     + <a href=\"https://pypi.org/project/mccabe/\">mccabe</a>: Check code complexity.\n",
    "     + <a href=\"http://www.pydocstyle.org/\">pydocstyle</a>: Static analysis tool for checking compliance with Python docstring conventions."
   ]
  },
  {
   "cell_type": "markdown",
   "metadata": {},
   "source": [
    "## <font color=\"blue\">Coding Standard Checklist</font>\n",
    "\n",
    "![FIG_CODE](https://i.pinimg.com/236x/0b/f6/a7/0bf6a71a5955966a1f486c7cf245dee0--computer-science-humor-computer-jokes.jpg)\n",
    "\n",
    "1. Does your code respect your group coding convention?\n",
    "2. Are the variables/functions/methods/classes properly named?\n",
    "3. Are all the `import` statements on top of each file?\n",
    "4. Do you use a consisent indentation?\n",
    "5. Do you follow the white space convention?\n",
    "6. Do you have more than one statement per line?\n",
    "7. Are all functions/methods/classes documented?\n",
    "8. Do you have a single space aroung each operator?\n"
   ]
  },
  {
   "cell_type": "markdown",
   "metadata": {
    "colab_type": "text",
    "id": "jwSBpnEZr2Y9"
   },
   "source": [
    "# <font color=\"red\"> Exercise </font>"
   ]
  },
  {
   "cell_type": "markdown",
   "metadata": {
    "colab_type": "text",
    "id": "G758_Yp2r2Y-"
   },
   "source": [
    "- Apply the coding standards to the codes (def_converter.py, temperature_converter.py) below.\n",
    "- Include in def_converter.py the appropriate code that allows you to run it as a script and test the functions defined there.\n",
    "\n",
    "You may want to use a Python GUI editor such as Spider (comes with Anaconda) or pyCharm."
   ]
  },
  {
   "cell_type": "code",
   "execution_count": null,
   "metadata": {
    "colab": {},
    "colab_type": "code",
    "id": "nIud5xbfr2Y_"
   },
   "outputs": [],
   "source": [
    "%%writefile def_converter.py\n",
    "#!/usr/bin/env python\n",
    "\"\"\"\n",
    "   Functions for temperature conversion\n",
    "\"\"\"\n",
    "\n",
    "def from_C_to_F(tC): return (tC*1.8)+32\n",
    "\n",
    "def from_F_to_C(tF): return (tF-32)*5.0/9.0\n",
    "\n",
    "def from_C_to_K(tC): return tC+273.0\n",
    "\n",
    "def from_K_to_F(tK):\n",
    "    #From kelvin to fahrenheit\n",
    "    tC = tK-273.0\n",
    "    return from_C_to_F(tC)\n",
    "\n",
    "def from_F_to_K(tF): return from_F_to_C(tF)+273.0"
   ]
  },
  {
   "cell_type": "code",
   "execution_count": null,
   "metadata": {
    "colab": {},
    "colab_type": "code",
    "id": "GUgDzIMir2ZC"
   },
   "outputs": [],
   "source": [
    "%%writefile temperature_converter.py\n",
    "#!/usr/bin/env python\n",
    "\n",
    "import def_converter\n",
    "\n",
    "# Python Program to convert temperature\n",
    "\n",
    "# Calculate Fahrenheit\n",
    "cel = 37.5\n",
    "fahr = def_converter.from_C_to_F(cel)\n",
    "print('%0.1f degree Celsius is equal to %0.1f degree Fahrenheit' %(cel,fahr))\n",
    "\n",
    "# Calculate Celcius\n",
    "fahr = 67.8\n",
    "cel = def_converter.from_F_to_C(fahr)\n",
    "print('%0.1f degree Fahrenheit is equal to %0.1f degree Celcius' %(fahr,cel))\n",
    "\n",
    "kel = def_converter.from_F_to_K(fahr)\n",
    "print('%0.1f degree Fahrenheit is equal to %0.1f degree Kelvin' %(fahr,kel))\n"
   ]
  },
  {
   "cell_type": "code",
   "execution_count": 0,
   "metadata": {
    "colab": {},
    "colab_type": "code",
    "id": "Nn_Uabzcr2ZF"
   },
   "outputs": [],
   "source": []
  },
  {
   "cell_type": "code",
   "execution_count": null,
   "metadata": {},
   "outputs": [],
   "source": [
    "%%writefile converter_functions.py\n",
    "\n",
    "#!/usr/bin/env python\n",
    "\"\"\"\n",
    "Functions for temperature conversion:\n",
    "   - from_celcius_to_fahrenheit\n",
    "   - from_celcius_to_fahrenheit\n",
    "   - from_fahrenheit_to_celcius\n",
    "   - from_celcius_to_kelvin\n",
    "   - from_kelvin_to_fahrenheit\n",
    "\"\"\"\n",
    "\n",
    "zeroCelcius = 273.5  # zero degree Celcius in Kelvin\n",
    "\n",
    "def from_celcius_to_fahrenheit(temperatureC):\n",
    "    \"\"\"\n",
    "    Convert the temperature from\n",
    "    Celcius to Fahrenheit\n",
    "    \"\"\"\n",
    "    return (temperatureC * 1.8) + 32\n",
    "\n",
    "def from_fahrenheit_to_celcius(temperatureF):\n",
    "    \"\"\"\n",
    "    Convert the temperature from\n",
    "    Fahrenheit to Celcius\n",
    "    \"\"\"\n",
    "    return (temperatureF - 32) * 5.0 / 9.0\n",
    "\n",
    "def from_celcius_to_kelvin(temperatureC):\n",
    "    \"\"\"\n",
    "    Convert the temperature from\n",
    "    Celcius to Kelvin\n",
    "    \"\"\"\n",
    "    return temperatureC + zeroCelcius\n",
    "\n",
    "def from_kelvin_to_fahrenheit(temperatureK):\n",
    "    \"\"\"\n",
    "    Convert the temperature from\n",
    "    Kelvin to Fahrenheit\n",
    "    \"\"\"\n",
    "    temperatureC = temperatureK - zeroCelcius\n",
    "    return from_celcius_to_fahrenheit(temperatureC)\n",
    "\n",
    "def from_fahrenheit_to_kelvin(temperatureF):\n",
    "    \"\"\"\n",
    "    Convert the temperature from\n",
    "    Fahrenheit to Kelvin\n",
    "    \"\"\"\n",
    "    return from_fahrenheit_to_celcius(temperatureF) + zeroCelcius"
   ]
  },
  {
   "cell_type": "code",
   "execution_count": null,
   "metadata": {},
   "outputs": [],
   "source": [
    "%%writefile temperature_converter.py\n",
    "#!/usr/bin/env python\n",
    "  \n",
    "\"\"\"\n",
    "  Python Program to convert temperature from unit to another\n",
    "\"\"\"\n",
    "\n",
    "import converter_functions\n",
    "\n",
    "#---------------------------\n",
    "# From Celcius to Fahrenheit\n",
    "#---------------------------\n",
    "temperatureC = 37.5\n",
    "temperatureF = converter_functions.from_celcius_to_fahrenheit(temperatureC)\n",
    "print('{:0.1f} degree Celsius is equal to {:0.1f} degree Fahrenheit'\n",
    "      .format(temperatureC, temperatureF))\n",
    "\n",
    "#---------------------------\n",
    "# From Fahrenheit to Celcius\n",
    "#---------------------------\n",
    "\n",
    "temperatureF = 67.8\n",
    "temperatureC = converter_functions.from_fahrenheit_to_celcius(temperatureF)\n",
    "print('{:0.1f} degree Fahrenheit is equal to {:0.1f} degree Celcius'\n",
    "      .format(temperatureF, temperatureC))\n",
    "\n",
    "#---------------------------\n",
    "# From Fahrenheit to Kelvin\n",
    "#---------------------------\n",
    "\n",
    "temperatureK = converter_functions.from_fahrenheit_to_kelvin(temperatureF)\n",
    "print('{:0.1f} degree Fahrenheit is equal to {:0.1f} degree Kelvin'\n",
    "      .format(temperatureF, temperatureK))"
   ]
  }
 ],
 "metadata": {
  "colab": {
   "name": "Copy of Python_coding_standards.ipynb",
   "provenance": [
    {
     "file_id": "https://github.com/pytrain/coding_standards/blob/master/Python_coding_standards.ipynb",
     "timestamp": 1560545941121
    }
   ],
   "version": "0.3.2"
  },
  "kernelspec": {
   "display_name": "Python 3",
   "language": "python",
   "name": "python3"
  },
  "language_info": {
   "codemirror_mode": {
    "name": "ipython",
    "version": 3
   },
   "file_extension": ".py",
   "mimetype": "text/x-python",
   "name": "python",
   "nbconvert_exporter": "python",
   "pygments_lexer": "ipython3",
   "version": "3.7.3"
  }
 },
 "nbformat": 4,
 "nbformat_minor": 1
}
