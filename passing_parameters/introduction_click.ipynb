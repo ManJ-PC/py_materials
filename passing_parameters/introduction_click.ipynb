{
 "cells": [
  {
   "cell_type": "markdown",
   "metadata": {},
   "source": [
    "![NASA](http://www.nasa.gov/sites/all/themes/custom/nasatwo/images/nasa-logo.svg)\n",
    "\n",
    "<center>\n",
    "<h1><font size=\"+3\">GSFC Python Bootcamp</font></h1>\n",
    "</center>\n",
    "\n",
    "---\n",
    "\n",
    "<CENTER>\n",
    "<H1 style=\"color:red\">\n",
    "Command Line Interface\n",
    "</H1>    \n",
    "    <H2>The click Module</H2>\n",
    "</CENTER>"
   ]
  },
  {
   "cell_type": "code",
   "execution_count": null,
   "metadata": {},
   "outputs": [],
   "source": [
    "from __future__ import print_function"
   ]
  },
  {
   "cell_type": "markdown",
   "metadata": {},
   "source": [
    "## Reference Documents"
   ]
  },
  {
   "cell_type": "markdown",
   "metadata": {},
   "source": [
    "+ <A HREF=\"https://click.palletsprojects.com/en/7.x/\"> click</A>\n",
    "* <A HREF=\"https://dbader.org/blog/python-commandline-tools-with-click\"> Writing Python Command-Line Tools With Click </A>\n"
   ]
  },
  {
   "cell_type": "markdown",
   "metadata": {},
   "source": [
    "## <font color=\"red\">What is `click`?</font>\n",
    "\n",
    "+ Python package for creating beautiful command line interfaces.\n",
    "+ Highly configurable\n",
    "+ Come with sensible defaults out of the box.\n"
   ]
  },
  {
   "cell_type": "code",
   "execution_count": null,
   "metadata": {},
   "outputs": [],
   "source": []
  },
  {
   "cell_type": "markdown",
   "metadata": {},
   "source": [
    "## <font color=\"red\">What Can We Do with `click`?</font>\n",
    "\n",
    "* Arbitrary nesting of commands\n",
    "* Automatic help page generation\n",
    "* Supports for prompting of custom values\n",
    "* Supports file handling out of the box\n",
    "* Supports loading values from environment variables out of the box"
   ]
  },
  {
   "cell_type": "markdown",
   "metadata": {},
   "source": [
    "## <font color=\"red\">`click` and `argparse`</font>\n",
    "\n",
    "* `click` is internally based on `optparse` instead of `argparse`.\n",
    "* `click` uses the concept of <a href=\"https://dbader.org/blog/python-decorators\">decorators</a>.\n",
    "* `argparse` has built-in magic behavior to guess if something is an argument or an option.\n",
    "* `argparse` currently does not support disabling of interspersed arguments. Without this feature it’s not possible to safely implement `click`’s nested parsing nature.\n"
   ]
  },
  {
   "cell_type": "markdown",
   "metadata": {},
   "source": [
    "## <font color=\"red\">Creating a `click` Command</font>\n",
    "\n",
    "+ `click` is based on declaring commands through decorators.\n",
    "+ A function becomes a `click` command line tool by decorating it through `click.command()`."
   ]
  },
  {
   "cell_type": "code",
   "execution_count": null,
   "metadata": {},
   "outputs": [],
   "source": [
    "%%writefile hello_world.py\n",
    "import click\n",
    "\n",
    "@click.command()\n",
    "def hello():\n",
    "    click.echo('Hello World!')\n",
    "\n",
    "if __name__ == '__main__':\n",
    "    hello()"
   ]
  },
  {
   "cell_type": "code",
   "execution_count": null,
   "metadata": {},
   "outputs": [],
   "source": [
    "%run hello_world.py"
   ]
  },
  {
   "cell_type": "code",
   "execution_count": null,
   "metadata": {},
   "outputs": [],
   "source": [
    "%run hello_world.py --help"
   ]
  },
  {
   "cell_type": "markdown",
   "metadata": {},
   "source": [
    "* The `click.echo()` works with both Python 2 & 3 and is a good substitute for `print`.\n",
    "* It applies some error correction in case the terminal is misconfigured.\n",
    "* It has good support for ANSI colors."
   ]
  },
  {
   "cell_type": "markdown",
   "metadata": {},
   "source": [
    "## <font color=\"red\">Adding Boolean Flags</font>\n",
    "\n",
    "- In a command line tool, we sometimes want to have a boolean option. \n",
    "- If the option is provided then do something, if not provided, then do something else.\n",
    "\n",
    "In the previous example, we will pass the flag as `–verbose`, if provided, then we will print some extra text."
   ]
  },
  {
   "cell_type": "code",
   "execution_count": null,
   "metadata": {},
   "outputs": [],
   "source": [
    "%%writefile add_boolean_flags.py\n",
    "import click\n",
    "\n",
    "@click.command()\n",
    "@click.option('--verbose', is_flag=True, help=\"Will print verbose messages.\")\n",
    "def hello(verbose):\n",
    "    if verbose:\n",
    "        click.echo(\"We are in the verbose mode.\")\n",
    "    click.echo('Hello World!')\n",
    "\n",
    "if __name__ == '__main__':\n",
    "    hello()"
   ]
  },
  {
   "cell_type": "code",
   "execution_count": null,
   "metadata": {},
   "outputs": [],
   "source": [
    "%run add_boolean_flags.py --help"
   ]
  },
  {
   "cell_type": "code",
   "execution_count": null,
   "metadata": {},
   "outputs": [],
   "source": [
    "%run add_boolean_flags.py"
   ]
  },
  {
   "cell_type": "markdown",
   "metadata": {},
   "source": [
    "## <font color=\"red\">Adding Parameters</font>\n",
    "* To add parameters, use the `option(`) and `argument()` decorators.\n",
    "* If no default value is provided, the type is assumed to be string.\n",
    "* By default, the name of the parameter is the first long option defined; otherwise the first short one is used."
   ]
  },
  {
   "cell_type": "code",
   "execution_count": null,
   "metadata": {},
   "outputs": [],
   "source": [
    "%%writefile add_parameters.py\n",
    "\n",
    "import click\n",
    "\n",
    "@click.command()\n",
    "@click.option('--verbose', is_flag=True, help=\"Will print verbose messages.\")\n",
    "@click.option('--name', default='', help='Who are you?')\n",
    "def hello(verbose, name):\n",
    "    '''\n",
    "      An example of adding paramters.\n",
    "    '''\n",
    "    if verbose:\n",
    "       click.echo(\"We are in the verbose mode.\")\n",
    "    click.echo('Hello World {}!'.format(name))\n",
    "\n",
    "if __name__ == '__main__':\n",
    "    hello()"
   ]
  },
  {
   "cell_type": "code",
   "execution_count": null,
   "metadata": {},
   "outputs": [],
   "source": [
    "%run add_parameters.py --help"
   ]
  },
  {
   "cell_type": "code",
   "execution_count": null,
   "metadata": {},
   "outputs": [],
   "source": [
    "%run add_parameters.py --name Python"
   ]
  },
  {
   "cell_type": "markdown",
   "metadata": {},
   "source": [
    "**Multi Value Options**\n",
    "+ This is for options that take more than one argument. \n",
    "+ We only support a fixed number of arguments is supported. \n",
    "+ This can be configured by the `nargs` parameter. The values are then stored as a tuple."
   ]
  },
  {
   "cell_type": "code",
   "execution_count": null,
   "metadata": {},
   "outputs": [],
   "source": [
    "%%writefile add_parameters.py\n",
    "\n",
    "import click\n",
    "\n",
    "@click.command()\n",
    "@click.option('--verbose', is_flag=True, help=\"Will print verbose messages.\")\n",
    "@click.option('--name', '-n', nargs=2, type=str, help='Who are you?')\n",
    "def hello(verbose, name):\n",
    "    '''\n",
    "      An example of multiple times argument.\n",
    "    '''\n",
    "    if verbose:\n",
    "        click.echo(\"We are in the verbose mode.\")\n",
    "    click.echo(\"Hello World\")\n",
    "    for n in name:\n",
    "        click.echo('Bye {0}'.format(n))\n",
    "\n",
    "if __name__ == '__main__':\n",
    "    hello()"
   ]
  },
  {
   "cell_type": "code",
   "execution_count": null,
   "metadata": {},
   "outputs": [],
   "source": [
    "%run add_parameters.py --help"
   ]
  },
  {
   "cell_type": "code",
   "execution_count": null,
   "metadata": {},
   "outputs": [],
   "source": [
    "%run add_parameters.py -n Python Bootcamp"
   ]
  },
  {
   "cell_type": "markdown",
   "metadata": {},
   "source": [
    "**Tuple as Multiple Value Options**\n",
    "+ By using `nargs` all the items should be of the same type. \n",
    "+ You might want to use different types for different indexes in the tuple. "
   ]
  },
  {
   "cell_type": "code",
   "execution_count": null,
   "metadata": {},
   "outputs": [],
   "source": [
    "%%writefile add_parameters.py\n",
    "\n",
    "import click\n",
    "\n",
    "@click.command()\n",
    "@click.option('--verbose', is_flag=True, help=\"Will print verbose messages.\")\n",
    "@click.option('--item', type=(str, float))\n",
    "def hello(verbose, item):\n",
    "    '''\n",
    "      An example of tuple as multiple value options.\n",
    "    '''\n",
    "    if verbose:\n",
    "        click.echo(\"We are in the verbose mode.\")\n",
    "    click.echo(\"Hello World\")\n",
    "    for n in item:\n",
    "        click.echo('Item {0} of type {1}'.format(n,type(n)))\n",
    "\n",
    "if __name__ == '__main__':\n",
    "    hello()"
   ]
  },
  {
   "cell_type": "code",
   "execution_count": null,
   "metadata": {},
   "outputs": [],
   "source": [
    "%run add_parameters.py --help"
   ]
  },
  {
   "cell_type": "code",
   "execution_count": null,
   "metadata": {},
   "outputs": [],
   "source": [
    "%run add_parameters.py --item Python 3.14"
   ]
  },
  {
   "cell_type": "code",
   "execution_count": null,
   "metadata": {},
   "outputs": [],
   "source": []
  },
  {
   "cell_type": "markdown",
   "metadata": {},
   "source": [
    "**Same Option Multiple Times**"
   ]
  },
  {
   "cell_type": "code",
   "execution_count": null,
   "metadata": {},
   "outputs": [],
   "source": [
    "%%writefile add_parameters.py\n",
    "\n",
    "import click\n",
    "\n",
    "@click.command()\n",
    "@click.option('--verbose', is_flag=True, help=\"Will print verbose messages.\")\n",
    "@click.option('--name', '-n', multiple=True, default='', help='Who are you?')\n",
    "def hello(verbose, name):\n",
    "    '''\n",
    "      An example of multiple times argument.\n",
    "    '''\n",
    "    if verbose:\n",
    "        click.echo(\"We are in the verbose mode.\")\n",
    "    click.echo(\"Hello World\")\n",
    "    for n in name:\n",
    "        click.echo('Bye {0}'.format(n))\n",
    "\n",
    "if __name__ == '__main__':\n",
    "    hello()"
   ]
  },
  {
   "cell_type": "code",
   "execution_count": null,
   "metadata": {},
   "outputs": [],
   "source": [
    "%run add_parameters.py --help"
   ]
  },
  {
   "cell_type": "code",
   "execution_count": null,
   "metadata": {},
   "outputs": [],
   "source": [
    "%run add_parameters.py -n Python -n Bootcamp"
   ]
  },
  {
   "cell_type": "markdown",
   "metadata": {},
   "source": [
    "**Must have arguments**\n",
    "\n",
    "+ You need to add arguments to your tool. \n",
    "+ If no default value is provided, they are assumed to be strings."
   ]
  },
  {
   "cell_type": "code",
   "execution_count": null,
   "metadata": {},
   "outputs": [],
   "source": [
    "%%writefile add_parameters.py\n",
    "\n",
    "import click\n",
    "\n",
    "@click.command()\n",
    "@click.option('--verbose', is_flag=True, help=\"Will print verbose messages.\")\n",
    "@click.option('--name', '-n', multiple=True, default='', help='Who are you?')\n",
    "@click.argument('country')\n",
    "def hello(verbose, name, country):\n",
    "    '''\n",
    "      An example of must have argument.\n",
    "    '''\n",
    "    if verbose:\n",
    "        click.echo(\"We are in the verbose mode.\")\n",
    "    click.echo(\"Hello {0}\".format(country))\n",
    "    for n in name:\n",
    "        click.echo('Bye {0}'.format(n))\n",
    "\n",
    "if __name__ == '__main__':\n",
    "    hello()"
   ]
  },
  {
   "cell_type": "code",
   "execution_count": null,
   "metadata": {},
   "outputs": [],
   "source": [
    "%run add_parameters.py --help"
   ]
  },
  {
   "cell_type": "code",
   "execution_count": null,
   "metadata": {},
   "outputs": [],
   "source": [
    "%run add_parameters.py -n Python -n Bootcamp Maryland"
   ]
  },
  {
   "cell_type": "markdown",
   "metadata": {},
   "source": [
    "**Example**\n",
    "\n",
    "Assume that you have a Python script (my_script.py) that is run using the command line:\n",
    "    \n",
    "           my_script.py -x execFile -i inputFile -o outputFile -p param otherArgs"
   ]
  },
  {
   "cell_type": "code",
   "execution_count": null,
   "metadata": {},
   "outputs": [],
   "source": [
    "%%writefile my_script.py\n",
    "import sys\n",
    "import click\n",
    "\n",
    "#aparser.add_argument('--version', action='version', version='%(prog)s 0.0')\n",
    "\n",
    "@click.command()\n",
    "@click.option('-x', '--exec_file',   \n",
    "              required=True, help='Execution file')\n",
    "@click.option('-i', '--input_file',  \n",
    "              required=True, type=click.File('r'), help='Input file')\n",
    "@click.option('-o', '--output_file', \n",
    "              type=click.File('wt'), default='output.txt', help='Output file')\n",
    "@click.option('-p', '--param',   \n",
    "              help='Input parameter')\n",
    "@click.option('--optional', multiple=True, \n",
    "              help='Input parameter')\n",
    "def get_arguments(exec_file, input_file, output_file, param, optional):\n",
    "    # Print all the options\n",
    "    #----------------------\n",
    "    click.echo('Execution file  : {}'.format(exec_file))\n",
    "    click.echo('Input file      : {}'.format(input_file))\n",
    "    click.echo('Output file     : {}'.format(output_file))\n",
    "    click.echo('Input parameter : {}'.format(param))\n",
    "    for i, n in enumerate(optional, start=1):\n",
    "        click.echo('Option {0}: {1}'.format(i, n))\n",
    "\n",
    "if __name__ == '__main__':\n",
    "   get_arguments()"
   ]
  },
  {
   "cell_type": "code",
   "execution_count": null,
   "metadata": {},
   "outputs": [],
   "source": [
    "%run my_script.py --help"
   ]
  },
  {
   "cell_type": "code",
   "execution_count": null,
   "metadata": {},
   "outputs": [],
   "source": [
    "!touch execFile inputFile\n",
    "%run my_script.py -x execFile -i inputFile -o outputFile -p 3.14 --optional 2 --optional jules"
   ]
  },
  {
   "cell_type": "markdown",
   "metadata": {},
   "source": [
    "## <font color=\"red\"> Breakout</font>\n",
    "\n",
    "Write a script, name compute_sine.py that takes as command line arguments:\n",
    "- a file name\n",
    "- a list of numbers\n",
    "and writes in the file the pairs of numbers and their sine values.\n",
    "\n",
    "A command line can look like:\n",
    "\n",
    "    python compute_sine.py -o my_file.txt 1.0 -6.4 3.14 0 34"
   ]
  },
  {
   "cell_type": "markdown",
   "metadata": {},
   "source": [
    "**Prompting**\n",
    "+ You want parameters that can be provided from the command line, but if not provided, ask for user input instead. \n",
    "+ This is done by defining a `prompt` string."
   ]
  },
  {
   "cell_type": "code",
   "execution_count": null,
   "metadata": {},
   "outputs": [],
   "source": [
    "%%writefile add_parameters.py\n",
    "\n",
    "import click\n",
    "\n",
    "@click.command()\n",
    "@click.option('--verbose', is_flag=True, help=\"Will print verbose messages.\")\n",
    "@click.option('--name', '-n', multiple=True, default='', help='Who are you?')\n",
    "@click.option('--password', prompt=True)\n",
    "def hello(verbose, name, password):\n",
    "    '''\n",
    "      An example on using prompt.\n",
    "    '''\n",
    "    if verbose:\n",
    "        click.echo(\"We are in the verbose mode.\")\n",
    "    click.echo(\"Hello World\")\n",
    "    for n in name:\n",
    "        click.echo('Bye {0}'.format(n))\n",
    "    click.echo('We received {0} as password.'.format(password))\n",
    "    \n",
    "if __name__ == '__main__':\n",
    "    hello()"
   ]
  },
  {
   "cell_type": "code",
   "execution_count": null,
   "metadata": {},
   "outputs": [],
   "source": [
    "%run add_parameters.py --help"
   ]
  },
  {
   "cell_type": "code",
   "execution_count": null,
   "metadata": {},
   "outputs": [],
   "source": [
    "%run add_parameters.py -n Python"
   ]
  },
  {
   "cell_type": "markdown",
   "metadata": {},
   "source": [
    "**Entering Password with Confirmation**\n",
    "\n",
    "+ The `password_option()` decorator can be used to accept a password over hidden prompt and second confirmation prompt."
   ]
  },
  {
   "cell_type": "code",
   "execution_count": null,
   "metadata": {},
   "outputs": [],
   "source": [
    "%%writefile add_parameters.py\n",
    "\n",
    "import click\n",
    "\n",
    "@click.command()\n",
    "@click.option('--verbose', is_flag=True, help=\"Will print verbose messages.\")\n",
    "@click.option('--name', '-n', multiple=True, default='', help='Who are you?')\n",
    "@click.password_option()\n",
    "def hello(verbose, name, password):\n",
    "    '''\n",
    "      An example on entering a password.\n",
    "    '''\n",
    "    if verbose:\n",
    "        click.echo(\"We are in the verbose mode.\")\n",
    "    click.echo(\"Hello World\")\n",
    "    for n in name:\n",
    "        click.echo('Bye {0}'.format(n))\n",
    "    click.echo('We received {0} as password.'.format(password))\n",
    "    \n",
    "if __name__ == '__main__':\n",
    "    hello()"
   ]
  },
  {
   "cell_type": "code",
   "execution_count": null,
   "metadata": {},
   "outputs": [],
   "source": [
    "%run add_parameters.py --help"
   ]
  },
  {
   "cell_type": "code",
   "execution_count": null,
   "metadata": {},
   "outputs": [],
   "source": [
    "%run add_parameters.py -n Python"
   ]
  },
  {
   "cell_type": "markdown",
   "metadata": {},
   "source": [
    "## <font color=\"red\">Values from Environment Variables</font>\n",
    "+ `click` accepts parameters from environment variables in addition to regular parameters.\n",
    "+ This is supported in two ways:\n",
    "     1. Automatically build environment variables which is supported for options only by using the `auto_envvar_prefix`. Each command and parameter is then added as an uppercase underscore-separated variable.\n",
    "     2. Manually pull values in from specific environment variables by defining the name of the environment variable on the option."
   ]
  },
  {
   "cell_type": "code",
   "execution_count": null,
   "metadata": {},
   "outputs": [],
   "source": [
    "%%writefile env_variables.py\n",
    "\n",
    "import click\n",
    "\n",
    "@click.command()\n",
    "@click.option('--username')\n",
    "def greet(username):\n",
    "    click.echo('Hello %s!' % username)\n",
    "\n",
    "if __name__ == '__main__':\n",
    "    greet(auto_envvar_prefix='GREETER')"
   ]
  },
  {
   "cell_type": "code",
   "execution_count": null,
   "metadata": {},
   "outputs": [],
   "source": [
    "%run env_variables.py --help"
   ]
  },
  {
   "cell_type": "code",
   "execution_count": null,
   "metadata": {},
   "outputs": [],
   "source": [
    "!export GREETER_USERNAME=Python"
   ]
  },
  {
   "cell_type": "code",
   "execution_count": null,
   "metadata": {},
   "outputs": [],
   "source": [
    "%run env_variables.py"
   ]
  },
  {
   "cell_type": "code",
   "execution_count": null,
   "metadata": {},
   "outputs": [],
   "source": []
  },
  {
   "cell_type": "code",
   "execution_count": null,
   "metadata": {},
   "outputs": [],
   "source": [
    "%%writefile env_variables.py\n",
    "\n",
    "import click\n",
    "\n",
    "@click.command()\n",
    "@click.option('--username', envvar='USER')\n",
    "def greet(username):\n",
    "    click.echo('Hello %s!' % username)\n",
    "\n",
    "if __name__ == '__main__':\n",
    "    greet()\n"
   ]
  },
  {
   "cell_type": "code",
   "execution_count": null,
   "metadata": {},
   "outputs": [],
   "source": [
    "%run env_variables.py"
   ]
  },
  {
   "cell_type": "code",
   "execution_count": null,
   "metadata": {},
   "outputs": [],
   "source": [
    "%%writefile env_variables.py\n",
    "\n",
    "import click\n",
    "\n",
    "@click.command()\n",
    "@click.option('paths', '--path', envvar='PATH', multiple=True,\n",
    "              type=click.Path())\n",
    "def perform(paths):\n",
    "    for path in paths:\n",
    "        click.echo(path)\n",
    "\n",
    "if __name__ == '__main__':\n",
    "    perform()"
   ]
  },
  {
   "cell_type": "code",
   "execution_count": null,
   "metadata": {},
   "outputs": [],
   "source": [
    "%run env_variables.py"
   ]
  },
  {
   "cell_type": "markdown",
   "metadata": {},
   "source": [
    "## <font color=\"red\">Range Options</font>\n",
    "\n",
    "Use the `IntRange` type, which works very similarly to the `INT` type, but restricts the value to fall into a specific range (inclusive on both edges). It has two modes:\n",
    "\n",
    "+ The default mode (non-clamping mode) where a value that falls outside of the range will cause an error.\n",
    "+ An optional clamping mode where a value that falls outside of the range will be clamped. This means that a range of 0-5 would return 5 for the value 10 or 0 for the value -1 (for example)."
   ]
  },
  {
   "cell_type": "code",
   "execution_count": null,
   "metadata": {},
   "outputs": [],
   "source": [
    "%%writefile range_options.py\n",
    "\n",
    "import click\n",
    "\n",
    "@click.command()\n",
    "@click.option('--count', type=click.IntRange(0, 20, clamp=True))\n",
    "@click.option('--digit', type=click.IntRange(0, 10))\n",
    "def repeat(count, digit):\n",
    "    click.echo(str(digit) * count)\n",
    "\n",
    "if __name__ == '__main__':\n",
    "    repeat()"
   ]
  },
  {
   "cell_type": "code",
   "execution_count": null,
   "metadata": {},
   "outputs": [],
   "source": [
    "%run range_options.py --help"
   ]
  },
  {
   "cell_type": "code",
   "execution_count": null,
   "metadata": {},
   "outputs": [],
   "source": [
    "%run range_options.py --count=1000 --digit=5"
   ]
  },
  {
   "cell_type": "code",
   "execution_count": null,
   "metadata": {},
   "outputs": [],
   "source": [
    "%run range_options.py --count=1000 --digit=12"
   ]
  },
  {
   "cell_type": "markdown",
   "metadata": {},
   "source": [
    "## <font color=\"red\">Callbacks for Validation</font>\n",
    "\n",
    "* To apply custom validation logic, you can do this in the parameter callbacks. \n",
    "* These callbacks can both modify values as well as raise errors if the validation does not work."
   ]
  },
  {
   "cell_type": "code",
   "execution_count": null,
   "metadata": {},
   "outputs": [],
   "source": [
    "%%writefile callbacks_validation.py\n",
    "\n",
    "import click\n",
    "\n",
    "def validate_rolls(ctx, param, value):\n",
    "    try:\n",
    "        rolls, dice = map(int, value.split('d', 2))\n",
    "        return (dice, rolls)\n",
    "    except ValueError:\n",
    "        raise click.BadParameter('rolls need to be in format NdM')\n",
    "\n",
    "@click.command()\n",
    "@click.option('--rolls', callback=validate_rolls, default='1d6')\n",
    "def roll(rolls):\n",
    "    click.echo('Rolling a %d-sided dice %d time(s)' % rolls)\n",
    "\n",
    "if __name__ == '__main__':\n",
    "    roll()"
   ]
  },
  {
   "cell_type": "code",
   "execution_count": null,
   "metadata": {},
   "outputs": [],
   "source": [
    "%run callbacks_validation.py --help"
   ]
  },
  {
   "cell_type": "code",
   "execution_count": null,
   "metadata": {},
   "outputs": [],
   "source": [
    "%run callbacks_validation.py"
   ]
  },
  {
   "cell_type": "code",
   "execution_count": null,
   "metadata": {},
   "outputs": [],
   "source": [
    "%run callbacks_validation.py --rolls=42"
   ]
  },
  {
   "cell_type": "code",
   "execution_count": null,
   "metadata": {},
   "outputs": [],
   "source": [
    "%run callbacks_validation.py --rolls=2d12"
   ]
  },
  {
   "cell_type": "markdown",
   "metadata": {},
   "source": [
    "## <font color=\"red\">Nesting Commands</font>\n",
    "\n",
    "* Commands can be attached to other commands of type `Group`. \n",
    "* This allows arbitrary nesting of scripts. \n",
    "\n",
    "As an example here is a script that implements two commands for managing databases:"
   ]
  },
  {
   "cell_type": "code",
   "execution_count": null,
   "metadata": {},
   "outputs": [],
   "source": [
    "%%writefile nesting_commands.py\n",
    "import click\n",
    "\n",
    "@click.group()\n",
    "def cli():\n",
    "    pass\n",
    "\n",
    "@cli.command()\n",
    "def initdb():\n",
    "    click.echo('Initialized the database')\n",
    "\n",
    "@cli.command()\n",
    "def dropdb():\n",
    "    click.echo('Dropped the database')\n",
    "    \n",
    "if __name__ == '__main__':\n",
    "    cli()"
   ]
  },
  {
   "cell_type": "code",
   "execution_count": null,
   "metadata": {},
   "outputs": [],
   "source": [
    "%run nesting_commands.py"
   ]
  },
  {
   "cell_type": "code",
   "execution_count": null,
   "metadata": {},
   "outputs": [],
   "source": [
    "%run nesting_commands.py initdb"
   ]
  },
  {
   "cell_type": "code",
   "execution_count": null,
   "metadata": {},
   "outputs": [],
   "source": [
    "%run nesting_commands.py dropdb"
   ]
  },
  {
   "cell_type": "code",
   "execution_count": null,
   "metadata": {},
   "outputs": [],
   "source": []
  },
  {
   "cell_type": "markdown",
   "metadata": {},
   "source": [
    "## <font color=\"red\">Building an Application</font>\n",
    "\n",
    "+ We build a program that allows us to interact with a Web API.\n",
    "+ The <a href=\"https://openweathermap.org/api\">OpenWeatherMap</a> API. It provides the current weather as well as a five day forecast for a specific location.\n",
    "+ We’ll start with their sample API returning the current weather for a location."
   ]
  },
  {
   "cell_type": "markdown",
   "metadata": {},
   "source": [
    "When we call the API with London as location:\n",
    "\n",
    "$ http --body GET http://samples.openweathermap.org/data/2.5/weather \\\n",
    "  q==London \\\n",
    "  appid==b1b15e88fa797225412429c1c50c122a1\n",
    "  \n",
    "we will get a JSON object:"
   ]
  },
  {
   "cell_type": "markdown",
   "metadata": {},
   "source": [
    "```python\n",
    "{\n",
    "    \"base\": \"stations\",\n",
    "    \"clouds\": {\n",
    "        \"all\": 90\n",
    "    },\n",
    "    \"cod\": 200,\n",
    "    \"coord\": {\n",
    "        \"lat\": 51.51,\n",
    "        \"lon\": -0.13\n",
    "    },\n",
    "    \"dt\": 1485789600,\n",
    "    \"id\": 2643743,\n",
    "    \"main\": {\n",
    "        \"humidity\": 81,\n",
    "        \"pressure\": 1012,\n",
    "        \"temp\": 280.32,\n",
    "        \"temp_max\": 281.15,\n",
    "        \"temp_min\": 279.15\n",
    "    },\n",
    "    \"name\": \"London\",\n",
    "    \"sys\": {\n",
    "        \"country\": \"GB\",\n",
    "        \"id\": 5091,\n",
    "        \"message\": 0.0103,\n",
    "        \"sunrise\": 1485762037,\n",
    "        \"sunset\": 1485794875,\n",
    "        \"type\": 1\n",
    "    },\n",
    "    \"visibility\": 10000,\n",
    "    \"weather\": [\n",
    "        {\n",
    "            \"description\": \"light intensity drizzle\",\n",
    "            \"icon\": \"09d\",\n",
    "            \"id\": 300,\n",
    "            \"main\": \"Drizzle\"\n",
    "        }\n",
    "    ],\n",
    "    \"wind\": {\n",
    "        \"deg\": 80,\n",
    "        \"speed\": 4.1\n",
    "    }\n",
    "}\n",
    "```"
   ]
  },
  {
   "cell_type": "markdown",
   "metadata": {},
   "source": [
    "Now let us write a Python code to read the above object by writing a function that makes a simple request to the weather API using the two query parameters: location and key."
   ]
  },
  {
   "cell_type": "code",
   "execution_count": null,
   "metadata": {},
   "outputs": [],
   "source": [
    "import requests\n",
    "\n",
    "SAMPLE_API_KEY = 'b1b15e88fa797225412429c1c50c122a1'\n",
    "\n",
    "def current_weather(location, api_key=SAMPLE_API_KEY):\n",
    "    url = 'http://samples.openweathermap.org/data/2.5/weather'\n",
    "\n",
    "    query_params = {\n",
    "        'q': location,\n",
    "        'appid': api_key,\n",
    "    }\n",
    "\n",
    "    response = requests.get(url, params=query_params)\n",
    "\n",
    "    return response.json()['weather'][0]['description'],  response.json()['main']['temp']"
   ]
  },
  {
   "cell_type": "code",
   "execution_count": null,
   "metadata": {},
   "outputs": [],
   "source": [
    "current_weather('london')"
   ]
  },
  {
   "cell_type": "markdown",
   "metadata": {},
   "source": [
    "**Parsing a mandatory parameter with `click`**\n",
    "\n",
    "We want to be able to write something like:\n",
    "\n",
    "    python weather_data.py London\n",
    "\n",
    "and get:\n",
    "\n",
    "    The weather in London right now: light intensity drizzle and the temperature is 280.32 degrees Farenheit.\n",
    "    "
   ]
  },
  {
   "cell_type": "code",
   "execution_count": null,
   "metadata": {},
   "outputs": [],
   "source": [
    "%%writefile get_weather.py\n",
    "\n",
    "import requests\n",
    "\n",
    "SAMPLE_API_KEY = 'b1b15e88fa797225412429c1c50c122a1'\n",
    "\n",
    "def current_weather(location, api_key=SAMPLE_API_KEY):\n",
    "    url = 'http://samples.openweathermap.org/data/2.5/weather'\n",
    "\n",
    "    query_params = {\n",
    "        'q': location,\n",
    "        'appid': api_key,\n",
    "    }\n",
    "\n",
    "    response = requests.get(url, params=query_params)\n",
    "\n",
    "    return response.json()['weather'][0]['description'],  response.json()['main']['temp']"
   ]
  },
  {
   "cell_type": "code",
   "execution_count": null,
   "metadata": {},
   "outputs": [],
   "source": [
    "%%writefile weather_data.py\n",
    "import click\n",
    "import get_weather\n",
    "\n",
    "@click.command()\n",
    "@click.argument('location')\n",
    "def main(location):\n",
    "    weather = get_weather.current_weather(location)\n",
    "    print(f\"The weather in {location} right now: {weather[0]} and the temperature is {weather[1]} degrees Farenheit.\")\n",
    "\n",
    "if __name__ == '__main__':\n",
    "   main()"
   ]
  },
  {
   "cell_type": "code",
   "execution_count": null,
   "metadata": {},
   "outputs": [],
   "source": [
    "%run weather_data.py London"
   ]
  },
  {
   "cell_type": "markdown",
   "metadata": {},
   "source": [
    "**Parsing optional parameters with `click`**\n",
    "\n",
    "We want to be able to write something like:\n",
    "\n",
    "    python weather_data.py --api-key <your-api-key> London\n",
    "\n",
    "and get:\n",
    "\n",
    "    The weather in London right now: light intensity drizzle and the temperature is 280.32 degrees Farenheit."
   ]
  },
  {
   "cell_type": "code",
   "execution_count": null,
   "metadata": {},
   "outputs": [],
   "source": [
    "%%writefile weather_data.py\n",
    "import click\n",
    "import get_weather\n",
    "\n",
    "@click.command()\n",
    "@click.argument('location')\n",
    "@click.option('--api-key', '-a', help='your API key for the OpenWeatherMap API',)\n",
    "def main(location, api_key):\n",
    "    if api_key:\n",
    "       weather = get_weather.current_weather(location, api_key)\n",
    "    else:\n",
    "       weather = get_weather.current_weather(location)\n",
    "    print(f\"The weather in {location} right now: {weather[0]} and the temperature is {weather[1]} degrees Farenheit.\")\n",
    "\n",
    "if __name__ == '__main__':\n",
    "   main()"
   ]
  },
  {
   "cell_type": "code",
   "execution_count": null,
   "metadata": {},
   "outputs": [],
   "source": [
    "%run weather_data.py --help"
   ]
  },
  {
   "cell_type": "code",
   "execution_count": null,
   "metadata": {},
   "outputs": [],
   "source": [
    "%run weather_data.py London"
   ]
  },
  {
   "cell_type": "code",
   "execution_count": null,
   "metadata": {},
   "outputs": [],
   "source": []
  }
 ],
 "metadata": {
  "kernelspec": {
   "display_name": "Python 3",
   "language": "python",
   "name": "python3"
  },
  "language_info": {
   "codemirror_mode": {
    "name": "ipython",
    "version": 3
   },
   "file_extension": ".py",
   "mimetype": "text/x-python",
   "name": "python",
   "nbconvert_exporter": "python",
   "pygments_lexer": "ipython3",
   "version": "3.7.3"
  }
 },
 "nbformat": 4,
 "nbformat_minor": 1
}
