{
 "cells": [
  {
   "cell_type": "markdown",
   "metadata": {},
   "source": [
    "![NASA](http://www.nasa.gov/sites/all/themes/custom/nasatwo/images/nasa-logo.svg)\n",
    "\n",
    "<center>\n",
    "<h1><font size=\"+3\">GSFC Python Bootcamp</font></h1>\n",
    "</center>\n",
    "\n",
    "---\n",
    "\n",
    "<CENTER>\n",
    "<H1 style=\"color:red\">\n",
    "Command Line Interface\n",
    "</H1>    \n",
    "    <H2>The argparse Module</H2>\n",
    "\n",
    "</CENTER>"
   ]
  },
  {
   "cell_type": "code",
   "execution_count": null,
   "metadata": {},
   "outputs": [],
   "source": [
    "from __future__ import print_function"
   ]
  },
  {
   "cell_type": "markdown",
   "metadata": {},
   "source": [
    "## Reference Documents"
   ]
  },
  {
   "cell_type": "markdown",
   "metadata": {},
   "source": [
    "<OL>\n",
    "<LI> <A HREF=\"http://pymotw.com/2/argparse/\"> argparse – Command line option and argument parsing </A>\n",
    "<LI> <A HREF=\"https://docs.python.org/2/howto/argparse.html\"> Argparse Tutorial </A>\n",
    "</OL>"
   ]
  },
  {
   "cell_type": "markdown",
   "metadata": {},
   "source": [
    "## Introduction to Command Line Interface (CLI)\n",
    "\n",
    "+ Data scientists do many repetitive and similar tasks.\n",
    "+ The process involves running several Python scripts where parameters vary.\n",
    "+ It is important to intrduce to scripts reusable command-line interface tools.\n",
    "+ A CLI lets you access a program from the command line.\n",
    "\n",
    "A CLI starts with the name of the executable. Depedending of its complexity, you usually have **parameters** that you can pass to the script which can either be:\n",
    "\n",
    "+ An **argument**, which is a mandatory parameter that’s passed to the script. If you don’t provide it, the CLI will return an error. For example, click is the argument in this command: pip install click.\n",
    "+ An **option**, which is an optional parameter combining a name and a value portion.\n",
    "+ One special options is the **flag** which enables or disables a certain behaviour. The most common is probably `--help`. "
   ]
  },
  {
   "cell_type": "markdown",
   "metadata": {},
   "source": [
    "## What is `argparse`?\n",
    "\n",
    "+ Allow your program to easily parse command line options it receives.\n",
    "+ Take care of some of the very common tasks, such as handling -h command line option.\n",
    "+ `argparse` is based on `optparse` (no longer supported), and therefore very similar in terms of usage.\n",
    "+ In many cases argparse can be used as a straightforward replacement by updating the names of the classes and methods used. \n",
    "\n",
    "The `argparse` module provides an easy, declarative interface for creating command line tools, which knows how to:\n",
    "\n",
    "* Parse the arguments and flags from sys.argv\n",
    "* Convert arg strings into objects for your program\n",
    "* Format and print informative help messages"
   ]
  },
  {
   "cell_type": "markdown",
   "metadata": {},
   "source": []
  },
  {
   "cell_type": "markdown",
   "metadata": {},
   "source": [
    "## Comments on `argparse`\n",
    "\n",
    "Compared to `optparse`, `argparse` is better for:\n",
    "+ Handling positional arguments\n",
    "+ Supporting sub-commands\n",
    "+ Allowing alternative option prefixes like + and /\n",
    "+ Handling zero-or-more and one-or-more style arguments\n",
    "+ Producing more informative usage messages\n",
    "+ Providing a much simpler interface for custom types and actions"
   ]
  },
  {
   "cell_type": "markdown",
   "metadata": {},
   "source": [
    "## What We Want to Accomplish"
   ]
  },
  {
   "cell_type": "markdown",
   "metadata": {},
   "source": [
    "<UL>\n",
    "<LI> Support for a standalone command line options (boolean options).\n",
    "<LI> Support for mandatory (required) options.\n",
    "<LI> Support for options with one or more arguments.\n",
    "<LI> Set default values for options.\n",
    "<LI> Handle dependency between options.\n",
    "<LI> Grouping of options in help screen.\n",
    "<LI> Customizing help screen.\n",
    "</UL>"
   ]
  },
  {
   "cell_type": "markdown",
   "metadata": {},
   "source": [
    "## Simple Test Case"
   ]
  },
  {
   "cell_type": "markdown",
   "metadata": {},
   "source": [
    "Assume that you have a Python script (myScript.py) that is run using the command line:\n",
    "    \n",
    "           myScript.py -x execFile -i inputFile -o outputFile -p param otherArgs\n"
   ]
  },
  {
   "cell_type": "markdown",
   "metadata": {},
   "source": [
    "We want:\n",
    "<UL>\n",
    "<LI> To parse the command line options\n",
    "<LI> To add a help option\n",
    "<LI> To print the usage of the Python script\n",
    "<LI> The user to provide at least execFile and inputFile\n",
    "<LI> Default values be set for outputFile and param\n",
    "<LI> otherArgs to be optional\n",
    "</UL>"
   ]
  },
  {
   "cell_type": "markdown",
   "metadata": {},
   "source": [
    "## Setting Up a Parser:"
   ]
  },
  {
   "cell_type": "code",
   "execution_count": null,
   "metadata": {},
   "outputs": [],
   "source": [
    "import argparse\n",
    "aparser = argparse.ArgumentParser(description='How to use the script %(prog)s with argparse')"
   ]
  },
  {
   "cell_type": "markdown",
   "metadata": {},
   "source": [
    "## Adding Options"
   ]
  },
  {
   "cell_type": "markdown",
   "metadata": {},
   "source": [
    "We use the **add_argument** method:\n",
    "\n",
    "`ArgumentParser.add_argument(name or flags...[, action][, nargs][, const][, default][, type][, choices][, required][, help][, metavar][, dest])`"
   ]
  },
  {
   "cell_type": "markdown",
   "metadata": {},
   "source": [
    "* **name** or **flags** - Either a name or a list of option strings, e.g. foo or -f, --foo.\n",
    "* **action** - The basic type of action to be taken when this argument is encountered at the command line.\n",
    "* **nargs** - The number of command-line arguments that should be consumed.\n",
    "* **const** - A constant value required by some action and nargs selections.\n",
    "* **default** - The value produced if the argument is absent from the command line.\n",
    "* **type** - The type to which the command-line argument should be converted.\n",
    "* **choices** - A container of the allowable values for the argument.\n",
    "* **required** - Whether or not the command-line option may be omitted (optionals only).\n",
    "* **help** - A brief description of what the argument does.\n",
    "* **metavar** - A name for the argument in usage messages.\n",
    "* **dest** - The name of the attribute to be added to the object returned by parse_args()."
   ]
  },
  {
   "cell_type": "code",
   "execution_count": null,
   "metadata": {},
   "outputs": [],
   "source": [
    "aparser.add_argument('--version', action='version', version='%(prog)s 0.0')"
   ]
  },
  {
   "cell_type": "code",
   "execution_count": null,
   "metadata": {},
   "outputs": [],
   "source": [
    "aparser.add_argument('-x', '--exec', help='Execution file',\n",
    "                  dest='myExecFile', action='store', metavar='executionFile')\n",
    "\n",
    "aparser.add_argument('-i', '--input', help='Input file',\n",
    "                  dest='myInputFile', action='store',\n",
    "                  type=argparse.FileType('rt'), metavar='inputFile')\n",
    "\n",
    "aparser.add_argument('-o', '--output', help='Output file',\n",
    "                  dest='myOutputFile', action='store', default='ouput.txt',\n",
    "                  type=argparse.FileType('wt'), metavar='outputFile')\n",
    "\n",
    "aparser.add_argument('-p', '--param', help='Input parameter',\n",
    "                  dest='myParameter', action='store', type=float,\n",
    "                  default=1.0, metavar='inputParameter')\n",
    "\n",
    "aparser.add_argument('--optional', nargs='*', help='Optional arguments')"
   ]
  },
  {
   "cell_type": "markdown",
   "metadata": {},
   "source": [
    "## Parsing the Command Line"
   ]
  },
  {
   "cell_type": "markdown",
   "metadata": {},
   "source": [
    "- After all of the arguments are defined, parse the command-line by passing a sequence of argument strings to parse_args(). \n",
    "- By default, the arguments are taken from sys.argv[1:]\n",
    "- The return value from parse_args() is a Namespace containing the arguments to the command. \n",
    "- The object holds the argument values as attributes, so if the argument’s dest is set to \"myoption\", the value is accessible as args.myoption."
   ]
  },
  {
   "cell_type": "code",
   "execution_count": null,
   "metadata": {},
   "outputs": [],
   "source": [
    "aargs = aparser.parse_args()"
   ]
  },
  {
   "cell_type": "markdown",
   "metadata": {},
   "source": [
    "## Examples"
   ]
  },
  {
   "cell_type": "code",
   "execution_count": null,
   "metadata": {},
   "outputs": [],
   "source": [
    "# Get the remote files"
   ]
  },
  {
   "cell_type": "markdown",
   "metadata": {},
   "source": [
    "#### Example 1"
   ]
  },
  {
   "cell_type": "code",
   "execution_count": null,
   "metadata": {},
   "outputs": [],
   "source": [
    "%%writefile a_myScript_1.py\n",
    "import argparse\n",
    "\n",
    "# Instantiate the OptionParser class\n",
    "#-----------------------------------\n",
    "#aparser = argparse.ArgumentParser(version='%(prog)s version 0.0',\n",
    "aparser = argparse.ArgumentParser(description='How to use the script: %(prog)s')\n",
    "\n",
    "# Add the options\n",
    "#----------------\n",
    "aparser.add_argument('--version', action='version', version='%(prog)s 0.0')\n",
    "\n",
    "aparser.add_argument('-x', '--exec', help='Execution file',\n",
    "                     dest='myExecFile', action='store', metavar='executionFile')\n",
    "\n",
    "aparser.add_argument('-i', '--input', help='Input file',\n",
    "                     dest='myInputFile', action='store',\n",
    "                     type=argparse.FileType('rt'), metavar='inputFile')\n",
    "\n",
    "aparser.add_argument('-o', '--output', help='Output file',\n",
    "                     dest='myOutputFile', action='store', default='output.txt',\n",
    "                     type=argparse.FileType('wt'), metavar='outputFile')\n",
    "\n",
    "aparser.add_argument('-p', '--param', help='Input parameter',\n",
    "                     dest='myParameter', action='store', type=float,\n",
    "                     default=1.0, metavar='inputParameter')\n",
    "\n",
    "# Parse the command line\n",
    "#-----------------------\n",
    "aargs = aparser.parse_args()"
   ]
  },
  {
   "cell_type": "code",
   "execution_count": null,
   "metadata": {},
   "outputs": [],
   "source": [
    "%run a_myScript_1.py -h"
   ]
  },
  {
   "cell_type": "code",
   "execution_count": null,
   "metadata": {},
   "outputs": [],
   "source": [
    "%run a_myScript_1.py --version"
   ]
  },
  {
   "cell_type": "markdown",
   "metadata": {},
   "source": [
    "### Making Sure Arguments are Provided"
   ]
  },
  {
   "cell_type": "code",
   "execution_count": null,
   "metadata": {},
   "outputs": [],
   "source": [
    "if aargs.myExecFile is None:\n",
    "   print(\"You need to provide the execution file\")\n",
    "   oparser.print_help()\n",
    "   sys.exit(0)\n",
    "\n",
    "if aargs.myInputFile is None:\n",
    "   print(\"You need to provide an input file\")\n",
    "   oparser.print_help()\n",
    "   sys.exit(1)"
   ]
  },
  {
   "cell_type": "markdown",
   "metadata": {},
   "source": [
    "#### Example 2"
   ]
  },
  {
   "cell_type": "code",
   "execution_count": null,
   "metadata": {},
   "outputs": [],
   "source": [
    "%%writefile a_myScript_2.py\n",
    "import sys\n",
    "import argparse\n",
    "\n",
    "# Instantiate the OptionParser class\n",
    "#-----------------------------------\n",
    "aparser = argparse.ArgumentParser(description='How to use the script: %(prog)s')\n",
    "\n",
    "# Add the options\n",
    "#----------------\n",
    "\n",
    "aparser.add_argument('--version', action='version', version='%(prog)s 0.0')\n",
    "\n",
    "aparser.add_argument('-x', '--exec', help='Execution file',\n",
    "                     dest='myExecFile', action='store', metavar='executionFile')\n",
    "\n",
    "aparser.add_argument('-i', '--input', help='Input file',\n",
    "                     dest='myInputFile', action='store',\n",
    "                     type=argparse.FileType('rt'), metavar='inputFile')\n",
    "\n",
    "aparser.add_argument('-o', '--output', help='Output file',\n",
    "                     dest='myOutputFile', action='store', default='output.txt',\n",
    "                     type=argparse.FileType('wt'), metavar='outputFile')\n",
    "\n",
    "aparser.add_argument('-p', '--param', help='Input parameter',\n",
    "                     dest='myParameter', action='store', type=float,\n",
    "                     default=1.0, metavar='inputParameter')\n",
    "\n",
    "aparser.add_argument('--optional', nargs='*', help='Optional arguments')\n",
    "\n",
    "# Parse the command line\n",
    "#-----------------------\n",
    "aargs = aparser.parse_args()\n",
    "\n",
    "ne = 0\n",
    "\n",
    "# Make sure arguments are provided\n",
    "#---------------------------------\n",
    "if aargs.myExecFile is None:\n",
    "   print(\"You need to provide the execution file\")\n",
    "   aparser.print_help()\n",
    "   ne += 1\n",
    "   sys.exit(ne)\n",
    "\n",
    "if aargs.myInputFile is None:\n",
    "   print(\"You need to provide an input file\")\n",
    "   aparser.print_help()\n",
    "   ne += 1\n",
    "   sys.exit(ne)\n",
    "\n",
    "# Print all the options\n",
    "#----------------------\n",
    "print('Execution file  :', aargs.myExecFile)\n",
    "print('Input file      :', aargs.myInputFile)\n",
    "print('Output file     :', aargs.myOutputFile)\n",
    "print('Input parameter :', aargs.myParameter)\n",
    "print('Other arguments :', aargs.optional)\n"
   ]
  },
  {
   "cell_type": "code",
   "execution_count": null,
   "metadata": {},
   "outputs": [],
   "source": [
    "!touch myFile.in"
   ]
  },
  {
   "cell_type": "code",
   "execution_count": null,
   "metadata": {},
   "outputs": [],
   "source": [
    "%run a_myScript_2.py -x prog.x -i myFile.in"
   ]
  },
  {
   "cell_type": "code",
   "execution_count": null,
   "metadata": {},
   "outputs": [],
   "source": [
    "%run a_myScript_2.py -p 3.6 -x prog.x -i myFile.in --optional 32 simpleTest"
   ]
  },
  {
   "cell_type": "code",
   "execution_count": null,
   "metadata": {},
   "outputs": [],
   "source": [
    "%run a_myScript_2.py -x prog.x"
   ]
  },
  {
   "cell_type": "markdown",
   "metadata": {},
   "source": [
    "## Practice Problem"
   ]
  },
  {
   "cell_type": "markdown",
   "metadata": {},
   "source": [
    "Write a script, name compute_sine.py that takes as command line arguments:\n",
    "- a file name\n",
    "- a list of numbers\n",
    "and writes in the file the pairs o numbers and their sine values.\n",
    "\n",
    "A command line can look like:\n",
    "\n",
    "    python compute_sine.py -o my_file.txt 1.0 -6.4 3.14 0 34"
   ]
  },
  {
   "cell_type": "code",
   "execution_count": null,
   "metadata": {},
   "outputs": [],
   "source": []
  }
 ],
 "metadata": {
  "kernelspec": {
   "display_name": "Python 3",
   "language": "python",
   "name": "python3"
  },
  "language_info": {
   "codemirror_mode": {
    "name": "ipython",
    "version": 3
   },
   "file_extension": ".py",
   "mimetype": "text/x-python",
   "name": "python",
   "nbconvert_exporter": "python",
   "pygments_lexer": "ipython3",
   "version": "3.7.3"
  }
 },
 "nbformat": 4,
 "nbformat_minor": 1
}
