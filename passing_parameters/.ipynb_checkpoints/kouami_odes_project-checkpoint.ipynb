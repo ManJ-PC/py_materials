{
 "cells": [
  {
   "cell_type": "code",
   "execution_count": 2,
   "metadata": {},
   "outputs": [],
   "source": [
    "%matplotlib inline\n",
    "import numpy as np\n",
    "from scipy.integrate import odeint\n",
    "import matplotlib.pyplot as plt"
   ]
  },
  {
   "cell_type": "code",
   "execution_count": 3,
   "metadata": {},
   "outputs": [],
   "source": [
    "def h(x,a):\n",
    "    \"\"\"\n",
    "      function h\n",
    "    \"\"\"\n",
    "    return x/(x+a)"
   ]
  },
  {
   "cell_type": "code",
   "execution_count": 42,
   "metadata": {},
   "outputs": [],
   "source": [
    "def system_odes(X, t, *args):\n",
    "    \"\"\"\n",
    "       Set up the system of ODEs\n",
    "    \"\"\"\n",
    "    # Gather the parameters\n",
    "    K, lambda1, lambda2, mu1, mu2, beta11, beta22, beta12, beta21, theta, \\\n",
    "    omega, alpha12, alpha21, gamma, k12, k21 = args\n",
    "\n",
    "    # Gather the variables\n",
    "    X1, X2, C12, C21 = X\n",
    "    \n",
    "    # System of ODEs\n",
    "    dX1dt  = X1*(lambda1 * h(C21, k21)*(1.0 - X1/K) - mu1)\n",
    "    dX2dt  = X2*(lambda2 * h(C12, k12) - mu2)\n",
    "    dC12dt = beta12*X1 - alpha12*X2*h(C12, k12) - gamma*C12\n",
    "    dC21dt = beta21*X2*(k12/(k12+C12)) + beta11*X1 - alpha21*X1*h(C21, k21) - gamma*C21\n",
    "    return dX1dt, dX2dt, dC12dt, dC21dt"
   ]
  },
  {
   "cell_type": "code",
   "execution_count": 43,
   "metadata": {},
   "outputs": [],
   "source": [
    "# Set the parameters\n",
    "\n",
    "K = 1e6\n",
    "lambda1 = 0.9\n",
    "lambda2 = 0.8\n",
    "mu1 = 0.3\n",
    "mu2 = 0.3\n",
    "beta11 = 2.4e2\n",
    "beta22 = 0\n",
    "beta12 = 4.7e2\n",
    "beta21 = 0.7e2\n",
    "theta = 0\n",
    "omega = 0\n",
    "alpha12 = 9.4e2\n",
    "alpha21 = 5.1e2\n",
    "gamma = 0.08\n",
    "k12 = 1.8e7\n",
    "k21 = 2.3e7\n",
    "\n",
    "params = ( K, lambda1, lambda2, mu1, mu2, beta11, beta22, beta12, beta21, \\\n",
    "          theta, omega, alpha12, alpha21, gamma, k12, k21)"
   ]
  },
  {
   "cell_type": "code",
   "execution_count": 54,
   "metadata": {},
   "outputs": [],
   "source": [
    "# Solve the system of ODEs\n",
    "\n",
    "t = np.linspace(0.0, 100000.0, 10000)\n",
    "sol = odeint(system_odes, (5.0e5, 10.0, 1.0e7, 1.0e7), t, args = params)"
   ]
  },
  {
   "cell_type": "code",
   "execution_count": 55,
   "metadata": {},
   "outputs": [
    {
     "data": {
      "image/png": "[encoded data removed]",
      "text/plain": [
       "<Figure size 432x288 with 1 Axes>"
      ]
     },
     "metadata": {
      "needs_background": "light"
     },
     "output_type": "display_data"
    }
   ],
   "source": [
    "plt.plot(t, sol[:, 0], 'r', label='X1(t)')\n",
    "plt.plot(t, sol[:, 1], 'g', label='X2(t)')\n",
    "#plt.plot(t, sol[:, 2], 'b', label='C12(t)')\n",
    "#plt.plot(t, sol[:, 3], 'o', label='C21(t)')\n",
    "plt.legend(loc='best')\n",
    "plt.xlabel('t')\n",
    "plt.grid()\n",
    "plt.show()"
   ]
  },
  {
   "cell_type": "code",
   "execution_count": 56,
   "metadata": {},
   "outputs": [
    {
     "data": {
      "image/png": "[encoded data removed]",
      "text/plain": [
       "<Figure size 432x288 with 1 Axes>"
      ]
     },
     "metadata": {
      "needs_background": "light"
     },
     "output_type": "display_data"
    }
   ],
   "source": [
    "plt.plot(1.0e-6*sol[:, 0], 6*1.0e-6*sol[:, 1])\n",
    "#plt.legend(loc='best')\n",
    "plt.xlabel('X1')\n",
    "plt.ylabel('X2')\n",
    "plt.show()"
   ]
  },
  {
   "cell_type": "code",
   "execution_count": null,
   "metadata": {},
   "outputs": [],
   "source": []
  }
 ],
 "metadata": {
  "kernelspec": {
   "display_name": "Python 3",
   "language": "python",
   "name": "python3"
  },
  "language_info": {
   "codemirror_mode": {
    "name": "ipython",
    "version": 3
   },
   "file_extension": ".py",
   "mimetype": "text/x-python",
   "name": "python",
   "nbconvert_exporter": "python",
   "pygments_lexer": "ipython3",
   "version": "3.7.3"
  }
 },
 "nbformat": 4,
 "nbformat_minor": 2
}
