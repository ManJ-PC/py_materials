{
 "cells": [
  {
   "cell_type": "markdown",
   "metadata": {},
   "source": [
    "![NASA](http://www.nasa.gov/sites/all/themes/custom/nasatwo/images/nasa-logo.svg)\n",
    "\n",
    "<center>\n",
    "<h1><font size=\"+3\">GSFC Python Bootcamp</font></h1>\n",
    "</center>\n",
    "\n",
    "---\n",
    "\n",
    "<CENTER>\n",
    "<H1 style=\"color:red\">\n",
    "Introduction to ConfigParser\n",
    "\n",
    "</CENTER>"
   ]
  },
  {
   "cell_type": "code",
   "execution_count": null,
   "metadata": {},
   "outputs": [],
   "source": [
    "from __future__ import print_function"
   ]
  },
  {
   "cell_type": "markdown",
   "metadata": {},
   "source": [
    "## Reference Documents\n",
    "\n",
    "+ <a href=\"http://zetcode.com/python/configparser/\"> Python ConfigParser Tutorial</a>"
   ]
  },
  {
   "cell_type": "markdown",
   "metadata": {},
   "source": [
    "## <font color=\"red\">What is `ConfigParser`?</font>\n",
    "\n",
    "+ A class which implements a basic configuration language for Python programs.\n",
    "+ Provide a structure similar to Microsoft Windows INI files.\n",
    "+ Allows to write Python programs which can be easily customized by end users."
   ]
  },
  {
   "cell_type": "code",
   "execution_count": null,
   "metadata": {},
   "outputs": [],
   "source": []
  },
  {
   "cell_type": "markdown",
   "metadata": {},
   "source": [
    "## <font color=\"red\">Content of a Config File</font>\n",
    "\n",
    "A config file can contain integers, floating point values, and Booleans. \n",
    "\n",
    "+ The config file sections can be identified by having lines starting with `[` and ending with `]`. \n",
    "+ Between square brackets, we can put the section’s name, which can be any character except square bracket itself.\n",
    "+ Lines starting with `;` or `#` are treated as comments and are not available programmatically.\n",
    "+ The values are separated by a `=` or a `:`."
   ]
  },
  {
   "cell_type": "code",
   "execution_count": null,
   "metadata": {},
   "outputs": [],
   "source": [
    "%%writefile sample_config.cfg\n",
    "[USERCONFIG]\n",
    "message=irual Python Courses\n",
    "author=ASTG\n",
    "organization=CODE 606\n",
    "url=https://astg606.github.io/py_courses/virtual_courses/\n",
    "    \n",
    "[Program]\n",
    "name=Tutorial on ConfigParser\n",
    "location= Microsoft Team \n",
    "day= Thursday\n",
    "time= 10-11am"
   ]
  },
  {
   "cell_type": "markdown",
   "metadata": {},
   "source": [
    "## <font color=\"red\">Using a Config File</font>"
   ]
  },
  {
   "cell_type": "code",
   "execution_count": null,
   "metadata": {},
   "outputs": [],
   "source": [
    "import configparser"
   ]
  },
  {
   "cell_type": "markdown",
   "metadata": {},
   "source": [
    "**Initialize the Parser**"
   ]
  },
  {
   "cell_type": "code",
   "execution_count": null,
   "metadata": {},
   "outputs": [],
   "source": [
    "config = configparser.ConfigParser()"
   ]
  },
  {
   "cell_type": "markdown",
   "metadata": {},
   "source": [
    "**Open the Config File**"
   ]
  },
  {
   "cell_type": "code",
   "execution_count": null,
   "metadata": {},
   "outputs": [],
   "source": [
    "config.read('sample_config.cfg')"
   ]
  },
  {
   "cell_type": "markdown",
   "metadata": {},
   "source": [
    "**Read Data in the Config File**"
   ]
  },
  {
   "cell_type": "code",
   "execution_count": null,
   "metadata": {},
   "outputs": [],
   "source": [
    "message     = config.get('USERCONFIG', 'message')\n",
    "url_address = config.get('USERCONFIG', 'url')\n",
    "\n",
    "print(\"Message: \", message)\n",
    "print(\"url Address: \", url_address)"
   ]
  },
  {
   "cell_type": "code",
   "execution_count": null,
   "metadata": {},
   "outputs": [],
   "source": [
    "program_name     = config.get('Program', 'name')\n",
    "program_location = config.get('Program', 'location')\n",
    "\n",
    "print(\"Program Name:     \", program_name)\n",
    "print(\"Program Location: \", program_location)"
   ]
  },
  {
   "cell_type": "markdown",
   "metadata": {},
   "source": [
    "**Get all the Sections**"
   ]
  },
  {
   "cell_type": "code",
   "execution_count": null,
   "metadata": {},
   "outputs": [],
   "source": [
    "sections = config.sections()\n",
    "print(type(sections))\n",
    "print(\"List of Sections: \", sections)"
   ]
  },
  {
   "cell_type": "markdown",
   "metadata": {},
   "source": [
    "**List of Keys for Each Section**"
   ]
  },
  {
   "cell_type": "code",
   "execution_count": null,
   "metadata": {},
   "outputs": [],
   "source": [
    "for section_name in sections:\n",
    "    print('---> ', section_name)\n",
    "    print('  \\t Options: {}'.format(config.options(section_name))) "
   ]
  },
  {
   "cell_type": "markdown",
   "metadata": {},
   "source": [
    "**Print all the variables and their values for each section in the configuration file**"
   ]
  },
  {
   "cell_type": "code",
   "execution_count": null,
   "metadata": {},
   "outputs": [],
   "source": [
    "for section_name in sections:\n",
    "    print('-' * 80)\n",
    "    print('--->', section_name)\n",
    "    print('-' * 80)\n",
    "    for name, value in config.items(section_name):\n",
    "        print('\\t  {} = {}'.format(name, value))\n",
    "    print()"
   ]
  },
  {
   "cell_type": "markdown",
   "metadata": {},
   "source": [
    "**Check if Section Exists**"
   ]
  },
  {
   "cell_type": "code",
   "execution_count": null,
   "metadata": {},
   "outputs": [],
   "source": [
    "for key in ['USERCONFIG', 'Program', 'TEST']:\n",
    "    print('{:<12}: {}'.format(key, config.has_section(key)))"
   ]
  },
  {
   "cell_type": "markdown",
   "metadata": {},
   "source": [
    "**Get the Value of a Config Variable**"
   ]
  },
  {
   "cell_type": "code",
   "execution_count": null,
   "metadata": {},
   "outputs": [],
   "source": [
    "def get_variable_value(config, section_name, var_name, default=None):\n",
    "    \"\"\"\n",
    "      Get the value of the variable contains in a specific section.\n",
    "\n",
    "      Input value:\n",
    "             - config: configuration object\n",
    "             - section_name: name of the section\n",
    "             - var_name: name of the variable\n",
    "             - default: default value if variable not present\n",
    "    \"\"\"\n",
    "\n",
    "    if config.has_option(section_name, var_name):\n",
    "        return config.get(section_name, var_name)\n",
    "    else:\n",
    "        return default\n"
   ]
  },
  {
   "cell_type": "markdown",
   "metadata": {},
   "source": [
    "## <font color=\"red\">Example</font>\n",
    "\n",
    "We want to write a Python program that receives from command line a config file and print the content of the config file. \n",
    "\n",
    "         python print_config_file.py -c sample_config.cfg"
   ]
  },
  {
   "cell_type": "code",
   "execution_count": null,
   "metadata": {},
   "outputs": [],
   "source": [
    "%%writefile print_config_file.py\n",
    "import click\n",
    "import configparser\n",
    "\n",
    "\n",
    "@click.command()\n",
    "@click.option('--config_file', '-c', default=\"sample_config.cfg\", help=\"config file name.\")\n",
    "def get_config_file(config_file):\n",
    "    click.echo('Obtain the config file: {}'.format(config_file))\n",
    "   \n",
    "    config    = configparser.ConfigParser()\n",
    "    config.read(config_file)\n",
    "\n",
    "    for section_name in config.sections():\n",
    "        print('-' * 80)\n",
    "        print('--->', section_name)\n",
    "        print('-' * 80)\n",
    "        for name, value in config.items(section_name):\n",
    "            print('\\t  {} = {}'.format(name, value))\n",
    "        print()\n",
    "        \n",
    "get_config_file()"
   ]
  },
  {
   "cell_type": "code",
   "execution_count": null,
   "metadata": {},
   "outputs": [],
   "source": [
    "%run print_config_file.py --help"
   ]
  },
  {
   "cell_type": "code",
   "execution_count": null,
   "metadata": {},
   "outputs": [],
   "source": [
    "%run print_config_file.py -c sample_config.cfg"
   ]
  },
  {
   "cell_type": "markdown",
   "metadata": {},
   "source": [
    "## <font color=\"red\"> Breakout</font>\n",
    "\n",
    "Write a script, name compute_sine.py that takes as command line argument a config file.\n",
    "The file should contains as variables:\n",
    "\n",
    "- an output file name\n",
    "- a list of numbers\n",
    "\n",
    "The script writes in the output file the pairs of numbers and their sine values."
   ]
  },
  {
   "cell_type": "code",
   "execution_count": null,
   "metadata": {},
   "outputs": [],
   "source": [
    "%%writefile sine_config.cfg\n",
    "\n",
    "[FILE]\n",
    "out_file: my_file.txt\n",
    "\n",
    "[NUMBERS]\n",
    "numbers: 1.0 -6.4 3.14 0.0 34.7"
   ]
  },
  {
   "cell_type": "code",
   "execution_count": null,
   "metadata": {},
   "outputs": [],
   "source": [
    "%%writefile compute_sine.py\n"
   ]
  }
 ],
 "metadata": {
  "kernelspec": {
   "display_name": "Python 3",
   "language": "python",
   "name": "python3"
  },
  "language_info": {
   "codemirror_mode": {
    "name": "ipython",
    "version": 3
   },
   "file_extension": ".py",
   "mimetype": "text/x-python",
   "name": "python",
   "nbconvert_exporter": "python",
   "pygments_lexer": "ipython3",
   "version": "3.7.3"
  }
 },
 "nbformat": 4,
 "nbformat_minor": 1
}
