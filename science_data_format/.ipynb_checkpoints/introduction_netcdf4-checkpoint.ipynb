{
 "cells": [
  {
   "cell_type": "markdown",
   "metadata": {},
   "source": [
    "![NASA](http://www.nasa.gov/sites/all/themes/custom/nasatwo/images/nasa-logo.svg)\n",
    "\n",
    "<center>\n",
    "<h1><font size=\"+3\">GSFC Python Bootcamp</font></h1>\n",
    "</center>\n",
    "\n",
    "---\n",
    "\n",
    "<CENTER>\n",
    "<H1 style=\"color:red\">\n",
    "An Introduction to netCDF4 Python\n",
    "</H1>\n",
    "</CENTER>"
   ]
  },
  {
   "cell_type": "code",
   "execution_count": null,
   "metadata": {},
   "outputs": [],
   "source": [
    "from __future__ import print_function"
   ]
  },
  {
   "cell_type": "markdown",
   "metadata": {},
   "source": [
    "# <font color='red'> Useful References </font>"
   ]
  },
  {
   "cell_type": "markdown",
   "metadata": {},
   "source": [
    "* <A HREF=\"http://pyhogs.github.io/intro_netcdf4.html\">Create and read netCDF files</A>\n",
    "* <A HREF=\"https://unidata.github.io/netcdf4-python/netCDF4/index.html\">netCDF4 module</A>"
   ]
  },
  {
   "cell_type": "markdown",
   "metadata": {},
   "source": [
    "## <font color=\"red\"> What we will cover </font>\n",
    "* Opening a file\n",
    "* Dimension\n",
    "* Variables\n",
    "* Attributes\n",
    "* Writing data\n",
    "* Creating groups\n",
    "* Reading data"
   ]
  },
  {
   "cell_type": "markdown",
   "metadata": {},
   "source": [
    "## <font color='red'> What is netCDF?</font>"
   ]
  },
  {
   "cell_type": "markdown",
   "metadata": {},
   "source": [
    "**Overview**\n",
    "\n",
    "* The Network Common Data Form, or netCDF, is an interface to a library of data access functions for storing and retrieving data in the form of arrays.\n",
    "* NetCDF is an abstraction that supports a view of data as a collection of self-describing, portable objects that can be accessed through a simple interface.\n",
    "* All operations to access and manipulate data in a netCDF dataset must use only the set of functions provided by the interface.\n",
    "* Array values may be accessed directly, without knowing details of how the data are stored.\n",
    "* NetCDF supports efficient access to small subsets of large datasets."
   ]
  },
  {
   "cell_type": "markdown",
   "metadata": {},
   "source": [
    "**Portability**\n",
    "\n",
    "* The netCDF library is supported for various Linux/UNIX operating systems as well as MS Windows.\n",
    "* APIs written for Fortran 77/90, C, C++, Java"
   ]
  },
  {
   "cell_type": "markdown",
   "metadata": {},
   "source": [
    "**Conventions**\n",
    "\n",
    "* The mere use of netCDF is not sufficient to make data \"self-describing\" and meaningful to both humans and machines. \n",
    "* By using a set of conventions, a data producer is more likely to produce files that can be easily shared within the research community, and that contain enough details to be useful as a long-term archive. \n",
    "* The names of variables and dimensions should be meaningful and conform to any relevant conventions.\n",
    "* It is important to use all the relevant standard attributes using the relevant conventions.\n",
    "\n"
   ]
  },
  {
   "cell_type": "code",
   "execution_count": null,
   "metadata": {},
   "outputs": [],
   "source": []
  },
  {
   "cell_type": "markdown",
   "metadata": {},
   "source": [
    "## <font color='red'> What is netCDF4 Python?</font>\n",
    "\n",
    "* Python interface to the netCDF version 4 library.\n",
    "* **Can read and write files in both the new netCDF 4 and the netCDF 3 formats**.\n",
    "* Can create files that are readable by HDF5 utilities.\n",
    "* Relies on NumPy arrays."
   ]
  },
  {
   "cell_type": "markdown",
   "metadata": {},
   "source": [
    "**<font color=\"blue\">Run the cell below only if you are in Google Colab</font>**"
   ]
  },
  {
   "cell_type": "code",
   "execution_count": null,
   "metadata": {},
   "outputs": [],
   "source": [
    "!pip install netCDF4"
   ]
  },
  {
   "cell_type": "markdown",
   "metadata": {},
   "source": [
    "-----"
   ]
  },
  {
   "cell_type": "code",
   "execution_count": null,
   "metadata": {},
   "outputs": [],
   "source": [
    "import numpy as np\n",
    "from netCDF4 import Dataset"
   ]
  },
  {
   "cell_type": "markdown",
   "metadata": {},
   "source": [
    "#### <font color='red'> Opening a netCDF File</font>"
   ]
  },
  {
   "cell_type": "code",
   "execution_count": null,
   "metadata": {},
   "outputs": [],
   "source": [
    "ncFileName = 'sample_netcdf.nc4'\n",
    "modeType   = 'w'\n",
    "fileFormat = 'NETCDF4'\n",
    "ncfid = Dataset(ncFileName, mode=modeType, format=fileFormat)"
   ]
  },
  {
   "cell_type": "markdown",
   "metadata": {},
   "source": [
    "`modeType` has the options:\n",
    "* 'w': to create a new file\n",
    "* 'r+': to read and write with an existing file\n",
    "* 'r': to read (only) an existing file\n",
    "* 'a': to append to existing file\n",
    "\n",
    "`fileFormat` has the options: \n",
    "* 'NETCDF3_CLASSIC': Original netCDF format     \n",
    "* 'NETCDF3_64BIT_OFFSET': Used to ease the size restrictions of netCDF classic files\n",
    "* 'NETCDF4_CLASSIC'\n",
    "* 'NETCDF4': Offer new features such as groups, compound types, variable length arrays, new unsigned integer types, parallel I/O access, etc.\n",
    "* 'NETCDF3_64BIT_DATA'"
   ]
  },
  {
   "cell_type": "markdown",
   "metadata": {},
   "source": [
    "#### <font color='red'> Creating Dimensions in a netCDF File</font>\n",
    "* Use the method `createDimension`\n",
    "* It typically takes as arguments a string (name of the dimension) and an integer (dimension size)\n",
    "* For unlimited dimensions, use `None` as size.\n",
    "* Unlimited size dimensions must be declared before (“to the left of”) other dimensions."
   ]
  },
  {
   "cell_type": "code",
   "execution_count": null,
   "metadata": {},
   "outputs": [],
   "source": [
    "time = ncfid.createDimension('time', None)\n",
    "lev  = ncfid.createDimension('lev', 72)\n",
    "lat  = ncfid.createDimension('lat', 91)\n",
    "lon  = ncfid.createDimension('lon', 144)"
   ]
  },
  {
   "cell_type": "markdown",
   "metadata": {},
   "source": [
    "#### <font color='red'>Create Variables</font>\n",
    "* Use the method ``createVariable``\n",
    "* The first three arguments are the variable name, the variable type, a tuple of previously defined dimension names.\n",
    "* If you need data compression, add the `zlib=True` argument."
   ]
  },
  {
   "cell_type": "markdown",
   "metadata": {},
   "source": [
    "**Dimension Variables**"
   ]
  },
  {
   "cell_type": "code",
   "execution_count": null,
   "metadata": {},
   "outputs": [],
   "source": [
    "times      = ncfid.createVariable('time','f8',('time',))\n",
    "levels     = ncfid.createVariable('lev','i4',('lev',))\n",
    "latitudes  = ncfid.createVariable('lat','f4',('lat',))\n",
    "longitudes = ncfid.createVariable('lon','f4',('lon',))"
   ]
  },
  {
   "cell_type": "markdown",
   "metadata": {},
   "source": [
    "**Regular Variables**"
   ]
  },
  {
   "cell_type": "code",
   "execution_count": null,
   "metadata": {},
   "outputs": [],
   "source": [
    "temp = ncfid.createVariable('temp','f4', \\\n",
    "                            ('time','lev','lat','lon',))"
   ]
  },
  {
   "cell_type": "markdown",
   "metadata": {},
   "source": [
    "#### <font color='red'>Adding Variable Attributes</font>\n",
    "* Attributes allow us to capture metadata that would otherwise be separated from the data.\n",
    "* Variable attributes are added on individual variables in the dataset.\n",
    "* All variables should have values for the following attributes unless there is a very good reason not to:\n",
    "\n",
    "        o units\n",
    "        o long_name\n",
    "\n",
    "You may also consider attributes such as:\n",
    "* valid_min: Smallest valid value of a variable.\n",
    "* valid_max: Largest valid value of a variable.\n",
    "* _ FillValue: The value that a variable gets filled with before any data is loaded into it.\n",
    "* standard_name: A name used to identify the physical quantity. A standard name contains no whitespace and is case sensitive. "
   ]
  },
  {
   "cell_type": "code",
   "execution_count": null,
   "metadata": {},
   "outputs": [],
   "source": [
    "latitudes.long_name  = 'latitude'\n",
    "latitudes.units      = 'degrees north'\n",
    "\n",
    "longitudes.long_name = 'longitude'\n",
    "longitudes.units     = 'degrees east'\n",
    "\n",
    "levels.long_name     = 'vertical levels'\n",
    "levels.units         = 'hPa'\n",
    "levels.positive      = 'down'\n",
    "\n",
    "times.long_name      = 'time'\n",
    "times.units          = 'hours since 2019-12-19 11:59:43.0'\n",
    "times.calendar       = 'gregorian'\n",
    "\n",
    "temp.long_name       = 'temperature'\n",
    "temp.units           = 'K'\n",
    "temp._FillValue      = 1.0e15\n",
    "temp.valid_min       = 200.\n",
    "temp.valid_max       = 350.\n",
    "temp.standard_name   = 'atmospheric_temperature'"
   ]
  },
  {
   "cell_type": "markdown",
   "metadata": {},
   "source": [
    "#### <font color='red'>Adding Global Attributes</font>\n",
    "* Global attributes are on the dataset.\n",
    "* We use directly the file identifier to add them."
   ]
  },
  {
   "cell_type": "code",
   "execution_count": null,
   "metadata": {},
   "outputs": [],
   "source": [
    "import time\n",
    "ncfid.description = 'Sample netCDF file'\n",
    "ncfid.institution = 'NASA GSFC'\n",
    "ncfid.history     = 'File created on' + time.ctime(time.time())\n",
    "ncfid.source      = 'netCDF4 python tutorial'"
   ]
  },
  {
   "cell_type": "markdown",
   "metadata": {},
   "source": [
    "#### <font color='red'>Writing Data in the File</font>"
   ]
  },
  {
   "cell_type": "code",
   "execution_count": null,
   "metadata": {},
   "outputs": [],
   "source": [
    "latitudes[:]  =  np.arange(-90,91,2.0)\n",
    "longitudes[:] =  np.arange(-180,180,2.5)\n",
    "levels[:]     =  np.arange(0,72,1)\n",
    "\n",
    "out_frequency = 3   # ouput frequency in hours\n",
    "num_records   = 5\n",
    "for i in range(num_records):\n",
    "    times[i]      = i*out_frequency\n",
    "    temp[i,:,:,:] = np.random.uniform(size=(levels.size,\n",
    "                                            latitudes.size,\n",
    "                                            longitudes.size))"
   ]
  },
  {
   "cell_type": "markdown",
   "metadata": {},
   "source": [
    "#### <font color='red'>Printing Dimension Information</font>"
   ]
  },
  {
   "cell_type": "code",
   "execution_count": null,
   "metadata": {},
   "outputs": [],
   "source": [
    "# List all the dimension information\n",
    "for dim in ncfid.dimensions.values():\n",
    "     print(dim, dim.isunlimited())"
   ]
  },
  {
   "cell_type": "code",
   "execution_count": null,
   "metadata": {},
   "outputs": [],
   "source": [
    "# Get the list of dimension name and retrieve info for each dimension\n",
    "for name in ncfid.dimensions.keys():\n",
    "    dim = ncfid.variables[name]\n",
    "    print(name, dim.dtype, dim.size)"
   ]
  },
  {
   "cell_type": "markdown",
   "metadata": {},
   "source": [
    "#### <font color='red'>Printing File Attributes</font>"
   ]
  },
  {
   "cell_type": "code",
   "execution_count": null,
   "metadata": {},
   "outputs": [],
   "source": [
    "# Get the global file attributes\n",
    "for att in ncfid.ncattrs():\n",
    "    print(att+':', getattr(ncfid,att))"
   ]
  },
  {
   "cell_type": "code",
   "execution_count": null,
   "metadata": {},
   "outputs": [],
   "source": [
    "# Global attributes as a dictionary\n",
    "print(ncfid.__dict__)"
   ]
  },
  {
   "cell_type": "markdown",
   "metadata": {},
   "source": [
    "#### <font color='red'>Printing Variable Information</font>"
   ]
  },
  {
   "cell_type": "code",
   "execution_count": null,
   "metadata": {},
   "outputs": [],
   "source": [
    "# List variable information but exclude dimensions\n",
    "for name in ncfid.variables.keys():\n",
    "    if (name not in ncfid.dimensions.keys()):\n",
    "       data = ncfid.variables[name]\n",
    "       print(name, data.units, data.shape, data.dtype, data.dimensions)"
   ]
  },
  {
   "cell_type": "code",
   "execution_count": null,
   "metadata": {},
   "outputs": [],
   "source": [
    "def print_ncattr(ncfid, key):\n",
    "    \"\"\"\n",
    "        Prints the NetCDF file attributes for a given key\n",
    "\n",
    "        Parameters: \n",
    "            * ncfid:  netCDF file identifier\n",
    "            * key:    unicode (a valid netCDF4.Dataset.variables key)\n",
    "    \"\"\"\n",
    "    try:\n",
    "        print(key, '-->')\n",
    "        print(\"\\t\\ttype:\", repr(ncfid.variables[key].dtype))\n",
    "        for ncattr in ncfid.variables[key].ncattrs():\n",
    "            print('\\t\\t%s:' % ncattr,\\\n",
    "                    repr(ncfid.variables[key].getncattr(ncattr)))\n",
    "    except KeyError:\n",
    "        print(\"\\t\\tWARNING: %s does not contain variable attributes\" % key)"
   ]
  },
  {
   "cell_type": "code",
   "execution_count": null,
   "metadata": {},
   "outputs": [],
   "source": [
    "print(print_ncattr.__doc__)"
   ]
  },
  {
   "cell_type": "code",
   "execution_count": null,
   "metadata": {},
   "outputs": [],
   "source": [
    "for name in ncfid.variables.keys():\n",
    "    print_ncattr(ncfid, name)"
   ]
  },
  {
   "cell_type": "markdown",
   "metadata": {},
   "source": [
    "#### <font color='red'>Create Groups</font>\n",
    "* We can organize data in hierarchical groups, which are analogous to directories in a filesystem. \n",
    "* Groups serve as containers for variables, dimensions and attributes, as well as other groups.\n",
    "* Use the method `createGroup` to create groups."
   ]
  },
  {
   "cell_type": "code",
   "execution_count": null,
   "metadata": {},
   "outputs": [],
   "source": [
    "fcstgrp  = ncfid.createGroup('forecasts')\n",
    "fcstgrpm = ncfid.createGroup('forecasts/model')"
   ]
  },
  {
   "cell_type": "code",
   "execution_count": null,
   "metadata": {},
   "outputs": [],
   "source": [
    "# List the groups\n",
    "print(ncfid.groups)"
   ]
  },
  {
   "cell_type": "code",
   "execution_count": null,
   "metadata": {},
   "outputs": [],
   "source": [
    "def walk_group_tree(top):\n",
    "    \"\"\"\n",
    "       Python generator that is used to walk the directory tree.\n",
    "    \"\"\"\n",
    "    values = top.groups.values()\n",
    "    yield values\n",
    "    for value in top.groups.values():\n",
    "        for children in walk_group_tree(value):\n",
    "            yield children"
   ]
  },
  {
   "cell_type": "code",
   "execution_count": null,
   "metadata": {},
   "outputs": [],
   "source": [
    "# List of the created groups in the dataset\n",
    "for children in walk_group_tree(ncfid):\n",
    "    for child in children:\n",
    "        print(child)"
   ]
  },
  {
   "cell_type": "markdown",
   "metadata": {},
   "source": [
    "##### Add variable to a group"
   ]
  },
  {
   "cell_type": "code",
   "execution_count": null,
   "metadata": {},
   "outputs": [],
   "source": [
    "tempm = ncfid.createVariable('forecasts/model/temp','f4', \\\n",
    "                                  ('time','lev','lat','lon',))\n",
    "\n",
    "tempm.long_name       = 'temperature (model)'\n",
    "tempm.units           = 'K'\n",
    "tempm._FilledValue    = 1.0e15\n",
    "tempm.valid_min       = 200.\n",
    "tempm.valid_max       = 350.\n",
    "tempm.standard_name   = 'atmospheric_temperature'\n",
    "\n",
    "tempm[0:num_records,:,:,:] = np.random.uniform(size=(num_records,\n",
    "                                                     levels.size,\n",
    "                                                     latitudes.size,\n",
    "                                                     longitudes.size))"
   ]
  },
  {
   "cell_type": "code",
   "execution_count": null,
   "metadata": {},
   "outputs": [],
   "source": [
    "print(ncfid[\"forecasts/model\"])"
   ]
  },
  {
   "cell_type": "code",
   "execution_count": null,
   "metadata": {},
   "outputs": [],
   "source": [
    "print(ncfid[\"forecasts/model/temp\"])"
   ]
  },
  {
   "cell_type": "markdown",
   "metadata": {},
   "source": [
    "#### <font color='red'>Close the file</font>"
   ]
  },
  {
   "cell_type": "code",
   "execution_count": null,
   "metadata": {},
   "outputs": [],
   "source": [
    "ncfid.close()"
   ]
  },
  {
   "cell_type": "markdown",
   "metadata": {},
   "source": [
    "### <font color='red'>Reading a netCDF File</font>"
   ]
  },
  {
   "cell_type": "code",
   "execution_count": null,
   "metadata": {},
   "outputs": [],
   "source": [
    "with Dataset(ncFileName, mode='r') as ncfid:\n",
    "     time   = ncfid.variables['time'][:]\n",
    "     lev    = ncfid.variables['lev'][:]\n",
    "     lat    = ncfid.variables['lat'][:]\n",
    "     lon    = ncfid.variables['lon'][:]\n",
    "     temp   = ncfid.variables['temp'][:]\n",
    "     grpid1 = ncfid.groups['forecasts']\n",
    "     grpid2 = grpid1.groups['model']\n",
    "     tempm  = grpid2.variables['temp'][:] \n",
    "    \n",
    "     # Print variable information\n",
    "     print_ncattr(ncfid,  'time')\n",
    "     print_ncattr(ncfid,  'temp')\n",
    "     print_ncattr(grpid2, 'temp')"
   ]
  },
  {
   "cell_type": "code",
   "execution_count": null,
   "metadata": {},
   "outputs": [],
   "source": [
    "print(\"Time: \", time)"
   ]
  },
  {
   "cell_type": "code",
   "execution_count": null,
   "metadata": {},
   "outputs": [],
   "source": [
    "print(\"Longitude values: \", lon)"
   ]
  },
  {
   "cell_type": "code",
   "execution_count": null,
   "metadata": {},
   "outputs": [],
   "source": [
    "print(\"Latitude values: \", lat)"
   ]
  },
  {
   "cell_type": "code",
   "execution_count": null,
   "metadata": {},
   "outputs": [],
   "source": [
    "print(\"Temperature info: \")\n",
    "print(temp.shape)\n",
    "print(np.min(temp), np.max(temp))"
   ]
  },
  {
   "cell_type": "code",
   "execution_count": null,
   "metadata": {},
   "outputs": [],
   "source": [
    "print(\"Temperature (model) info: \")\n",
    "print(tempm.shape)\n",
    "print(np.min(tempm), np.max(tempm))"
   ]
  },
  {
   "cell_type": "markdown",
   "metadata": {},
   "source": [
    "### <font color='red'>Updating a Variable in an Existing netCDF File</font>"
   ]
  },
  {
   "cell_type": "code",
   "execution_count": null,
   "metadata": {},
   "outputs": [],
   "source": [
    "with Dataset(ncFileName, mode='a') as ncfid:\n",
    "     temp = ncfid.variables['temp'][:]\n",
    "     data = temp[:]\n",
    "     data = 1.1*data + 100.0\n",
    "     temp[:] = data"
   ]
  },
  {
   "cell_type": "code",
   "execution_count": null,
   "metadata": {},
   "outputs": [],
   "source": [
    "print(temp.shape)\n",
    "print(np.min(temp), np.max(temp))"
   ]
  },
  {
   "cell_type": "markdown",
   "metadata": {},
   "source": [
    "## <font color=\"red\">Example</font>"
   ]
  },
  {
   "cell_type": "markdown",
   "metadata": {},
   "source": [
    "We want to use the netCDF file:\n",
    "\n",
    "https://www.unidata.ucar.edu/software/netcdf/examples/sresa1b_ncar_ccsm3-example.nc\n",
    "\n",
    "to plot the surface air temperature (variable `tas`) and the zonal mean height of the wind (variable `ua`).\n",
    "\n",
    "\n",
    "The metadata of the file is located at:\n",
    "\n",
    "https://www.unidata.ucar.edu/software/netcdf/examples/sresa1b_ncar_ccsm3-example.cdl"
   ]
  },
  {
   "cell_type": "code",
   "execution_count": null,
   "metadata": {},
   "outputs": [],
   "source": [
    "# Get the remote  file\n",
    "nc_file = \"sresa1b_ncar_ccsm3-example.nc\"\n",
    "url = \"https://www.unidata.ucar.edu/software/netcdf/examples/\"\n",
    "import urllib.request\n",
    "urllib.request.urlretrieve(url+nc_file, nc_file)"
   ]
  },
  {
   "cell_type": "code",
   "execution_count": null,
   "metadata": {},
   "outputs": [],
   "source": [
    "# Open the netCDF file and read surface air temperature\n",
    "with Dataset(nc_file,'r') as ncid:\n",
    "     lons      = ncid.variables['lon'][:] # longitude grid points\n",
    "     lats      = ncid.variables['lat'][:] # latitude grid points\n",
    "     levs      = ncid.variables['plev'][:] # pressure leves\n",
    "     surf_temp = ncid.variables['tas'][:]\n",
    "     uwind     = ncid.variables['ua'][:]\n",
    "\n",
    "print(\"Shape of lons:      \", np.shape(lons), lons[0], lons[-1])\n",
    "print(\"Shape of lats:      \", np.shape(lats), lats[0], lats[-1])\n",
    "print(\"Shape of levs:      \", np.shape(levs), levs[0], levs[-1])\n",
    "print(\"Shape of surf_temp: \", np.shape(surf_temp))\n",
    "print(\"Shape of uwind:     \", np.shape(uwind))"
   ]
  },
  {
   "cell_type": "markdown",
   "metadata": {},
   "source": [
    "**Load Plotting Modules**"
   ]
  },
  {
   "cell_type": "markdown",
   "metadata": {},
   "source": [
    "**<font color='blue'> Only run the cell below if you are on Google Colab</font>**"
   ]
  },
  {
   "cell_type": "code",
   "execution_count": null,
   "metadata": {},
   "outputs": [],
   "source": [
    "!apt-get install libproj-dev proj-data proj-bin\n",
    "!apt-get install libgeos-dev\n",
    "!pip install cython\n",
    "!pip install cartopy"
   ]
  },
  {
   "cell_type": "markdown",
   "metadata": {},
   "source": [
    "---"
   ]
  },
  {
   "cell_type": "code",
   "execution_count": null,
   "metadata": {},
   "outputs": [],
   "source": [
    "%matplotlib inline\n",
    "import matplotlib\n",
    "import matplotlib.pyplot as plt\n",
    "from matplotlib import cm\n",
    "\n",
    "import cartopy\n",
    "import cartopy.crs as ccrs\n",
    "import cartopy.feature as cfeature\n",
    "from cartopy.mpl.ticker import LongitudeFormatter, LatitudeFormatter"
   ]
  },
  {
   "cell_type": "markdown",
   "metadata": {},
   "source": [
    "**Plot of Surface Temperature**"
   ]
  },
  {
   "cell_type": "code",
   "execution_count": null,
   "metadata": {},
   "outputs": [],
   "source": [
    "plt.figure(figsize=(9, 5))\n",
    "map_projection = ccrs.PlateCarree()\n",
    "ax = plt.axes(projection=map_projection)\n",
    "im = ax.contourf(lons, lats, surf_temp[0,:,:], transform=map_projection)\n",
    "ax.coastlines()\n",
    "\n",
    "ax.set_xticks(np.linspace(-180, 180, 5), crs=map_projection)\n",
    "ax.set_yticks(np.linspace(-90, 90, 5), crs=map_projection)\n",
    "lon_formatter = LongitudeFormatter(zero_direction_label=True)\n",
    "lat_formatter = LatitudeFormatter()\n",
    "ax.xaxis.set_major_formatter(lon_formatter)\n",
    "ax.yaxis.set_major_formatter(lat_formatter)\n",
    "\n",
    "plt.colorbar(im, orientation='vertical')\n",
    "\n",
    "ax.set_global()\n",
    "plt.show()"
   ]
  },
  {
   "cell_type": "markdown",
   "metadata": {},
   "source": [
    "**Plot Zonal Mean Height of Wind**"
   ]
  },
  {
   "cell_type": "code",
   "execution_count": null,
   "metadata": {},
   "outputs": [],
   "source": [
    "# Compute the zonal mean height\n",
    "zonal_mean_height = np.mean(uwind[0,:,:,:], axis=2)\n",
    "\n",
    "# Select contour levels\n",
    "ncountours = 10\n",
    "fac = 0.005\n",
    "min_val = (1.0-fac)*np.min(zonal_mean_height)\n",
    "max_val = (1.0+fac)*np.max(zonal_mean_height)\n",
    "clevs = np.linspace(min_val, max_val, ncountours)\n",
    "\n",
    "fig = plt.figure(figsize=(10, 6))\n",
    "ax = fig.add_subplot(1, 1, 1)\n",
    "\n",
    "# map contour values to colors\n",
    "norm=matplotlib.colors.BoundaryNorm(clevs, ncolors=256, clip=False)\n",
    "    \n",
    "# draw the contours with contour labels\n",
    "CS = ax.contour(lats, levs, zonal_mean_height, levels=clevs)\n",
    "ax.clabel(CS,inline=1, fontsize=10, colors='black')\n",
    "\n",
    "# draw the (filled) contours\n",
    "contour = ax.contourf(lats, levs, zonal_mean_height, levels=clevs, norm=norm)\n",
    "\n",
    "# Draw colorbar\n",
    "fmt = matplotlib.ticker.FormatStrFormatter(\"%3.2g\")\n",
    "cbar = fig.colorbar(contour, ax=ax, orientation='horizontal', shrink=0.8,\n",
    "                    ticks=clevs, format=fmt)\n",
    "cbar.set_label('m s-1')\n",
    "\n",
    "ax.set_yscale('log')\n",
    "ax.set_xlabel(\"Latitude (degrees)\")\n",
    "ax.set_ylabel(\"Pressure (Pa)\")\n",
    "plt.show()"
   ]
  }
 ],
 "metadata": {
  "anaconda-cloud": {},
  "kernelspec": {
   "display_name": "Python 3",
   "language": "python",
   "name": "python3"
  },
  "language_info": {
   "codemirror_mode": {
    "name": "ipython",
    "version": 3
   },
   "file_extension": ".py",
   "mimetype": "text/x-python",
   "name": "python",
   "nbconvert_exporter": "python",
   "pygments_lexer": "ipython3",
   "version": "3.7.3"
  }
 },
 "nbformat": 4,
 "nbformat_minor": 1
}
