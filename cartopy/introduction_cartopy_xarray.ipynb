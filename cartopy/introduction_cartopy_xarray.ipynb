{
 "cells": [
  {
   "cell_type": "markdown",
   "metadata": {},
   "source": [
    "<font color=\"white\">.</font> | <font color=\"white\">.</font> | <font color=\"white\">.</font>\n",
    "-- | -- | --\n",
    "![NASA](http://www.nasa.gov/sites/all/themes/custom/nasatwo/images/nasa-logo.svg) | <h1><font size=\"+3\">ASTG Python Courses</font></h1> | ![NASA](https://www.nccs.nasa.gov/sites/default/files/NCCS_Logo_0.png)\n",
    "\n",
    "---\n",
    "\n",
    "<center><h1><font color=\"red\" size=\"+3\">Cartopy and Xarray for Data Visualization</font></h1></center>"
   ]
  },
  {
   "cell_type": "markdown",
   "metadata": {},
   "source": [
    "## Reference Documents\n",
    "\n",
    "* <A HREF=\"https://scitools.org.uk/cartopy/docs/latest/\">Introduction --- Cartopy</A>\n",
    "* <A HREF=\"https://rabernat.github.io/research_computing_2018/maps-with-cartopy.html\">Maps with Cartopy</A>\n",
    "* <A HREF=\"https://geohackweek.github.io/visualization/03-cartopy/\">Basics: Quick + Simple maps with cartopy.</A>\n",
    "* <A HREF=\"https://uoftcoders.github.io/studyGroup/lessons/python/cartography/lesson/\">Cartography and Mapping in Python</A>\n",
    "* <A HREF=\"https://www.earthdatascience.org/workshops/gis-open-source-python/intro-vector-data-python/\">Introduction to Vector Format Spatial Data - Points, Lines and Polygons</A>\n",
    "- [Visualizing Global Land Temperatures in Python with scrapy, xarray, and cartopy](https://cbrownley.wordpress.com/tag/xarray/)"
   ]
  },
  {
   "cell_type": "markdown",
   "metadata": {},
   "source": [
    "_______"
   ]
  },
  {
   "cell_type": "markdown",
   "metadata": {},
   "source": [
    "## Required Packages\n",
    "\n",
    "```\n",
    "   Matplotlib\n",
    "   Numpy\n",
    "   netCDF4\n",
    "   Cartopy\n",
    "   hvplot (conda install -c pyviz hvplot)\n",
    "   Xarray\n",
    "```"
   ]
  },
  {
   "cell_type": "markdown",
   "metadata": {},
   "source": [
    "### <font color='blue'> Only run the following cell if you are on Google Colab</font>\n",
    "\n",
    "Uncomment the cell below if you are on Google Colab"
   ]
  },
  {
   "cell_type": "code",
   "execution_count": null,
   "metadata": {},
   "outputs": [],
   "source": [
    "#!apt-get install libproj-dev proj-data proj-bin\n",
    "#!apt-get install libgeos-dev\n",
    "#!pip install cython\n",
    "#!pip install cartopy\n",
    "#!pip install netCDF4\n",
    "#!pip install xarray==0.16.2"
   ]
  },
  {
   "cell_type": "markdown",
   "metadata": {},
   "source": [
    "***"
   ]
  },
  {
   "cell_type": "code",
   "execution_count": null,
   "metadata": {},
   "outputs": [],
   "source": [
    "import warnings\n",
    "warnings.filterwarnings(\"ignore\")"
   ]
  },
  {
   "cell_type": "code",
   "execution_count": null,
   "metadata": {},
   "outputs": [],
   "source": [
    "%matplotlib inline\n",
    "import matplotlib.pyplot as plt\n",
    "from matplotlib import cm\n",
    "import matplotlib.ticker as mticker"
   ]
  },
  {
   "cell_type": "code",
   "execution_count": null,
   "metadata": {},
   "outputs": [],
   "source": [
    "import cartopy\n",
    "import cartopy.crs as ccrs\n",
    "import cartopy.feature as cfeature\n",
    "import cartopy.io.shapereader as shapereader\n",
    "from cartopy.mpl.ticker import LongitudeFormatter, LatitudeFormatter"
   ]
  },
  {
   "cell_type": "code",
   "execution_count": null,
   "metadata": {},
   "outputs": [],
   "source": [
    "import netCDF4 as nc4\n",
    "import numpy as np\n",
    "import xarray as xr\n",
    "import hvplot.xarray"
   ]
  },
  {
   "cell_type": "code",
   "execution_count": null,
   "metadata": {},
   "outputs": [],
   "source": [
    "print(f\"Version of Numpy:   {np.__version__}\")\n",
    "print(f\"Version of netCDF4: {nc4.__version__}\")\n",
    "print(f\"Version of Xarray:  {xr.__version__}\")\n",
    "print(f\"Version of Cartopy: {cartopy.__version__}\")"
   ]
  },
  {
   "cell_type": "markdown",
   "metadata": {},
   "source": [
    "# <font color='red'>Cartopy</font>\n",
    "\n",
    "### What is Cartopy?\n",
    "\n",
    "* Package for drawing maps for for data analysis and visualization\n",
    "* Relies on PROJ.4, numpy and shapely libraries\n",
    "* Built on top of Matplotlib \n",
    "* Has a simple and intuitive drawing interface to Matplotlib\n",
    "\n",
    "### What Does Cartopy Provide?\n",
    "\n",
    "* Facilities to transform coordinates to different <a href=\"https://scitools.org.uk/cartopy/docs/latest/crs/projections.html#cartopy-projections\">map projections</a>\n",
    "* Matplotlib is used to plot contours, images, vectors, lines or points in the transformed coordinates.\n",
    "* Shorelines, river and political boundary datasets.\n",
    "* Facilities for reading shapefiles.\n"
   ]
  },
  {
   "cell_type": "markdown",
   "metadata": {},
   "source": [
    "## <font color=\"blue\">Drawing Maps</font>\n",
    "\n",
    "To draw maps, we need to have:\n",
    "\n",
    "- A map projection of geographic coordinates on the 3D Earth to the 2D space of your figure.\n",
    "- A set of decorations (for instance, rivers, lakes, country borders, continents, etc.)"
   ]
  },
  {
   "cell_type": "markdown",
   "metadata": {},
   "source": [
    "### Map Projections\n",
    "\n",
    "- In Cartopy, each projection is a class. \n",
    "- One of the key features of Cartopy is its ability to transform points, lines, vectors, polygons and images between projections\n",
    "- Cartopy depends on Matplotlib, and each projection knows how to create a Matplotlib Axes (or `AxesSubplot`) that can represent itself.\n",
    "- The Axes that the projection creates is a `cartopy.mpl.geoaxes.GeoAxes`. This Axes subclass overrides some of Matplotlib’s existing methods, and adds a number of extremely useful ones for drawing maps.\n",
    "\n",
    "```python\n",
    "# Option 1\n",
    "   plt.figure()\n",
    "   ax = plt.axes(projection=ccrs.PlateCarree())\n",
    "\n",
    "# Option 2\n",
    "   fig, ax = plt.subplots(\n",
    "       subplot_kw={'projection': ccrs.PlateCarree()}\n",
    "   )\n",
    "```"
   ]
  },
  {
   "cell_type": "code",
   "execution_count": null,
   "metadata": {},
   "outputs": [],
   "source": [
    "projections = [ccrs.PlateCarree(),\n",
    "               ccrs.Robinson(),\n",
    "               ccrs.Mollweide(),\n",
    "               ccrs.Mercator(),\n",
    "               ccrs.Orthographic(),\n",
    "               ccrs.Sinusoidal(),\n",
    "               ccrs.InterruptedGoodeHomolosine()\n",
    "              ]\n",
    "\n",
    "\n",
    "for proj in projections:\n",
    "    plt.figure(figsize=(8,5))\n",
    "    ax = plt.axes(projection=proj)\n",
    "    ax.stock_img()\n",
    "    ax.coastlines()\n",
    "    ax.set_title(f'{type(proj)}')\n",
    "    plt.show()"
   ]
  },
  {
   "cell_type": "code",
   "execution_count": null,
   "metadata": {},
   "outputs": [],
   "source": [
    "from cartopy.feature import OCEAN\n",
    "\n",
    "projections = [ccrs.PlateCarree(-60), \n",
    "               ccrs.AlbersEqualArea(-60), \n",
    "               ccrs.TransverseMercator(-60), \n",
    "               ccrs.Orthographic(-60, 30)]\n",
    "\n",
    "titles = ['Equirectangular projection', \n",
    "          'Albers equal-area conic projection', \n",
    "          'Transverse mercator projection', \n",
    "          'Orthographic projection']\n",
    "\n",
    "fig, axes = plt.subplots(2, 2, \n",
    "                         subplot_kw={'projection': projections[2]}, \n",
    "                         figsize=(15,10))\n",
    "\n",
    "ny_lon, ny_lat = -75, 43\n",
    "\n",
    "for ax, proj, title in zip(axes.ravel(), projections, titles):\n",
    "    # Change projection for each subplot\n",
    "    ax.projection = proj\n",
    "    # Add title for each subplot.\n",
    "    ax.set_title(title)  \n",
    "    # Set global extention\n",
    "    ax.set_global()         \n",
    "    # Add coastlines\n",
    "    ax.coastlines()    \n",
    "    # Add oceans\n",
    "    ax.add_feature(OCEAN)   \n",
    "    # Add tissot indicatrisses\n",
    "    ax.tissot(facecolor='r', alpha=.8, lats=np.arange(-90,90, 30))         # Add tissot indicatrisses\n",
    "    ax.plot(ny_lon, ny_lat, 'ko', transform=ccrs.Geodetic())               # Plot the point for the NY city\n",
    "    ax.text(ny_lon + 4, ny_lat + 4, 'New York', transform=ccrs.Geodetic()) # Label New York\n",
    "    ax.gridlines(color='.25', ylocs=np.arange(-90,90, 30))                 # Ad gridlines\n",
    "plt.show()"
   ]
  },
  {
   "cell_type": "markdown",
   "metadata": {},
   "source": [
    "### Features\n",
    "\n",
    "- To give our map more styles and details, we add `cartopy.feature` objects.\n",
    "- Many useful features are built in. These \"default features\" are at coarse (`110m`) resolution.\n",
    "\n",
    "```python\n",
    "cfeature.BORDERS   # Country boundaries\n",
    "cfeature.COASTLINE # Coastline, including major islands\n",
    "cfeature.LAKES     # Natural and artificial lakes\n",
    "cfeature.LAND      # Land polygons, including major islands\n",
    "cfeature.OCEAN     # Ocean polygons\n",
    "cfeature.RIVERS    # Single-line drainages, including lake centerlines\n",
    "cfeature.STATES    # limited to the United States at this scale\n",
    "```"
   ]
  },
  {
   "cell_type": "code",
   "execution_count": null,
   "metadata": {},
   "outputs": [],
   "source": [
    "fig, ax = plt.subplots(\n",
    "    subplot_kw={'projection': ccrs.PlateCarree()},\n",
    "    figsize=(15,10))\n",
    "ax.add_feature(cartopy.feature.LAND)\n",
    "\n",
    "ax.add_feature(cfeature.OCEAN)\n",
    "ax.add_feature(cfeature.COASTLINE)\n",
    "ax.add_feature(cfeature.BORDERS, linestyle=':')\n",
    "ax.add_feature(cfeature.LAKES, alpha=0.5)\n",
    "ax.add_feature(cfeature.RIVERS)"
   ]
  },
  {
   "cell_type": "markdown",
   "metadata": {},
   "source": [
    "#### We can use the [Natural Earth](https://www.naturalearthdata.com/) datasets to change the [resolution of the features](https://scitools.org.uk/cartopy/docs/latest/matplotlib/feature_interface.html#cartopy.feature.NaturalEarthFeature).\n",
    "\n",
    "- The features with names such as `cfeature.LAND`, `cfeature.OCEAN`, are on 110m resolution shapefiles from the NaturalEarth repository.  \n",
    "- Higher resolution shapefiles (10m, 50m) can be used by using the `cfeature.NaturalEarthFeature` method as illustrated below."
   ]
  },
  {
   "cell_type": "code",
   "execution_count": null,
   "metadata": {},
   "outputs": [],
   "source": [
    "scale = '50m'  # use data at this scale\n",
    "\n",
    "boundary = cfeature.NaturalEarthFeature(\n",
    "    category='cultural',\n",
    "    name='admin_0_boundary_lines_land',\n",
    "    scale=scale, facecolor='none', alpha=0.7,\n",
    ")\n",
    "country_borders = cfeature.NaturalEarthFeature(\n",
    "    'physical', 'borders',\n",
    "    scale=scale, edgecolor='black', facecolor='none',\n",
    ")\n",
    "coastline_mask = cfeature.NaturalEarthFeature(\n",
    "    'physical', 'coastline',\n",
    "    scale=scale, edgecolor='black', facecolor='none',\n",
    ")\n",
    "land_mask = cfeature.NaturalEarthFeature(\n",
    "    'physical', 'land',\n",
    "    scale=scale, edgecolor='k',\n",
    "    facecolor=cfeature.COLORS['land'],\n",
    ")\n",
    "sea_mask = cfeature.NaturalEarthFeature(\n",
    "    'physical', 'ocean', \n",
    "    scale=scale, edgecolor='none',\n",
    "    facecolor=cfeature.COLORS['water'],\n",
    ")\n",
    "lake_mask = cfeature.NaturalEarthFeature(\n",
    "    'physical', 'lakes', \n",
    "    scale=scale, edgecolor='b',\n",
    "    facecolor=cfeature.COLORS['water'],\n",
    ")\n",
    "river_mask = cfeature.NaturalEarthFeature(\n",
    "    'physical', 'rivers_lake_centerlines', \n",
    "    scale=scale, edgecolor='b', facecolor='none'\n",
    ")\n",
    "usa_state_borders = cfeature.NaturalEarthFeature(\n",
    "    category='cultural',\n",
    "    name='admin_1_states_provinces_lines',\n",
    "    scale=scale, facecolor='none', edgecolor='k')"
   ]
  },
  {
   "cell_type": "code",
   "execution_count": null,
   "metadata": {},
   "outputs": [],
   "source": [
    "fig, ax = plt.subplots(\n",
    "    subplot_kw={'projection': ccrs.PlateCarree()},\n",
    "    figsize=(15,10))\n",
    "ax.add_feature(land_mask)\n",
    "ax.add_feature(sea_mask)\n",
    "ax.add_feature(coastline_mask)\n",
    "ax.add_feature(cfeature.BORDERS, linestyle=':')\n",
    "ax.add_feature(lake_mask, alpha=0.5)\n",
    "ax.add_feature(river_mask);"
   ]
  },
  {
   "cell_type": "markdown",
   "metadata": {},
   "source": [
    "#### Create a Regional Map\n",
    "- Use the `set_extent` method to select the subdomain you want to map.\n",
    "\n",
    "\n",
    "```python\n",
    "  ax.set_extent([min_lon, max_lon, min_lat, max_lat])\n",
    "```\n"
   ]
  },
  {
   "cell_type": "markdown",
   "metadata": {},
   "source": [
    "<font color=\"blue\"> Map of the United States of America </font>"
   ]
  },
  {
   "cell_type": "code",
   "execution_count": null,
   "metadata": {},
   "outputs": [],
   "source": [
    "min_lon, max_lon, min_lat, max_lat = -130, -65, 24, 47\n",
    "fig, ax = plt.subplots(\n",
    "    subplot_kw={'projection': ccrs.PlateCarree()},\n",
    "    figsize=(15,10))\n",
    "ax.add_feature(land_mask)\n",
    "ax.add_feature(sea_mask)\n",
    "ax.add_feature(coastline_mask)\n",
    "ax.add_feature(cfeature.BORDERS, edgecolor='red', linewidth=2.5)\n",
    "ax.add_feature(lake_mask, alpha=0.5)\n",
    "ax.add_feature(river_mask)\n",
    "ax.add_feature(usa_state_borders)\n",
    "ax.set_extent([min_lon, max_lon, min_lat, max_lat])"
   ]
  },
  {
   "cell_type": "markdown",
   "metadata": {},
   "source": [
    "## <font color=\"green\"> Application</font>\n",
    "\n",
    "Given a city name and location (latitude and longitude), we want to plot on the map:\n",
    "\n",
    "- The city location and its name\n",
    "- The current local time "
   ]
  },
  {
   "cell_type": "code",
   "execution_count": null,
   "metadata": {},
   "outputs": [],
   "source": [
    "#!pip install timezonefinder"
   ]
  },
  {
   "cell_type": "code",
   "execution_count": null,
   "metadata": {},
   "outputs": [],
   "source": [
    "import datetime\n",
    "import pytz\n",
    "import timezonefinder\n",
    "\n",
    "def get_local_time(latitude, longitude):\n",
    "    \"\"\"\n",
    "      Given the latitude/longitude pair, this function\n",
    "      returns the current local time at the location.\n",
    "    \"\"\"\n",
    "    tf = timezonefinder.TimezoneFinder()\n",
    "\n",
    "    # Get the tz-database-style time zone name\n",
    "    # (e.g. 'America/Vancouver') or None\n",
    "    timezone_str = tf.certain_timezone_at(lat=latitude, lng=longitude)\n",
    "\n",
    "    if timezone_str:\n",
    "       # Display the current time in that time zone\n",
    "       timezone = pytz.timezone(timezone_str)\n",
    "       dt = datetime.datetime.utcnow()\n",
    "       return (dt + timezone.utcoffset(dt)).strftime('%H:%M:%S')\n",
    "    else:\n",
    "       # Could not determine the time zone\n",
    "       return"
   ]
  },
  {
   "cell_type": "code",
   "execution_count": null,
   "metadata": {},
   "outputs": [],
   "source": [
    "paris = (2.35, 48.85, \"Paris\")\n",
    "new_york = (-73.92, 40.69, \"New York\")\n",
    "mumbai = (72.83, 28.35, \"Mumbai\")\n",
    "tokyo = (139.69, 35.68, \"Tokyo\")\n",
    "moscow = (37.36, 55.45, \"Moscow\")\n",
    "mexico_city = (-99.13, 19.43, \"Mexico City\")\n",
    "sao_paulo = (-46.63, -23.55, \"Sao Paulo\")\n",
    "yaounde = (11.50, 3.84, \"Yaounde\")\n",
    "vancouver = (-123.08, 49.32, \"Vacouver\")\n",
    "sydney = (151.20, -33.87, \"Sydney\")\n",
    "harare = (31.0, -18.0, \"Harare\")\n",
    "\n",
    "cities = [paris, new_york, mumbai, tokyo, moscow, mexico_city,\n",
    "         sao_paulo, yaounde, vancouver, sydney, harare]"
   ]
  },
  {
   "cell_type": "code",
   "execution_count": null,
   "metadata": {},
   "outputs": [],
   "source": [
    "city_names = [city[2] for city in cities]\n",
    "city_lats    = [city[1] for city in cities]\n",
    "city_lons   = [city[0] for city in cities]"
   ]
  },
  {
   "cell_type": "code",
   "execution_count": null,
   "metadata": {},
   "outputs": [],
   "source": [
    "plt.figure(figsize=(17, 10))\n",
    "\n",
    "map_projection = ccrs.PlateCarree()\n",
    "\n",
    "ax = plt.axes(projection=map_projection)\n",
    "ax.stock_img()\n",
    "\n",
    "props = dict(boxstyle='round', facecolor='orange', alpha=0.5)\n",
    "\n",
    "for i in range(len(city_names)):\n",
    "    loc_time = get_local_time(city_lats[i], city_lons[i])\n",
    "    textstr = \"\\n\".join((city_names[i], loc_time))\n",
    "    plt.text(city_lons[i], city_lats[i], textstr, bbox=props,\n",
    "             transform=ccrs.Geodetic())\n",
    "\n",
    "plt.show()"
   ]
  },
  {
   "cell_type": "markdown",
   "metadata": {},
   "source": [
    "## <font color='blue'>Overlaying Data</font>"
   ]
  },
  {
   "cell_type": "markdown",
   "metadata": {},
   "source": [
    "#### Line Plots on a Map"
   ]
  },
  {
   "cell_type": "code",
   "execution_count": null,
   "metadata": {},
   "outputs": [],
   "source": [
    "map_projection = ccrs.PlateCarree()\n",
    "data_transform1 = ccrs.PlateCarree()\n",
    "data_transform2 = ccrs.Geodetic()\n",
    "\n",
    "fig, ax = plt.subplots(\n",
    "    subplot_kw={'projection': map_projection},\n",
    "    figsize=(15,10))\n",
    "\n",
    "ax.stock_img()\n",
    "\n",
    "ny_lon, ny_lat = -75, 43\n",
    "delhi_lon, delhi_lat = 77.23, 28.61\n",
    "\n",
    "plt.plot([ny_lon, delhi_lon], [ny_lat, delhi_lat],\n",
    "         color='blue', linewidth=2, marker='o',\n",
    "         transform=data_transform2)\n",
    "\n",
    "plt.plot([ny_lon, delhi_lon], [ny_lat, delhi_lat],\n",
    "         color='gray', linestyle='--',\n",
    "         transform=data_transform1)\n",
    "\n",
    "plt.text(ny_lon - 3, ny_lat - 12, 'New York',\n",
    "         horizontalalignment='right',\n",
    "         transform=data_transform2)\n",
    "\n",
    "plt.text(delhi_lon + 3, delhi_lat - 12, 'Delhi',\n",
    "         horizontalalignment='left',\n",
    "         transform=data_transform2)\n",
    "\n",
    "plt.show()"
   ]
  },
  {
   "cell_type": "markdown",
   "metadata": {},
   "source": [
    "#### <font color=\"red\">Understanding Projection and Transform Keywords</font>\n",
    "+ The projection of your axes is independent of the coordinate system your data is defined in.\n",
    "+ The `projection` argument is used when creating plots and determines the projection of the resulting plot.\n",
    "+ You can set `projection` to any projection you like.\n",
    "+ The `transform` argument to plotting functions tells Cartopy what coordinate system your data are defined in. \n",
    "+ `transform` needs to match whatever coordinate system your data uses."
   ]
  },
  {
   "cell_type": "markdown",
   "metadata": {},
   "source": [
    "### Basic Map\n",
    "\n",
    "- We create synthetic geo-located data and plot them using Cartopy."
   ]
  },
  {
   "cell_type": "code",
   "execution_count": null,
   "metadata": {},
   "outputs": [],
   "source": [
    "nlats, nlons = 73, 145\n",
    "lats = np.linspace(-np.pi / 2, np.pi / 2, nlats)\n",
    "lons = np.linspace(0, 2 * np.pi, nlons)\n",
    "\n",
    "# Create a mesh grid\n",
    "lons, lats = np.meshgrid(lons, lats)\n",
    "wave = 0.75 * (np.sin(2 * lats) ** 8) * np.cos(4 * lons)\n",
    "mean = 0.5 * np.cos(2 * lats) * ((np.sin(2 * lats)) ** 2 + 2)\n",
    "\n",
    "lats = np.rad2deg(lats)\n",
    "lons = np.rad2deg(lons)\n",
    "data = wave + mean"
   ]
  },
  {
   "cell_type": "code",
   "execution_count": null,
   "metadata": {},
   "outputs": [],
   "source": [
    "map_projection = ccrs.PlateCarree()\n",
    "\n",
    "fig, ax = plt.subplots(\n",
    "    subplot_kw={'projection': map_projection},\n",
    "    figsize=(15,10))\n",
    "\n",
    "ax.contourf(lons, lats, data)\n",
    "ax.coastlines()\n",
    "ax.set_global()\n",
    "plt.show()"
   ]
  },
  {
   "cell_type": "markdown",
   "metadata": {},
   "source": [
    "#### Adding Latitude/Longitude Ticks"
   ]
  },
  {
   "cell_type": "code",
   "execution_count": null,
   "metadata": {},
   "outputs": [],
   "source": [
    "from cartopy.mpl.ticker import LongitudeFormatter, LatitudeFormatter\n",
    "\n",
    "map_projection = ccrs.PlateCarree()\n",
    "\n",
    "fig, ax = plt.subplots(\n",
    "    subplot_kw={'projection': map_projection},\n",
    "    figsize=(15,10))\n",
    "\n",
    "ax.contourf(lons, lats, data, cmap='RdBu')\n",
    "ax.coastlines()\n",
    "\n",
    "ax.set_xticks(np.linspace(-180, 180, 5), crs=map_projection)\n",
    "ax.set_yticks(np.linspace(-90, 90, 5), crs=map_projection)\n",
    "lon_formatter = LongitudeFormatter(zero_direction_label=True)\n",
    "lat_formatter = LatitudeFormatter()\n",
    "ax.xaxis.set_major_formatter(lon_formatter)\n",
    "ax.yaxis.set_major_formatter(lat_formatter)\n",
    "\n",
    "ax.set_global()\n",
    "plt.show()"
   ]
  },
  {
   "cell_type": "markdown",
   "metadata": {},
   "source": [
    "#### Adding Colorbar"
   ]
  },
  {
   "cell_type": "code",
   "execution_count": null,
   "metadata": {},
   "outputs": [],
   "source": [
    "map_projection = ccrs.PlateCarree()\n",
    "data_transform = ccrs.PlateCarree()\n",
    "\n",
    "fig, ax = plt.subplots(\n",
    "    subplot_kw={'projection': map_projection},\n",
    "    figsize=(15,10))\n",
    "\n",
    "im = ax.contourf(lons, lats, data, cmap='RdBu', transform=data_transform)\n",
    "ax.coastlines()\n",
    "\n",
    "ax.set_xticks(np.linspace(-180, 180, 5), crs=map_projection)\n",
    "ax.set_yticks(np.linspace(-90, 90, 5), crs=map_projection)\n",
    "lon_formatter = LongitudeFormatter(zero_direction_label=True)\n",
    "lat_formatter = LatitudeFormatter()\n",
    "ax.xaxis.set_major_formatter(lon_formatter)\n",
    "ax.yaxis.set_major_formatter(lat_formatter)\n",
    "\n",
    "# Create an axes for colorbar. \n",
    "# The position of the axes is calculated based on the position of ax.\n",
    "# You can change dspace to adjust the distance between the main image and the colorbar.\n",
    "# You can change dwidth to adjust the width of the colorbar.\n",
    "# This practice is universal for both subplots and GeoAxes.\n",
    "dspace = 0.01\n",
    "dwidth = 0.02\n",
    "cax = fig.add_axes([ax.get_position().x1 + dspace,\n",
    "                    ax.get_position().y0,  dwidth,\n",
    "                    ax.get_position().height])\n",
    "plt.colorbar(im, cax=cax)\n",
    "\n",
    "\n",
    "ax.set_global()\n",
    "plt.show()"
   ]
  },
  {
   "cell_type": "code",
   "execution_count": null,
   "metadata": {},
   "outputs": [],
   "source": [
    "map_projection = ccrs.Mollweide()\n",
    "data_transform = ccrs.PlateCarree()\n",
    "\n",
    "fig, ax = plt.subplots(\n",
    "    subplot_kw={'projection': map_projection},\n",
    "    figsize=(15,10))\n",
    "\n",
    "ax.contourf(\n",
    "    lons, lats, data, \n",
    "    transform=ccrs.PlateCarree(), \n",
    "    cmap='Spectral')\n",
    "ax.coastlines()\n",
    "ax.set_global()\n",
    "plt.show()"
   ]
  },
  {
   "cell_type": "markdown",
   "metadata": {},
   "source": [
    "# <font color='red'>Xarray</font>\n",
    "\n",
    "+ `Xarray` is an open source project and Python package that makes working with **labelled multi-dimensional arrays** simple and efficient.\n",
    "+ Introduces labels in the form of dimensions, coordinates and attributes on top of raw `NumPy`-like arrays, which allows for a more intuitive, more concise, and less error-prone developer experience. \n",
    "+ Is inspired by and borrows heavily from `Pandas`.\n",
    "+ Builds on top of, and seamlessly interoperates with, the core scientific Python packages, such as NumPy, SciPy, Matplotlib, and Pandas\n",
    "+ Is particularly tailored to working with `netCDF` files and integrates tightly with `Dask` for parallel computing.\n",
    "\n",
    "**Here, we will read datasets with Xarray and will do various plots with Xarray and Cartopy.**"
   ]
  },
  {
   "cell_type": "markdown",
   "metadata": {},
   "source": [
    "### Reading GEOS-5 MERRA2 Time Series Dataset"
   ]
  },
  {
   "cell_type": "code",
   "execution_count": null,
   "metadata": {},
   "outputs": [],
   "source": [
    "%env HDF5_USE_FILE_LOCKING=FALSE"
   ]
  },
  {
   "cell_type": "code",
   "execution_count": null,
   "metadata": {},
   "outputs": [],
   "source": [
    "xr.set_options(file_cache_maxsize=10)"
   ]
  },
  {
   "cell_type": "code",
   "execution_count": null,
   "metadata": {},
   "outputs": [],
   "source": [
    "URL ='https://opendap.nccs.nasa.gov/dods/GEOS-5/fp/0.25_deg/assim/tavg3_3d_asm_Nv'\n",
    "geos5_xrs = xr.open_dataset(URL, engine='netcdf4')\n",
    "geos5_xrs"
   ]
  },
  {
   "cell_type": "code",
   "execution_count": null,
   "metadata": {},
   "outputs": [],
   "source": [
    "print(f\"Starting Time: \\n\\t {geos5_xrs.time.values[0]}\")\n",
    "print(f\"Ending Time:   \\n\\t {geos5_xrs.time.values[-1]}\")"
   ]
  },
  {
   "cell_type": "code",
   "execution_count": null,
   "metadata": {},
   "outputs": [],
   "source": [
    "print(f\"Time resolution: {geos5_xrs.time.attrs['resolution']} day\")"
   ]
  },
  {
   "cell_type": "markdown",
   "metadata": {},
   "source": [
    "### Extracting Surface Pressure Data over the US\n",
    "\n",
    "We only consider data betwen December 10, 2021 at 12:30z to December 11, 2021 at 12:30z"
   ]
  },
  {
   "cell_type": "code",
   "execution_count": null,
   "metadata": {},
   "outputs": [],
   "source": [
    "min_lon, max_lon, min_lat, max_lat = -130, -65, 24, 47\n",
    "\n",
    "ps = geos5_xrs.ps.sel(\n",
    "    lat=slice(min_lat, max_lat), \n",
    "    lon=slice(min_lon, max_lon), \n",
    "    time=slice(\"2021-12-10T12:30:00\", \"2021-12-11T12:30:00\")\n",
    ")\n",
    "ps"
   ]
  },
  {
   "cell_type": "markdown",
   "metadata": {},
   "source": [
    "### Contour plots at each time record\n",
    "\n",
    "#### Xarray Formulation 1"
   ]
  },
  {
   "cell_type": "code",
   "execution_count": null,
   "metadata": {},
   "outputs": [],
   "source": [
    "ps.plot.contourf(\n",
    "    x=\"lon\", \n",
    "    y=\"lat\", \n",
    "    col=\"time\", \n",
    "    col_wrap=2,\n",
    "    cmap='jet',\n",
    "    figsize=(15, 14), \n",
    "    robust=True,\n",
    "    cbar_kwargs={\n",
    "        \"orientation\": \"vertical\",\n",
    "        \"shrink\": 0.95,\n",
    "        \"aspect\": 40,\n",
    "        \"pad\": 0.1,\n",
    "    },\n",
    ")\n",
    "plt.suptitle(\"Surface pressure\", y = 1.05);"
   ]
  },
  {
   "cell_type": "code",
   "execution_count": null,
   "metadata": {},
   "outputs": [],
   "source": [
    "fg = ps.plot(col=\"time\", col_wrap=2, \n",
    "             cmap='jet', figsize=(15, 14))\n",
    "\n",
    "# Use this to plot contours on each panel\n",
    "# Note that this plotting call uses the original DataArray gradients\n",
    "fg.map_dataarray(\n",
    "    xr.plot.contour, x=\"lon\", y=\"lat\", colors=\"k\", \n",
    "    levels=6, add_colorbar=False\n",
    ")\n",
    "plt.suptitle(\"Surface pressure\", y = 1.05);"
   ]
  },
  {
   "cell_type": "markdown",
   "metadata": {},
   "source": [
    "#### Xarray Formulation 2"
   ]
  },
  {
   "cell_type": "code",
   "execution_count": null,
   "metadata": {},
   "outputs": [],
   "source": [
    "map_projection = ccrs.PlateCarree()\n",
    "data_transform = ccrs.PlateCarree()\n",
    "\n",
    "aspect = ps.shape[2] / ps.shape[1]\n",
    "\n",
    "p = ps.plot(\n",
    "    transform=data_transform,  # the data's projection\n",
    "    col='time', col_wrap=2,\n",
    "    aspect=aspect,\n",
    "    figsize=(15, 14),\n",
    "    cmap='jet',\n",
    "    cbar_kwargs={\"orientation\": \"vertical\", \"shrink\": 0.95, \"aspect\": 40},\n",
    "    robust = True,\n",
    "    subplot_kws={'projection': map_projection}\n",
    ")\n",
    "\n",
    "for ax in p.axes.flat:\n",
    "    ax.coastlines()\n",
    "    ax.add_feature(cfeature.STATES)\n",
    "    #ax.set_extent(extent)\n",
    "\n",
    "plt.suptitle(\"Surface Pressure\", y = 1.0);"
   ]
  },
  {
   "cell_type": "markdown",
   "metadata": {},
   "source": [
    "#### Cartopy Formulation"
   ]
  },
  {
   "cell_type": "code",
   "execution_count": null,
   "metadata": {},
   "outputs": [],
   "source": [
    "map_projection = ccrs.Mercator()\n",
    "data_transform = ccrs.PlateCarree()\n",
    "\n",
    "plt.rcParams[\"figure.figsize\"] = [15, 12]\n",
    "fig = plt.figure(tight_layout=False)\n",
    "nrows, ncols = 4, 2\n",
    "\n",
    "for i in range(8):\n",
    "    ax = fig.add_subplot(nrows, ncols, i+1, projection=map_projection)\n",
    "    data = ps[i].values\n",
    "    if i == 0:\n",
    "        lats = ps[i]['lat'].values\n",
    "        lons = ps[i]['lon'].values\n",
    "\n",
    "    cp = plt.contourf(lons, lats, data, 60,\n",
    "                      cmap='jet', transform=data_transform)\n",
    "    ax.coastlines()\n",
    "    title = f'Time = {str(ps[i].time.values)[0:19]}'\n",
    "    ax.set_title(title)\n",
    "\n",
    "# add a subplot for vertical colorbar\n",
    "bottom, top = 0.1, 0.9\n",
    "left, right = 0.1, 0.8\n",
    "fig.subplots_adjust(top=top, bottom=bottom, \n",
    "                    left=left, right=right, hspace=0.15, wspace=0.25)\n",
    "cbar_ax = fig.add_axes([0.85, bottom, 0.05, top-bottom])\n",
    "fig.colorbar(cp, cax=cbar_ax);  # plot colorbar"
   ]
  },
  {
   "cell_type": "markdown",
   "metadata": {},
   "source": [
    "### Time Average Contour Plot"
   ]
  },
  {
   "cell_type": "code",
   "execution_count": null,
   "metadata": {},
   "outputs": [],
   "source": [
    "ps_mean = ps.mean(dim='time')"
   ]
  },
  {
   "cell_type": "markdown",
   "metadata": {},
   "source": [
    "#### Using Xarray"
   ]
  },
  {
   "cell_type": "code",
   "execution_count": null,
   "metadata": {},
   "outputs": [],
   "source": [
    "ps_mean.plot(x=\"lon\", y=\"lat\")\n",
    "plt.suptitle(\"Surface pressure\", y = 1.05);"
   ]
  },
  {
   "cell_type": "markdown",
   "metadata": {},
   "source": [
    "#### Using Xarray and Cartopy Projections"
   ]
  },
  {
   "cell_type": "code",
   "execution_count": null,
   "metadata": {},
   "outputs": [],
   "source": [
    "map_projection = ccrs.PlateCarree()\n",
    "data_transform = ccrs.PlateCarree()\n",
    "\n",
    "plt.figure(figsize=(15,10))\n",
    "\n",
    "p = ps_mean.plot(\n",
    "    x='lon', y='lat',\n",
    "    transform=data_transform,  \n",
    "    subplot_kws={'projection': map_projection},\n",
    "    cmap='jet',       \n",
    "    add_labels=False,\n",
    "    cbar_kwargs={\"orientation\": \"vertical\", \"shrink\": 0.38, \"aspect\": 10}\n",
    ")\n",
    "\n",
    "ax = p.axes\n",
    "ax.coastlines()\n",
    "ax.add_feature(cfeature.STATES)\n",
    "\n",
    "# optional add grid lines\n",
    "p.axes.gridlines(color='black', alpha=0.35, linestyle='--')\n",
    "\n",
    "plt.title(\"Surface Pressure\");"
   ]
  },
  {
   "cell_type": "markdown",
   "metadata": {},
   "source": [
    "Add latitude/longitude labels:"
   ]
  },
  {
   "cell_type": "code",
   "execution_count": null,
   "metadata": {},
   "outputs": [],
   "source": [
    "map_projection = ccrs.PlateCarree()\n",
    "data_transform = ccrs.PlateCarree()\n",
    "\n",
    "plt.figure(figsize=(15,10))\n",
    "\n",
    "p = ps_mean.plot(\n",
    "    x='lon', y='lat',\n",
    "    transform=data_transform,  \n",
    "    subplot_kws={'projection': map_projection},\n",
    "    cmap='jet',       \n",
    "    add_labels=False,\n",
    "    cbar_kwargs={\"orientation\": \"vertical\", \"shrink\": 0.38, \"aspect\": 10})\n",
    "\n",
    "ax = p.axes\n",
    "ax.coastlines()\n",
    "ax.add_feature(cfeature.STATES)\n",
    "\n",
    "# draw parallels/meridiens and write labels\n",
    "gl = p.axes.gridlines(crs=ccrs.PlateCarree(), draw_labels=True,\n",
    "                      linewidth=2, color='gray', alpha=0.5, linestyle='--')\n",
    "\n",
    "# adjust labels to taste\n",
    "gl.xlabels_top = False\n",
    "gl.ylabels_right = False\n",
    "gl.ylocator = mticker.FixedLocator(np.linspace(min_lat,max_lat,5))\n",
    "gl.xformatter = LongitudeFormatter()\n",
    "gl.yformatter = LatitudeFormatter()\n",
    "gl.xlabel_style = {'size': 18, 'color': 'black'}\n",
    "gl.ylabel_style = {'size': 18, 'color': 'black'}\n",
    "\n",
    "plt.title(\"Surface Pressure\");"
   ]
  },
  {
   "cell_type": "markdown",
   "metadata": {},
   "source": [
    "#### Using Cartopy"
   ]
  },
  {
   "cell_type": "code",
   "execution_count": null,
   "metadata": {},
   "outputs": [],
   "source": [
    "map_projection = ccrs.Mercator()\n",
    "data_transform = ccrs.PlateCarree()\n",
    "\n",
    "fig, ax = plt.subplots(\n",
    "    subplot_kw={'projection': map_projection},\n",
    "    figsize=(15,10))\n",
    "\n",
    "data = ps_mean.values\n",
    "lats = ps_mean['lat'].values\n",
    "lons = ps_mean['lon'].values\n",
    "    \n",
    "p = ax.contourf(lons, lats, data, \\\n",
    "            transform=ccrs.PlateCarree(), \\\n",
    "            cmap='jet')\n",
    "ax.add_feature(coastline_mask)\n",
    "ax.add_feature(cfeature.STATES)\n",
    "\n",
    "# optional add grid lines\n",
    "#ax.gridlines(color='black', alpha=0.25, linestyle='--')\n",
    "\n",
    "# Add colorbar\n",
    "dspace = 0.01\n",
    "dwidth = 0.02\n",
    "cax = fig.add_axes([ax.get_position().x1 + dspace,\n",
    "                    ax.get_position().y0,  dwidth,\n",
    "                    ax.get_position().height])\n",
    "\n",
    "# draw parallels/meridiens and write labels\n",
    "gl = ax.gridlines(\n",
    "    crs=ccrs.PlateCarree(), \n",
    "    draw_labels=True,\n",
    "    linewidth=2, color='gray', alpha=0.5, \n",
    "    linestyle='--'\n",
    ")\n",
    "\n",
    "# adjust labels to taste\n",
    "gl.xlabels_top = False\n",
    "gl.ylabels_right = False\n",
    "gl.ylocator = mticker.FixedLocator(np.linspace(min_lat,max_lat,5))\n",
    "gl.xformatter = LongitudeFormatter() \n",
    "gl.yformatter = LatitudeFormatter()\n",
    "gl.xlabel_style = {'size': 18, 'color': 'black'}\n",
    "gl.ylabel_style = {'size': 18, 'color': 'black'}\n",
    "\n",
    "plt.colorbar(p, cax=cax);"
   ]
  },
  {
   "cell_type": "markdown",
   "metadata": {},
   "source": [
    "## <font color=\"red\">Interactive Plots with `hvplot`</font>\n",
    "\n",
    "- `hvplot` allows easy interactive visualization (based on `Bokeh`) of Xarray objects.\n",
    "- `hvplot` makes uses of xarray’s accessor interface. \n",
    "    - All Xarray gain a `.hvplot` attribute that lets you access `hvplo`t functionality as easily as you would use `.plot`.\n",
    "    \n",
    "We need to use the import statement:\n",
    "```python\n",
    "   import hvplot.xarray\n",
    "```"
   ]
  },
  {
   "cell_type": "markdown",
   "metadata": {},
   "source": [
    "#### ``hvplot`` makes the same default choices as Xarray\n",
    "\n",
    "If the data has more than two dimensions it will default to a histogram without providing it further hints:"
   ]
  },
  {
   "cell_type": "code",
   "execution_count": null,
   "metadata": {},
   "outputs": [],
   "source": [
    "ps.hvplot()"
   ]
  },
  {
   "cell_type": "markdown",
   "metadata": {},
   "source": [
    "Line plot:"
   ]
  },
  {
   "cell_type": "code",
   "execution_count": null,
   "metadata": {},
   "outputs": [],
   "source": [
    "ps.isel(time=2, lon=1).hvplot()"
   ]
  },
  {
   "cell_type": "markdown",
   "metadata": {},
   "source": [
    "We can apply a `groupby` along a particular dimension to allow us to explore the data along that dimension with a slider:"
   ]
  },
  {
   "cell_type": "code",
   "execution_count": null,
   "metadata": {},
   "outputs": [],
   "source": [
    "ps.isel(lon=1).hvplot(groupby=\"time\", width=400)"
   ]
  },
  {
   "cell_type": "code",
   "execution_count": null,
   "metadata": {},
   "outputs": [],
   "source": [
    "ps.hvplot.line(x='time', width=400)"
   ]
  },
  {
   "cell_type": "markdown",
   "metadata": {},
   "source": [
    "We can view the data as an image:"
   ]
  },
  {
   "cell_type": "code",
   "execution_count": null,
   "metadata": {},
   "outputs": [],
   "source": [
    "ps.isel(time=2).hvplot(cmap=\"jet\")"
   ]
  },
  {
   "cell_type": "markdown",
   "metadata": {},
   "source": [
    "We can plot the data using `contour` and `contourf` methods:"
   ]
  },
  {
   "cell_type": "code",
   "execution_count": null,
   "metadata": {},
   "outputs": [],
   "source": [
    "ps.isel(time=2).hvplot.contour(cmap=\"jet\")"
   ]
  },
  {
   "cell_type": "code",
   "execution_count": null,
   "metadata": {},
   "outputs": [],
   "source": [
    "ps.isel(time=2).hvplot.contour(cmap=\"jet\", width=500)+ps.isel(time=2).hvplot.contourf(cmap=\"jet\", width=500)"
   ]
  },
  {
   "cell_type": "markdown",
   "metadata": {},
   "source": [
    "#### Animations\n",
    "\n",
    "- We give all the data and ask `hvplot` to create a nice slider to control the time slice using the `groupby` keyword argument."
   ]
  },
  {
   "cell_type": "code",
   "execution_count": null,
   "metadata": {},
   "outputs": [],
   "source": [
    "ps.hvplot(\n",
    "    groupby=\"time\",\n",
    "    cmap='jet',\n",
    ")"
   ]
  },
  {
   "cell_type": "markdown",
   "metadata": {},
   "source": [
    "We can add widgets by providing the `widget_type` and `widget_location` keywords arguments."
   ]
  },
  {
   "cell_type": "code",
   "execution_count": null,
   "metadata": {},
   "outputs": [],
   "source": [
    "ps.hvplot(\n",
    "    groupby=\"time\", \n",
    "    cmap='jet', \n",
    "    widget_type=\"scrubber\",\n",
    "    widget_location=\"bottom\",\n",
    ")"
   ]
  },
  {
   "cell_type": "markdown",
   "metadata": {},
   "source": [
    "#### Statistical Plots\n",
    "\n",
    "We can a KDE plot to summarize all the surface pressure at selected latitudes:"
   ]
  },
  {
   "cell_type": "code",
   "execution_count": null,
   "metadata": {},
   "outputs": [],
   "source": [
    "ps.sel(lat=[25, 38, 45]).hvplot.kde('ps', by='lat', alpha=0.5)"
   ]
  },
  {
   "cell_type": "markdown",
   "metadata": {},
   "source": [
    "We can break down the distribution of the surface pressure across one or more variables:"
   ]
  },
  {
   "cell_type": "code",
   "execution_count": null,
   "metadata": {},
   "outputs": [],
   "source": [
    "lat_vals = [24, 25.5, 26.75, 27, 30.5, 40, 45.75, ]\n",
    "ps.sel(lat=lat_vals).hvplot.violin('ps', by='lat', color='lat', cmap='Category20')"
   ]
  },
  {
   "cell_type": "code",
   "execution_count": null,
   "metadata": {},
   "outputs": [],
   "source": []
  }
 ],
 "metadata": {
  "anaconda-cloud": {},
  "kernelspec": {
   "display_name": "Python 3 (ipykernel)",
   "language": "python",
   "name": "python3"
  },
  "language_info": {
   "codemirror_mode": {
    "name": "ipython",
    "version": 3
   },
   "file_extension": ".py",
   "mimetype": "text/x-python",
   "name": "python",
   "nbconvert_exporter": "python",
   "pygments_lexer": "ipython3",
   "version": "3.8.2"
  }
 },
 "nbformat": 4,
 "nbformat_minor": 1
}
